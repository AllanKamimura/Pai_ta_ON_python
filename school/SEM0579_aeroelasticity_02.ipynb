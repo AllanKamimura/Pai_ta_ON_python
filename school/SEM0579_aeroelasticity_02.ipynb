{
  "nbformat": 4,
  "nbformat_minor": 0,
  "metadata": {
    "colab": {
      "provenance": [],
      "authorship_tag": "ABX9TyN1sSGGKF6RNqyaeZu1NCnX",
      "include_colab_link": true
    },
    "kernelspec": {
      "name": "python3",
      "display_name": "Python 3"
    },
    "language_info": {
      "name": "python"
    }
  },
  "cells": [
    {
      "cell_type": "markdown",
      "metadata": {
        "id": "view-in-github",
        "colab_type": "text"
      },
      "source": [
        "<a href=\"https://colab.research.google.com/github/AllanKamimura/Pai_ta_ON_python/blob/main/school/SEM0579_aeroelasticity_02.ipynb\" target=\"_parent\"><img src=\"https://colab.research.google.com/assets/colab-badge.svg\" alt=\"Open In Colab\"/></a>"
      ]
    },
    {
      "cell_type": "code",
      "execution_count": 2,
      "metadata": {
        "id": "7TQRh7JdEeVT",
        "cellView": "form",
        "colab": {
          "base_uri": "https://localhost:8080/"
        },
        "outputId": "ec4fedc6-da6d-4003-e91b-7f64b4f39e7b"
      },
      "outputs": [
        {
          "output_type": "stream",
          "name": "stdout",
          "text": [
            "Cloning into 'utils'...\n",
            "warning: redirecting to https://github.com/AllanKamimura/utils.git/\n",
            "remote: Enumerating objects: 6, done.\u001b[K\n",
            "remote: Counting objects: 100% (6/6), done.\u001b[K\n",
            "remote: Compressing objects: 100% (3/3), done.\u001b[K\n",
            "remote: Total 6 (delta 1), reused 6 (delta 1), pack-reused 0\u001b[K\n",
            "Unpacking objects: 100% (6/6), 1.66 KiB | 1.66 MiB/s, done.\n"
          ]
        }
      ],
      "source": [
        "#@title #imports\n",
        "!git clone http://github.com/AllanKamimura/utils.git\n",
        "!pip install -q ambiance\n",
        "!mkdir ./runs\n",
        "\n",
        "import sympy as sp\n",
        "import requests as req\n",
        "from ambiance import Atmosphere\n",
        "from utils.myutils import *\n",
        "from IPython.display import display, Math, Latex, Markdown"
      ]
    },
    {
      "cell_type": "code",
      "execution_count": 23,
      "metadata": {
        "id": "ofdbM91Dsz9U",
        "colab": {
          "base_uri": "https://localhost:8080/",
          "height": 71
        },
        "cellView": "form",
        "outputId": "65813ae4-bdde-4245-eb5f-4b2b5d5e43ee"
      },
      "outputs": [
        {
          "output_type": "execute_result",
          "data": {
            "text/plain": [
              "Eq(Matrix([\n",
              "[        w_w**2*\\bar{\\omega}(t) - x_a*Derivative(\\alpha(t), (t, 2)) + Derivative(\\bar{\\omega}(t), (t, 2))],\n",
              "[r_a**2*w_a**2*\\alpha(t) + r_a**2*Derivative(\\alpha(t), (t, 2)) - x_a*Derivative(\\bar{\\omega}(t), (t, 2))]]), Matrix([\n",
              "[V**2*C_L(t)/(pi*\\mu*b**2)],\n",
              "[V**2*C_L(t)/(pi*\\mu*b**2)]]))"
            ],
            "text/latex": "$\\displaystyle \\left[\\begin{matrix}w_{w}^{2} \\bar{\\omega}{\\left(t \\right)} - x_{a} \\frac{d^{2}}{d t^{2}} \\alpha{\\left(t \\right)} + \\frac{d^{2}}{d t^{2}} \\bar{\\omega}{\\left(t \\right)}\\\\r_{a}^{2} w_{a}^{2} \\alpha{\\left(t \\right)} + r_{a}^{2} \\frac{d^{2}}{d t^{2}} \\alpha{\\left(t \\right)} - x_{a} \\frac{d^{2}}{d t^{2}} \\bar{\\omega}{\\left(t \\right)}\\end{matrix}\\right] = \\left[\\begin{matrix}\\frac{V^{2} C_{L}{\\left(t \\right)}}{\\pi \\mu b^{2}}\\\\\\frac{V^{2} C_{L}{\\left(t \\right)}}{\\pi \\mu b^{2}}\\end{matrix}\\right]$"
          },
          "metadata": {},
          "execution_count": 23
        }
      ],
      "source": [
        "#@title #Questão 01\n",
        "\n",
        "xa = sp.Symbol(\"x_a\")\n",
        "ra = sp.Symbol(\"r_a\")\n",
        "wa = sp.Symbol(\"w_a\")\n",
        "ww = sp.Symbol(\"w_w\")\n",
        "\n",
        "t  = sp.Symbol(\"t\")\n",
        "mu = sp.Symbol(\"\\\\mu\")\n",
        "b  = sp.Symbol(\"b\")\n",
        "V  = sp.Symbol(\"V\")\n",
        "\n",
        "CL = sp.Function(\"C_L\")(t)\n",
        "CM = sp.Function(\"C_L\")(t)\n",
        "a = sp.Function(\"\\\\alpha\")(t)\n",
        "w = sp.Function(\"\\\\bar{\\\\omega}\")(t)\n",
        "\n",
        "X = sp.Matrix([[1, -xa],\n",
        "               [-xa, ra ** 2]])\n",
        "\n",
        "dot2 = sp.Matrix([[sp.diff(w, t, t)],\n",
        "                  [sp.diff(a, t, t)]])\n",
        "\n",
        "W = sp.Matrix([[ww ** 2, 0],\n",
        "               [0, (ra * wa) ** 2]])\n",
        "\n",
        "dot = sp.Matrix([[w ],\n",
        "                  [a ]])\n",
        "F = sp.Matrix([[CL ],\n",
        "               [CM ]])\n",
        "\n",
        "sp.Eq(X * dot2 + W * dot, V ** 2 / (mu * sp.pi * b **2) * F)"
      ]
    }
  ]
}