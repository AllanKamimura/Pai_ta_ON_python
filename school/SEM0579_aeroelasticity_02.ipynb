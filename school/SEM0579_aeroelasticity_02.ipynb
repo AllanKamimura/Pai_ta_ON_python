{
  "nbformat": 4,
  "nbformat_minor": 0,
  "metadata": {
    "colab": {
      "provenance": [],
      "authorship_tag": "ABX9TyOfFsoCi5O1jMBs+EtWbom7",
      "include_colab_link": true
    },
    "kernelspec": {
      "name": "python3",
      "display_name": "Python 3"
    },
    "language_info": {
      "name": "python"
    }
  },
  "cells": [
    {
      "cell_type": "markdown",
      "metadata": {
        "id": "view-in-github",
        "colab_type": "text"
      },
      "source": [
        "<a href=\"https://colab.research.google.com/github/AllanKamimura/Pai_ta_ON_python/blob/main/school/SEM0579_aeroelasticity_02.ipynb\" target=\"_parent\"><img src=\"https://colab.research.google.com/assets/colab-badge.svg\" alt=\"Open In Colab\"/></a>"
      ]
    },
    {
      "cell_type": "code",
      "execution_count": 2,
      "metadata": {
        "id": "7TQRh7JdEeVT",
        "cellView": "form",
        "colab": {
          "base_uri": "https://localhost:8080/"
        },
        "outputId": "ec4fedc6-da6d-4003-e91b-7f64b4f39e7b"
      },
      "outputs": [
        {
          "output_type": "stream",
          "name": "stdout",
          "text": [
            "Cloning into 'utils'...\n",
            "warning: redirecting to https://github.com/AllanKamimura/utils.git/\n",
            "remote: Enumerating objects: 6, done.\u001b[K\n",
            "remote: Counting objects: 100% (6/6), done.\u001b[K\n",
            "remote: Compressing objects: 100% (3/3), done.\u001b[K\n",
            "remote: Total 6 (delta 1), reused 6 (delta 1), pack-reused 0\u001b[K\n",
            "Unpacking objects: 100% (6/6), 1.66 KiB | 1.66 MiB/s, done.\n"
          ]
        }
      ],
      "source": [
        "#@title #imports\n",
        "!git clone http://github.com/AllanKamimura/utils.git\n",
        "!pip install -q ambiance\n",
        "!mkdir ./runs\n",
        "\n",
        "import sympy as sp\n",
        "import requests as req\n",
        "from ambiance import Atmosphere\n",
        "from utils.myutils import *\n",
        "from IPython.display import display, Math, Latex, Markdown"
      ]
    },
    {
      "cell_type": "code",
      "execution_count": 22,
      "metadata": {
        "id": "ofdbM91Dsz9U",
        "colab": {
          "base_uri": "https://localhost:8080/",
          "height": 38
        },
        "outputId": "154f554e-be06-4a09-84e4-ae274a202218"
      },
      "outputs": [
        {
          "output_type": "execute_result",
          "data": {
            "text/plain": [
              "False"
            ],
            "text/latex": "$\\displaystyle \\text{False}$"
          },
          "metadata": {},
          "execution_count": 22
        }
      ],
      "source": [
        "#@Questão 01\n",
        "\n",
        "xa = sp.Symbol(\"x_a\")\n",
        "ra = sp.Symbol(\"r_a\")\n",
        "wa = sp.Symbol(\"w_a\")\n",
        "ww = sp.Symbol(\"w_w\")\n",
        "\n",
        "t  = sp.Symbol(\"t\")\n",
        "mu = sp.Symbol(\"\\\\mu\")\n",
        "b  = sp.Symbol(\"b\")\n",
        "V  = sp.Symbol(\"V\")\n",
        "\n",
        "CL = sp.Function(\"C_L\")(t)\n",
        "CM = sp.Function(\"C_L\")(t)\n",
        "a = sp.Function(\"\\\\alpha\")(t)\n",
        "w = sp.Function(\"\\\\bar{\\\\omega}\")(t)\n",
        "\n",
        "X = sp.Matrix([[1, -xa],\n",
        "               [-xa, ra ** 2]])\n",
        "\n",
        "dot2 = sp.Matrix([[sp.diff(w, t, t)],\n",
        "                  [sp.diff(a, t, t)]])\n",
        "\n",
        "W = sp.Matrix([[ww ** 2, 0],\n",
        "               [0, (ra * wa) ** 2]])\n",
        "\n",
        "dot = sp.Matrix([[w ],\n",
        "                  [a ]])\n",
        "\n",
        "sp.Eq(X * dot2 + W * dot, V ** 2 / (mu * sp.pi * b **2))"
      ]
    },
    {
      "cell_type": "code",
      "source": [
        "V ** 2 / (mu * sp.pi * b **2)"
      ],
      "metadata": {
        "colab": {
          "base_uri": "https://localhost:8080/",
          "height": 57
        },
        "id": "cRVR358iKKLF",
        "outputId": "5a704ae3-d624-44ef-e23c-38423ccb221e"
      },
      "execution_count": 21,
      "outputs": [
        {
          "output_type": "execute_result",
          "data": {
            "text/plain": [
              "V**2/(pi*\\mu*b**2)"
            ],
            "text/latex": "$\\displaystyle \\frac{V^{2}}{\\pi \\mu b^{2}}$"
          },
          "metadata": {},
          "execution_count": 21
        }
      ]
    },
    {
      "cell_type": "code",
      "source": [],
      "metadata": {
        "id": "LNL-YFRMQT1z"
      },
      "execution_count": null,
      "outputs": []
    }
  ]
}