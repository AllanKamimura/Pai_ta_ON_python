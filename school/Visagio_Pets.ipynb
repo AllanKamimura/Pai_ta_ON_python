{
  "nbformat": 4,
  "nbformat_minor": 0,
  "metadata": {
    "colab": {
      "name": "Visagio Pets.ipynb",
      "provenance": [],
      "collapsed_sections": [
        "gjmZwKb09xO4",
        "AI3E2g5N-ghx",
        "EWzacBVCQnQk",
        "0f6Jy64r-DMr",
        "35vx-GcQBVKv",
        "pRTLtrAfhtkO",
        "EyY3-oVGCBB_",
        "-aCKNuvImYQC",
        "P5uNReosp0hE",
        "f5R8FUgzb9z6",
        "36S9lB6yj_TB",
        "ZQrfRFaTnOW5",
        "ZD2c5hDbnJ1t",
        "UNZKFtufl11p",
        "87ty8Lb9hn1L",
        "zGjHjdlinLEw",
        "tD60MMuGqATx",
        "WgWG3_NAr-Ra",
        "7ZL3pu8jxLRg",
        "gx4dAc8nNDob",
        "7nzZmdAyN6BA",
        "OmkiZqkNCmWb",
        "0d6uMDMURQlX",
        "_fqLySWtUkpn"
      ],
      "authorship_tag": "ABX9TyP9911rjpcRcVckxFbuVQ8B",
      "include_colab_link": true
    },
    "kernelspec": {
      "name": "python3",
      "display_name": "Python 3"
    },
    "language_info": {
      "name": "python"
    }
  },
  "cells": [
    {
      "cell_type": "markdown",
      "metadata": {
        "id": "view-in-github",
        "colab_type": "text"
      },
      "source": [
        "<a href=\"https://colab.research.google.com/github/AllanKamimura/Pai_ta_ON_python/blob/main/school/Visagio_Pets.ipynb\" target=\"_parent\"><img src=\"https://colab.research.google.com/assets/colab-badge.svg\" alt=\"Open In Colab\"/></a>"
      ]
    },
    {
      "cell_type": "markdown",
      "metadata": {
        "id": "2r0PYwqz9t4D"
      },
      "source": [
        "#Baixando e arrumando os dados"
      ]
    },
    {
      "cell_type": "code",
      "metadata": {
        "colab": {
          "base_uri": "https://localhost:8080/"
        },
        "cellView": "form",
        "id": "jiLjbDgXVbCp",
        "outputId": "5f772c92-ea4e-4858-9ac6-0ff2607538d9"
      },
      "source": [
        "#@title Baixando os dados\n",
        "from google_drive_downloader import GoogleDriveDownloader\n",
        "\n",
        "file_id = \"1aEM2KdruaRfMCt3tqSG_yybGkIFSNEBg\"\n",
        "\n",
        "GoogleDriveDownloader.download_file_from_google_drive(\n",
        "    file_id = file_id,\n",
        "    dest_path = \"./dados.zip\",\n",
        "    unzip = True\n",
        ")"
      ],
      "execution_count": null,
      "outputs": [
        {
          "output_type": "stream",
          "text": [
            "Downloading 1aEM2KdruaRfMCt3tqSG_yybGkIFSNEBg into ./dados.zip... Done.\n",
            "Unzipping...Done.\n"
          ],
          "name": "stdout"
        }
      ]
    },
    {
      "cell_type": "markdown",
      "metadata": {
        "id": "gjmZwKb09xO4"
      },
      "source": [
        "## Clientes\n",
        "\n",
        "* **ID_CLIENTE:**\tIdentificador único do cliente\n",
        "* **SEXO:**\tGênero do cliente\n",
        "* **DATA_NASCIMENTO:**\tData de nascimento do cliente\n",
        "* **PRIMEIRA_COMPRA:**\tPrimeira compra do cliente na VAI Pet\n",
        "\n",
        "### arrumando\n",
        "\n",
        "\n",
        "1.   **SEXO** é categorico com 3 possibilidades (vazio)\n",
        "2.   1900-01-01 em NaT\n",
        "3.   **IDADE_CAT:** [\"Muito velho\", \"Velho\", \"Adulto\", \"Adulto Novo\", \"Jovem\"]\n",
        "\n"
      ]
    },
    {
      "cell_type": "code",
      "metadata": {
        "colab": {
          "base_uri": "https://localhost:8080/"
        },
        "id": "eWL7rlWI4JPt",
        "outputId": "0eabfcf2-c392-40a9-880f-d010da459580"
      },
      "source": [
        "import pandas as pd\n",
        "clientes = pd.read_csv(\"/content/cliente.csv\", \n",
        "                       parse_dates = [2,3], index_col = \"ID_CLIENTE\")\n",
        "\n",
        "clientes.DATA_NASCIMENTO = pd.to_datetime(clientes.DATA_NASCIMENTO, errors = \"coerce\")\n",
        "clientes.info()"
      ],
      "execution_count": null,
      "outputs": [
        {
          "output_type": "stream",
          "text": [
            "<class 'pandas.core.frame.DataFrame'>\n",
            "Int64Index: 88424 entries, 0 to 88423\n",
            "Data columns (total 3 columns):\n",
            " #   Column           Non-Null Count  Dtype         \n",
            "---  ------           --------------  -----         \n",
            " 0   SEXO             88424 non-null  object        \n",
            " 1   DATA_NASCIMENTO  88407 non-null  datetime64[ns]\n",
            " 2   PRIMEIRA_COMPRA  88424 non-null  datetime64[ns]\n",
            "dtypes: datetime64[ns](2), object(1)\n",
            "memory usage: 2.7+ MB\n"
          ],
          "name": "stdout"
        }
      ]
    },
    {
      "cell_type": "code",
      "metadata": {
        "colab": {
          "base_uri": "https://localhost:8080/"
        },
        "id": "ZJEJKtix-uK-",
        "outputId": "e59d5d2a-a50b-419f-ce42-5f197ad49c8c"
      },
      "source": [
        "def sex_cat(row):\n",
        "    if \"F\" in row or \"f\" in row:\n",
        "        return \"feminino\"\n",
        "    elif \"M\" in row or \"m\" in row:\n",
        "        return \"masculino\"\n",
        "    else:\n",
        "        return \"vazio\"\n",
        "\n",
        "clientes.SEXO = clientes.SEXO.apply(sex_cat).astype(\"category\")\n",
        "clientes.SEXO.value_counts()"
      ],
      "execution_count": null,
      "outputs": [
        {
          "output_type": "execute_result",
          "data": {
            "text/plain": [
              "vazio        53668\n",
              "feminino     20843\n",
              "masculino    13913\n",
              "Name: SEXO, dtype: int64"
            ]
          },
          "metadata": {
            "tags": []
          },
          "execution_count": 3
        }
      ]
    },
    {
      "cell_type": "code",
      "metadata": {
        "colab": {
          "base_uri": "https://localhost:8080/"
        },
        "id": "VEKFgYiqul0T",
        "outputId": "f65c6ee6-f723-4b6d-edd5-fc0241104e1f"
      },
      "source": [
        "clientes[~clientes.DATA_NASCIMENTO.between(\"2020-07-01\", \"2020-07-30\")].head(20)"
      ],
      "execution_count": null,
      "outputs": [
        {
          "output_type": "execute_result",
          "data": {
            "text/html": [
              "<div>\n",
              "<style scoped>\n",
              "    .dataframe tbody tr th:only-of-type {\n",
              "        vertical-align: middle;\n",
              "    }\n",
              "\n",
              "    .dataframe tbody tr th {\n",
              "        vertical-align: top;\n",
              "    }\n",
              "\n",
              "    .dataframe thead th {\n",
              "        text-align: right;\n",
              "    }\n",
              "</style>\n",
              "<table border=\"1\" class=\"dataframe\">\n",
              "  <thead>\n",
              "    <tr style=\"text-align: right;\">\n",
              "      <th></th>\n",
              "      <th>SEXO</th>\n",
              "      <th>DATA_NASCIMENTO</th>\n",
              "      <th>PRIMEIRA_COMPRA</th>\n",
              "    </tr>\n",
              "    <tr>\n",
              "      <th>ID_CLIENTE</th>\n",
              "      <th></th>\n",
              "      <th></th>\n",
              "      <th></th>\n",
              "    </tr>\n",
              "  </thead>\n",
              "  <tbody>\n",
              "    <tr>\n",
              "      <th>0</th>\n",
              "      <td>vazio</td>\n",
              "      <td>1900-01-01</td>\n",
              "      <td>1900-01-01</td>\n",
              "    </tr>\n",
              "    <tr>\n",
              "      <th>1</th>\n",
              "      <td>feminino</td>\n",
              "      <td>1983-02-25</td>\n",
              "      <td>1900-01-01</td>\n",
              "    </tr>\n",
              "    <tr>\n",
              "      <th>2</th>\n",
              "      <td>feminino</td>\n",
              "      <td>1986-11-01</td>\n",
              "      <td>1900-01-01</td>\n",
              "    </tr>\n",
              "    <tr>\n",
              "      <th>3</th>\n",
              "      <td>feminino</td>\n",
              "      <td>1984-09-13</td>\n",
              "      <td>2021-06-20</td>\n",
              "    </tr>\n",
              "    <tr>\n",
              "      <th>4</th>\n",
              "      <td>vazio</td>\n",
              "      <td>1900-01-01</td>\n",
              "      <td>2021-06-20</td>\n",
              "    </tr>\n",
              "    <tr>\n",
              "      <th>5</th>\n",
              "      <td>masculino</td>\n",
              "      <td>1997-07-16</td>\n",
              "      <td>2021-06-20</td>\n",
              "    </tr>\n",
              "    <tr>\n",
              "      <th>6</th>\n",
              "      <td>masculino</td>\n",
              "      <td>1990-10-27</td>\n",
              "      <td>2021-06-20</td>\n",
              "    </tr>\n",
              "    <tr>\n",
              "      <th>7</th>\n",
              "      <td>masculino</td>\n",
              "      <td>1988-01-28</td>\n",
              "      <td>2021-06-20</td>\n",
              "    </tr>\n",
              "    <tr>\n",
              "      <th>8</th>\n",
              "      <td>masculino</td>\n",
              "      <td>1983-07-19</td>\n",
              "      <td>1900-01-01</td>\n",
              "    </tr>\n",
              "    <tr>\n",
              "      <th>9</th>\n",
              "      <td>masculino</td>\n",
              "      <td>2000-01-01</td>\n",
              "      <td>2021-06-20</td>\n",
              "    </tr>\n",
              "    <tr>\n",
              "      <th>10</th>\n",
              "      <td>vazio</td>\n",
              "      <td>1900-01-01</td>\n",
              "      <td>2021-06-20</td>\n",
              "    </tr>\n",
              "    <tr>\n",
              "      <th>11</th>\n",
              "      <td>feminino</td>\n",
              "      <td>1965-04-05</td>\n",
              "      <td>2021-06-20</td>\n",
              "    </tr>\n",
              "    <tr>\n",
              "      <th>12</th>\n",
              "      <td>feminino</td>\n",
              "      <td>1970-11-21</td>\n",
              "      <td>2021-06-20</td>\n",
              "    </tr>\n",
              "    <tr>\n",
              "      <th>13</th>\n",
              "      <td>vazio</td>\n",
              "      <td>1900-01-01</td>\n",
              "      <td>1900-01-01</td>\n",
              "    </tr>\n",
              "    <tr>\n",
              "      <th>14</th>\n",
              "      <td>masculino</td>\n",
              "      <td>1961-01-18</td>\n",
              "      <td>2020-09-22</td>\n",
              "    </tr>\n",
              "    <tr>\n",
              "      <th>15</th>\n",
              "      <td>vazio</td>\n",
              "      <td>1900-01-01</td>\n",
              "      <td>2020-09-22</td>\n",
              "    </tr>\n",
              "    <tr>\n",
              "      <th>16</th>\n",
              "      <td>vazio</td>\n",
              "      <td>1900-01-01</td>\n",
              "      <td>2020-09-22</td>\n",
              "    </tr>\n",
              "    <tr>\n",
              "      <th>17</th>\n",
              "      <td>feminino</td>\n",
              "      <td>1963-10-13</td>\n",
              "      <td>2021-01-22</td>\n",
              "    </tr>\n",
              "    <tr>\n",
              "      <th>18</th>\n",
              "      <td>vazio</td>\n",
              "      <td>1900-01-01</td>\n",
              "      <td>2020-09-22</td>\n",
              "    </tr>\n",
              "    <tr>\n",
              "      <th>19</th>\n",
              "      <td>feminino</td>\n",
              "      <td>1972-09-12</td>\n",
              "      <td>1900-01-01</td>\n",
              "    </tr>\n",
              "  </tbody>\n",
              "</table>\n",
              "</div>"
            ],
            "text/plain": [
              "                 SEXO DATA_NASCIMENTO PRIMEIRA_COMPRA\n",
              "ID_CLIENTE                                           \n",
              "0               vazio      1900-01-01      1900-01-01\n",
              "1            feminino      1983-02-25      1900-01-01\n",
              "2            feminino      1986-11-01      1900-01-01\n",
              "3            feminino      1984-09-13      2021-06-20\n",
              "4               vazio      1900-01-01      2021-06-20\n",
              "5           masculino      1997-07-16      2021-06-20\n",
              "6           masculino      1990-10-27      2021-06-20\n",
              "7           masculino      1988-01-28      2021-06-20\n",
              "8           masculino      1983-07-19      1900-01-01\n",
              "9           masculino      2000-01-01      2021-06-20\n",
              "10              vazio      1900-01-01      2021-06-20\n",
              "11           feminino      1965-04-05      2021-06-20\n",
              "12           feminino      1970-11-21      2021-06-20\n",
              "13              vazio      1900-01-01      1900-01-01\n",
              "14          masculino      1961-01-18      2020-09-22\n",
              "15              vazio      1900-01-01      2020-09-22\n",
              "16              vazio      1900-01-01      2020-09-22\n",
              "17           feminino      1963-10-13      2021-01-22\n",
              "18              vazio      1900-01-01      2020-09-22\n",
              "19           feminino      1972-09-12      1900-01-01"
            ]
          },
          "metadata": {
            "tags": []
          },
          "execution_count": 4
        }
      ]
    },
    {
      "cell_type": "code",
      "metadata": {
        "id": "EchsaSE1XyrX"
      },
      "source": [
        "# esses 2 clientes tavam com a data de nascimento no lugar da data de 1ra compra\n",
        "clientes.at[168, \"DATA_NASCIMENTO\"] = clientes.iloc[168][\"PRIMEIRA_COMPRA\"]\n",
        "clientes.at[289, \"DATA_NASCIMENTO\"] = clientes.iloc[289][\"PRIMEIRA_COMPRA\"]\n",
        "\n",
        "clientes.PRIMEIRA_COMPRA = clientes.PRIMEIRA_COMPRA.apply(lambda row: pd.NaT \n",
        "                                                          if row.year < 2016 else row)\n",
        "\n",
        "clientes.DATA_NASCIMENTO = clientes.DATA_NASCIMENTO.apply(lambda row: pd.NaT \n",
        "                                                          if row.year < 1901 \n",
        "                                                          or row.year > 2014\n",
        "                                                          else row)"
      ],
      "execution_count": null,
      "outputs": []
    },
    {
      "cell_type": "code",
      "metadata": {
        "colab": {
          "base_uri": "https://localhost:8080/"
        },
        "id": "Uoruiqe6ZPZB",
        "outputId": "331296a4-9d45-4fb6-db69-f94eb1feba99"
      },
      "source": [
        "import seaborn as sns\n",
        "\n",
        "_ = sns.displot(data = clientes, y = \"DATA_NASCIMENTO\")"
      ],
      "execution_count": null,
      "outputs": [
        {
          "output_type": "display_data",
          "data": {
            "image/png": "[encoded data removed]",
            "text/plain": [
              "<Figure size 360x360 with 1 Axes>"
            ]
          },
          "metadata": {
            "tags": [],
            "needs_background": "light"
          }
        }
      ]
    },
    {
      "cell_type": "code",
      "metadata": {
        "id": "L4AoYZsLdH6U",
        "colab": {
          "base_uri": "https://localhost:8080/"
        },
        "outputId": "863593e0-fb4c-4a01-f280-569b52f6226d"
      },
      "source": [
        "clientes[\"IDADE_CAT\"], bins = pd.qcut(clientes.DATA_NASCIMENTO, q = 5,\n",
        "                                labels = [\"Muito velho\", \"Velho\", \"Adulto\", \"Adulto Novo\", \"Jovem\"],\n",
        "                                retbins = True)\n",
        "bins"
      ],
      "execution_count": null,
      "outputs": [
        {
          "output_type": "execute_result",
          "data": {
            "text/plain": [
              "DatetimeIndex([          '1913-04-05 00:00:00',\n",
              "                         '1971-09-05 00:00:00',\n",
              "                         '1979-10-11 00:00:00',\n",
              "                         '1986-01-30 00:00:00',\n",
              "               '1992-08-14 14:24:00.000000128',\n",
              "                         '2014-12-20 00:00:00'],\n",
              "              dtype='datetime64[ns]', freq=None)"
            ]
          },
          "metadata": {
            "tags": []
          },
          "execution_count": 7
        }
      ]
    },
    {
      "cell_type": "code",
      "metadata": {
        "colab": {
          "base_uri": "https://localhost:8080/"
        },
        "id": "IqssgEhuctFF",
        "outputId": "d0f05f04-af6e-4248-fca9-c5d1bc96c404"
      },
      "source": [
        "import seaborn as sns\n",
        "\n",
        "_ = sns.displot(data = clientes, y = \"PRIMEIRA_COMPRA\")"
      ],
      "execution_count": null,
      "outputs": [
        {
          "output_type": "display_data",
          "data": {
            "image/png": "[encoded data removed]",
            "text/plain": [
              "<Figure size 360x360 with 1 Axes>"
            ]
          },
          "metadata": {
            "tags": [],
            "needs_background": "light"
          }
        }
      ]
    },
    {
      "cell_type": "code",
      "metadata": {
        "colab": {
          "base_uri": "https://localhost:8080/"
        },
        "id": "vKSNNNyf-MTz",
        "outputId": "ae7617ab-3438-4f4e-a4ae-1ea531ebd80a"
      },
      "source": [
        "clientes.info()"
      ],
      "execution_count": null,
      "outputs": [
        {
          "output_type": "stream",
          "text": [
            "<class 'pandas.core.frame.DataFrame'>\n",
            "Int64Index: 88424 entries, 0 to 88423\n",
            "Data columns (total 4 columns):\n",
            " #   Column           Non-Null Count  Dtype         \n",
            "---  ------           --------------  -----         \n",
            " 0   SEXO             88424 non-null  category      \n",
            " 1   DATA_NASCIMENTO  34333 non-null  datetime64[ns]\n",
            " 2   PRIMEIRA_COMPRA  85161 non-null  datetime64[ns]\n",
            " 3   IDADE_CAT        34333 non-null  category      \n",
            "dtypes: category(2), datetime64[ns](2)\n",
            "memory usage: 4.7 MB\n"
          ],
          "name": "stdout"
        }
      ]
    },
    {
      "cell_type": "markdown",
      "metadata": {
        "id": "AI3E2g5N-ghx"
      },
      "source": [
        "## Produtos\n",
        "\n",
        "* **ID_PRODUTO:** Identificador único do produto\n",
        "* **UNIDADE:** Unidade de medida do produto\n",
        "* **NIVEL 1:** Categoria nível 1, mais agrupada\n",
        "* **NIVEL 2:** Categoria nível 2\n",
        "* **NIVEL 3:** Categoria nível 3\n",
        "* **NIVEL 4:** Categoria nível 4, menos agrupada\n",
        "\n",
        "### arrumando\n",
        "por enquanto, acho q ta ok aqui"
      ]
    },
    {
      "cell_type": "code",
      "metadata": {
        "colab": {
          "base_uri": "https://localhost:8080/"
        },
        "id": "5BNQ9JLQ68i6",
        "outputId": "efa5d144-f3ca-452c-bdac-062bb1cbc387"
      },
      "source": [
        "import pandas as pd\n",
        "\n",
        "prod = pd.read_csv(\"/content/produto.csv\", index_col = \"ID_PRODUTO\")\n",
        "prod = prod[prod[\"NIVEL 1\"] != \"                              \"]\n",
        "\n",
        "for column in prod.columns:\n",
        "    prod[column] = prod[column].apply(lambda row: row.strip()).astype(\"category\")\n",
        "\n",
        "prod.info()"
      ],
      "execution_count": null,
      "outputs": [
        {
          "output_type": "stream",
          "text": [
            "<class 'pandas.core.frame.DataFrame'>\n",
            "Int64Index: 24098 entries, 6 to 36309\n",
            "Data columns (total 5 columns):\n",
            " #   Column   Non-Null Count  Dtype   \n",
            "---  ------   --------------  -----   \n",
            " 0   UNIDADE  24098 non-null  category\n",
            " 1   NIVEL 1  24098 non-null  category\n",
            " 2   NIVEL 2  24098 non-null  category\n",
            " 3   NIVEL 3  24098 non-null  category\n",
            " 4   NIVEL 4  24098 non-null  category\n",
            "dtypes: category(5)\n",
            "memory usage: 311.7 KB\n"
          ],
          "name": "stdout"
        }
      ]
    },
    {
      "cell_type": "code",
      "metadata": {
        "colab": {
          "base_uri": "https://localhost:8080/"
        },
        "id": "FeEPvYYgSUt3",
        "outputId": "48b97be0-ff08-4d41-f831-2cd677b89ade"
      },
      "source": [
        "prod.head(10)"
      ],
      "execution_count": null,
      "outputs": [
        {
          "output_type": "execute_result",
          "data": {
            "text/html": [
              "<div>\n",
              "<style scoped>\n",
              "    .dataframe tbody tr th:only-of-type {\n",
              "        vertical-align: middle;\n",
              "    }\n",
              "\n",
              "    .dataframe tbody tr th {\n",
              "        vertical-align: top;\n",
              "    }\n",
              "\n",
              "    .dataframe thead th {\n",
              "        text-align: right;\n",
              "    }\n",
              "</style>\n",
              "<table border=\"1\" class=\"dataframe\">\n",
              "  <thead>\n",
              "    <tr style=\"text-align: right;\">\n",
              "      <th></th>\n",
              "      <th>UNIDADE</th>\n",
              "      <th>NIVEL 1</th>\n",
              "      <th>NIVEL 2</th>\n",
              "      <th>NIVEL 3</th>\n",
              "      <th>NIVEL 4</th>\n",
              "    </tr>\n",
              "    <tr>\n",
              "      <th>ID_PRODUTO</th>\n",
              "      <th></th>\n",
              "      <th></th>\n",
              "      <th></th>\n",
              "      <th></th>\n",
              "      <th></th>\n",
              "    </tr>\n",
              "  </thead>\n",
              "  <tbody>\n",
              "    <tr>\n",
              "      <th>6</th>\n",
              "      <td>UN</td>\n",
              "      <td>CAES</td>\n",
              "      <td>ACESSORIOS</td>\n",
              "      <td>CAMINHAS E CASINHAS</td>\n",
              "      <td>CAMINHAS</td>\n",
              "    </tr>\n",
              "    <tr>\n",
              "      <th>10</th>\n",
              "      <td>UN</td>\n",
              "      <td>CAES</td>\n",
              "      <td>HIGIENE E BELEZA</td>\n",
              "      <td>UTENSILIOS PARA BANHO</td>\n",
              "      <td>SHAMPOOS E COSMETICOS</td>\n",
              "    </tr>\n",
              "    <tr>\n",
              "      <th>11</th>\n",
              "      <td>UN</td>\n",
              "      <td>CAES</td>\n",
              "      <td>HIGIENE E BELEZA</td>\n",
              "      <td>UTENSILIOS PARA BANHO</td>\n",
              "      <td>SHAMPOOS E COSMETICOS</td>\n",
              "    </tr>\n",
              "    <tr>\n",
              "      <th>12</th>\n",
              "      <td>UN</td>\n",
              "      <td>CAES</td>\n",
              "      <td>HIGIENE E BELEZA</td>\n",
              "      <td>UTENSILIOS PARA BANHO</td>\n",
              "      <td>SHAMPOOS E COSMETICOS</td>\n",
              "    </tr>\n",
              "    <tr>\n",
              "      <th>13</th>\n",
              "      <td>UN</td>\n",
              "      <td>CAES</td>\n",
              "      <td>HIGIENE E BELEZA</td>\n",
              "      <td>UTENSILIOS PARA BANHO</td>\n",
              "      <td>SHAMPOOS E COSMETICOS</td>\n",
              "    </tr>\n",
              "    <tr>\n",
              "      <th>14</th>\n",
              "      <td>UN</td>\n",
              "      <td>CAES</td>\n",
              "      <td>HIGIENE E BELEZA</td>\n",
              "      <td>UTENSILIOS PARA BANHO</td>\n",
              "      <td>SHAMPOOS E COSMETICOS</td>\n",
              "    </tr>\n",
              "    <tr>\n",
              "      <th>15</th>\n",
              "      <td>UN</td>\n",
              "      <td>CAES</td>\n",
              "      <td>HIGIENE E BELEZA</td>\n",
              "      <td>UTENSILIOS PARA BANHO</td>\n",
              "      <td>SHAMPOOS E COSMETICOS</td>\n",
              "    </tr>\n",
              "    <tr>\n",
              "      <th>16</th>\n",
              "      <td>UN</td>\n",
              "      <td>CAES</td>\n",
              "      <td>HIGIENE E BELEZA</td>\n",
              "      <td>UTENSILIOS PARA BANHO</td>\n",
              "      <td>BANHO A SECO E TALCOS</td>\n",
              "    </tr>\n",
              "    <tr>\n",
              "      <th>17</th>\n",
              "      <td>UN</td>\n",
              "      <td>CAES</td>\n",
              "      <td>HIGIENE E BELEZA</td>\n",
              "      <td>UTENSILIOS PARA BANHO</td>\n",
              "      <td>SHAMPOOS E COSMETICOS</td>\n",
              "    </tr>\n",
              "    <tr>\n",
              "      <th>18</th>\n",
              "      <td>UN</td>\n",
              "      <td>CAES</td>\n",
              "      <td>HIGIENE E BELEZA</td>\n",
              "      <td>UTENSILIOS PARA BANHO</td>\n",
              "      <td>SHAMPOOS E COSMETICOS</td>\n",
              "    </tr>\n",
              "  </tbody>\n",
              "</table>\n",
              "</div>"
            ],
            "text/plain": [
              "           UNIDADE NIVEL 1  ...                NIVEL 3                NIVEL 4\n",
              "ID_PRODUTO                  ...                                              \n",
              "6               UN    CAES  ...    CAMINHAS E CASINHAS               CAMINHAS\n",
              "10              UN    CAES  ...  UTENSILIOS PARA BANHO  SHAMPOOS E COSMETICOS\n",
              "11              UN    CAES  ...  UTENSILIOS PARA BANHO  SHAMPOOS E COSMETICOS\n",
              "12              UN    CAES  ...  UTENSILIOS PARA BANHO  SHAMPOOS E COSMETICOS\n",
              "13              UN    CAES  ...  UTENSILIOS PARA BANHO  SHAMPOOS E COSMETICOS\n",
              "14              UN    CAES  ...  UTENSILIOS PARA BANHO  SHAMPOOS E COSMETICOS\n",
              "15              UN    CAES  ...  UTENSILIOS PARA BANHO  SHAMPOOS E COSMETICOS\n",
              "16              UN    CAES  ...  UTENSILIOS PARA BANHO  BANHO A SECO E TALCOS\n",
              "17              UN    CAES  ...  UTENSILIOS PARA BANHO  SHAMPOOS E COSMETICOS\n",
              "18              UN    CAES  ...  UTENSILIOS PARA BANHO  SHAMPOOS E COSMETICOS\n",
              "\n",
              "[10 rows x 5 columns]"
            ]
          },
          "metadata": {
            "tags": []
          },
          "execution_count": 11
        }
      ]
    },
    {
      "cell_type": "code",
      "metadata": {
        "colab": {
          "base_uri": "https://localhost:8080/"
        },
        "id": "RQvyjOZOApvf",
        "outputId": "d9c55b10-86ac-47a3-e1cc-fdcb3cc15e7a"
      },
      "source": [
        "import seaborn as sns\n",
        "\n",
        "_ = sns.displot(data = prod, y = \"NIVEL 1\")"
      ],
      "execution_count": null,
      "outputs": [
        {
          "output_type": "display_data",
          "data": {
            "image/png": "[encoded data removed]",
            "text/plain": [
              "<Figure size 360x360 with 1 Axes>"
            ]
          },
          "metadata": {
            "tags": [],
            "needs_background": "light"
          }
        }
      ]
    },
    {
      "cell_type": "code",
      "metadata": {
        "colab": {
          "base_uri": "https://localhost:8080/"
        },
        "id": "QDPB_e9bBt_B",
        "outputId": "65a99c1c-0cc1-484d-a93c-3b088cbc3ce6"
      },
      "source": [
        "_ = sns.displot(prod[prod[\"NIVEL 1\"] == \"CAES\"], y = \"NIVEL 2\")"
      ],
      "execution_count": null,
      "outputs": [
        {
          "output_type": "display_data",
          "data": {
            "image/png": "[encoded data removed]",
            "text/plain": [
              "<Figure size 360x360 with 1 Axes>"
            ]
          },
          "metadata": {
            "tags": [],
            "needs_background": "light"
          }
        }
      ]
    },
    {
      "cell_type": "code",
      "metadata": {
        "colab": {
          "base_uri": "https://localhost:8080/"
        },
        "id": "a8WF8exPpvJV",
        "outputId": "1120c419-13b9-497e-c059-2a2b567d955e"
      },
      "source": [
        "_ = sns.displot(prod[(prod[\"NIVEL 1\"] == \"CAES\") &\n",
        "                     (prod[\"NIVEL 2\"] == \"ACESSORIOS\")], y = \"NIVEL 3\")"
      ],
      "execution_count": null,
      "outputs": [
        {
          "output_type": "display_data",
          "data": {
            "image/png": "[encoded data removed]",
            "text/plain": [
              "<Figure size 360x360 with 1 Axes>"
            ]
          },
          "metadata": {
            "tags": [],
            "needs_background": "light"
          }
        }
      ]
    },
    {
      "cell_type": "code",
      "metadata": {
        "colab": {
          "base_uri": "https://localhost:8080/"
        },
        "id": "zjjBCGEWEhqP",
        "outputId": "3cc7c0c5-a4c6-4ea0-b6dd-af41d9524d3a"
      },
      "source": [
        "# casa pra pessoas?\n",
        "_ = sns.displot(prod[prod[\"NIVEL 1\"] != \"CAES\"], y = \"NIVEL 2\",\n",
        "                hue = \"NIVEL 1\", multiple = \"stack\", stat = \"density\")"
      ],
      "execution_count": null,
      "outputs": [
        {
          "output_type": "display_data",
          "data": {
            "image/png": "[encoded data removed]",
            "text/plain": [
              "<Figure size 451.75x360 with 1 Axes>"
            ]
          },
          "metadata": {
            "tags": [],
            "needs_background": "light"
          }
        }
      ]
    },
    {
      "cell_type": "markdown",
      "metadata": {
        "id": "EWzacBVCQnQk"
      },
      "source": [
        "## Vendas\n",
        "* **ID_VENDA:** Identificador único da venda\n",
        "* **DATA_VENDA:** Data da venda\n",
        "* **ID_CLIENTE:** Identificador único do cliente\n",
        "* **ID_PRODUTO:** Identificador único do produto\n",
        "* **QUANTIDADE:** Quantidade vendida\n",
        "* **CATEGORIA_VENDA:** Categoria da venda (físico ou e-commerce)\n",
        "\n",
        "### Arrumando\n",
        "\n",
        "1.   Deletei esses 2 clientes pq tavam comprando demais 25323.0, 52216.0\n",
        "2.   Categoria dia da semana\n",
        "3.   Datas de venda parecem tudo ok\n",
        "4.   Quantidades vendidas parecem tudo ok\n",
        "\n"
      ]
    },
    {
      "cell_type": "code",
      "metadata": {
        "colab": {
          "base_uri": "https://localhost:8080/"
        },
        "id": "ip7DAF0yE7Zj",
        "outputId": "1fb0009a-c645-4f3b-a7dc-ed351836b1b9"
      },
      "source": [
        "vendas = pd.read_csv(\"/content/venda.csv\", index_col = \"ID_VENDA\",\n",
        "                     parse_dates = [\"DATA_VENDA\"])\n",
        "\n",
        "vendas = vendas[vendas.ID_PRODUTO.notna()]\n",
        "vendas.ID_PRODUTO = vendas.ID_PRODUTO.astype(\"int64\")\n",
        "vendas.info()"
      ],
      "execution_count": null,
      "outputs": [
        {
          "output_type": "stream",
          "text": [
            "/usr/local/lib/python3.7/dist-packages/numpy/lib/arraysetops.py:580: FutureWarning: elementwise comparison failed; returning scalar instead, but in the future will perform elementwise comparison\n",
            "  mask |= (ar1 == a)\n"
          ],
          "name": "stderr"
        },
        {
          "output_type": "stream",
          "text": [
            "<class 'pandas.core.frame.DataFrame'>\n",
            "Int64Index: 1339443 entries, 0 to 582462\n",
            "Data columns (total 5 columns):\n",
            " #   Column           Non-Null Count    Dtype         \n",
            "---  ------           --------------    -----         \n",
            " 0   DATA_VENDA       1339443 non-null  datetime64[ns]\n",
            " 1   ID_CLIENTE       537803 non-null   float64       \n",
            " 2   ID_PRODUTO       1339443 non-null  int64         \n",
            " 3   QUANTIDADE       1339443 non-null  int64         \n",
            " 4   CATEGORIA_VENDA  1339443 non-null  object        \n",
            "dtypes: datetime64[ns](1), float64(1), int64(2), object(1)\n",
            "memory usage: 61.3+ MB\n"
          ],
          "name": "stdout"
        }
      ]
    },
    {
      "cell_type": "code",
      "metadata": {
        "colab": {
          "base_uri": "https://localhost:8080/"
        },
        "id": "uX6i0g-XMuPQ",
        "outputId": "5d94d189-ec0b-4292-cce5-a3de58d6754d"
      },
      "source": [
        "vendas[\"CATEGORIA_VENDA\"].value_counts()"
      ],
      "execution_count": null,
      "outputs": [
        {
          "output_type": "execute_result",
          "data": {
            "text/plain": [
              "FÍSICO                  1328513\n",
              "E-COMMERCE                10930\n",
              "Name: CATEGORIA_VENDA, dtype: int64"
            ]
          },
          "metadata": {
            "tags": []
          },
          "execution_count": 17
        }
      ]
    },
    {
      "cell_type": "code",
      "metadata": {
        "colab": {
          "base_uri": "https://localhost:8080/"
        },
        "id": "UWJqwv3uI1ld",
        "outputId": "a5696d8a-009e-4839-e9b7-9468e3040ac1"
      },
      "source": [
        "# vendas online começaram proximo de 2021-03\n",
        "import seaborn as sns\n",
        "\n",
        "_ = sns.displot(vendas, y = \"DATA_VENDA\", hue = \"CATEGORIA_VENDA\")"
      ],
      "execution_count": null,
      "outputs": [
        {
          "output_type": "display_data",
          "data": {
            "image/png": "[encoded data removed]",
            "text/plain": [
              "<Figure size 494.75x360 with 1 Axes>"
            ]
          },
          "metadata": {
            "tags": [],
            "needs_background": "light"
          }
        }
      ]
    },
    {
      "cell_type": "code",
      "metadata": {
        "colab": {
          "base_uri": "https://localhost:8080/"
        },
        "id": "WKabVui5WUdB",
        "outputId": "b45f863b-8667-445c-b8f3-b132a2431207"
      },
      "source": [
        "vendas.DATA_VENDA.hist(xrot = 90)"
      ],
      "execution_count": null,
      "outputs": [
        {
          "output_type": "execute_result",
          "data": {
            "text/plain": [
              "<matplotlib.axes._subplots.AxesSubplot at 0x7fe68d8bb610>"
            ]
          },
          "metadata": {
            "tags": []
          },
          "execution_count": 19
        },
        {
          "output_type": "display_data",
          "data": {
            "image/png": "[encoded data removed]",
            "text/plain": [
              "<Figure size 432x288 with 1 Axes>"
            ]
          },
          "metadata": {
            "tags": [],
            "needs_background": "light"
          }
        }
      ]
    },
    {
      "cell_type": "code",
      "metadata": {
        "id": "sSpQBRJfcLgA",
        "colab": {
          "base_uri": "https://localhost:8080/"
        },
        "outputId": "711b75f5-2820-4e7f-c02b-9b0eb9d1fed6"
      },
      "source": [
        "# essa 2 pessoas tão comprando demais\n",
        "vendas.ID_CLIENTE.value_counts(sort = True, ascending = False).head(10)"
      ],
      "execution_count": null,
      "outputs": [
        {
          "output_type": "execute_result",
          "data": {
            "text/plain": [
              "25323.0    1701\n",
              "52216.0     825\n",
              "29057.0     397\n",
              "29056.0     356\n",
              "22874.0     292\n",
              "60916.0     263\n",
              "24716.0     257\n",
              "57998.0     242\n",
              "54509.0     232\n",
              "43219.0     230\n",
              "Name: ID_CLIENTE, dtype: int64"
            ]
          },
          "metadata": {
            "tags": []
          },
          "execution_count": 20
        }
      ]
    },
    {
      "cell_type": "code",
      "metadata": {
        "colab": {
          "base_uri": "https://localhost:8080/"
        },
        "id": "bDQjIhuaf7Nc",
        "outputId": "ecb9efe1-1aaf-40c6-fa74-44dd70c1f493"
      },
      "source": [
        "_ = vendas[vendas['ID_CLIENTE'] == 25323.0][\"DATA_VENDA\"].dt.month.hist()"
      ],
      "execution_count": null,
      "outputs": [
        {
          "output_type": "display_data",
          "data": {
            "image/png": "[encoded data removed]",
            "text/plain": [
              "<Figure size 432x288 with 1 Axes>"
            ]
          },
          "metadata": {
            "tags": [],
            "needs_background": "light"
          }
        }
      ]
    },
    {
      "cell_type": "code",
      "metadata": {
        "colab": {
          "base_uri": "https://localhost:8080/"
        },
        "id": "F9MFMYVYgnht",
        "outputId": "d5a8f30c-668c-46b9-c9fd-b20ef05d1e4c"
      },
      "source": [
        "# por algum motivo, as duas compras fora do normal parecem se complementar\n",
        "_ = vendas[vendas['ID_CLIENTE'] == 52216.0][\"DATA_VENDA\"].dt.month.hist()"
      ],
      "execution_count": null,
      "outputs": [
        {
          "output_type": "display_data",
          "data": {
            "image/png": "[encoded data removed]",
            "text/plain": [
              "<Figure size 432x288 with 1 Axes>"
            ]
          },
          "metadata": {
            "tags": [],
            "needs_background": "light"
          }
        }
      ]
    },
    {
      "cell_type": "code",
      "metadata": {
        "colab": {
          "base_uri": "https://localhost:8080/"
        },
        "id": "U0GodkTIiUO9",
        "outputId": "7ffac630-4fe6-4051-f859-7b006fd1300f"
      },
      "source": [
        "vendas[vendas['ID_CLIENTE'] == 25323.0][\"QUANTIDADE\"].value_counts()"
      ],
      "execution_count": null,
      "outputs": [
        {
          "output_type": "execute_result",
          "data": {
            "text/plain": [
              "1     1350\n",
              "2      164\n",
              "3       64\n",
              "5       32\n",
              "4       32\n",
              "10      19\n",
              "6       12\n",
              "8        9\n",
              "7        5\n",
              "12       4\n",
              "16       2\n",
              "23       2\n",
              "15       1\n",
              "14       1\n",
              "28       1\n",
              "20       1\n",
              "24       1\n",
              "30       1\n",
              "Name: QUANTIDADE, dtype: int64"
            ]
          },
          "metadata": {
            "tags": []
          },
          "execution_count": 23
        }
      ]
    },
    {
      "cell_type": "code",
      "metadata": {
        "colab": {
          "base_uri": "https://localhost:8080/"
        },
        "id": "UFjcdBhvhaV4",
        "outputId": "5b7212f2-de44-40e0-ff79-cb074aef470d"
      },
      "source": [
        "vendas[vendas['ID_CLIENTE'] == 52216.0][\"QUANTIDADE\"].value_counts()"
      ],
      "execution_count": null,
      "outputs": [
        {
          "output_type": "execute_result",
          "data": {
            "text/plain": [
              "1     685\n",
              "2      73\n",
              "3      29\n",
              "4      14\n",
              "10      7\n",
              "6       7\n",
              "5       6\n",
              "20      1\n",
              "11      1\n",
              "8       1\n",
              "7       1\n",
              "Name: QUANTIDADE, dtype: int64"
            ]
          },
          "metadata": {
            "tags": []
          },
          "execution_count": 24
        }
      ]
    },
    {
      "cell_type": "code",
      "metadata": {
        "id": "Xd5spEmGicWu"
      },
      "source": [
        "# tirei os 2 clientes q estavam anormais\n",
        "vendas = vendas[~vendas['ID_CLIENTE'].isin([25323.0, 52216.0])]"
      ],
      "execution_count": null,
      "outputs": []
    },
    {
      "cell_type": "code",
      "metadata": {
        "id": "wWde06PtUHwx"
      },
      "source": [
        "vendas[\"weekday\"] = vendas[\"DATA_VENDA\"].dt.day_name().astype(\"category\")\n",
        "\n",
        "vendas[\"weekday\"] = vendas[\"weekday\"].cat.set_categories(\n",
        "    [\"Monday\", \"Tuesday\", \"Wednesday\", \"Thursday\", \"Friday\", \"Saturday\", \"Sunday\"],\n",
        "    ordered = True)"
      ],
      "execution_count": null,
      "outputs": []
    },
    {
      "cell_type": "code",
      "metadata": {
        "colab": {
          "base_uri": "https://localhost:8080/"
        },
        "id": "-LOP3R1UJXPg",
        "outputId": "871ed369-77d0-4da9-9ab0-3fa1f0143244"
      },
      "source": [
        "vendas.sort_values(by = \"QUANTIDADE\").tail(20)"
      ],
      "execution_count": null,
      "outputs": [
        {
          "output_type": "execute_result",
          "data": {
            "text/html": [
              "<div>\n",
              "<style scoped>\n",
              "    .dataframe tbody tr th:only-of-type {\n",
              "        vertical-align: middle;\n",
              "    }\n",
              "\n",
              "    .dataframe tbody tr th {\n",
              "        vertical-align: top;\n",
              "    }\n",
              "\n",
              "    .dataframe thead th {\n",
              "        text-align: right;\n",
              "    }\n",
              "</style>\n",
              "<table border=\"1\" class=\"dataframe\">\n",
              "  <thead>\n",
              "    <tr style=\"text-align: right;\">\n",
              "      <th></th>\n",
              "      <th>DATA_VENDA</th>\n",
              "      <th>ID_CLIENTE</th>\n",
              "      <th>ID_PRODUTO</th>\n",
              "      <th>QUANTIDADE</th>\n",
              "      <th>CATEGORIA_VENDA</th>\n",
              "      <th>weekday</th>\n",
              "    </tr>\n",
              "    <tr>\n",
              "      <th>ID_VENDA</th>\n",
              "      <th></th>\n",
              "      <th></th>\n",
              "      <th></th>\n",
              "      <th></th>\n",
              "      <th></th>\n",
              "      <th></th>\n",
              "    </tr>\n",
              "  </thead>\n",
              "  <tbody>\n",
              "    <tr>\n",
              "      <th>364071</th>\n",
              "      <td>2021-03-30</td>\n",
              "      <td>67426.0</td>\n",
              "      <td>3083</td>\n",
              "      <td>60</td>\n",
              "      <td>FÍSICO</td>\n",
              "      <td>Tuesday</td>\n",
              "    </tr>\n",
              "    <tr>\n",
              "      <th>359657</th>\n",
              "      <td>2020-05-28</td>\n",
              "      <td>36954.0</td>\n",
              "      <td>7312</td>\n",
              "      <td>60</td>\n",
              "      <td>FÍSICO</td>\n",
              "      <td>Thursday</td>\n",
              "    </tr>\n",
              "    <tr>\n",
              "      <th>413075</th>\n",
              "      <td>2021-02-28</td>\n",
              "      <td>16680.0</td>\n",
              "      <td>15963</td>\n",
              "      <td>60</td>\n",
              "      <td>FÍSICO</td>\n",
              "      <td>Sunday</td>\n",
              "    </tr>\n",
              "    <tr>\n",
              "      <th>288104</th>\n",
              "      <td>2020-03-01</td>\n",
              "      <td>NaN</td>\n",
              "      <td>14689</td>\n",
              "      <td>60</td>\n",
              "      <td>FÍSICO</td>\n",
              "      <td>Sunday</td>\n",
              "    </tr>\n",
              "    <tr>\n",
              "      <th>10188</th>\n",
              "      <td>2020-05-19</td>\n",
              "      <td>31071.0</td>\n",
              "      <td>31953</td>\n",
              "      <td>60</td>\n",
              "      <td>FÍSICO</td>\n",
              "      <td>Tuesday</td>\n",
              "    </tr>\n",
              "    <tr>\n",
              "      <th>258678</th>\n",
              "      <td>2020-07-03</td>\n",
              "      <td>NaN</td>\n",
              "      <td>1184</td>\n",
              "      <td>60</td>\n",
              "      <td>FÍSICO</td>\n",
              "      <td>Friday</td>\n",
              "    </tr>\n",
              "    <tr>\n",
              "      <th>449518</th>\n",
              "      <td>2021-06-12</td>\n",
              "      <td>76354.0</td>\n",
              "      <td>14588</td>\n",
              "      <td>60</td>\n",
              "      <td>FÍSICO</td>\n",
              "      <td>Saturday</td>\n",
              "    </tr>\n",
              "    <tr>\n",
              "      <th>370701</th>\n",
              "      <td>2020-04-13</td>\n",
              "      <td>NaN</td>\n",
              "      <td>1961</td>\n",
              "      <td>64</td>\n",
              "      <td>FÍSICO</td>\n",
              "      <td>Monday</td>\n",
              "    </tr>\n",
              "    <tr>\n",
              "      <th>138134</th>\n",
              "      <td>2020-12-23</td>\n",
              "      <td>NaN</td>\n",
              "      <td>31657</td>\n",
              "      <td>65</td>\n",
              "      <td>FÍSICO</td>\n",
              "      <td>Wednesday</td>\n",
              "    </tr>\n",
              "    <tr>\n",
              "      <th>341630</th>\n",
              "      <td>2020-12-15</td>\n",
              "      <td>NaN</td>\n",
              "      <td>173</td>\n",
              "      <td>65</td>\n",
              "      <td>FÍSICO</td>\n",
              "      <td>Tuesday</td>\n",
              "    </tr>\n",
              "    <tr>\n",
              "      <th>272695</th>\n",
              "      <td>2020-11-11</td>\n",
              "      <td>NaN</td>\n",
              "      <td>27588</td>\n",
              "      <td>69</td>\n",
              "      <td>FÍSICO</td>\n",
              "      <td>Wednesday</td>\n",
              "    </tr>\n",
              "    <tr>\n",
              "      <th>422904</th>\n",
              "      <td>2020-10-07</td>\n",
              "      <td>NaN</td>\n",
              "      <td>23921</td>\n",
              "      <td>70</td>\n",
              "      <td>FÍSICO</td>\n",
              "      <td>Wednesday</td>\n",
              "    </tr>\n",
              "    <tr>\n",
              "      <th>412523</th>\n",
              "      <td>2021-02-24</td>\n",
              "      <td>NaN</td>\n",
              "      <td>24007</td>\n",
              "      <td>70</td>\n",
              "      <td>FÍSICO</td>\n",
              "      <td>Wednesday</td>\n",
              "    </tr>\n",
              "    <tr>\n",
              "      <th>349645</th>\n",
              "      <td>2021-03-10</td>\n",
              "      <td>36010.0</td>\n",
              "      <td>27907</td>\n",
              "      <td>71</td>\n",
              "      <td>FÍSICO</td>\n",
              "      <td>Wednesday</td>\n",
              "    </tr>\n",
              "    <tr>\n",
              "      <th>301225</th>\n",
              "      <td>2020-12-15</td>\n",
              "      <td>56366.0</td>\n",
              "      <td>1961</td>\n",
              "      <td>72</td>\n",
              "      <td>FÍSICO</td>\n",
              "      <td>Tuesday</td>\n",
              "    </tr>\n",
              "    <tr>\n",
              "      <th>179633</th>\n",
              "      <td>2020-04-17</td>\n",
              "      <td>NaN</td>\n",
              "      <td>1529</td>\n",
              "      <td>73</td>\n",
              "      <td>FÍSICO</td>\n",
              "      <td>Friday</td>\n",
              "    </tr>\n",
              "    <tr>\n",
              "      <th>252768</th>\n",
              "      <td>2020-05-13</td>\n",
              "      <td>NaN</td>\n",
              "      <td>1529</td>\n",
              "      <td>81</td>\n",
              "      <td>FÍSICO</td>\n",
              "      <td>Wednesday</td>\n",
              "    </tr>\n",
              "    <tr>\n",
              "      <th>321242</th>\n",
              "      <td>2020-05-26</td>\n",
              "      <td>NaN</td>\n",
              "      <td>6666</td>\n",
              "      <td>84</td>\n",
              "      <td>FÍSICO</td>\n",
              "      <td>Tuesday</td>\n",
              "    </tr>\n",
              "    <tr>\n",
              "      <th>58110</th>\n",
              "      <td>2020-02-13</td>\n",
              "      <td>NaN</td>\n",
              "      <td>12381</td>\n",
              "      <td>90</td>\n",
              "      <td>FÍSICO</td>\n",
              "      <td>Thursday</td>\n",
              "    </tr>\n",
              "    <tr>\n",
              "      <th>266924</th>\n",
              "      <td>2020-09-16</td>\n",
              "      <td>NaN</td>\n",
              "      <td>1529</td>\n",
              "      <td>102</td>\n",
              "      <td>FÍSICO</td>\n",
              "      <td>Wednesday</td>\n",
              "    </tr>\n",
              "  </tbody>\n",
              "</table>\n",
              "</div>"
            ],
            "text/plain": [
              "         DATA_VENDA  ID_CLIENTE  ...       CATEGORIA_VENDA    weekday\n",
              "ID_VENDA                         ...                                 \n",
              "364071   2021-03-30     67426.0  ...  FÍSICO                  Tuesday\n",
              "359657   2020-05-28     36954.0  ...  FÍSICO                 Thursday\n",
              "413075   2021-02-28     16680.0  ...  FÍSICO                   Sunday\n",
              "288104   2020-03-01         NaN  ...  FÍSICO                   Sunday\n",
              "10188    2020-05-19     31071.0  ...  FÍSICO                  Tuesday\n",
              "258678   2020-07-03         NaN  ...  FÍSICO                   Friday\n",
              "449518   2021-06-12     76354.0  ...  FÍSICO                 Saturday\n",
              "370701   2020-04-13         NaN  ...  FÍSICO                   Monday\n",
              "138134   2020-12-23         NaN  ...  FÍSICO                Wednesday\n",
              "341630   2020-12-15         NaN  ...  FÍSICO                  Tuesday\n",
              "272695   2020-11-11         NaN  ...  FÍSICO                Wednesday\n",
              "422904   2020-10-07         NaN  ...  FÍSICO                Wednesday\n",
              "412523   2021-02-24         NaN  ...  FÍSICO                Wednesday\n",
              "349645   2021-03-10     36010.0  ...  FÍSICO                Wednesday\n",
              "301225   2020-12-15     56366.0  ...  FÍSICO                  Tuesday\n",
              "179633   2020-04-17         NaN  ...  FÍSICO                   Friday\n",
              "252768   2020-05-13         NaN  ...  FÍSICO                Wednesday\n",
              "321242   2020-05-26         NaN  ...  FÍSICO                  Tuesday\n",
              "58110    2020-02-13         NaN  ...  FÍSICO                 Thursday\n",
              "266924   2020-09-16         NaN  ...  FÍSICO                Wednesday\n",
              "\n",
              "[20 rows x 6 columns]"
            ]
          },
          "metadata": {
            "tags": []
          },
          "execution_count": 27
        }
      ]
    },
    {
      "cell_type": "code",
      "metadata": {
        "colab": {
          "base_uri": "https://localhost:8080/"
        },
        "id": "QcI8_yHYJf5f",
        "outputId": "429282d4-8e1c-4d23-b797-c9f18c1c2af0"
      },
      "source": [
        "prod.loc[1529]"
      ],
      "execution_count": null,
      "outputs": [
        {
          "output_type": "execute_result",
          "data": {
            "text/plain": [
              "UNIDADE                              UN\n",
              "NIVEL 1                           GATOS\n",
              "NIVEL 2                       ALIMENTOS\n",
              "NIVEL 3                          RACOES\n",
              "NIVEL 4    RACAO UMIDA (SACHES E LATAS)\n",
              "Name: 1529, dtype: object"
            ]
          },
          "metadata": {
            "tags": []
          },
          "execution_count": 28
        }
      ]
    },
    {
      "cell_type": "markdown",
      "metadata": {
        "id": "6AX75E4Z97hT"
      },
      "source": [
        "# Explorando os dados"
      ]
    },
    {
      "cell_type": "markdown",
      "metadata": {
        "id": "0f6Jy64r-DMr"
      },
      "source": [
        "## Clientes\n",
        "**resumo:**\n",
        "\n",
        "1.   Grande **aumento no numero** de clientes com cadastro a partir de Julho de 2020 (principalmente data de nascimento)\n",
        "2.   Faixa de idade dos clientes entre nascidos em **1970 e 1995**\n",
        "3.   entre os cadastrados, maioria é **mulher**\n",
        "4.   dentre os que preencheram a data de nascimento, os **jovems** foram o grupo com maior numero de entradas vazias para o campo SEXO\n",
        "\n",
        "**propostas:**\n",
        "\n",
        "1.   Programas de **fidelidade** / promoções para caDAStrados, alem de ser um chamativo, são uma boa maneira de se conseguir que os **clientes preencham** corretamente as informações \n",
        "\n",
        "\n",
        "\n"
      ]
    },
    {
      "cell_type": "code",
      "metadata": {
        "colab": {
          "base_uri": "https://localhost:8080/"
        },
        "id": "yw3HqxfOfIme",
        "outputId": "484bd76d-c6c0-4355-883d-79c9b2c0ba8a"
      },
      "source": [
        "clientes.info()"
      ],
      "execution_count": null,
      "outputs": [
        {
          "output_type": "stream",
          "text": [
            "<class 'pandas.core.frame.DataFrame'>\n",
            "Int64Index: 88424 entries, 0 to 88423\n",
            "Data columns (total 4 columns):\n",
            " #   Column           Non-Null Count  Dtype         \n",
            "---  ------           --------------  -----         \n",
            " 0   SEXO             88424 non-null  category      \n",
            " 1   DATA_NASCIMENTO  34333 non-null  datetime64[ns]\n",
            " 2   PRIMEIRA_COMPRA  85161 non-null  datetime64[ns]\n",
            " 3   IDADE_CAT        34333 non-null  category      \n",
            "dtypes: category(2), datetime64[ns](2)\n",
            "memory usage: 4.7 MB\n"
          ],
          "name": "stdout"
        }
      ]
    },
    {
      "cell_type": "code",
      "metadata": {
        "id": "sNfvsYOSo857",
        "colab": {
          "base_uri": "https://localhost:8080/"
        },
        "outputId": "1abc8ec1-cc56-4e53-9c51-0dc6dd7e915f"
      },
      "source": [
        "clientes.head()"
      ],
      "execution_count": null,
      "outputs": [
        {
          "output_type": "execute_result",
          "data": {
            "text/html": [
              "<div>\n",
              "<style scoped>\n",
              "    .dataframe tbody tr th:only-of-type {\n",
              "        vertical-align: middle;\n",
              "    }\n",
              "\n",
              "    .dataframe tbody tr th {\n",
              "        vertical-align: top;\n",
              "    }\n",
              "\n",
              "    .dataframe thead th {\n",
              "        text-align: right;\n",
              "    }\n",
              "</style>\n",
              "<table border=\"1\" class=\"dataframe\">\n",
              "  <thead>\n",
              "    <tr style=\"text-align: right;\">\n",
              "      <th></th>\n",
              "      <th>SEXO</th>\n",
              "      <th>DATA_NASCIMENTO</th>\n",
              "      <th>PRIMEIRA_COMPRA</th>\n",
              "      <th>IDADE_CAT</th>\n",
              "    </tr>\n",
              "    <tr>\n",
              "      <th>ID_CLIENTE</th>\n",
              "      <th></th>\n",
              "      <th></th>\n",
              "      <th></th>\n",
              "      <th></th>\n",
              "    </tr>\n",
              "  </thead>\n",
              "  <tbody>\n",
              "    <tr>\n",
              "      <th>0</th>\n",
              "      <td>vazio</td>\n",
              "      <td>NaT</td>\n",
              "      <td>NaT</td>\n",
              "      <td>NaN</td>\n",
              "    </tr>\n",
              "    <tr>\n",
              "      <th>1</th>\n",
              "      <td>feminino</td>\n",
              "      <td>1983-02-25</td>\n",
              "      <td>NaT</td>\n",
              "      <td>Adulto</td>\n",
              "    </tr>\n",
              "    <tr>\n",
              "      <th>2</th>\n",
              "      <td>feminino</td>\n",
              "      <td>1986-11-01</td>\n",
              "      <td>NaT</td>\n",
              "      <td>Adulto Novo</td>\n",
              "    </tr>\n",
              "    <tr>\n",
              "      <th>3</th>\n",
              "      <td>feminino</td>\n",
              "      <td>1984-09-13</td>\n",
              "      <td>2021-06-20</td>\n",
              "      <td>Adulto</td>\n",
              "    </tr>\n",
              "    <tr>\n",
              "      <th>4</th>\n",
              "      <td>vazio</td>\n",
              "      <td>NaT</td>\n",
              "      <td>2021-06-20</td>\n",
              "      <td>NaN</td>\n",
              "    </tr>\n",
              "  </tbody>\n",
              "</table>\n",
              "</div>"
            ],
            "text/plain": [
              "                SEXO DATA_NASCIMENTO PRIMEIRA_COMPRA    IDADE_CAT\n",
              "ID_CLIENTE                                                       \n",
              "0              vazio             NaT             NaT          NaN\n",
              "1           feminino      1983-02-25             NaT       Adulto\n",
              "2           feminino      1986-11-01             NaT  Adulto Novo\n",
              "3           feminino      1984-09-13      2021-06-20       Adulto\n",
              "4              vazio             NaT      2021-06-20          NaN"
            ]
          },
          "metadata": {
            "tags": []
          },
          "execution_count": 30
        }
      ]
    },
    {
      "cell_type": "code",
      "metadata": {
        "colab": {
          "base_uri": "https://localhost:8080/"
        },
        "id": "FfCxD_gJbw5I",
        "outputId": "28e44492-41fc-4e6a-f079-0c0ce00f6aa2"
      },
      "source": [
        "# depois de 2020-07 teve um grande aumento de cadastros (começo das vendas online)\n",
        "clientes.groupby(pd.Grouper(key = \"PRIMEIRA_COMPRA\", freq = \"M\")).count()"
      ],
      "execution_count": null,
      "outputs": [
        {
          "output_type": "execute_result",
          "data": {
            "text/html": [
              "<div>\n",
              "<style scoped>\n",
              "    .dataframe tbody tr th:only-of-type {\n",
              "        vertical-align: middle;\n",
              "    }\n",
              "\n",
              "    .dataframe tbody tr th {\n",
              "        vertical-align: top;\n",
              "    }\n",
              "\n",
              "    .dataframe thead th {\n",
              "        text-align: right;\n",
              "    }\n",
              "</style>\n",
              "<table border=\"1\" class=\"dataframe\">\n",
              "  <thead>\n",
              "    <tr style=\"text-align: right;\">\n",
              "      <th></th>\n",
              "      <th>SEXO</th>\n",
              "      <th>DATA_NASCIMENTO</th>\n",
              "      <th>IDADE_CAT</th>\n",
              "    </tr>\n",
              "    <tr>\n",
              "      <th>PRIMEIRA_COMPRA</th>\n",
              "      <th></th>\n",
              "      <th></th>\n",
              "      <th></th>\n",
              "    </tr>\n",
              "  </thead>\n",
              "  <tbody>\n",
              "    <tr>\n",
              "      <th>2017-01-31</th>\n",
              "      <td>4</td>\n",
              "      <td>0</td>\n",
              "      <td>0</td>\n",
              "    </tr>\n",
              "    <tr>\n",
              "      <th>2017-02-28</th>\n",
              "      <td>23</td>\n",
              "      <td>0</td>\n",
              "      <td>0</td>\n",
              "    </tr>\n",
              "    <tr>\n",
              "      <th>2017-03-31</th>\n",
              "      <td>199</td>\n",
              "      <td>2</td>\n",
              "      <td>2</td>\n",
              "    </tr>\n",
              "    <tr>\n",
              "      <th>2017-04-30</th>\n",
              "      <td>728</td>\n",
              "      <td>18</td>\n",
              "      <td>18</td>\n",
              "    </tr>\n",
              "    <tr>\n",
              "      <th>2017-05-31</th>\n",
              "      <td>1106</td>\n",
              "      <td>21</td>\n",
              "      <td>21</td>\n",
              "    </tr>\n",
              "    <tr>\n",
              "      <th>2017-06-30</th>\n",
              "      <td>967</td>\n",
              "      <td>24</td>\n",
              "      <td>24</td>\n",
              "    </tr>\n",
              "    <tr>\n",
              "      <th>2017-07-31</th>\n",
              "      <td>912</td>\n",
              "      <td>13</td>\n",
              "      <td>13</td>\n",
              "    </tr>\n",
              "    <tr>\n",
              "      <th>2017-08-31</th>\n",
              "      <td>726</td>\n",
              "      <td>11</td>\n",
              "      <td>11</td>\n",
              "    </tr>\n",
              "    <tr>\n",
              "      <th>2017-09-30</th>\n",
              "      <td>713</td>\n",
              "      <td>11</td>\n",
              "      <td>11</td>\n",
              "    </tr>\n",
              "    <tr>\n",
              "      <th>2017-10-31</th>\n",
              "      <td>685</td>\n",
              "      <td>13</td>\n",
              "      <td>13</td>\n",
              "    </tr>\n",
              "    <tr>\n",
              "      <th>2017-11-30</th>\n",
              "      <td>586</td>\n",
              "      <td>10</td>\n",
              "      <td>10</td>\n",
              "    </tr>\n",
              "    <tr>\n",
              "      <th>2017-12-31</th>\n",
              "      <td>779</td>\n",
              "      <td>10</td>\n",
              "      <td>10</td>\n",
              "    </tr>\n",
              "    <tr>\n",
              "      <th>2018-01-31</th>\n",
              "      <td>615</td>\n",
              "      <td>10</td>\n",
              "      <td>10</td>\n",
              "    </tr>\n",
              "    <tr>\n",
              "      <th>2018-02-28</th>\n",
              "      <td>578</td>\n",
              "      <td>10</td>\n",
              "      <td>10</td>\n",
              "    </tr>\n",
              "    <tr>\n",
              "      <th>2018-03-31</th>\n",
              "      <td>729</td>\n",
              "      <td>23</td>\n",
              "      <td>23</td>\n",
              "    </tr>\n",
              "    <tr>\n",
              "      <th>2018-04-30</th>\n",
              "      <td>701</td>\n",
              "      <td>21</td>\n",
              "      <td>21</td>\n",
              "    </tr>\n",
              "    <tr>\n",
              "      <th>2018-05-31</th>\n",
              "      <td>689</td>\n",
              "      <td>17</td>\n",
              "      <td>17</td>\n",
              "    </tr>\n",
              "    <tr>\n",
              "      <th>2018-06-30</th>\n",
              "      <td>708</td>\n",
              "      <td>14</td>\n",
              "      <td>14</td>\n",
              "    </tr>\n",
              "    <tr>\n",
              "      <th>2018-07-31</th>\n",
              "      <td>679</td>\n",
              "      <td>16</td>\n",
              "      <td>16</td>\n",
              "    </tr>\n",
              "    <tr>\n",
              "      <th>2018-08-31</th>\n",
              "      <td>764</td>\n",
              "      <td>21</td>\n",
              "      <td>21</td>\n",
              "    </tr>\n",
              "    <tr>\n",
              "      <th>2018-09-30</th>\n",
              "      <td>683</td>\n",
              "      <td>18</td>\n",
              "      <td>18</td>\n",
              "    </tr>\n",
              "    <tr>\n",
              "      <th>2018-10-31</th>\n",
              "      <td>977</td>\n",
              "      <td>24</td>\n",
              "      <td>24</td>\n",
              "    </tr>\n",
              "    <tr>\n",
              "      <th>2018-11-30</th>\n",
              "      <td>982</td>\n",
              "      <td>18</td>\n",
              "      <td>18</td>\n",
              "    </tr>\n",
              "    <tr>\n",
              "      <th>2018-12-31</th>\n",
              "      <td>1129</td>\n",
              "      <td>23</td>\n",
              "      <td>23</td>\n",
              "    </tr>\n",
              "    <tr>\n",
              "      <th>2019-01-31</th>\n",
              "      <td>1231</td>\n",
              "      <td>33</td>\n",
              "      <td>33</td>\n",
              "    </tr>\n",
              "    <tr>\n",
              "      <th>2019-02-28</th>\n",
              "      <td>1328</td>\n",
              "      <td>32</td>\n",
              "      <td>32</td>\n",
              "    </tr>\n",
              "    <tr>\n",
              "      <th>2019-03-31</th>\n",
              "      <td>1361</td>\n",
              "      <td>37</td>\n",
              "      <td>37</td>\n",
              "    </tr>\n",
              "    <tr>\n",
              "      <th>2019-04-30</th>\n",
              "      <td>1216</td>\n",
              "      <td>17</td>\n",
              "      <td>17</td>\n",
              "    </tr>\n",
              "    <tr>\n",
              "      <th>2019-05-31</th>\n",
              "      <td>988</td>\n",
              "      <td>24</td>\n",
              "      <td>24</td>\n",
              "    </tr>\n",
              "    <tr>\n",
              "      <th>2019-06-30</th>\n",
              "      <td>1029</td>\n",
              "      <td>29</td>\n",
              "      <td>29</td>\n",
              "    </tr>\n",
              "    <tr>\n",
              "      <th>2019-07-31</th>\n",
              "      <td>1056</td>\n",
              "      <td>20</td>\n",
              "      <td>20</td>\n",
              "    </tr>\n",
              "    <tr>\n",
              "      <th>2019-08-31</th>\n",
              "      <td>1010</td>\n",
              "      <td>30</td>\n",
              "      <td>30</td>\n",
              "    </tr>\n",
              "    <tr>\n",
              "      <th>2019-09-30</th>\n",
              "      <td>990</td>\n",
              "      <td>25</td>\n",
              "      <td>25</td>\n",
              "    </tr>\n",
              "    <tr>\n",
              "      <th>2019-10-31</th>\n",
              "      <td>948</td>\n",
              "      <td>28</td>\n",
              "      <td>28</td>\n",
              "    </tr>\n",
              "    <tr>\n",
              "      <th>2019-11-30</th>\n",
              "      <td>921</td>\n",
              "      <td>26</td>\n",
              "      <td>26</td>\n",
              "    </tr>\n",
              "    <tr>\n",
              "      <th>2019-12-31</th>\n",
              "      <td>994</td>\n",
              "      <td>26</td>\n",
              "      <td>26</td>\n",
              "    </tr>\n",
              "    <tr>\n",
              "      <th>2020-01-31</th>\n",
              "      <td>934</td>\n",
              "      <td>34</td>\n",
              "      <td>34</td>\n",
              "    </tr>\n",
              "    <tr>\n",
              "      <th>2020-02-29</th>\n",
              "      <td>878</td>\n",
              "      <td>25</td>\n",
              "      <td>25</td>\n",
              "    </tr>\n",
              "    <tr>\n",
              "      <th>2020-03-31</th>\n",
              "      <td>1064</td>\n",
              "      <td>47</td>\n",
              "      <td>47</td>\n",
              "    </tr>\n",
              "    <tr>\n",
              "      <th>2020-04-30</th>\n",
              "      <td>1530</td>\n",
              "      <td>48</td>\n",
              "      <td>48</td>\n",
              "    </tr>\n",
              "    <tr>\n",
              "      <th>2020-05-31</th>\n",
              "      <td>2020</td>\n",
              "      <td>73</td>\n",
              "      <td>73</td>\n",
              "    </tr>\n",
              "    <tr>\n",
              "      <th>2020-06-30</th>\n",
              "      <td>1654</td>\n",
              "      <td>63</td>\n",
              "      <td>63</td>\n",
              "    </tr>\n",
              "    <tr>\n",
              "      <th>2020-07-31</th>\n",
              "      <td>2609</td>\n",
              "      <td>1103</td>\n",
              "      <td>1103</td>\n",
              "    </tr>\n",
              "    <tr>\n",
              "      <th>2020-08-31</th>\n",
              "      <td>3441</td>\n",
              "      <td>1795</td>\n",
              "      <td>1795</td>\n",
              "    </tr>\n",
              "    <tr>\n",
              "      <th>2020-09-30</th>\n",
              "      <td>3636</td>\n",
              "      <td>2416</td>\n",
              "      <td>2416</td>\n",
              "    </tr>\n",
              "    <tr>\n",
              "      <th>2020-10-31</th>\n",
              "      <td>4064</td>\n",
              "      <td>2483</td>\n",
              "      <td>2483</td>\n",
              "    </tr>\n",
              "    <tr>\n",
              "      <th>2020-11-30</th>\n",
              "      <td>4973</td>\n",
              "      <td>3463</td>\n",
              "      <td>3463</td>\n",
              "    </tr>\n",
              "    <tr>\n",
              "      <th>2020-12-31</th>\n",
              "      <td>5263</td>\n",
              "      <td>3884</td>\n",
              "      <td>3884</td>\n",
              "    </tr>\n",
              "    <tr>\n",
              "      <th>2021-01-31</th>\n",
              "      <td>4833</td>\n",
              "      <td>3742</td>\n",
              "      <td>3742</td>\n",
              "    </tr>\n",
              "    <tr>\n",
              "      <th>2021-02-28</th>\n",
              "      <td>3770</td>\n",
              "      <td>2809</td>\n",
              "      <td>2809</td>\n",
              "    </tr>\n",
              "    <tr>\n",
              "      <th>2021-03-31</th>\n",
              "      <td>3905</td>\n",
              "      <td>2509</td>\n",
              "      <td>2509</td>\n",
              "    </tr>\n",
              "    <tr>\n",
              "      <th>2021-04-30</th>\n",
              "      <td>3608</td>\n",
              "      <td>2150</td>\n",
              "      <td>2150</td>\n",
              "    </tr>\n",
              "    <tr>\n",
              "      <th>2021-05-31</th>\n",
              "      <td>3998</td>\n",
              "      <td>2503</td>\n",
              "      <td>2503</td>\n",
              "    </tr>\n",
              "    <tr>\n",
              "      <th>2021-06-30</th>\n",
              "      <td>3247</td>\n",
              "      <td>2240</td>\n",
              "      <td>2240</td>\n",
              "    </tr>\n",
              "  </tbody>\n",
              "</table>\n",
              "</div>"
            ],
            "text/plain": [
              "                 SEXO  DATA_NASCIMENTO  IDADE_CAT\n",
              "PRIMEIRA_COMPRA                                  \n",
              "2017-01-31          4                0          0\n",
              "2017-02-28         23                0          0\n",
              "2017-03-31        199                2          2\n",
              "2017-04-30        728               18         18\n",
              "2017-05-31       1106               21         21\n",
              "2017-06-30        967               24         24\n",
              "2017-07-31        912               13         13\n",
              "2017-08-31        726               11         11\n",
              "2017-09-30        713               11         11\n",
              "2017-10-31        685               13         13\n",
              "2017-11-30        586               10         10\n",
              "2017-12-31        779               10         10\n",
              "2018-01-31        615               10         10\n",
              "2018-02-28        578               10         10\n",
              "2018-03-31        729               23         23\n",
              "2018-04-30        701               21         21\n",
              "2018-05-31        689               17         17\n",
              "2018-06-30        708               14         14\n",
              "2018-07-31        679               16         16\n",
              "2018-08-31        764               21         21\n",
              "2018-09-30        683               18         18\n",
              "2018-10-31        977               24         24\n",
              "2018-11-30        982               18         18\n",
              "2018-12-31       1129               23         23\n",
              "2019-01-31       1231               33         33\n",
              "2019-02-28       1328               32         32\n",
              "2019-03-31       1361               37         37\n",
              "2019-04-30       1216               17         17\n",
              "2019-05-31        988               24         24\n",
              "2019-06-30       1029               29         29\n",
              "2019-07-31       1056               20         20\n",
              "2019-08-31       1010               30         30\n",
              "2019-09-30        990               25         25\n",
              "2019-10-31        948               28         28\n",
              "2019-11-30        921               26         26\n",
              "2019-12-31        994               26         26\n",
              "2020-01-31        934               34         34\n",
              "2020-02-29        878               25         25\n",
              "2020-03-31       1064               47         47\n",
              "2020-04-30       1530               48         48\n",
              "2020-05-31       2020               73         73\n",
              "2020-06-30       1654               63         63\n",
              "2020-07-31       2609             1103       1103\n",
              "2020-08-31       3441             1795       1795\n",
              "2020-09-30       3636             2416       2416\n",
              "2020-10-31       4064             2483       2483\n",
              "2020-11-30       4973             3463       3463\n",
              "2020-12-31       5263             3884       3884\n",
              "2021-01-31       4833             3742       3742\n",
              "2021-02-28       3770             2809       2809\n",
              "2021-03-31       3905             2509       2509\n",
              "2021-04-30       3608             2150       2150\n",
              "2021-05-31       3998             2503       2503\n",
              "2021-06-30       3247             2240       2240"
            ]
          },
          "metadata": {
            "tags": []
          },
          "execution_count": 31
        }
      ]
    },
    {
      "cell_type": "code",
      "metadata": {
        "colab": {
          "base_uri": "https://localhost:8080/"
        },
        "id": "Uxer2fvIkUdu",
        "outputId": "28cc776e-d4a3-488c-878b-fb3555a05835"
      },
      "source": [
        "# maiores faixas etarias para pessoas nascidas entre 1970 e 1990\n",
        "_ = sns.displot(clientes, x = \"DATA_NASCIMENTO\", hue = \"IDADE_CAT\")"
      ],
      "execution_count": null,
      "outputs": [
        {
          "output_type": "display_data",
          "data": {
            "image/png": "[encoded data removed]",
            "text/plain": [
              "<Figure size 456.75x360 with 1 Axes>"
            ]
          },
          "metadata": {
            "tags": [],
            "needs_background": "light"
          }
        }
      ]
    },
    {
      "cell_type": "code",
      "metadata": {
        "colab": {
          "base_uri": "https://localhost:8080/"
        },
        "id": "W-5YtjrDvYqW",
        "outputId": "11f618b7-f24e-4d75-dc86-af8543157356"
      },
      "source": [
        "# pessoas mais velhas tem uma tendencia maior a preencher formulario?\n",
        "clientes.groupby(\"IDADE_CAT\")[\"SEXO\"].value_counts(True)"
      ],
      "execution_count": null,
      "outputs": [
        {
          "output_type": "execute_result",
          "data": {
            "text/plain": [
              "IDADE_CAT    SEXO     \n",
              "Muito velho  feminino     0.554455\n",
              "             masculino    0.405358\n",
              "             vazio        0.040186\n",
              "Velho        feminino     0.573114\n",
              "             masculino    0.373871\n",
              "             vazio        0.053015\n",
              "Adulto       feminino     0.552758\n",
              "             masculino    0.398050\n",
              "             vazio        0.049192\n",
              "Adulto Novo  feminino     0.542778\n",
              "             masculino    0.390322\n",
              "             vazio        0.066900\n",
              "Jovem        feminino     0.584098\n",
              "             masculino    0.342945\n",
              "             vazio        0.072958\n",
              "Name: SEXO, dtype: float64"
            ]
          },
          "metadata": {
            "tags": []
          },
          "execution_count": 33
        }
      ]
    },
    {
      "cell_type": "code",
      "metadata": {
        "colab": {
          "base_uri": "https://localhost:8080/"
        },
        "id": "0m4jmDAM3l2-",
        "outputId": "3010eb86-6e85-4f7b-9656-430af60c778c"
      },
      "source": [
        "# apersar de que uma grande parcela dos clientes não ter preenchido o campo SEXO,\n",
        "# a maior parte do publico conhecido são mulheres\n",
        "clientes.groupby(\"SEXO\")[\"DATA_NASCIMENTO\"].count()"
      ],
      "execution_count": null,
      "outputs": [
        {
          "output_type": "execute_result",
          "data": {
            "text/plain": [
              "SEXO\n",
              "feminino     19276\n",
              "masculino    13119\n",
              "vazio         1938\n",
              "Name: DATA_NASCIMENTO, dtype: int64"
            ]
          },
          "metadata": {
            "tags": []
          },
          "execution_count": 34
        }
      ]
    },
    {
      "cell_type": "code",
      "metadata": {
        "colab": {
          "base_uri": "https://localhost:8080/"
        },
        "id": "Gp1ZlrSZj0Z1",
        "outputId": "f9dd05b2-0cb3-4971-df5b-2b8a26a89866"
      },
      "source": [
        "clientes[\"SEXO\"].value_counts()"
      ],
      "execution_count": null,
      "outputs": [
        {
          "output_type": "execute_result",
          "data": {
            "text/plain": [
              "vazio        53668\n",
              "feminino     20843\n",
              "masculino    13913\n",
              "Name: SEXO, dtype: int64"
            ]
          },
          "metadata": {
            "tags": []
          },
          "execution_count": 35
        }
      ]
    },
    {
      "cell_type": "markdown",
      "metadata": {
        "id": "35vx-GcQBVKv"
      },
      "source": [
        "## Produtos\n",
        "**resumo:**\n",
        "\n",
        "1.   **PEIXES, AVES, ROEDORES E PESSOAS** com bastante entradas vazias para o nivel 4\n",
        "2.    Grande foco no mercado de acessorios cerca de (**60% dos itens cadastrados**), principlamente para **CAES** (mais de **12 mil itens** cadastrados)\n",
        "3.   Tipos de produtos com maior variedade (**CAES**)\n",
        "          PARA MORDER E PUXAR              1210\n",
        "          COMEDOUROS E BEBEDOUROS          1211\n",
        "          PEITORAIS                        1349\n",
        "          CAMINHAS                         1370\n",
        "          MODA VERAO                       1573\n",
        "4.    Algum destaque para o mercado de **GATOS e PEIXES (acessorios)**\n",
        "\n",
        "**proposta:**\n",
        "\n",
        "1.   Vou verificar a quatidade de vendas de acessorios e de vendas dos animais alem dos CAES, mas acho que precisamos fazer um  devido balanço das saidas dos produtos\n",
        "2.   Utilizar o codigo de barras dos produtos como ID pode evitar o cadastro duplicado de itens\n",
        "3.   Adicionar datas como data de cadastro / ultimo pedido do item pode ajudar a identificar itens que sairam de linha\n",
        "\n",
        "\n"
      ]
    },
    {
      "cell_type": "code",
      "metadata": {
        "colab": {
          "base_uri": "https://localhost:8080/"
        },
        "id": "HPWVPSJRBW4V",
        "outputId": "601a1c87-3473-4a4f-bc03-92baf4e8edf8"
      },
      "source": [
        "prod.head()"
      ],
      "execution_count": null,
      "outputs": [
        {
          "output_type": "execute_result",
          "data": {
            "text/html": [
              "<div>\n",
              "<style scoped>\n",
              "    .dataframe tbody tr th:only-of-type {\n",
              "        vertical-align: middle;\n",
              "    }\n",
              "\n",
              "    .dataframe tbody tr th {\n",
              "        vertical-align: top;\n",
              "    }\n",
              "\n",
              "    .dataframe thead th {\n",
              "        text-align: right;\n",
              "    }\n",
              "</style>\n",
              "<table border=\"1\" class=\"dataframe\">\n",
              "  <thead>\n",
              "    <tr style=\"text-align: right;\">\n",
              "      <th></th>\n",
              "      <th>UNIDADE</th>\n",
              "      <th>NIVEL 1</th>\n",
              "      <th>NIVEL 2</th>\n",
              "      <th>NIVEL 3</th>\n",
              "      <th>NIVEL 4</th>\n",
              "    </tr>\n",
              "    <tr>\n",
              "      <th>ID_PRODUTO</th>\n",
              "      <th></th>\n",
              "      <th></th>\n",
              "      <th></th>\n",
              "      <th></th>\n",
              "      <th></th>\n",
              "    </tr>\n",
              "  </thead>\n",
              "  <tbody>\n",
              "    <tr>\n",
              "      <th>6</th>\n",
              "      <td>UN</td>\n",
              "      <td>CAES</td>\n",
              "      <td>ACESSORIOS</td>\n",
              "      <td>CAMINHAS E CASINHAS</td>\n",
              "      <td>CAMINHAS</td>\n",
              "    </tr>\n",
              "    <tr>\n",
              "      <th>10</th>\n",
              "      <td>UN</td>\n",
              "      <td>CAES</td>\n",
              "      <td>HIGIENE E BELEZA</td>\n",
              "      <td>UTENSILIOS PARA BANHO</td>\n",
              "      <td>SHAMPOOS E COSMETICOS</td>\n",
              "    </tr>\n",
              "    <tr>\n",
              "      <th>11</th>\n",
              "      <td>UN</td>\n",
              "      <td>CAES</td>\n",
              "      <td>HIGIENE E BELEZA</td>\n",
              "      <td>UTENSILIOS PARA BANHO</td>\n",
              "      <td>SHAMPOOS E COSMETICOS</td>\n",
              "    </tr>\n",
              "    <tr>\n",
              "      <th>12</th>\n",
              "      <td>UN</td>\n",
              "      <td>CAES</td>\n",
              "      <td>HIGIENE E BELEZA</td>\n",
              "      <td>UTENSILIOS PARA BANHO</td>\n",
              "      <td>SHAMPOOS E COSMETICOS</td>\n",
              "    </tr>\n",
              "    <tr>\n",
              "      <th>13</th>\n",
              "      <td>UN</td>\n",
              "      <td>CAES</td>\n",
              "      <td>HIGIENE E BELEZA</td>\n",
              "      <td>UTENSILIOS PARA BANHO</td>\n",
              "      <td>SHAMPOOS E COSMETICOS</td>\n",
              "    </tr>\n",
              "  </tbody>\n",
              "</table>\n",
              "</div>"
            ],
            "text/plain": [
              "           UNIDADE NIVEL 1  ...                NIVEL 3                NIVEL 4\n",
              "ID_PRODUTO                  ...                                              \n",
              "6               UN    CAES  ...    CAMINHAS E CASINHAS               CAMINHAS\n",
              "10              UN    CAES  ...  UTENSILIOS PARA BANHO  SHAMPOOS E COSMETICOS\n",
              "11              UN    CAES  ...  UTENSILIOS PARA BANHO  SHAMPOOS E COSMETICOS\n",
              "12              UN    CAES  ...  UTENSILIOS PARA BANHO  SHAMPOOS E COSMETICOS\n",
              "13              UN    CAES  ...  UTENSILIOS PARA BANHO  SHAMPOOS E COSMETICOS\n",
              "\n",
              "[5 rows x 5 columns]"
            ]
          },
          "metadata": {
            "tags": []
          },
          "execution_count": 36
        }
      ]
    },
    {
      "cell_type": "code",
      "metadata": {
        "colab": {
          "base_uri": "https://localhost:8080/"
        },
        "id": "ma2SVbQ8P8b_",
        "outputId": "07d2f910-5cd5-46a0-9a09-0cef76fffcf9"
      },
      "source": [
        "print(prod[prod[\"NIVEL 2\"].str.contains(\"FARMACIA\")][\"NIVEL 3\"].unique())"
      ],
      "execution_count": null,
      "outputs": [
        {
          "output_type": "stream",
          "text": [
            "['PULGAS - CARRAPATOS - VERMES', 'PELE E PELAGEM', 'DORES E INFECCOES', 'VITAMINAS E SUPLEMENTOS', 'OLHOS E ORELHAS', 'ACESSORIOS MEDICOS', 'SUPLEMENTOS E VITAMINAS', 'DEMAIS MEDICAMENTOS']\n",
            "Categories (8, object): ['PULGAS - CARRAPATOS - VERMES', 'PELE E PELAGEM', 'DORES E INFECCOES',\n",
            "                         'VITAMINAS E SUPLEMENTOS', 'OLHOS E ORELHAS', 'ACESSORIOS MEDICOS',\n",
            "                         'SUPLEMENTOS E VITAMINAS', 'DEMAIS MEDICAMENTOS']\n"
          ],
          "name": "stdout"
        }
      ]
    },
    {
      "cell_type": "code",
      "metadata": {
        "colab": {
          "base_uri": "https://localhost:8080/"
        },
        "id": "xuXWfFj2YFPC",
        "outputId": "495864e2-cc7a-4c94-b8ed-fa03cd3da663"
      },
      "source": [
        "print(prod[prod[\"NIVEL 1\"].str.contains(\"PESSOAS\")][\"NIVEL 2\"].unique())\n",
        "prod[prod[\"NIVEL 1\"].str.contains(\"PESSOAS\")][\"NIVEL 3\"].unique()\n"
      ],
      "execution_count": null,
      "outputs": [
        {
          "output_type": "stream",
          "text": [
            "['ACESSORIOS', 'CASA', 'ALIMENTOS']\n",
            "Categories (3, object): ['ACESSORIOS', 'CASA', 'ALIMENTOS']\n"
          ],
          "name": "stdout"
        },
        {
          "output_type": "execute_result",
          "data": {
            "text/plain": [
              "['', 'JARDIM', 'DOCES', 'INSETICIDAS E REPELENTES', 'DECORACAO', 'SALGADOS', 'BEBIDAS']\n",
              "Categories (7, object): ['', 'JARDIM', 'DOCES', 'INSETICIDAS E REPELENTES', 'DECORACAO',\n",
              "                         'SALGADOS', 'BEBIDAS']"
            ]
          },
          "metadata": {
            "tags": []
          },
          "execution_count": 38
        }
      ]
    },
    {
      "cell_type": "code",
      "metadata": {
        "colab": {
          "base_uri": "https://localhost:8080/"
        },
        "id": "AjMSheD6NSGC",
        "outputId": "733287e3-f4c5-40a6-82a5-6296a90eb57a"
      },
      "source": [
        "# algumas entradas em branco\n",
        "# produtos com maior variedade são acessorios (caes principalmente)\n",
        "prod.groupby([\"NIVEL 1\", \"NIVEL 4\"], as_index = True)[\"UNIDADE\"].count().sort_values().tail(20)"
      ],
      "execution_count": null,
      "outputs": [
        {
          "output_type": "execute_result",
          "data": {
            "text/plain": [
              "NIVEL 1   NIVEL 4                      \n",
              "CAES      OSSINHOS E PALITOS                321\n",
              "          MODA INVERNO                      329\n",
              "GATOS     RACAO SECA                        363\n",
              "CAES      VITAMINAS E SUPLEMENTOS           381\n",
              "          BISCOITOS - BIFINHOS - SNACKS     387\n",
              "PESSOAS                                     410\n",
              "CAES      SHAMPOOS E COSMETICOS             506\n",
              "ROEDORES                                    574\n",
              "CAES      ACESSORIOS FASHION                723\n",
              "          COLEIRAS                          796\n",
              "          RACAO SECA                        900\n",
              "          PELUCIA - VINIL - LATEX           908\n",
              "          GUIAS                             958\n",
              "AVES                                       1152\n",
              "CAES      PARA MORDER E PUXAR              1210\n",
              "          COMEDOUROS E BEBEDOUROS          1211\n",
              "          PEITORAIS                        1349\n",
              "          CAMINHAS                         1370\n",
              "          MODA VERAO                       1573\n",
              "PEIXES                                     2032\n",
              "Name: UNIDADE, dtype: int64"
            ]
          },
          "metadata": {
            "tags": []
          },
          "execution_count": 39
        }
      ]
    },
    {
      "cell_type": "code",
      "metadata": {
        "id": "6lYAci1JvN3H",
        "colab": {
          "base_uri": "https://localhost:8080/"
        },
        "outputId": "74fd53be-de60-41f9-d7b5-f27804251d1b"
      },
      "source": [
        "!pip install -q plotly==4.5.2\n",
        "\n",
        "import plotly.express as px\n",
        "\n",
        "sun_df = prod.groupby([\"NIVEL 1\", \"NIVEL 2\"], as_index = False)[\"NIVEL 3\"].count()\n",
        "\n",
        "px.sunburst(sun_df, path = [\"NIVEL 1\", \"NIVEL 2\"] + [\"NIVEL 3\"],\n",
        "            title = \"Tipos diferentes de Produtos por area\",\n",
        "            hover_data = [\"NIVEL 1\", \"NIVEL 2\"]\n",
        "            )\n",
        "\n",
        "# mercado principal são os donos de cachorros,\n",
        "# gatos e peixes em segundo lugar\n",
        "# tem-se uma grande variedade de produtos na area de acessorios"
      ],
      "execution_count": null,
      "outputs": [
        {
          "output_type": "stream",
          "text": [
            "\u001b[K     |████████████████████████████████| 7.1 MB 4.2 MB/s \n",
            "\u001b[?25h"
          ],
          "name": "stdout"
        },
        {
          "output_type": "display_data",
          "data": {
            "text/html": [
              "<html>\n",
              "<head><meta charset=\"utf-8\" /></head>\n",
              "<body>\n",
              "    <div>\n",
              "            <script src=\"https://cdnjs.cloudflare.com/ajax/libs/mathjax/2.7.5/MathJax.js?config=TeX-AMS-MML_SVG\"></script><script type=\"text/javascript\">if (window.MathJax) {MathJax.Hub.Config({SVG: {font: \"STIX-Web\"}});}</script>\n",
              "                <script type=\"text/javascript\">window.PlotlyConfig = {MathJaxConfig: 'local'};</script>\n",
              "        <script src=\"https://cdn.plot.ly/plotly-latest.min.js\"></script>    \n",
              "            <div id=\"5784d0dc-3642-4344-82ac-eba66ab8c9e4\" class=\"plotly-graph-div\" style=\"height:525px; width:100%;\"></div>\n",
              "            <script type=\"text/javascript\">\n",
              "                \n",
              "                    window.PLOTLYENV=window.PLOTLYENV || {};\n",
              "                    \n",
              "                if (document.getElementById(\"5784d0dc-3642-4344-82ac-eba66ab8c9e4\")) {\n",
              "                    Plotly.newPlot(\n",
              "                        '5784d0dc-3642-4344-82ac-eba66ab8c9e4',\n",
              "                        [{\"branchvalues\": \"total\", \"customdata\": [[null, null], [null, null], [null, null], [null, null], [null, null], [null, null], [null, null], [null, null], [null, null], [null, null], [null, null], [null, null], [null, null], [null, null], [null, null], [null, null], [null, null], [null, null], [null, null], [null, null], [null, null], [null, null], [null, null], [null, null], [null, null], [null, null], [null, null], [null, null], [null, null], [null, null], [null, null], [null, null], [null, null], [null, null], [null, null], [\"ROEDORES\", \"FARMACIA\"], [null, null], [null, null], [null, null], [null, null], [null, null], [null, null], [null, null], [null, null], [null, null], [null, null], [null, null], [null, null], [null, null], [null, null], [null, null], [null, null], [null, null], [null, null], [null, null], [null, null], [null, null], [null, null], [null, null], [null, null], [null, null], [null, null], [null, null], [null, null], [null, null], [null, null], [null, null], [null, null], [null, null], [null, null], [null, null], [null, null], [null, null], [null, null], [null, null], [null, null], [null, null], [null, null], [\"AVES\", \"HIGIENE E BELEZA\"], [null, null], [null, null], [null, null], [null, null], [null, null], [null, null], [null, null], [null, null], [null, null], [null, null], [null, null], [null, null], [null, null], [null, null], [null, null], [null, null], [null, null], [\"AVES\", \"ANIMAL VIVO\"], [null, null], [null, null], [null, null], [null, null], [null, null], [null, null], [null, null], [null, null], [null, null], [null, null], [null, null], [null, null], [null, null], [null, null], [null, null], [null, null], [null, null], [null, null], [null, null], [null, null], [null, null], [null, null], [null, null], [null, null], [null, null], [null, null], [null, null], [null, null], [null, null], [null, null], [null, null], [null, null], [null, null], [null, null], [null, null], [null, null], [null, null], [null, null], [null, null], [null, null], [null, null], [null, null], [\"CAES\", \"ANIMAL VIVO\"], [null, null], [null, null], [null, null], [null, null], [null, null], [null, null], [null, null], [null, null], [null, null], [null, null], [null, null], [null, null], [null, null], [null, null], [null, null], [null, null], [null, null], [null, null], [null, null], [null, null], [null, null], [null, null], [null, null], [null, null], [null, null], [null, null], [null, null], [null, null], [null, null], [null, null], [null, null], [null, null], [null, null], [null, null], [null, null], [null, null], [null, null], [null, null], [null, null], [null, null], [null, null], [null, null], [null, null], [null, null], [null, null], [null, null], [null, null], [null, null], [null, null], [null, null], [null, null], [null, null], [null, null], [null, null], [null, null], [null, null], [null, null], [null, null], [null, null], [null, null], [null, null], [null, null], [null, null], [null, null], [null, null], [null, null], [null, null], [null, null], [null, null], [\"ROEDORES\", \"HIGIENE E BELEZA\"], [null, null], [null, null], [null, null], [null, null], [null, null], [null, null], [null, null], [null, null], [null, null], [null, null], [null, null], [null, null], [null, null], [null, null], [null, null], [null, null], [null, null], [null, null], [null, null], [null, null], [null, null], [null, null], [null, null], [null, null], [null, null], [null, null], [null, null], [null, null], [null, null], [null, null], [null, null], [null, null], [null, null], [\"PEIXES\", \"FARMACIA\"], [null, null], [null, null], [null, null], [null, null], [null, null], [null, null], [null, null], [null, null], [null, null], [null, null], [null, null], [null, null], [null, null], [null, null], [null, null], [null, null], [null, null], [null, null], [null, null], [null, null], [null, null], [null, null], [null, null], [null, null], [null, null], [\"ROEDORES\", \"ANIMAL VIVO\"], [null, null], [null, null], [null, null], [null, null], [null, null], [null, null], [null, null], [null, null], [null, null], [null, null], [null, null], [null, null], [null, null], [null, null], [null, null], [null, null], [null, null], [null, null], [null, null], [null, null], [null, null], [null, null], [null, null], [null, null], [null, null], [null, null], [null, null], [null, null], [null, null], [null, null], [null, null], [null, null], [null, null], [null, null], [null, null], [null, null], [null, null], [null, null], [null, null], [null, null], [null, null], [null, null], [null, null], [null, null], [null, null], [null, null], [null, null], [null, null], [null, null], [null, null], [null, null], [null, null], [null, null], [null, null], [\"AVES\", \"FARMACIA\"], [null, null], [null, null], [null, null], [null, null], [null, null], [null, null], [null, null], [null, null], [null, null], [null, null], [null, null], [null, null], [null, null], [null, null], [null, null], [\"PESSOAS\", \"ACESSORIOS\"], [null, null], [null, null], [null, null], [null, null], [null, null], [null, null], [null, null], [null, null], [null, null], [null, null], [null, null], [null, null], [null, null], [null, null], [null, null], [null, null], [null, null], [null, null], [null, null], [null, null], [null, null], [null, null], [null, null], [null, null], [null, null], [null, null], [null, null], [null, null], [null, null], [null, null], [null, null], [null, null], [null, null], [null, null], [null, null], [null, null], [null, null], [null, null], [null, null], [null, null], [null, null], [null, null], [null, null], [null, null], [null, null], [null, null], [null, null], [null, null], [\"ROEDORES\", \"ALIMENTOS\"], [null, null], [null, null], [null, null], [null, null], [null, null], [null, null], [null, null], [null, null], [null, null], [null, null], [null, null], [null, null], [null, null], [null, null], [null, null], [null, null], [null, null], [null, null], [null, null], [null, null], [null, null], [null, null], [null, null], [null, null], [null, null], [null, null], [null, null], [null, null], [null, null], [null, null], [null, null], [null, null], [null, null], [null, null], [null, null], [null, null], [null, null], [null, null], [null, null], [null, null], [\"PESSOAS\", \"ALIMENTOS\"], [null, null], [null, null], [null, null], [null, null], [null, null], [null, null], [null, null], [null, null], [null, null], [null, null], [null, null], [null, null], [null, null], [null, null], [null, null], [null, null], [null, null], [null, null], [null, null], [null, null], [null, null], [null, null], [null, null], [null, null], [null, null], [null, null], [null, null], [null, null], [null, null], [null, null], [null, null], [null, null], [null, null], [null, null], [null, null], [null, null], [null, null], [null, null], [null, null], [null, null], [null, null], [null, null], [null, null], [null, null], [null, null], [null, null], [null, null], [null, null], [null, null], [null, null], [null, null], [null, null], [null, null], [null, null], [null, null], [null, null], [null, null], [null, null], [null, null], [null, null], [null, null], [null, null], [null, null], [\"GATOS\", \"FARMACIA\"], [null, null], [null, null], [null, null], [null, null], [null, null], [null, null], [null, null], [null, null], [null, null], [null, null], [null, null], [null, null], [null, null], [null, null], [null, null], [null, null], [null, null], [null, null], [null, null], [null, null], [null, null], [null, null], [null, null], [null, null], [null, null], [null, null], [null, null], [null, null], [null, null], [null, null], [null, null], [null, null], [null, null], [null, null], [null, null], [null, null], [null, null], [\"PESSOAS\", \"CASA\"], [null, null], [null, null], [null, null], [null, null], [null, null], [null, null], [null, null], [null, null], [null, null], [null, null], [null, null], [null, null], [null, null], [null, null], [null, null], [null, null], [null, null], [null, null], [null, null], [null, null], [null, null], [null, null], [\"PEIXES\", \"ALIMENTOS\"], [null, null], [null, null], [null, null], [null, null], [null, null], [null, null], [null, null], [null, null], [null, null], [null, null], [null, null], [null, null], [null, null], [null, null], [null, null], [null, null], [null, null], [null, null], [null, null], [null, null], [null, null], [null, null], [null, null], [null, null], [null, null], [null, null], [null, null], [null, null], [null, null], [null, null], [null, null], [null, null], [null, null], [null, null], [null, null], [null, null], [null, null], [null, null], [\"AVES\", \"ALIMENTOS\"], [null, null], [null, null], [null, null], [null, null], [null, null], [null, null], [null, null], [null, null], [null, null], [null, null], [null, null], [null, null], [null, null], [null, null], [null, null], [null, null], [null, null], [null, null], [null, null], [null, null], [null, null], [null, null], [null, null], [null, null], [null, null], [null, null], [null, null], [null, null], [null, null], [null, null], [null, null], [null, null], [null, null], [null, null], [null, null], [null, null], [null, null], [null, null], [null, null], [null, null], [null, null], [null, null], [null, null], [null, null], [null, null], [null, null], [null, null], [null, null], [null, null], [null, null], [null, null], [null, null], [null, null], [null, null], [null, null], [null, null], [null, null], [null, null], [null, null], [null, null], [null, null], [null, null], [null, null], [null, null], [null, null], [null, null], [null, null], [null, null], [null, null], [null, null], [null, null], [null, null], [null, null], [\"GATOS\", \"HIGIENE E BELEZA\"], [null, null], [null, null], [null, null], [null, null], [null, null], [null, null], [null, null], [null, null], [\"ROEDORES\", \"ACESSORIOS\"], [null, null], [null, null], [null, null], [null, null], [null, null], [null, null], [null, null], [null, null], [null, null], [null, null], [null, null], [null, null], [null, null], [null, null], [null, null], [null, null], [null, null], [null, null], [null, null], [null, null], [null, null], [null, null], [null, null], [null, null], [null, null], [null, null], [null, null], [null, null], [null, null], [null, null], [null, null], [null, null], [null, null], [null, null], [null, null], [null, null], [null, null], [null, null], [null, null], [null, null], [null, null], [null, null], [null, null], [null, null], [null, null], [null, null], [null, null], [null, null], [null, null], [null, null], [null, null], [\"PEIXES\", \"ANIMAL VIVO\"], [null, null], [null, null], [null, null], [null, null], [null, null], [null, null], [null, null], [null, null], [null, null], [null, null], [null, null], [null, null], [null, null], [null, null], [null, null], [null, null], [null, null], [null, null], [null, null], [null, null], [null, null], [null, null], [null, null], [null, null], [null, null], [null, null], [null, null], [null, null], [null, null], [null, null], [null, null], [null, null], [null, null], [null, null], [\"GATOS\", \"ALIMENTOS\"], [null, null], [null, null], [null, null], [null, null], [null, null], [null, null], [null, null], [null, null], [null, null], [null, null], [null, null], [null, null], [null, null], [null, null], [null, null], [null, null], [null, null], [null, null], [null, null], [null, null], [null, null], [null, null], [null, null], [null, null], [null, null], [null, null], [null, null], [null, null], [null, null], [null, null], [null, null], [null, null], [null, null], [\"AVES\", \"ACESSORIOS\"], [null, null], [null, null], [null, null], [null, null], [null, null], [null, null], [null, null], [null, null], [null, null], [null, null], [null, null], [null, null], [null, null], [null, null], [null, null], [null, null], [null, null], [null, null], [null, null], [null, null], [null, null], [null, null], [null, null], [null, null], [null, null], [null, null], [null, null], [null, null], [null, null], [null, null], [null, null], [null, null], [null, null], [null, null], [null, null], [null, null], [null, null], [null, null], [null, null], [null, null], [null, null], [null, null], [null, null], [null, null], [null, null], [null, null], [null, null], [null, null], [null, null], [null, null], [null, null], [null, null], [null, null], [null, null], [null, null], [null, null], [null, null], [null, null], [null, null], [null, null], [null, null], [null, null], [\"PEIXES\", \"AQUARIOS E ACESSORIOS\"], [null, null], [null, null], [null, null], [null, null], [null, null], [null, null], [null, null], [null, null], [null, null], [null, null], [null, null], [null, null], [null, null], [null, null], [null, null], [null, null], [null, null], [null, null], [null, null], [null, null], [null, null], [null, null], [\"GATOS\", \"ACESSORIOS\"], [null, null], [null, null], [null, null], [null, null], [null, null], [null, null], [null, null], [null, null], [null, null], [null, null], [null, null], [null, null], [null, null], [null, null], [null, null], [null, null], [null, null], [null, null], [null, null], [null, null], [null, null], [null, null], [null, null], [null, null], [null, null], [null, null], [null, null], [null, null], [null, null], [null, null], [null, null], [null, null], [null, null], [null, null], [null, null], [null, null], [null, null], [null, null], [null, null], [null, null], [null, null], [null, null], [null, null], [null, null], [null, null], [null, null], [null, null], [null, null], [null, null], [null, null], [null, null], [null, null], [null, null], [null, null], [null, null], [null, null], [null, null], [null, null], [null, null], [null, null], [null, null], [null, null], [null, null], [null, null], [null, null], [null, null], [null, null], [null, null], [null, null], [null, null], [null, null], [null, null], [null, null], [null, null], [null, null], [null, null], [\"CAES\", \"HIGIENE E BELEZA\"], [null, null], [null, null], [null, null], [null, null], [null, null], [null, null], [null, null], [null, null], [null, null], [null, null], [null, null], [null, null], [null, null], [null, null], [null, null], [null, null], [null, null], [null, null], [null, null], [null, null], [null, null], [null, null], [null, null], [null, null], [null, null], [null, null], [null, null], [null, null], [null, null], [null, null], [null, null], [null, null], [null, null], [null, null], [null, null], [\"CAES\", \"FARMACIA\"], [null, null], [null, null], [null, null], [null, null], [null, null], [null, null], [null, null], [null, null], [null, null], [null, null], [null, null], [null, null], [null, null], [null, null], [null, null], [null, null], [null, null], [\"CAES\", \"ALIMENTOS\"], [null, null], [null, null], [null, null], [null, null], [null, null], [null, null], [null, null], [null, null], [null, null], [null, null], [null, null], [null, null], [null, null], [null, null], [null, null], [null, null], [null, null], [null, null], [null, null], [null, null], [null, null], [null, null], [null, null], [null, null], [null, null], [null, null], [null, null], [null, null], [null, null], [null, null], [null, null], [null, null], [null, null], [null, null], [null, null], [\"CAES\", \"ACESSORIOS\"], [null, null], [null, null], [null, null], [null, null], [null, null], [null, null], [null, null], [null, null], [null, null], [null, null], [null, null], [null, null], [null, null], [null, null], [null, null], [null, null], [null, null], [null, null], [null, null], [null, null], [null, null], [null, null], [null, null], [null, null], [null, null], [null, null], [null, null], [null, null], [null, null], [null, null], [null, null], [null, null], [null, null], [null, null], [null, null], [null, null], [null, null], [null, null], [null, null], [null, null], [\"AVES\", \"ACESSORIOS\"], [\"CAES\", \"ACESSORIOS\"], [\"GATOS\", \"ACESSORIOS\"], [\"PEIXES\", \"ACESSORIOS\"], [\"PESSOAS\", \"ACESSORIOS\"], [\"ROEDORES\", \"ACESSORIOS\"], [\"AVES\", \"ALIMENTOS\"], [\"CAES\", \"ALIMENTOS\"], [\"GATOS\", \"ALIMENTOS\"], [\"PEIXES\", \"ALIMENTOS\"], [\"PESSOAS\", \"ALIMENTOS\"], [\"ROEDORES\", \"ALIMENTOS\"], [\"AVES\", \"ANIMAL VIVO\"], [\"CAES\", \"ANIMAL VIVO\"], [\"GATOS\", \"ANIMAL VIVO\"], [\"PEIXES\", \"ANIMAL VIVO\"], [\"PESSOAS\", \"ANIMAL VIVO\"], [\"ROEDORES\", \"ANIMAL VIVO\"], [\"AVES\", \"AQUARIOS E ACESSORIOS\"], [\"CAES\", \"AQUARIOS E ACESSORIOS\"], [\"GATOS\", \"AQUARIOS E ACESSORIOS\"], [\"PEIXES\", \"AQUARIOS E ACESSORIOS\"], [\"PESSOAS\", \"AQUARIOS E ACESSORIOS\"], [\"ROEDORES\", \"AQUARIOS E ACESSORIOS\"], [\"AVES\", \"CASA\"], [\"CAES\", \"CASA\"], [\"GATOS\", \"CASA\"], [\"PEIXES\", \"CASA\"], [\"PESSOAS\", \"CASA\"], [\"ROEDORES\", \"CASA\"], [\"AVES\", \"FARMACIA\"], [\"CAES\", \"FARMACIA\"], [\"GATOS\", \"FARMACIA\"], [\"PEIXES\", \"FARMACIA\"], [\"PESSOAS\", \"FARMACIA\"], [\"ROEDORES\", \"FARMACIA\"], [\"AVES\", \"HIGIENE E BELEZA\"], [\"CAES\", \"HIGIENE E BELEZA\"], [\"GATOS\", \"HIGIENE E BELEZA\"], [\"PEIXES\", \"HIGIENE E BELEZA\"], [\"PESSOAS\", \"HIGIENE E BELEZA\"], [\"ROEDORES\", \"HIGIENE E BELEZA\"], [\"AVES\", \"(?)\"], [\"CAES\", \"(?)\"], [\"GATOS\", \"(?)\"], [\"PEIXES\", \"(?)\"], [\"PESSOAS\", \"(?)\"], [\"ROEDORES\", \"(?)\"]], \"domain\": {\"x\": [0.0, 1.0], \"y\": [0.0, 1.0]}, \"hoverlabel\": {\"namelength\": 0}, \"hovertemplate\": \"NIVEL 1=%{customdata[0]}<br>NIVEL 2=%{customdata[1]}<br>labels=%{label}<br>count=%{value}<br>parent=%{parent}<br>id=%{id}\", \"ids\": [\"AVES/ACESSORIOS/1.0\", \"CAES/ACESSORIOS/1.0\", \"GATOS/ACESSORIOS/1.0\", \"PEIXES/ACESSORIOS/1.0\", \"PESSOAS/ACESSORIOS/1.0\", \"ROEDORES/ACESSORIOS/1.0\", \"AVES/ALIMENTOS/1.0\", \"CAES/ALIMENTOS/1.0\", \"GATOS/ALIMENTOS/1.0\", \"PEIXES/ALIMENTOS/1.0\", \"PESSOAS/ALIMENTOS/1.0\", \"ROEDORES/ALIMENTOS/1.0\", \"AVES/ANIMAL VIVO/1.0\", \"CAES/ANIMAL VIVO/1.0\", \"GATOS/ANIMAL VIVO/1.0\", \"PEIXES/ANIMAL VIVO/1.0\", \"PESSOAS/ANIMAL VIVO/1.0\", \"ROEDORES/ANIMAL VIVO/1.0\", \"AVES/AQUARIOS E ACESSORIOS/1.0\", \"CAES/AQUARIOS E ACESSORIOS/1.0\", \"GATOS/AQUARIOS E ACESSORIOS/1.0\", \"PEIXES/AQUARIOS E ACESSORIOS/1.0\", \"PESSOAS/AQUARIOS E ACESSORIOS/1.0\", \"ROEDORES/AQUARIOS E ACESSORIOS/1.0\", \"AVES/CASA/1.0\", \"CAES/CASA/1.0\", \"GATOS/CASA/1.0\", \"PEIXES/CASA/1.0\", \"PESSOAS/CASA/1.0\", \"ROEDORES/CASA/1.0\", \"AVES/FARMACIA/1.0\", \"CAES/FARMACIA/1.0\", \"GATOS/FARMACIA/1.0\", \"PEIXES/FARMACIA/1.0\", \"PESSOAS/FARMACIA/1.0\", \"ROEDORES/FARMACIA/1.0\", \"AVES/HIGIENE E BELEZA/1.0\", \"CAES/HIGIENE E BELEZA/1.0\", \"GATOS/HIGIENE E BELEZA/1.0\", \"PEIXES/HIGIENE E BELEZA/1.0\", \"PESSOAS/HIGIENE E BELEZA/1.0\", \"ROEDORES/HIGIENE E BELEZA/1.0\", \"AVES/ACESSORIOS/4.0\", \"CAES/ACESSORIOS/4.0\", \"GATOS/ACESSORIOS/4.0\", \"PEIXES/ACESSORIOS/4.0\", \"PESSOAS/ACESSORIOS/4.0\", \"ROEDORES/ACESSORIOS/4.0\", \"AVES/ALIMENTOS/4.0\", \"CAES/ALIMENTOS/4.0\", \"GATOS/ALIMENTOS/4.0\", \"PEIXES/ALIMENTOS/4.0\", \"PESSOAS/ALIMENTOS/4.0\", \"ROEDORES/ALIMENTOS/4.0\", \"AVES/ANIMAL VIVO/4.0\", \"CAES/ANIMAL VIVO/4.0\", \"GATOS/ANIMAL VIVO/4.0\", \"PEIXES/ANIMAL VIVO/4.0\", \"PESSOAS/ANIMAL VIVO/4.0\", \"ROEDORES/ANIMAL VIVO/4.0\", \"AVES/AQUARIOS E ACESSORIOS/4.0\", \"CAES/AQUARIOS E ACESSORIOS/4.0\", \"GATOS/AQUARIOS E ACESSORIOS/4.0\", \"PEIXES/AQUARIOS E ACESSORIOS/4.0\", \"PESSOAS/AQUARIOS E ACESSORIOS/4.0\", \"ROEDORES/AQUARIOS E ACESSORIOS/4.0\", \"AVES/CASA/4.0\", \"CAES/CASA/4.0\", \"GATOS/CASA/4.0\", \"PEIXES/CASA/4.0\", \"PESSOAS/CASA/4.0\", \"ROEDORES/CASA/4.0\", \"AVES/FARMACIA/4.0\", \"CAES/FARMACIA/4.0\", \"GATOS/FARMACIA/4.0\", \"PEIXES/FARMACIA/4.0\", \"PESSOAS/FARMACIA/4.0\", \"ROEDORES/FARMACIA/4.0\", \"AVES/HIGIENE E BELEZA/4.0\", \"CAES/HIGIENE E BELEZA/4.0\", \"GATOS/HIGIENE E BELEZA/4.0\", \"PEIXES/HIGIENE E BELEZA/4.0\", \"PESSOAS/HIGIENE E BELEZA/4.0\", \"ROEDORES/HIGIENE E BELEZA/4.0\", \"AVES/ACESSORIOS/15.0\", \"CAES/ACESSORIOS/15.0\", \"GATOS/ACESSORIOS/15.0\", \"PEIXES/ACESSORIOS/15.0\", \"PESSOAS/ACESSORIOS/15.0\", \"ROEDORES/ACESSORIOS/15.0\", \"AVES/ALIMENTOS/15.0\", \"CAES/ALIMENTOS/15.0\", \"GATOS/ALIMENTOS/15.0\", \"PEIXES/ALIMENTOS/15.0\", \"PESSOAS/ALIMENTOS/15.0\", \"ROEDORES/ALIMENTOS/15.0\", \"AVES/ANIMAL VIVO/15.0\", \"CAES/ANIMAL VIVO/15.0\", \"GATOS/ANIMAL VIVO/15.0\", \"PEIXES/ANIMAL VIVO/15.0\", \"PESSOAS/ANIMAL VIVO/15.0\", \"ROEDORES/ANIMAL VIVO/15.0\", \"AVES/AQUARIOS E ACESSORIOS/15.0\", \"CAES/AQUARIOS E ACESSORIOS/15.0\", \"GATOS/AQUARIOS E ACESSORIOS/15.0\", \"PEIXES/AQUARIOS E ACESSORIOS/15.0\", \"PESSOAS/AQUARIOS E ACESSORIOS/15.0\", \"ROEDORES/AQUARIOS E ACESSORIOS/15.0\", \"AVES/CASA/15.0\", \"CAES/CASA/15.0\", \"GATOS/CASA/15.0\", \"PEIXES/CASA/15.0\", \"PESSOAS/CASA/15.0\", \"ROEDORES/CASA/15.0\", \"AVES/FARMACIA/15.0\", \"CAES/FARMACIA/15.0\", \"GATOS/FARMACIA/15.0\", \"PEIXES/FARMACIA/15.0\", \"PESSOAS/FARMACIA/15.0\", \"ROEDORES/FARMACIA/15.0\", \"AVES/HIGIENE E BELEZA/15.0\", \"CAES/HIGIENE E BELEZA/15.0\", \"GATOS/HIGIENE E BELEZA/15.0\", \"PEIXES/HIGIENE E BELEZA/15.0\", \"PESSOAS/HIGIENE E BELEZA/15.0\", \"ROEDORES/HIGIENE E BELEZA/15.0\", \"AVES/ACESSORIOS/18.0\", \"CAES/ACESSORIOS/18.0\", \"GATOS/ACESSORIOS/18.0\", \"PEIXES/ACESSORIOS/18.0\", \"PESSOAS/ACESSORIOS/18.0\", \"ROEDORES/ACESSORIOS/18.0\", \"AVES/ALIMENTOS/18.0\", \"CAES/ALIMENTOS/18.0\", \"GATOS/ALIMENTOS/18.0\", \"PEIXES/ALIMENTOS/18.0\", \"PESSOAS/ALIMENTOS/18.0\", \"ROEDORES/ALIMENTOS/18.0\", \"AVES/ANIMAL VIVO/18.0\", \"CAES/ANIMAL VIVO/18.0\", \"GATOS/ANIMAL VIVO/18.0\", \"PEIXES/ANIMAL VIVO/18.0\", \"PESSOAS/ANIMAL VIVO/18.0\", \"ROEDORES/ANIMAL VIVO/18.0\", \"AVES/AQUARIOS E ACESSORIOS/18.0\", \"CAES/AQUARIOS E ACESSORIOS/18.0\", \"GATOS/AQUARIOS E ACESSORIOS/18.0\", \"PEIXES/AQUARIOS E ACESSORIOS/18.0\", \"PESSOAS/AQUARIOS E ACESSORIOS/18.0\", \"ROEDORES/AQUARIOS E ACESSORIOS/18.0\", \"AVES/CASA/18.0\", \"CAES/CASA/18.0\", \"GATOS/CASA/18.0\", \"PEIXES/CASA/18.0\", \"PESSOAS/CASA/18.0\", \"ROEDORES/CASA/18.0\", \"AVES/FARMACIA/18.0\", \"CAES/FARMACIA/18.0\", \"GATOS/FARMACIA/18.0\", \"PEIXES/FARMACIA/18.0\", \"PESSOAS/FARMACIA/18.0\", \"ROEDORES/FARMACIA/18.0\", \"AVES/HIGIENE E BELEZA/18.0\", \"CAES/HIGIENE E BELEZA/18.0\", \"GATOS/HIGIENE E BELEZA/18.0\", \"PEIXES/HIGIENE E BELEZA/18.0\", \"PESSOAS/HIGIENE E BELEZA/18.0\", \"ROEDORES/HIGIENE E BELEZA/18.0\", \"AVES/ACESSORIOS/21.0\", \"CAES/ACESSORIOS/21.0\", \"GATOS/ACESSORIOS/21.0\", \"PEIXES/ACESSORIOS/21.0\", \"PESSOAS/ACESSORIOS/21.0\", \"ROEDORES/ACESSORIOS/21.0\", \"AVES/ALIMENTOS/21.0\", \"CAES/ALIMENTOS/21.0\", \"GATOS/ALIMENTOS/21.0\", \"PEIXES/ALIMENTOS/21.0\", \"PESSOAS/ALIMENTOS/21.0\", \"ROEDORES/ALIMENTOS/21.0\", \"AVES/ANIMAL VIVO/21.0\", \"CAES/ANIMAL VIVO/21.0\", \"GATOS/ANIMAL VIVO/21.0\", \"PEIXES/ANIMAL VIVO/21.0\", \"PESSOAS/ANIMAL VIVO/21.0\", \"ROEDORES/ANIMAL VIVO/21.0\", \"AVES/AQUARIOS E ACESSORIOS/21.0\", \"CAES/AQUARIOS E ACESSORIOS/21.0\", \"GATOS/AQUARIOS E ACESSORIOS/21.0\", \"PEIXES/AQUARIOS E ACESSORIOS/21.0\", \"PESSOAS/AQUARIOS E ACESSORIOS/21.0\", \"ROEDORES/AQUARIOS E ACESSORIOS/21.0\", \"AVES/CASA/21.0\", \"CAES/CASA/21.0\", \"GATOS/CASA/21.0\", \"PEIXES/CASA/21.0\", \"PESSOAS/CASA/21.0\", \"ROEDORES/CASA/21.0\", \"AVES/FARMACIA/21.0\", \"CAES/FARMACIA/21.0\", \"GATOS/FARMACIA/21.0\", \"PEIXES/FARMACIA/21.0\", \"PESSOAS/FARMACIA/21.0\", \"ROEDORES/FARMACIA/21.0\", \"AVES/HIGIENE E BELEZA/21.0\", \"CAES/HIGIENE E BELEZA/21.0\", \"GATOS/HIGIENE E BELEZA/21.0\", \"PEIXES/HIGIENE E BELEZA/21.0\", \"PESSOAS/HIGIENE E BELEZA/21.0\", \"ROEDORES/HIGIENE E BELEZA/21.0\", \"AVES/ACESSORIOS/25.0\", \"CAES/ACESSORIOS/25.0\", \"GATOS/ACESSORIOS/25.0\", \"PEIXES/ACESSORIOS/25.0\", \"PESSOAS/ACESSORIOS/25.0\", \"ROEDORES/ACESSORIOS/25.0\", \"AVES/ALIMENTOS/25.0\", \"CAES/ALIMENTOS/25.0\", \"GATOS/ALIMENTOS/25.0\", \"PEIXES/ALIMENTOS/25.0\", \"PESSOAS/ALIMENTOS/25.0\", \"ROEDORES/ALIMENTOS/25.0\", \"AVES/ANIMAL VIVO/25.0\", \"CAES/ANIMAL VIVO/25.0\", \"GATOS/ANIMAL VIVO/25.0\", \"PEIXES/ANIMAL VIVO/25.0\", \"PESSOAS/ANIMAL VIVO/25.0\", \"ROEDORES/ANIMAL VIVO/25.0\", \"AVES/AQUARIOS E ACESSORIOS/25.0\", \"CAES/AQUARIOS E ACESSORIOS/25.0\", \"GATOS/AQUARIOS E ACESSORIOS/25.0\", \"PEIXES/AQUARIOS E ACESSORIOS/25.0\", \"PESSOAS/AQUARIOS E ACESSORIOS/25.0\", \"ROEDORES/AQUARIOS E ACESSORIOS/25.0\", \"AVES/CASA/25.0\", \"CAES/CASA/25.0\", \"GATOS/CASA/25.0\", \"PEIXES/CASA/25.0\", \"PESSOAS/CASA/25.0\", \"ROEDORES/CASA/25.0\", \"AVES/FARMACIA/25.0\", \"CAES/FARMACIA/25.0\", \"GATOS/FARMACIA/25.0\", \"PEIXES/FARMACIA/25.0\", \"PESSOAS/FARMACIA/25.0\", \"ROEDORES/FARMACIA/25.0\", \"AVES/HIGIENE E BELEZA/25.0\", \"CAES/HIGIENE E BELEZA/25.0\", \"GATOS/HIGIENE E BELEZA/25.0\", \"PEIXES/HIGIENE E BELEZA/25.0\", \"PESSOAS/HIGIENE E BELEZA/25.0\", \"ROEDORES/HIGIENE E BELEZA/25.0\", \"AVES/ACESSORIOS/31.0\", \"CAES/ACESSORIOS/31.0\", \"GATOS/ACESSORIOS/31.0\", \"PEIXES/ACESSORIOS/31.0\", \"PESSOAS/ACESSORIOS/31.0\", \"ROEDORES/ACESSORIOS/31.0\", \"AVES/ALIMENTOS/31.0\", \"CAES/ALIMENTOS/31.0\", \"GATOS/ALIMENTOS/31.0\", \"PEIXES/ALIMENTOS/31.0\", \"PESSOAS/ALIMENTOS/31.0\", \"ROEDORES/ALIMENTOS/31.0\", \"AVES/ANIMAL VIVO/31.0\", \"CAES/ANIMAL VIVO/31.0\", \"GATOS/ANIMAL VIVO/31.0\", \"PEIXES/ANIMAL VIVO/31.0\", \"PESSOAS/ANIMAL VIVO/31.0\", \"ROEDORES/ANIMAL VIVO/31.0\", \"AVES/AQUARIOS E ACESSORIOS/31.0\", \"CAES/AQUARIOS E ACESSORIOS/31.0\", \"GATOS/AQUARIOS E ACESSORIOS/31.0\", \"PEIXES/AQUARIOS E ACESSORIOS/31.0\", \"PESSOAS/AQUARIOS E ACESSORIOS/31.0\", \"ROEDORES/AQUARIOS E ACESSORIOS/31.0\", \"AVES/CASA/31.0\", \"CAES/CASA/31.0\", \"GATOS/CASA/31.0\", \"PEIXES/CASA/31.0\", \"PESSOAS/CASA/31.0\", \"ROEDORES/CASA/31.0\", \"AVES/FARMACIA/31.0\", \"CAES/FARMACIA/31.0\", \"GATOS/FARMACIA/31.0\", \"PEIXES/FARMACIA/31.0\", \"PESSOAS/FARMACIA/31.0\", \"ROEDORES/FARMACIA/31.0\", \"AVES/HIGIENE E BELEZA/31.0\", \"CAES/HIGIENE E BELEZA/31.0\", \"GATOS/HIGIENE E BELEZA/31.0\", \"PEIXES/HIGIENE E BELEZA/31.0\", \"PESSOAS/HIGIENE E BELEZA/31.0\", \"ROEDORES/HIGIENE E BELEZA/31.0\", \"AVES/ACESSORIOS/45.0\", \"CAES/ACESSORIOS/45.0\", \"GATOS/ACESSORIOS/45.0\", \"PEIXES/ACESSORIOS/45.0\", \"PESSOAS/ACESSORIOS/45.0\", \"ROEDORES/ACESSORIOS/45.0\", \"AVES/ALIMENTOS/45.0\", \"CAES/ALIMENTOS/45.0\", \"GATOS/ALIMENTOS/45.0\", \"PEIXES/ALIMENTOS/45.0\", \"PESSOAS/ALIMENTOS/45.0\", \"ROEDORES/ALIMENTOS/45.0\", \"AVES/ANIMAL VIVO/45.0\", \"CAES/ANIMAL VIVO/45.0\", \"GATOS/ANIMAL VIVO/45.0\", \"PEIXES/ANIMAL VIVO/45.0\", \"PESSOAS/ANIMAL VIVO/45.0\", \"ROEDORES/ANIMAL VIVO/45.0\", \"AVES/AQUARIOS E ACESSORIOS/45.0\", \"CAES/AQUARIOS E ACESSORIOS/45.0\", \"GATOS/AQUARIOS E ACESSORIOS/45.0\", \"PEIXES/AQUARIOS E ACESSORIOS/45.0\", \"PESSOAS/AQUARIOS E ACESSORIOS/45.0\", \"ROEDORES/AQUARIOS E ACESSORIOS/45.0\", \"AVES/CASA/45.0\", \"CAES/CASA/45.0\", \"GATOS/CASA/45.0\", \"PEIXES/CASA/45.0\", \"PESSOAS/CASA/45.0\", \"ROEDORES/CASA/45.0\", \"AVES/FARMACIA/45.0\", \"CAES/FARMACIA/45.0\", \"GATOS/FARMACIA/45.0\", \"PEIXES/FARMACIA/45.0\", \"PESSOAS/FARMACIA/45.0\", \"ROEDORES/FARMACIA/45.0\", \"AVES/HIGIENE E BELEZA/45.0\", \"CAES/HIGIENE E BELEZA/45.0\", \"GATOS/HIGIENE E BELEZA/45.0\", \"PEIXES/HIGIENE E BELEZA/45.0\", \"PESSOAS/HIGIENE E BELEZA/45.0\", \"ROEDORES/HIGIENE E BELEZA/45.0\", \"AVES/ACESSORIOS/90.0\", \"CAES/ACESSORIOS/90.0\", \"GATOS/ACESSORIOS/90.0\", \"PEIXES/ACESSORIOS/90.0\", \"PESSOAS/ACESSORIOS/90.0\", \"ROEDORES/ACESSORIOS/90.0\", \"AVES/ALIMENTOS/90.0\", \"CAES/ALIMENTOS/90.0\", \"GATOS/ALIMENTOS/90.0\", \"PEIXES/ALIMENTOS/90.0\", \"PESSOAS/ALIMENTOS/90.0\", \"ROEDORES/ALIMENTOS/90.0\", \"AVES/ANIMAL VIVO/90.0\", \"CAES/ANIMAL VIVO/90.0\", \"GATOS/ANIMAL VIVO/90.0\", \"PEIXES/ANIMAL VIVO/90.0\", \"PESSOAS/ANIMAL VIVO/90.0\", \"ROEDORES/ANIMAL VIVO/90.0\", \"AVES/AQUARIOS E ACESSORIOS/90.0\", \"CAES/AQUARIOS E ACESSORIOS/90.0\", \"GATOS/AQUARIOS E ACESSORIOS/90.0\", \"PEIXES/AQUARIOS E ACESSORIOS/90.0\", \"PESSOAS/AQUARIOS E ACESSORIOS/90.0\", \"ROEDORES/AQUARIOS E ACESSORIOS/90.0\", \"AVES/CASA/90.0\", \"CAES/CASA/90.0\", \"GATOS/CASA/90.0\", \"PEIXES/CASA/90.0\", \"PESSOAS/CASA/90.0\", \"ROEDORES/CASA/90.0\", \"AVES/FARMACIA/90.0\", \"CAES/FARMACIA/90.0\", \"GATOS/FARMACIA/90.0\", \"PEIXES/FARMACIA/90.0\", \"PESSOAS/FARMACIA/90.0\", \"ROEDORES/FARMACIA/90.0\", \"AVES/HIGIENE E BELEZA/90.0\", \"CAES/HIGIENE E BELEZA/90.0\", \"GATOS/HIGIENE E BELEZA/90.0\", \"PEIXES/HIGIENE E BELEZA/90.0\", \"PESSOAS/HIGIENE E BELEZA/90.0\", \"ROEDORES/HIGIENE E BELEZA/90.0\", \"AVES/ACESSORIOS/94.0\", \"CAES/ACESSORIOS/94.0\", \"GATOS/ACESSORIOS/94.0\", \"PEIXES/ACESSORIOS/94.0\", \"PESSOAS/ACESSORIOS/94.0\", \"ROEDORES/ACESSORIOS/94.0\", \"AVES/ALIMENTOS/94.0\", \"CAES/ALIMENTOS/94.0\", \"GATOS/ALIMENTOS/94.0\", \"PEIXES/ALIMENTOS/94.0\", \"PESSOAS/ALIMENTOS/94.0\", \"ROEDORES/ALIMENTOS/94.0\", \"AVES/ANIMAL VIVO/94.0\", \"CAES/ANIMAL VIVO/94.0\", \"GATOS/ANIMAL VIVO/94.0\", \"PEIXES/ANIMAL VIVO/94.0\", \"PESSOAS/ANIMAL VIVO/94.0\", \"ROEDORES/ANIMAL VIVO/94.0\", \"AVES/AQUARIOS E ACESSORIOS/94.0\", \"CAES/AQUARIOS E ACESSORIOS/94.0\", \"GATOS/AQUARIOS E ACESSORIOS/94.0\", \"PEIXES/AQUARIOS E ACESSORIOS/94.0\", \"PESSOAS/AQUARIOS E ACESSORIOS/94.0\", \"ROEDORES/AQUARIOS E ACESSORIOS/94.0\", \"AVES/CASA/94.0\", \"CAES/CASA/94.0\", \"GATOS/CASA/94.0\", \"PEIXES/CASA/94.0\", \"PESSOAS/CASA/94.0\", \"ROEDORES/CASA/94.0\", \"AVES/FARMACIA/94.0\", \"CAES/FARMACIA/94.0\", \"GATOS/FARMACIA/94.0\", \"PEIXES/FARMACIA/94.0\", \"PESSOAS/FARMACIA/94.0\", \"ROEDORES/FARMACIA/94.0\", \"AVES/HIGIENE E BELEZA/94.0\", \"CAES/HIGIENE E BELEZA/94.0\", \"GATOS/HIGIENE E BELEZA/94.0\", \"PEIXES/HIGIENE E BELEZA/94.0\", \"PESSOAS/HIGIENE E BELEZA/94.0\", \"ROEDORES/HIGIENE E BELEZA/94.0\", \"AVES/ACESSORIOS/97.0\", \"CAES/ACESSORIOS/97.0\", \"GATOS/ACESSORIOS/97.0\", \"PEIXES/ACESSORIOS/97.0\", \"PESSOAS/ACESSORIOS/97.0\", \"ROEDORES/ACESSORIOS/97.0\", \"AVES/ALIMENTOS/97.0\", \"CAES/ALIMENTOS/97.0\", \"GATOS/ALIMENTOS/97.0\", \"PEIXES/ALIMENTOS/97.0\", \"PESSOAS/ALIMENTOS/97.0\", \"ROEDORES/ALIMENTOS/97.0\", \"AVES/ANIMAL VIVO/97.0\", \"CAES/ANIMAL VIVO/97.0\", \"GATOS/ANIMAL VIVO/97.0\", \"PEIXES/ANIMAL VIVO/97.0\", \"PESSOAS/ANIMAL VIVO/97.0\", \"ROEDORES/ANIMAL VIVO/97.0\", \"AVES/AQUARIOS E ACESSORIOS/97.0\", \"CAES/AQUARIOS E ACESSORIOS/97.0\", \"GATOS/AQUARIOS E ACESSORIOS/97.0\", \"PEIXES/AQUARIOS E ACESSORIOS/97.0\", \"PESSOAS/AQUARIOS E ACESSORIOS/97.0\", \"ROEDORES/AQUARIOS E ACESSORIOS/97.0\", \"AVES/CASA/97.0\", \"CAES/CASA/97.0\", \"GATOS/CASA/97.0\", \"PEIXES/CASA/97.0\", \"PESSOAS/CASA/97.0\", \"ROEDORES/CASA/97.0\", \"AVES/FARMACIA/97.0\", \"CAES/FARMACIA/97.0\", \"GATOS/FARMACIA/97.0\", \"PEIXES/FARMACIA/97.0\", \"PESSOAS/FARMACIA/97.0\", \"ROEDORES/FARMACIA/97.0\", \"AVES/HIGIENE E BELEZA/97.0\", \"CAES/HIGIENE E BELEZA/97.0\", \"GATOS/HIGIENE E BELEZA/97.0\", \"PEIXES/HIGIENE E BELEZA/97.0\", \"PESSOAS/HIGIENE E BELEZA/97.0\", \"ROEDORES/HIGIENE E BELEZA/97.0\", \"AVES/ACESSORIOS/113.0\", \"CAES/ACESSORIOS/113.0\", \"GATOS/ACESSORIOS/113.0\", \"PEIXES/ACESSORIOS/113.0\", \"PESSOAS/ACESSORIOS/113.0\", \"ROEDORES/ACESSORIOS/113.0\", \"AVES/ALIMENTOS/113.0\", \"CAES/ALIMENTOS/113.0\", \"GATOS/ALIMENTOS/113.0\", \"PEIXES/ALIMENTOS/113.0\", \"PESSOAS/ALIMENTOS/113.0\", \"ROEDORES/ALIMENTOS/113.0\", \"AVES/ANIMAL VIVO/113.0\", \"CAES/ANIMAL VIVO/113.0\", \"GATOS/ANIMAL VIVO/113.0\", \"PEIXES/ANIMAL VIVO/113.0\", \"PESSOAS/ANIMAL VIVO/113.0\", \"ROEDORES/ANIMAL VIVO/113.0\", \"AVES/AQUARIOS E ACESSORIOS/113.0\", \"CAES/AQUARIOS E ACESSORIOS/113.0\", \"GATOS/AQUARIOS E ACESSORIOS/113.0\", \"PEIXES/AQUARIOS E ACESSORIOS/113.0\", \"PESSOAS/AQUARIOS E ACESSORIOS/113.0\", \"ROEDORES/AQUARIOS E ACESSORIOS/113.0\", \"AVES/CASA/113.0\", \"CAES/CASA/113.0\", \"GATOS/CASA/113.0\", \"PEIXES/CASA/113.0\", \"PESSOAS/CASA/113.0\", \"ROEDORES/CASA/113.0\", \"AVES/FARMACIA/113.0\", \"CAES/FARMACIA/113.0\", \"GATOS/FARMACIA/113.0\", \"PEIXES/FARMACIA/113.0\", \"PESSOAS/FARMACIA/113.0\", \"ROEDORES/FARMACIA/113.0\", \"AVES/HIGIENE E BELEZA/113.0\", \"CAES/HIGIENE E BELEZA/113.0\", \"GATOS/HIGIENE E BELEZA/113.0\", \"PEIXES/HIGIENE E BELEZA/113.0\", \"PESSOAS/HIGIENE E BELEZA/113.0\", \"ROEDORES/HIGIENE E BELEZA/113.0\", \"AVES/ACESSORIOS/223.0\", \"CAES/ACESSORIOS/223.0\", \"GATOS/ACESSORIOS/223.0\", \"PEIXES/ACESSORIOS/223.0\", \"PESSOAS/ACESSORIOS/223.0\", \"ROEDORES/ACESSORIOS/223.0\", \"AVES/ALIMENTOS/223.0\", \"CAES/ALIMENTOS/223.0\", \"GATOS/ALIMENTOS/223.0\", \"PEIXES/ALIMENTOS/223.0\", \"PESSOAS/ALIMENTOS/223.0\", \"ROEDORES/ALIMENTOS/223.0\", \"AVES/ANIMAL VIVO/223.0\", \"CAES/ANIMAL VIVO/223.0\", \"GATOS/ANIMAL VIVO/223.0\", \"PEIXES/ANIMAL VIVO/223.0\", \"PESSOAS/ANIMAL VIVO/223.0\", \"ROEDORES/ANIMAL VIVO/223.0\", \"AVES/AQUARIOS E ACESSORIOS/223.0\", \"CAES/AQUARIOS E ACESSORIOS/223.0\", \"GATOS/AQUARIOS E ACESSORIOS/223.0\", \"PEIXES/AQUARIOS E ACESSORIOS/223.0\", \"PESSOAS/AQUARIOS E ACESSORIOS/223.0\", \"ROEDORES/AQUARIOS E ACESSORIOS/223.0\", \"AVES/CASA/223.0\", \"CAES/CASA/223.0\", \"GATOS/CASA/223.0\", \"PEIXES/CASA/223.0\", \"PESSOAS/CASA/223.0\", \"ROEDORES/CASA/223.0\", \"AVES/FARMACIA/223.0\", \"CAES/FARMACIA/223.0\", \"GATOS/FARMACIA/223.0\", \"PEIXES/FARMACIA/223.0\", \"PESSOAS/FARMACIA/223.0\", \"ROEDORES/FARMACIA/223.0\", \"AVES/HIGIENE E BELEZA/223.0\", \"CAES/HIGIENE E BELEZA/223.0\", \"GATOS/HIGIENE E BELEZA/223.0\", \"PEIXES/HIGIENE E BELEZA/223.0\", \"PESSOAS/HIGIENE E BELEZA/223.0\", \"ROEDORES/HIGIENE E BELEZA/223.0\", \"AVES/ACESSORIOS/318.0\", \"CAES/ACESSORIOS/318.0\", \"GATOS/ACESSORIOS/318.0\", \"PEIXES/ACESSORIOS/318.0\", \"PESSOAS/ACESSORIOS/318.0\", \"ROEDORES/ACESSORIOS/318.0\", \"AVES/ALIMENTOS/318.0\", \"CAES/ALIMENTOS/318.0\", \"GATOS/ALIMENTOS/318.0\", \"PEIXES/ALIMENTOS/318.0\", \"PESSOAS/ALIMENTOS/318.0\", \"ROEDORES/ALIMENTOS/318.0\", \"AVES/ANIMAL VIVO/318.0\", \"CAES/ANIMAL VIVO/318.0\", \"GATOS/ANIMAL VIVO/318.0\", \"PEIXES/ANIMAL VIVO/318.0\", \"PESSOAS/ANIMAL VIVO/318.0\", \"ROEDORES/ANIMAL VIVO/318.0\", \"AVES/AQUARIOS E ACESSORIOS/318.0\", \"CAES/AQUARIOS E ACESSORIOS/318.0\", \"GATOS/AQUARIOS E ACESSORIOS/318.0\", \"PEIXES/AQUARIOS E ACESSORIOS/318.0\", \"PESSOAS/AQUARIOS E ACESSORIOS/318.0\", \"ROEDORES/AQUARIOS E ACESSORIOS/318.0\", \"AVES/CASA/318.0\", \"CAES/CASA/318.0\", \"GATOS/CASA/318.0\", \"PEIXES/CASA/318.0\", \"PESSOAS/CASA/318.0\", \"ROEDORES/CASA/318.0\", \"AVES/FARMACIA/318.0\", \"CAES/FARMACIA/318.0\", \"GATOS/FARMACIA/318.0\", \"PEIXES/FARMACIA/318.0\", \"PESSOAS/FARMACIA/318.0\", \"ROEDORES/FARMACIA/318.0\", \"AVES/HIGIENE E BELEZA/318.0\", \"CAES/HIGIENE E BELEZA/318.0\", \"GATOS/HIGIENE E BELEZA/318.0\", \"PEIXES/HIGIENE E BELEZA/318.0\", \"PESSOAS/HIGIENE E BELEZA/318.0\", \"ROEDORES/HIGIENE E BELEZA/318.0\", \"AVES/ACESSORIOS/328.0\", \"CAES/ACESSORIOS/328.0\", \"GATOS/ACESSORIOS/328.0\", \"PEIXES/ACESSORIOS/328.0\", \"PESSOAS/ACESSORIOS/328.0\", \"ROEDORES/ACESSORIOS/328.0\", \"AVES/ALIMENTOS/328.0\", \"CAES/ALIMENTOS/328.0\", \"GATOS/ALIMENTOS/328.0\", \"PEIXES/ALIMENTOS/328.0\", \"PESSOAS/ALIMENTOS/328.0\", \"ROEDORES/ALIMENTOS/328.0\", \"AVES/ANIMAL VIVO/328.0\", \"CAES/ANIMAL VIVO/328.0\", \"GATOS/ANIMAL VIVO/328.0\", \"PEIXES/ANIMAL VIVO/328.0\", \"PESSOAS/ANIMAL VIVO/328.0\", \"ROEDORES/ANIMAL VIVO/328.0\", \"AVES/AQUARIOS E ACESSORIOS/328.0\", \"CAES/AQUARIOS E ACESSORIOS/328.0\", \"GATOS/AQUARIOS E ACESSORIOS/328.0\", \"PEIXES/AQUARIOS E ACESSORIOS/328.0\", \"PESSOAS/AQUARIOS E ACESSORIOS/328.0\", \"ROEDORES/AQUARIOS E ACESSORIOS/328.0\", \"AVES/CASA/328.0\", \"CAES/CASA/328.0\", \"GATOS/CASA/328.0\", \"PEIXES/CASA/328.0\", \"PESSOAS/CASA/328.0\", \"ROEDORES/CASA/328.0\", \"AVES/FARMACIA/328.0\", \"CAES/FARMACIA/328.0\", \"GATOS/FARMACIA/328.0\", \"PEIXES/FARMACIA/328.0\", \"PESSOAS/FARMACIA/328.0\", \"ROEDORES/FARMACIA/328.0\", \"AVES/HIGIENE E BELEZA/328.0\", \"CAES/HIGIENE E BELEZA/328.0\", \"GATOS/HIGIENE E BELEZA/328.0\", \"PEIXES/HIGIENE E BELEZA/328.0\", \"PESSOAS/HIGIENE E BELEZA/328.0\", \"ROEDORES/HIGIENE E BELEZA/328.0\", \"AVES/ACESSORIOS/352.0\", \"CAES/ACESSORIOS/352.0\", \"GATOS/ACESSORIOS/352.0\", \"PEIXES/ACESSORIOS/352.0\", \"PESSOAS/ACESSORIOS/352.0\", \"ROEDORES/ACESSORIOS/352.0\", \"AVES/ALIMENTOS/352.0\", \"CAES/ALIMENTOS/352.0\", \"GATOS/ALIMENTOS/352.0\", \"PEIXES/ALIMENTOS/352.0\", \"PESSOAS/ALIMENTOS/352.0\", \"ROEDORES/ALIMENTOS/352.0\", \"AVES/ANIMAL VIVO/352.0\", \"CAES/ANIMAL VIVO/352.0\", \"GATOS/ANIMAL VIVO/352.0\", \"PEIXES/ANIMAL VIVO/352.0\", \"PESSOAS/ANIMAL VIVO/352.0\", \"ROEDORES/ANIMAL VIVO/352.0\", \"AVES/AQUARIOS E ACESSORIOS/352.0\", \"CAES/AQUARIOS E ACESSORIOS/352.0\", \"GATOS/AQUARIOS E ACESSORIOS/352.0\", \"PEIXES/AQUARIOS E ACESSORIOS/352.0\", \"PESSOAS/AQUARIOS E ACESSORIOS/352.0\", \"ROEDORES/AQUARIOS E ACESSORIOS/352.0\", \"AVES/CASA/352.0\", \"CAES/CASA/352.0\", \"GATOS/CASA/352.0\", \"PEIXES/CASA/352.0\", \"PESSOAS/CASA/352.0\", \"ROEDORES/CASA/352.0\", \"AVES/FARMACIA/352.0\", \"CAES/FARMACIA/352.0\", \"GATOS/FARMACIA/352.0\", \"PEIXES/FARMACIA/352.0\", \"PESSOAS/FARMACIA/352.0\", \"ROEDORES/FARMACIA/352.0\", \"AVES/HIGIENE E BELEZA/352.0\", \"CAES/HIGIENE E BELEZA/352.0\", \"GATOS/HIGIENE E BELEZA/352.0\", \"PEIXES/HIGIENE E BELEZA/352.0\", \"PESSOAS/HIGIENE E BELEZA/352.0\", \"ROEDORES/HIGIENE E BELEZA/352.0\", \"AVES/ACESSORIOS/427.0\", \"CAES/ACESSORIOS/427.0\", \"GATOS/ACESSORIOS/427.0\", \"PEIXES/ACESSORIOS/427.0\", \"PESSOAS/ACESSORIOS/427.0\", \"ROEDORES/ACESSORIOS/427.0\", \"AVES/ALIMENTOS/427.0\", \"CAES/ALIMENTOS/427.0\", \"GATOS/ALIMENTOS/427.0\", \"PEIXES/ALIMENTOS/427.0\", \"PESSOAS/ALIMENTOS/427.0\", \"ROEDORES/ALIMENTOS/427.0\", \"AVES/ANIMAL VIVO/427.0\", \"CAES/ANIMAL VIVO/427.0\", \"GATOS/ANIMAL VIVO/427.0\", \"PEIXES/ANIMAL VIVO/427.0\", \"PESSOAS/ANIMAL VIVO/427.0\", \"ROEDORES/ANIMAL VIVO/427.0\", \"AVES/AQUARIOS E ACESSORIOS/427.0\", \"CAES/AQUARIOS E ACESSORIOS/427.0\", \"GATOS/AQUARIOS E ACESSORIOS/427.0\", \"PEIXES/AQUARIOS E ACESSORIOS/427.0\", \"PESSOAS/AQUARIOS E ACESSORIOS/427.0\", \"ROEDORES/AQUARIOS E ACESSORIOS/427.0\", \"AVES/CASA/427.0\", \"CAES/CASA/427.0\", \"GATOS/CASA/427.0\", \"PEIXES/CASA/427.0\", \"PESSOAS/CASA/427.0\", \"ROEDORES/CASA/427.0\", \"AVES/FARMACIA/427.0\", \"CAES/FARMACIA/427.0\", \"GATOS/FARMACIA/427.0\", \"PEIXES/FARMACIA/427.0\", \"PESSOAS/FARMACIA/427.0\", \"ROEDORES/FARMACIA/427.0\", \"AVES/HIGIENE E BELEZA/427.0\", \"CAES/HIGIENE E BELEZA/427.0\", \"GATOS/HIGIENE E BELEZA/427.0\", \"PEIXES/HIGIENE E BELEZA/427.0\", \"PESSOAS/HIGIENE E BELEZA/427.0\", \"ROEDORES/HIGIENE E BELEZA/427.0\", \"AVES/ACESSORIOS/471.0\", \"CAES/ACESSORIOS/471.0\", \"GATOS/ACESSORIOS/471.0\", \"PEIXES/ACESSORIOS/471.0\", \"PESSOAS/ACESSORIOS/471.0\", \"ROEDORES/ACESSORIOS/471.0\", \"AVES/ALIMENTOS/471.0\", \"CAES/ALIMENTOS/471.0\", \"GATOS/ALIMENTOS/471.0\", \"PEIXES/ALIMENTOS/471.0\", \"PESSOAS/ALIMENTOS/471.0\", \"ROEDORES/ALIMENTOS/471.0\", \"AVES/ANIMAL VIVO/471.0\", \"CAES/ANIMAL VIVO/471.0\", \"GATOS/ANIMAL VIVO/471.0\", \"PEIXES/ANIMAL VIVO/471.0\", \"PESSOAS/ANIMAL VIVO/471.0\", \"ROEDORES/ANIMAL VIVO/471.0\", \"AVES/AQUARIOS E ACESSORIOS/471.0\", \"CAES/AQUARIOS E ACESSORIOS/471.0\", \"GATOS/AQUARIOS E ACESSORIOS/471.0\", \"PEIXES/AQUARIOS E ACESSORIOS/471.0\", \"PESSOAS/AQUARIOS E ACESSORIOS/471.0\", \"ROEDORES/AQUARIOS E ACESSORIOS/471.0\", \"AVES/CASA/471.0\", \"CAES/CASA/471.0\", \"GATOS/CASA/471.0\", \"PEIXES/CASA/471.0\", \"PESSOAS/CASA/471.0\", \"ROEDORES/CASA/471.0\", \"AVES/FARMACIA/471.0\", \"CAES/FARMACIA/471.0\", \"GATOS/FARMACIA/471.0\", \"PEIXES/FARMACIA/471.0\", \"PESSOAS/FARMACIA/471.0\", \"ROEDORES/FARMACIA/471.0\", \"AVES/HIGIENE E BELEZA/471.0\", \"CAES/HIGIENE E BELEZA/471.0\", \"GATOS/HIGIENE E BELEZA/471.0\", \"PEIXES/HIGIENE E BELEZA/471.0\", \"PESSOAS/HIGIENE E BELEZA/471.0\", \"ROEDORES/HIGIENE E BELEZA/471.0\", \"AVES/ACESSORIOS/663.0\", \"CAES/ACESSORIOS/663.0\", \"GATOS/ACESSORIOS/663.0\", \"PEIXES/ACESSORIOS/663.0\", \"PESSOAS/ACESSORIOS/663.0\", \"ROEDORES/ACESSORIOS/663.0\", \"AVES/ALIMENTOS/663.0\", \"CAES/ALIMENTOS/663.0\", \"GATOS/ALIMENTOS/663.0\", \"PEIXES/ALIMENTOS/663.0\", \"PESSOAS/ALIMENTOS/663.0\", \"ROEDORES/ALIMENTOS/663.0\", \"AVES/ANIMAL VIVO/663.0\", \"CAES/ANIMAL VIVO/663.0\", \"GATOS/ANIMAL VIVO/663.0\", \"PEIXES/ANIMAL VIVO/663.0\", \"PESSOAS/ANIMAL VIVO/663.0\", \"ROEDORES/ANIMAL VIVO/663.0\", \"AVES/AQUARIOS E ACESSORIOS/663.0\", \"CAES/AQUARIOS E ACESSORIOS/663.0\", \"GATOS/AQUARIOS E ACESSORIOS/663.0\", \"PEIXES/AQUARIOS E ACESSORIOS/663.0\", \"PESSOAS/AQUARIOS E ACESSORIOS/663.0\", \"ROEDORES/AQUARIOS E ACESSORIOS/663.0\", \"AVES/CASA/663.0\", \"CAES/CASA/663.0\", \"GATOS/CASA/663.0\", \"PEIXES/CASA/663.0\", \"PESSOAS/CASA/663.0\", \"ROEDORES/CASA/663.0\", \"AVES/FARMACIA/663.0\", \"CAES/FARMACIA/663.0\", \"GATOS/FARMACIA/663.0\", \"PEIXES/FARMACIA/663.0\", \"PESSOAS/FARMACIA/663.0\", \"ROEDORES/FARMACIA/663.0\", \"AVES/HIGIENE E BELEZA/663.0\", \"CAES/HIGIENE E BELEZA/663.0\", \"GATOS/HIGIENE E BELEZA/663.0\", \"PEIXES/HIGIENE E BELEZA/663.0\", \"PESSOAS/HIGIENE E BELEZA/663.0\", \"ROEDORES/HIGIENE E BELEZA/663.0\", \"AVES/ACESSORIOS/760.0\", \"CAES/ACESSORIOS/760.0\", \"GATOS/ACESSORIOS/760.0\", \"PEIXES/ACESSORIOS/760.0\", \"PESSOAS/ACESSORIOS/760.0\", \"ROEDORES/ACESSORIOS/760.0\", \"AVES/ALIMENTOS/760.0\", \"CAES/ALIMENTOS/760.0\", \"GATOS/ALIMENTOS/760.0\", \"PEIXES/ALIMENTOS/760.0\", \"PESSOAS/ALIMENTOS/760.0\", \"ROEDORES/ALIMENTOS/760.0\", \"AVES/ANIMAL VIVO/760.0\", \"CAES/ANIMAL VIVO/760.0\", \"GATOS/ANIMAL VIVO/760.0\", \"PEIXES/ANIMAL VIVO/760.0\", \"PESSOAS/ANIMAL VIVO/760.0\", \"ROEDORES/ANIMAL VIVO/760.0\", \"AVES/AQUARIOS E ACESSORIOS/760.0\", \"CAES/AQUARIOS E ACESSORIOS/760.0\", \"GATOS/AQUARIOS E ACESSORIOS/760.0\", \"PEIXES/AQUARIOS E ACESSORIOS/760.0\", \"PESSOAS/AQUARIOS E ACESSORIOS/760.0\", \"ROEDORES/AQUARIOS E ACESSORIOS/760.0\", \"AVES/CASA/760.0\", \"CAES/CASA/760.0\", \"GATOS/CASA/760.0\", \"PEIXES/CASA/760.0\", \"PESSOAS/CASA/760.0\", \"ROEDORES/CASA/760.0\", \"AVES/FARMACIA/760.0\", \"CAES/FARMACIA/760.0\", \"GATOS/FARMACIA/760.0\", \"PEIXES/FARMACIA/760.0\", \"PESSOAS/FARMACIA/760.0\", \"ROEDORES/FARMACIA/760.0\", \"AVES/HIGIENE E BELEZA/760.0\", \"CAES/HIGIENE E BELEZA/760.0\", \"GATOS/HIGIENE E BELEZA/760.0\", \"PEIXES/HIGIENE E BELEZA/760.0\", \"PESSOAS/HIGIENE E BELEZA/760.0\", \"ROEDORES/HIGIENE E BELEZA/760.0\", \"AVES/ACESSORIOS/1218.0\", \"CAES/ACESSORIOS/1218.0\", \"GATOS/ACESSORIOS/1218.0\", \"PEIXES/ACESSORIOS/1218.0\", \"PESSOAS/ACESSORIOS/1218.0\", \"ROEDORES/ACESSORIOS/1218.0\", \"AVES/ALIMENTOS/1218.0\", \"CAES/ALIMENTOS/1218.0\", \"GATOS/ALIMENTOS/1218.0\", \"PEIXES/ALIMENTOS/1218.0\", \"PESSOAS/ALIMENTOS/1218.0\", \"ROEDORES/ALIMENTOS/1218.0\", \"AVES/ANIMAL VIVO/1218.0\", \"CAES/ANIMAL VIVO/1218.0\", \"GATOS/ANIMAL VIVO/1218.0\", \"PEIXES/ANIMAL VIVO/1218.0\", \"PESSOAS/ANIMAL VIVO/1218.0\", \"ROEDORES/ANIMAL VIVO/1218.0\", \"AVES/AQUARIOS E ACESSORIOS/1218.0\", \"CAES/AQUARIOS E ACESSORIOS/1218.0\", \"GATOS/AQUARIOS E ACESSORIOS/1218.0\", \"PEIXES/AQUARIOS E ACESSORIOS/1218.0\", \"PESSOAS/AQUARIOS E ACESSORIOS/1218.0\", \"ROEDORES/AQUARIOS E ACESSORIOS/1218.0\", \"AVES/CASA/1218.0\", \"CAES/CASA/1218.0\", \"GATOS/CASA/1218.0\", \"PEIXES/CASA/1218.0\", \"PESSOAS/CASA/1218.0\", \"ROEDORES/CASA/1218.0\", \"AVES/FARMACIA/1218.0\", \"CAES/FARMACIA/1218.0\", \"GATOS/FARMACIA/1218.0\", \"PEIXES/FARMACIA/1218.0\", \"PESSOAS/FARMACIA/1218.0\", \"ROEDORES/FARMACIA/1218.0\", \"AVES/HIGIENE E BELEZA/1218.0\", \"CAES/HIGIENE E BELEZA/1218.0\", \"GATOS/HIGIENE E BELEZA/1218.0\", \"PEIXES/HIGIENE E BELEZA/1218.0\", \"PESSOAS/HIGIENE E BELEZA/1218.0\", \"ROEDORES/HIGIENE E BELEZA/1218.0\", \"AVES/ACESSORIOS/1296.0\", \"CAES/ACESSORIOS/1296.0\", \"GATOS/ACESSORIOS/1296.0\", \"PEIXES/ACESSORIOS/1296.0\", \"PESSOAS/ACESSORIOS/1296.0\", \"ROEDORES/ACESSORIOS/1296.0\", \"AVES/ALIMENTOS/1296.0\", \"CAES/ALIMENTOS/1296.0\", \"GATOS/ALIMENTOS/1296.0\", \"PEIXES/ALIMENTOS/1296.0\", \"PESSOAS/ALIMENTOS/1296.0\", \"ROEDORES/ALIMENTOS/1296.0\", \"AVES/ANIMAL VIVO/1296.0\", \"CAES/ANIMAL VIVO/1296.0\", \"GATOS/ANIMAL VIVO/1296.0\", \"PEIXES/ANIMAL VIVO/1296.0\", \"PESSOAS/ANIMAL VIVO/1296.0\", \"ROEDORES/ANIMAL VIVO/1296.0\", \"AVES/AQUARIOS E ACESSORIOS/1296.0\", \"CAES/AQUARIOS E ACESSORIOS/1296.0\", \"GATOS/AQUARIOS E ACESSORIOS/1296.0\", \"PEIXES/AQUARIOS E ACESSORIOS/1296.0\", \"PESSOAS/AQUARIOS E ACESSORIOS/1296.0\", \"ROEDORES/AQUARIOS E ACESSORIOS/1296.0\", \"AVES/CASA/1296.0\", \"CAES/CASA/1296.0\", \"GATOS/CASA/1296.0\", \"PEIXES/CASA/1296.0\", \"PESSOAS/CASA/1296.0\", \"ROEDORES/CASA/1296.0\", \"AVES/FARMACIA/1296.0\", \"CAES/FARMACIA/1296.0\", \"GATOS/FARMACIA/1296.0\", \"PEIXES/FARMACIA/1296.0\", \"PESSOAS/FARMACIA/1296.0\", \"ROEDORES/FARMACIA/1296.0\", \"AVES/HIGIENE E BELEZA/1296.0\", \"CAES/HIGIENE E BELEZA/1296.0\", \"GATOS/HIGIENE E BELEZA/1296.0\", \"PEIXES/HIGIENE E BELEZA/1296.0\", \"PESSOAS/HIGIENE E BELEZA/1296.0\", \"ROEDORES/HIGIENE E BELEZA/1296.0\", \"AVES/ACESSORIOS/1379.0\", \"CAES/ACESSORIOS/1379.0\", \"GATOS/ACESSORIOS/1379.0\", \"PEIXES/ACESSORIOS/1379.0\", \"PESSOAS/ACESSORIOS/1379.0\", \"ROEDORES/ACESSORIOS/1379.0\", \"AVES/ALIMENTOS/1379.0\", \"CAES/ALIMENTOS/1379.0\", \"GATOS/ALIMENTOS/1379.0\", \"PEIXES/ALIMENTOS/1379.0\", \"PESSOAS/ALIMENTOS/1379.0\", \"ROEDORES/ALIMENTOS/1379.0\", \"AVES/ANIMAL VIVO/1379.0\", \"CAES/ANIMAL VIVO/1379.0\", \"GATOS/ANIMAL VIVO/1379.0\", \"PEIXES/ANIMAL VIVO/1379.0\", \"PESSOAS/ANIMAL VIVO/1379.0\", \"ROEDORES/ANIMAL VIVO/1379.0\", \"AVES/AQUARIOS E ACESSORIOS/1379.0\", \"CAES/AQUARIOS E ACESSORIOS/1379.0\", \"GATOS/AQUARIOS E ACESSORIOS/1379.0\", \"PEIXES/AQUARIOS E ACESSORIOS/1379.0\", \"PESSOAS/AQUARIOS E ACESSORIOS/1379.0\", \"ROEDORES/AQUARIOS E ACESSORIOS/1379.0\", \"AVES/CASA/1379.0\", \"CAES/CASA/1379.0\", \"GATOS/CASA/1379.0\", \"PEIXES/CASA/1379.0\", \"PESSOAS/CASA/1379.0\", \"ROEDORES/CASA/1379.0\", \"AVES/FARMACIA/1379.0\", \"CAES/FARMACIA/1379.0\", \"GATOS/FARMACIA/1379.0\", \"PEIXES/FARMACIA/1379.0\", \"PESSOAS/FARMACIA/1379.0\", \"ROEDORES/FARMACIA/1379.0\", \"AVES/HIGIENE E BELEZA/1379.0\", \"CAES/HIGIENE E BELEZA/1379.0\", \"GATOS/HIGIENE E BELEZA/1379.0\", \"PEIXES/HIGIENE E BELEZA/1379.0\", \"PESSOAS/HIGIENE E BELEZA/1379.0\", \"ROEDORES/HIGIENE E BELEZA/1379.0\", \"AVES/ACESSORIOS/1558.0\", \"CAES/ACESSORIOS/1558.0\", \"GATOS/ACESSORIOS/1558.0\", \"PEIXES/ACESSORIOS/1558.0\", \"PESSOAS/ACESSORIOS/1558.0\", \"ROEDORES/ACESSORIOS/1558.0\", \"AVES/ALIMENTOS/1558.0\", \"CAES/ALIMENTOS/1558.0\", \"GATOS/ALIMENTOS/1558.0\", \"PEIXES/ALIMENTOS/1558.0\", \"PESSOAS/ALIMENTOS/1558.0\", \"ROEDORES/ALIMENTOS/1558.0\", \"AVES/ANIMAL VIVO/1558.0\", \"CAES/ANIMAL VIVO/1558.0\", \"GATOS/ANIMAL VIVO/1558.0\", \"PEIXES/ANIMAL VIVO/1558.0\", \"PESSOAS/ANIMAL VIVO/1558.0\", \"ROEDORES/ANIMAL VIVO/1558.0\", \"AVES/AQUARIOS E ACESSORIOS/1558.0\", \"CAES/AQUARIOS E ACESSORIOS/1558.0\", \"GATOS/AQUARIOS E ACESSORIOS/1558.0\", \"PEIXES/AQUARIOS E ACESSORIOS/1558.0\", \"PESSOAS/AQUARIOS E ACESSORIOS/1558.0\", \"ROEDORES/AQUARIOS E ACESSORIOS/1558.0\", \"AVES/CASA/1558.0\", \"CAES/CASA/1558.0\", \"GATOS/CASA/1558.0\", \"PEIXES/CASA/1558.0\", \"PESSOAS/CASA/1558.0\", \"ROEDORES/CASA/1558.0\", \"AVES/FARMACIA/1558.0\", \"CAES/FARMACIA/1558.0\", \"GATOS/FARMACIA/1558.0\", \"PEIXES/FARMACIA/1558.0\", \"PESSOAS/FARMACIA/1558.0\", \"ROEDORES/FARMACIA/1558.0\", \"AVES/HIGIENE E BELEZA/1558.0\", \"CAES/HIGIENE E BELEZA/1558.0\", \"GATOS/HIGIENE E BELEZA/1558.0\", \"PEIXES/HIGIENE E BELEZA/1558.0\", \"PESSOAS/HIGIENE E BELEZA/1558.0\", \"ROEDORES/HIGIENE E BELEZA/1558.0\", \"AVES/ACESSORIOS/1963.0\", \"CAES/ACESSORIOS/1963.0\", \"GATOS/ACESSORIOS/1963.0\", \"PEIXES/ACESSORIOS/1963.0\", \"PESSOAS/ACESSORIOS/1963.0\", \"ROEDORES/ACESSORIOS/1963.0\", \"AVES/ALIMENTOS/1963.0\", \"CAES/ALIMENTOS/1963.0\", \"GATOS/ALIMENTOS/1963.0\", \"PEIXES/ALIMENTOS/1963.0\", \"PESSOAS/ALIMENTOS/1963.0\", \"ROEDORES/ALIMENTOS/1963.0\", \"AVES/ANIMAL VIVO/1963.0\", \"CAES/ANIMAL VIVO/1963.0\", \"GATOS/ANIMAL VIVO/1963.0\", \"PEIXES/ANIMAL VIVO/1963.0\", \"PESSOAS/ANIMAL VIVO/1963.0\", \"ROEDORES/ANIMAL VIVO/1963.0\", \"AVES/AQUARIOS E ACESSORIOS/1963.0\", \"CAES/AQUARIOS E ACESSORIOS/1963.0\", \"GATOS/AQUARIOS E ACESSORIOS/1963.0\", \"PEIXES/AQUARIOS E ACESSORIOS/1963.0\", \"PESSOAS/AQUARIOS E ACESSORIOS/1963.0\", \"ROEDORES/AQUARIOS E ACESSORIOS/1963.0\", \"AVES/CASA/1963.0\", \"CAES/CASA/1963.0\", \"GATOS/CASA/1963.0\", \"PEIXES/CASA/1963.0\", \"PESSOAS/CASA/1963.0\", \"ROEDORES/CASA/1963.0\", \"AVES/FARMACIA/1963.0\", \"CAES/FARMACIA/1963.0\", \"GATOS/FARMACIA/1963.0\", \"PEIXES/FARMACIA/1963.0\", \"PESSOAS/FARMACIA/1963.0\", \"ROEDORES/FARMACIA/1963.0\", \"AVES/HIGIENE E BELEZA/1963.0\", \"CAES/HIGIENE E BELEZA/1963.0\", \"GATOS/HIGIENE E BELEZA/1963.0\", \"PEIXES/HIGIENE E BELEZA/1963.0\", \"PESSOAS/HIGIENE E BELEZA/1963.0\", \"ROEDORES/HIGIENE E BELEZA/1963.0\", \"AVES/ACESSORIOS/12588.0\", \"CAES/ACESSORIOS/12588.0\", \"GATOS/ACESSORIOS/12588.0\", \"PEIXES/ACESSORIOS/12588.0\", \"PESSOAS/ACESSORIOS/12588.0\", \"ROEDORES/ACESSORIOS/12588.0\", \"AVES/ALIMENTOS/12588.0\", \"CAES/ALIMENTOS/12588.0\", \"GATOS/ALIMENTOS/12588.0\", \"PEIXES/ALIMENTOS/12588.0\", \"PESSOAS/ALIMENTOS/12588.0\", \"ROEDORES/ALIMENTOS/12588.0\", \"AVES/ANIMAL VIVO/12588.0\", \"CAES/ANIMAL VIVO/12588.0\", \"GATOS/ANIMAL VIVO/12588.0\", \"PEIXES/ANIMAL VIVO/12588.0\", \"PESSOAS/ANIMAL VIVO/12588.0\", \"ROEDORES/ANIMAL VIVO/12588.0\", \"AVES/AQUARIOS E ACESSORIOS/12588.0\", \"CAES/AQUARIOS E ACESSORIOS/12588.0\", \"GATOS/AQUARIOS E ACESSORIOS/12588.0\", \"PEIXES/AQUARIOS E ACESSORIOS/12588.0\", \"PESSOAS/AQUARIOS E ACESSORIOS/12588.0\", \"ROEDORES/AQUARIOS E ACESSORIOS/12588.0\", \"AVES/CASA/12588.0\", \"CAES/CASA/12588.0\", \"GATOS/CASA/12588.0\", \"PEIXES/CASA/12588.0\", \"PESSOAS/CASA/12588.0\", \"ROEDORES/CASA/12588.0\", \"AVES/FARMACIA/12588.0\", \"CAES/FARMACIA/12588.0\", \"GATOS/FARMACIA/12588.0\", \"PEIXES/FARMACIA/12588.0\", \"PESSOAS/FARMACIA/12588.0\", \"ROEDORES/FARMACIA/12588.0\", \"AVES/HIGIENE E BELEZA/12588.0\", \"CAES/HIGIENE E BELEZA/12588.0\", \"GATOS/HIGIENE E BELEZA/12588.0\", \"PEIXES/HIGIENE E BELEZA/12588.0\", \"PESSOAS/HIGIENE E BELEZA/12588.0\", \"ROEDORES/HIGIENE E BELEZA/12588.0\", \"AVES/ACESSORIOS\", \"CAES/ACESSORIOS\", \"GATOS/ACESSORIOS\", \"PEIXES/ACESSORIOS\", \"PESSOAS/ACESSORIOS\", \"ROEDORES/ACESSORIOS\", \"AVES/ALIMENTOS\", \"CAES/ALIMENTOS\", \"GATOS/ALIMENTOS\", \"PEIXES/ALIMENTOS\", \"PESSOAS/ALIMENTOS\", \"ROEDORES/ALIMENTOS\", \"AVES/ANIMAL VIVO\", \"CAES/ANIMAL VIVO\", \"GATOS/ANIMAL VIVO\", \"PEIXES/ANIMAL VIVO\", \"PESSOAS/ANIMAL VIVO\", \"ROEDORES/ANIMAL VIVO\", \"AVES/AQUARIOS E ACESSORIOS\", \"CAES/AQUARIOS E ACESSORIOS\", \"GATOS/AQUARIOS E ACESSORIOS\", \"PEIXES/AQUARIOS E ACESSORIOS\", \"PESSOAS/AQUARIOS E ACESSORIOS\", \"ROEDORES/AQUARIOS E ACESSORIOS\", \"AVES/CASA\", \"CAES/CASA\", \"GATOS/CASA\", \"PEIXES/CASA\", \"PESSOAS/CASA\", \"ROEDORES/CASA\", \"AVES/FARMACIA\", \"CAES/FARMACIA\", \"GATOS/FARMACIA\", \"PEIXES/FARMACIA\", \"PESSOAS/FARMACIA\", \"ROEDORES/FARMACIA\", \"AVES/HIGIENE E BELEZA\", \"CAES/HIGIENE E BELEZA\", \"GATOS/HIGIENE E BELEZA\", \"PEIXES/HIGIENE E BELEZA\", \"PESSOAS/HIGIENE E BELEZA\", \"ROEDORES/HIGIENE E BELEZA\", \"AVES\", \"CAES\", \"GATOS\", \"PEIXES\", \"PESSOAS\", \"ROEDORES\"], \"labels\": [\"1.0\", \"1.0\", \"1.0\", \"1.0\", \"1.0\", \"1.0\", \"1.0\", \"1.0\", \"1.0\", \"1.0\", \"1.0\", \"1.0\", \"1.0\", \"1.0\", \"1.0\", \"1.0\", \"1.0\", \"1.0\", \"1.0\", \"1.0\", \"1.0\", \"1.0\", \"1.0\", \"1.0\", \"1.0\", \"1.0\", \"1.0\", \"1.0\", \"1.0\", \"1.0\", \"1.0\", \"1.0\", \"1.0\", \"1.0\", \"1.0\", \"1.0\", \"1.0\", \"1.0\", \"1.0\", \"1.0\", \"1.0\", \"1.0\", \"4.0\", \"4.0\", \"4.0\", \"4.0\", \"4.0\", \"4.0\", \"4.0\", \"4.0\", \"4.0\", \"4.0\", \"4.0\", \"4.0\", \"4.0\", \"4.0\", \"4.0\", \"4.0\", \"4.0\", \"4.0\", \"4.0\", \"4.0\", \"4.0\", \"4.0\", \"4.0\", \"4.0\", \"4.0\", \"4.0\", \"4.0\", \"4.0\", \"4.0\", \"4.0\", \"4.0\", \"4.0\", \"4.0\", \"4.0\", \"4.0\", \"4.0\", \"4.0\", \"4.0\", \"4.0\", \"4.0\", \"4.0\", \"4.0\", \"15.0\", \"15.0\", \"15.0\", \"15.0\", \"15.0\", \"15.0\", \"15.0\", \"15.0\", \"15.0\", \"15.0\", \"15.0\", \"15.0\", \"15.0\", \"15.0\", \"15.0\", \"15.0\", \"15.0\", \"15.0\", \"15.0\", \"15.0\", \"15.0\", \"15.0\", \"15.0\", \"15.0\", \"15.0\", \"15.0\", \"15.0\", \"15.0\", \"15.0\", \"15.0\", \"15.0\", \"15.0\", \"15.0\", \"15.0\", \"15.0\", \"15.0\", \"15.0\", \"15.0\", \"15.0\", \"15.0\", \"15.0\", \"15.0\", \"18.0\", \"18.0\", \"18.0\", \"18.0\", \"18.0\", \"18.0\", \"18.0\", \"18.0\", \"18.0\", \"18.0\", \"18.0\", \"18.0\", \"18.0\", \"18.0\", \"18.0\", \"18.0\", \"18.0\", \"18.0\", \"18.0\", \"18.0\", \"18.0\", \"18.0\", \"18.0\", \"18.0\", \"18.0\", \"18.0\", \"18.0\", \"18.0\", \"18.0\", \"18.0\", \"18.0\", \"18.0\", \"18.0\", \"18.0\", \"18.0\", \"18.0\", \"18.0\", \"18.0\", \"18.0\", \"18.0\", \"18.0\", \"18.0\", \"21.0\", \"21.0\", \"21.0\", \"21.0\", \"21.0\", \"21.0\", \"21.0\", \"21.0\", \"21.0\", \"21.0\", \"21.0\", \"21.0\", \"21.0\", \"21.0\", \"21.0\", \"21.0\", \"21.0\", \"21.0\", \"21.0\", \"21.0\", \"21.0\", \"21.0\", \"21.0\", \"21.0\", \"21.0\", \"21.0\", \"21.0\", \"21.0\", \"21.0\", \"21.0\", \"21.0\", \"21.0\", \"21.0\", \"21.0\", \"21.0\", \"21.0\", \"21.0\", \"21.0\", \"21.0\", \"21.0\", \"21.0\", \"21.0\", \"25.0\", \"25.0\", \"25.0\", \"25.0\", \"25.0\", \"25.0\", \"25.0\", \"25.0\", \"25.0\", \"25.0\", \"25.0\", \"25.0\", \"25.0\", \"25.0\", \"25.0\", \"25.0\", \"25.0\", \"25.0\", \"25.0\", \"25.0\", \"25.0\", \"25.0\", \"25.0\", \"25.0\", \"25.0\", \"25.0\", \"25.0\", \"25.0\", \"25.0\", \"25.0\", \"25.0\", \"25.0\", \"25.0\", \"25.0\", \"25.0\", \"25.0\", \"25.0\", \"25.0\", \"25.0\", \"25.0\", \"25.0\", \"25.0\", \"31.0\", \"31.0\", \"31.0\", \"31.0\", \"31.0\", \"31.0\", \"31.0\", \"31.0\", \"31.0\", \"31.0\", \"31.0\", \"31.0\", \"31.0\", \"31.0\", \"31.0\", \"31.0\", \"31.0\", \"31.0\", \"31.0\", \"31.0\", \"31.0\", \"31.0\", \"31.0\", \"31.0\", \"31.0\", \"31.0\", \"31.0\", \"31.0\", \"31.0\", \"31.0\", \"31.0\", \"31.0\", \"31.0\", \"31.0\", \"31.0\", \"31.0\", \"31.0\", \"31.0\", \"31.0\", \"31.0\", \"31.0\", \"31.0\", \"45.0\", \"45.0\", \"45.0\", \"45.0\", \"45.0\", \"45.0\", \"45.0\", \"45.0\", \"45.0\", \"45.0\", \"45.0\", \"45.0\", \"45.0\", \"45.0\", \"45.0\", \"45.0\", \"45.0\", \"45.0\", \"45.0\", \"45.0\", \"45.0\", \"45.0\", \"45.0\", \"45.0\", \"45.0\", \"45.0\", \"45.0\", \"45.0\", \"45.0\", \"45.0\", \"45.0\", \"45.0\", \"45.0\", \"45.0\", \"45.0\", \"45.0\", \"45.0\", \"45.0\", \"45.0\", \"45.0\", \"45.0\", \"45.0\", \"90.0\", \"90.0\", \"90.0\", \"90.0\", \"90.0\", \"90.0\", \"90.0\", \"90.0\", \"90.0\", \"90.0\", \"90.0\", \"90.0\", \"90.0\", \"90.0\", \"90.0\", \"90.0\", \"90.0\", \"90.0\", \"90.0\", \"90.0\", \"90.0\", \"90.0\", \"90.0\", \"90.0\", \"90.0\", \"90.0\", \"90.0\", \"90.0\", \"90.0\", \"90.0\", \"90.0\", \"90.0\", \"90.0\", \"90.0\", \"90.0\", \"90.0\", \"90.0\", \"90.0\", \"90.0\", \"90.0\", \"90.0\", \"90.0\", \"94.0\", \"94.0\", \"94.0\", \"94.0\", \"94.0\", \"94.0\", \"94.0\", \"94.0\", \"94.0\", \"94.0\", \"94.0\", \"94.0\", \"94.0\", \"94.0\", \"94.0\", \"94.0\", \"94.0\", \"94.0\", \"94.0\", \"94.0\", \"94.0\", \"94.0\", \"94.0\", \"94.0\", \"94.0\", \"94.0\", \"94.0\", \"94.0\", \"94.0\", \"94.0\", \"94.0\", \"94.0\", \"94.0\", \"94.0\", \"94.0\", \"94.0\", \"94.0\", \"94.0\", \"94.0\", \"94.0\", \"94.0\", \"94.0\", \"97.0\", \"97.0\", \"97.0\", \"97.0\", \"97.0\", \"97.0\", \"97.0\", \"97.0\", \"97.0\", \"97.0\", \"97.0\", \"97.0\", \"97.0\", \"97.0\", \"97.0\", \"97.0\", \"97.0\", \"97.0\", \"97.0\", \"97.0\", \"97.0\", \"97.0\", \"97.0\", \"97.0\", \"97.0\", \"97.0\", \"97.0\", \"97.0\", \"97.0\", \"97.0\", \"97.0\", \"97.0\", \"97.0\", \"97.0\", \"97.0\", \"97.0\", \"97.0\", \"97.0\", \"97.0\", \"97.0\", \"97.0\", \"97.0\", \"113.0\", \"113.0\", \"113.0\", \"113.0\", \"113.0\", \"113.0\", \"113.0\", \"113.0\", \"113.0\", \"113.0\", \"113.0\", \"113.0\", \"113.0\", \"113.0\", \"113.0\", \"113.0\", \"113.0\", \"113.0\", \"113.0\", \"113.0\", \"113.0\", \"113.0\", \"113.0\", \"113.0\", \"113.0\", \"113.0\", \"113.0\", \"113.0\", \"113.0\", \"113.0\", \"113.0\", \"113.0\", \"113.0\", \"113.0\", \"113.0\", \"113.0\", \"113.0\", \"113.0\", \"113.0\", \"113.0\", \"113.0\", \"113.0\", \"223.0\", \"223.0\", \"223.0\", \"223.0\", \"223.0\", \"223.0\", \"223.0\", \"223.0\", \"223.0\", \"223.0\", \"223.0\", \"223.0\", \"223.0\", \"223.0\", \"223.0\", \"223.0\", \"223.0\", \"223.0\", \"223.0\", \"223.0\", \"223.0\", \"223.0\", \"223.0\", \"223.0\", \"223.0\", \"223.0\", \"223.0\", \"223.0\", \"223.0\", \"223.0\", \"223.0\", \"223.0\", \"223.0\", \"223.0\", \"223.0\", \"223.0\", \"223.0\", \"223.0\", \"223.0\", \"223.0\", \"223.0\", \"223.0\", \"318.0\", \"318.0\", \"318.0\", \"318.0\", \"318.0\", \"318.0\", \"318.0\", \"318.0\", \"318.0\", \"318.0\", \"318.0\", \"318.0\", \"318.0\", \"318.0\", \"318.0\", \"318.0\", \"318.0\", \"318.0\", \"318.0\", \"318.0\", \"318.0\", \"318.0\", \"318.0\", \"318.0\", \"318.0\", \"318.0\", \"318.0\", \"318.0\", \"318.0\", \"318.0\", \"318.0\", \"318.0\", \"318.0\", \"318.0\", \"318.0\", \"318.0\", \"318.0\", \"318.0\", \"318.0\", \"318.0\", \"318.0\", \"318.0\", \"328.0\", \"328.0\", \"328.0\", \"328.0\", \"328.0\", \"328.0\", \"328.0\", \"328.0\", \"328.0\", \"328.0\", \"328.0\", \"328.0\", \"328.0\", \"328.0\", \"328.0\", \"328.0\", \"328.0\", \"328.0\", \"328.0\", \"328.0\", \"328.0\", \"328.0\", \"328.0\", \"328.0\", \"328.0\", \"328.0\", \"328.0\", \"328.0\", \"328.0\", \"328.0\", \"328.0\", \"328.0\", \"328.0\", \"328.0\", \"328.0\", \"328.0\", \"328.0\", \"328.0\", \"328.0\", \"328.0\", \"328.0\", \"328.0\", \"352.0\", \"352.0\", \"352.0\", \"352.0\", \"352.0\", \"352.0\", \"352.0\", \"352.0\", \"352.0\", \"352.0\", \"352.0\", \"352.0\", \"352.0\", \"352.0\", \"352.0\", \"352.0\", \"352.0\", \"352.0\", \"352.0\", \"352.0\", \"352.0\", \"352.0\", \"352.0\", \"352.0\", \"352.0\", \"352.0\", \"352.0\", \"352.0\", \"352.0\", \"352.0\", \"352.0\", \"352.0\", \"352.0\", \"352.0\", \"352.0\", \"352.0\", \"352.0\", \"352.0\", \"352.0\", \"352.0\", \"352.0\", \"352.0\", \"427.0\", \"427.0\", \"427.0\", \"427.0\", \"427.0\", \"427.0\", \"427.0\", \"427.0\", \"427.0\", \"427.0\", \"427.0\", \"427.0\", \"427.0\", \"427.0\", \"427.0\", \"427.0\", \"427.0\", \"427.0\", \"427.0\", \"427.0\", \"427.0\", \"427.0\", \"427.0\", \"427.0\", \"427.0\", \"427.0\", \"427.0\", \"427.0\", \"427.0\", \"427.0\", \"427.0\", \"427.0\", \"427.0\", \"427.0\", \"427.0\", \"427.0\", \"427.0\", \"427.0\", \"427.0\", \"427.0\", \"427.0\", \"427.0\", \"471.0\", \"471.0\", \"471.0\", \"471.0\", \"471.0\", \"471.0\", \"471.0\", \"471.0\", \"471.0\", \"471.0\", \"471.0\", \"471.0\", \"471.0\", \"471.0\", \"471.0\", \"471.0\", \"471.0\", \"471.0\", \"471.0\", \"471.0\", \"471.0\", \"471.0\", \"471.0\", \"471.0\", \"471.0\", \"471.0\", \"471.0\", \"471.0\", \"471.0\", \"471.0\", \"471.0\", \"471.0\", \"471.0\", \"471.0\", \"471.0\", \"471.0\", \"471.0\", \"471.0\", \"471.0\", \"471.0\", \"471.0\", \"471.0\", \"663.0\", \"663.0\", \"663.0\", \"663.0\", \"663.0\", \"663.0\", \"663.0\", \"663.0\", \"663.0\", \"663.0\", \"663.0\", \"663.0\", \"663.0\", \"663.0\", \"663.0\", \"663.0\", \"663.0\", \"663.0\", \"663.0\", \"663.0\", \"663.0\", \"663.0\", \"663.0\", \"663.0\", \"663.0\", \"663.0\", \"663.0\", \"663.0\", \"663.0\", \"663.0\", \"663.0\", \"663.0\", \"663.0\", \"663.0\", \"663.0\", \"663.0\", \"663.0\", \"663.0\", \"663.0\", \"663.0\", \"663.0\", \"663.0\", \"760.0\", \"760.0\", \"760.0\", \"760.0\", \"760.0\", \"760.0\", \"760.0\", \"760.0\", \"760.0\", \"760.0\", \"760.0\", \"760.0\", \"760.0\", \"760.0\", \"760.0\", \"760.0\", \"760.0\", \"760.0\", \"760.0\", \"760.0\", \"760.0\", \"760.0\", \"760.0\", \"760.0\", \"760.0\", \"760.0\", \"760.0\", \"760.0\", \"760.0\", \"760.0\", \"760.0\", \"760.0\", \"760.0\", \"760.0\", \"760.0\", \"760.0\", \"760.0\", \"760.0\", \"760.0\", \"760.0\", \"760.0\", \"760.0\", \"1218.0\", \"1218.0\", \"1218.0\", \"1218.0\", \"1218.0\", \"1218.0\", \"1218.0\", \"1218.0\", \"1218.0\", \"1218.0\", \"1218.0\", \"1218.0\", \"1218.0\", \"1218.0\", \"1218.0\", \"1218.0\", \"1218.0\", \"1218.0\", \"1218.0\", \"1218.0\", \"1218.0\", \"1218.0\", \"1218.0\", \"1218.0\", \"1218.0\", \"1218.0\", \"1218.0\", \"1218.0\", \"1218.0\", \"1218.0\", \"1218.0\", \"1218.0\", \"1218.0\", \"1218.0\", \"1218.0\", \"1218.0\", \"1218.0\", \"1218.0\", \"1218.0\", \"1218.0\", \"1218.0\", \"1218.0\", \"1296.0\", \"1296.0\", \"1296.0\", \"1296.0\", \"1296.0\", \"1296.0\", \"1296.0\", \"1296.0\", \"1296.0\", \"1296.0\", \"1296.0\", \"1296.0\", \"1296.0\", \"1296.0\", \"1296.0\", \"1296.0\", \"1296.0\", \"1296.0\", \"1296.0\", \"1296.0\", \"1296.0\", \"1296.0\", \"1296.0\", \"1296.0\", \"1296.0\", \"1296.0\", \"1296.0\", \"1296.0\", \"1296.0\", \"1296.0\", \"1296.0\", \"1296.0\", \"1296.0\", \"1296.0\", \"1296.0\", \"1296.0\", \"1296.0\", \"1296.0\", \"1296.0\", \"1296.0\", \"1296.0\", \"1296.0\", \"1379.0\", \"1379.0\", \"1379.0\", \"1379.0\", \"1379.0\", \"1379.0\", \"1379.0\", \"1379.0\", \"1379.0\", \"1379.0\", \"1379.0\", \"1379.0\", \"1379.0\", \"1379.0\", \"1379.0\", \"1379.0\", \"1379.0\", \"1379.0\", \"1379.0\", \"1379.0\", \"1379.0\", \"1379.0\", \"1379.0\", \"1379.0\", \"1379.0\", \"1379.0\", \"1379.0\", \"1379.0\", \"1379.0\", \"1379.0\", \"1379.0\", \"1379.0\", \"1379.0\", \"1379.0\", \"1379.0\", \"1379.0\", \"1379.0\", \"1379.0\", \"1379.0\", \"1379.0\", \"1379.0\", \"1379.0\", \"1558.0\", \"1558.0\", \"1558.0\", \"1558.0\", \"1558.0\", \"1558.0\", \"1558.0\", \"1558.0\", \"1558.0\", \"1558.0\", \"1558.0\", \"1558.0\", \"1558.0\", \"1558.0\", \"1558.0\", \"1558.0\", \"1558.0\", \"1558.0\", \"1558.0\", \"1558.0\", \"1558.0\", \"1558.0\", \"1558.0\", \"1558.0\", \"1558.0\", \"1558.0\", \"1558.0\", \"1558.0\", \"1558.0\", \"1558.0\", \"1558.0\", \"1558.0\", \"1558.0\", \"1558.0\", \"1558.0\", \"1558.0\", \"1558.0\", \"1558.0\", \"1558.0\", \"1558.0\", \"1558.0\", \"1558.0\", \"1963.0\", \"1963.0\", \"1963.0\", \"1963.0\", \"1963.0\", \"1963.0\", \"1963.0\", \"1963.0\", \"1963.0\", \"1963.0\", \"1963.0\", \"1963.0\", \"1963.0\", \"1963.0\", \"1963.0\", \"1963.0\", \"1963.0\", \"1963.0\", \"1963.0\", \"1963.0\", \"1963.0\", \"1963.0\", \"1963.0\", \"1963.0\", \"1963.0\", \"1963.0\", \"1963.0\", \"1963.0\", \"1963.0\", \"1963.0\", \"1963.0\", \"1963.0\", \"1963.0\", \"1963.0\", \"1963.0\", \"1963.0\", \"1963.0\", \"1963.0\", \"1963.0\", \"1963.0\", \"1963.0\", \"1963.0\", \"12588.0\", \"12588.0\", \"12588.0\", \"12588.0\", \"12588.0\", \"12588.0\", \"12588.0\", \"12588.0\", \"12588.0\", \"12588.0\", \"12588.0\", \"12588.0\", \"12588.0\", \"12588.0\", \"12588.0\", \"12588.0\", \"12588.0\", \"12588.0\", \"12588.0\", \"12588.0\", \"12588.0\", \"12588.0\", \"12588.0\", \"12588.0\", \"12588.0\", \"12588.0\", \"12588.0\", \"12588.0\", \"12588.0\", \"12588.0\", \"12588.0\", \"12588.0\", \"12588.0\", \"12588.0\", \"12588.0\", \"12588.0\", \"12588.0\", \"12588.0\", \"12588.0\", \"12588.0\", \"12588.0\", \"12588.0\", \"ACESSORIOS\", \"ACESSORIOS\", \"ACESSORIOS\", \"ACESSORIOS\", \"ACESSORIOS\", \"ACESSORIOS\", \"ALIMENTOS\", \"ALIMENTOS\", \"ALIMENTOS\", \"ALIMENTOS\", \"ALIMENTOS\", \"ALIMENTOS\", \"ANIMAL VIVO\", \"ANIMAL VIVO\", \"ANIMAL VIVO\", \"ANIMAL VIVO\", \"ANIMAL VIVO\", \"ANIMAL VIVO\", \"AQUARIOS E ACESSORIOS\", \"AQUARIOS E ACESSORIOS\", \"AQUARIOS E ACESSORIOS\", \"AQUARIOS E ACESSORIOS\", \"AQUARIOS E ACESSORIOS\", \"AQUARIOS E ACESSORIOS\", \"CASA\", \"CASA\", \"CASA\", \"CASA\", \"CASA\", \"CASA\", \"FARMACIA\", \"FARMACIA\", \"FARMACIA\", \"FARMACIA\", \"FARMACIA\", \"FARMACIA\", \"HIGIENE E BELEZA\", \"HIGIENE E BELEZA\", \"HIGIENE E BELEZA\", \"HIGIENE E BELEZA\", \"HIGIENE E BELEZA\", \"HIGIENE E BELEZA\", \"AVES\", \"CAES\", \"GATOS\", \"PEIXES\", \"PESSOAS\", \"ROEDORES\"], \"name\": \"\", \"parents\": [\"AVES/ACESSORIOS\", \"CAES/ACESSORIOS\", \"GATOS/ACESSORIOS\", \"PEIXES/ACESSORIOS\", \"PESSOAS/ACESSORIOS\", \"ROEDORES/ACESSORIOS\", \"AVES/ALIMENTOS\", \"CAES/ALIMENTOS\", \"GATOS/ALIMENTOS\", \"PEIXES/ALIMENTOS\", \"PESSOAS/ALIMENTOS\", \"ROEDORES/ALIMENTOS\", \"AVES/ANIMAL VIVO\", \"CAES/ANIMAL VIVO\", \"GATOS/ANIMAL VIVO\", \"PEIXES/ANIMAL VIVO\", \"PESSOAS/ANIMAL VIVO\", \"ROEDORES/ANIMAL VIVO\", \"AVES/AQUARIOS E ACESSORIOS\", \"CAES/AQUARIOS E ACESSORIOS\", \"GATOS/AQUARIOS E ACESSORIOS\", \"PEIXES/AQUARIOS E ACESSORIOS\", \"PESSOAS/AQUARIOS E ACESSORIOS\", \"ROEDORES/AQUARIOS E ACESSORIOS\", \"AVES/CASA\", \"CAES/CASA\", \"GATOS/CASA\", \"PEIXES/CASA\", \"PESSOAS/CASA\", \"ROEDORES/CASA\", \"AVES/FARMACIA\", \"CAES/FARMACIA\", \"GATOS/FARMACIA\", \"PEIXES/FARMACIA\", \"PESSOAS/FARMACIA\", \"ROEDORES/FARMACIA\", \"AVES/HIGIENE E BELEZA\", \"CAES/HIGIENE E BELEZA\", \"GATOS/HIGIENE E BELEZA\", \"PEIXES/HIGIENE E BELEZA\", \"PESSOAS/HIGIENE E BELEZA\", \"ROEDORES/HIGIENE E BELEZA\", \"AVES/ACESSORIOS\", \"CAES/ACESSORIOS\", \"GATOS/ACESSORIOS\", \"PEIXES/ACESSORIOS\", \"PESSOAS/ACESSORIOS\", \"ROEDORES/ACESSORIOS\", \"AVES/ALIMENTOS\", \"CAES/ALIMENTOS\", \"GATOS/ALIMENTOS\", \"PEIXES/ALIMENTOS\", \"PESSOAS/ALIMENTOS\", \"ROEDORES/ALIMENTOS\", \"AVES/ANIMAL VIVO\", \"CAES/ANIMAL VIVO\", \"GATOS/ANIMAL VIVO\", \"PEIXES/ANIMAL VIVO\", \"PESSOAS/ANIMAL VIVO\", \"ROEDORES/ANIMAL VIVO\", \"AVES/AQUARIOS E ACESSORIOS\", \"CAES/AQUARIOS E ACESSORIOS\", \"GATOS/AQUARIOS E ACESSORIOS\", \"PEIXES/AQUARIOS E ACESSORIOS\", \"PESSOAS/AQUARIOS E ACESSORIOS\", \"ROEDORES/AQUARIOS E ACESSORIOS\", \"AVES/CASA\", \"CAES/CASA\", \"GATOS/CASA\", \"PEIXES/CASA\", \"PESSOAS/CASA\", \"ROEDORES/CASA\", \"AVES/FARMACIA\", \"CAES/FARMACIA\", \"GATOS/FARMACIA\", \"PEIXES/FARMACIA\", \"PESSOAS/FARMACIA\", \"ROEDORES/FARMACIA\", \"AVES/HIGIENE E BELEZA\", \"CAES/HIGIENE E BELEZA\", \"GATOS/HIGIENE E BELEZA\", \"PEIXES/HIGIENE E BELEZA\", \"PESSOAS/HIGIENE E BELEZA\", \"ROEDORES/HIGIENE E BELEZA\", \"AVES/ACESSORIOS\", \"CAES/ACESSORIOS\", \"GATOS/ACESSORIOS\", \"PEIXES/ACESSORIOS\", \"PESSOAS/ACESSORIOS\", \"ROEDORES/ACESSORIOS\", \"AVES/ALIMENTOS\", \"CAES/ALIMENTOS\", \"GATOS/ALIMENTOS\", \"PEIXES/ALIMENTOS\", \"PESSOAS/ALIMENTOS\", \"ROEDORES/ALIMENTOS\", \"AVES/ANIMAL VIVO\", \"CAES/ANIMAL VIVO\", \"GATOS/ANIMAL VIVO\", \"PEIXES/ANIMAL VIVO\", \"PESSOAS/ANIMAL VIVO\", \"ROEDORES/ANIMAL VIVO\", \"AVES/AQUARIOS E ACESSORIOS\", \"CAES/AQUARIOS E ACESSORIOS\", \"GATOS/AQUARIOS E ACESSORIOS\", \"PEIXES/AQUARIOS E ACESSORIOS\", \"PESSOAS/AQUARIOS E ACESSORIOS\", \"ROEDORES/AQUARIOS E ACESSORIOS\", \"AVES/CASA\", \"CAES/CASA\", \"GATOS/CASA\", \"PEIXES/CASA\", \"PESSOAS/CASA\", \"ROEDORES/CASA\", \"AVES/FARMACIA\", \"CAES/FARMACIA\", \"GATOS/FARMACIA\", \"PEIXES/FARMACIA\", \"PESSOAS/FARMACIA\", \"ROEDORES/FARMACIA\", \"AVES/HIGIENE E BELEZA\", \"CAES/HIGIENE E BELEZA\", \"GATOS/HIGIENE E BELEZA\", \"PEIXES/HIGIENE E BELEZA\", \"PESSOAS/HIGIENE E BELEZA\", \"ROEDORES/HIGIENE E BELEZA\", \"AVES/ACESSORIOS\", \"CAES/ACESSORIOS\", \"GATOS/ACESSORIOS\", \"PEIXES/ACESSORIOS\", \"PESSOAS/ACESSORIOS\", \"ROEDORES/ACESSORIOS\", \"AVES/ALIMENTOS\", \"CAES/ALIMENTOS\", \"GATOS/ALIMENTOS\", \"PEIXES/ALIMENTOS\", \"PESSOAS/ALIMENTOS\", \"ROEDORES/ALIMENTOS\", \"AVES/ANIMAL VIVO\", \"CAES/ANIMAL VIVO\", \"GATOS/ANIMAL VIVO\", \"PEIXES/ANIMAL VIVO\", \"PESSOAS/ANIMAL VIVO\", \"ROEDORES/ANIMAL VIVO\", \"AVES/AQUARIOS E ACESSORIOS\", \"CAES/AQUARIOS E ACESSORIOS\", \"GATOS/AQUARIOS E ACESSORIOS\", \"PEIXES/AQUARIOS E ACESSORIOS\", \"PESSOAS/AQUARIOS E ACESSORIOS\", \"ROEDORES/AQUARIOS E ACESSORIOS\", \"AVES/CASA\", \"CAES/CASA\", \"GATOS/CASA\", \"PEIXES/CASA\", \"PESSOAS/CASA\", \"ROEDORES/CASA\", \"AVES/FARMACIA\", \"CAES/FARMACIA\", \"GATOS/FARMACIA\", \"PEIXES/FARMACIA\", \"PESSOAS/FARMACIA\", \"ROEDORES/FARMACIA\", \"AVES/HIGIENE E BELEZA\", \"CAES/HIGIENE E BELEZA\", \"GATOS/HIGIENE E BELEZA\", \"PEIXES/HIGIENE E BELEZA\", \"PESSOAS/HIGIENE E BELEZA\", \"ROEDORES/HIGIENE E BELEZA\", \"AVES/ACESSORIOS\", \"CAES/ACESSORIOS\", \"GATOS/ACESSORIOS\", \"PEIXES/ACESSORIOS\", \"PESSOAS/ACESSORIOS\", \"ROEDORES/ACESSORIOS\", \"AVES/ALIMENTOS\", \"CAES/ALIMENTOS\", \"GATOS/ALIMENTOS\", \"PEIXES/ALIMENTOS\", \"PESSOAS/ALIMENTOS\", \"ROEDORES/ALIMENTOS\", \"AVES/ANIMAL VIVO\", \"CAES/ANIMAL VIVO\", \"GATOS/ANIMAL VIVO\", \"PEIXES/ANIMAL VIVO\", \"PESSOAS/ANIMAL VIVO\", \"ROEDORES/ANIMAL VIVO\", \"AVES/AQUARIOS E ACESSORIOS\", \"CAES/AQUARIOS E ACESSORIOS\", \"GATOS/AQUARIOS E ACESSORIOS\", \"PEIXES/AQUARIOS E ACESSORIOS\", \"PESSOAS/AQUARIOS E ACESSORIOS\", \"ROEDORES/AQUARIOS E ACESSORIOS\", \"AVES/CASA\", \"CAES/CASA\", \"GATOS/CASA\", \"PEIXES/CASA\", \"PESSOAS/CASA\", \"ROEDORES/CASA\", \"AVES/FARMACIA\", \"CAES/FARMACIA\", \"GATOS/FARMACIA\", \"PEIXES/FARMACIA\", \"PESSOAS/FARMACIA\", \"ROEDORES/FARMACIA\", \"AVES/HIGIENE E BELEZA\", \"CAES/HIGIENE E BELEZA\", \"GATOS/HIGIENE E BELEZA\", \"PEIXES/HIGIENE E BELEZA\", \"PESSOAS/HIGIENE E BELEZA\", \"ROEDORES/HIGIENE E BELEZA\", \"AVES/ACESSORIOS\", \"CAES/ACESSORIOS\", \"GATOS/ACESSORIOS\", \"PEIXES/ACESSORIOS\", \"PESSOAS/ACESSORIOS\", \"ROEDORES/ACESSORIOS\", \"AVES/ALIMENTOS\", \"CAES/ALIMENTOS\", \"GATOS/ALIMENTOS\", \"PEIXES/ALIMENTOS\", \"PESSOAS/ALIMENTOS\", \"ROEDORES/ALIMENTOS\", \"AVES/ANIMAL VIVO\", \"CAES/ANIMAL VIVO\", \"GATOS/ANIMAL VIVO\", \"PEIXES/ANIMAL VIVO\", \"PESSOAS/ANIMAL VIVO\", \"ROEDORES/ANIMAL VIVO\", \"AVES/AQUARIOS E ACESSORIOS\", \"CAES/AQUARIOS E ACESSORIOS\", \"GATOS/AQUARIOS E ACESSORIOS\", \"PEIXES/AQUARIOS E ACESSORIOS\", \"PESSOAS/AQUARIOS E ACESSORIOS\", \"ROEDORES/AQUARIOS E ACESSORIOS\", \"AVES/CASA\", \"CAES/CASA\", \"GATOS/CASA\", \"PEIXES/CASA\", \"PESSOAS/CASA\", \"ROEDORES/CASA\", \"AVES/FARMACIA\", \"CAES/FARMACIA\", \"GATOS/FARMACIA\", \"PEIXES/FARMACIA\", \"PESSOAS/FARMACIA\", \"ROEDORES/FARMACIA\", \"AVES/HIGIENE E BELEZA\", \"CAES/HIGIENE E BELEZA\", \"GATOS/HIGIENE E BELEZA\", \"PEIXES/HIGIENE E BELEZA\", \"PESSOAS/HIGIENE E BELEZA\", \"ROEDORES/HIGIENE E BELEZA\", \"AVES/ACESSORIOS\", \"CAES/ACESSORIOS\", \"GATOS/ACESSORIOS\", \"PEIXES/ACESSORIOS\", \"PESSOAS/ACESSORIOS\", \"ROEDORES/ACESSORIOS\", \"AVES/ALIMENTOS\", \"CAES/ALIMENTOS\", \"GATOS/ALIMENTOS\", \"PEIXES/ALIMENTOS\", \"PESSOAS/ALIMENTOS\", \"ROEDORES/ALIMENTOS\", \"AVES/ANIMAL VIVO\", \"CAES/ANIMAL VIVO\", \"GATOS/ANIMAL VIVO\", \"PEIXES/ANIMAL VIVO\", \"PESSOAS/ANIMAL VIVO\", \"ROEDORES/ANIMAL VIVO\", \"AVES/AQUARIOS E ACESSORIOS\", \"CAES/AQUARIOS E ACESSORIOS\", \"GATOS/AQUARIOS E ACESSORIOS\", \"PEIXES/AQUARIOS E ACESSORIOS\", \"PESSOAS/AQUARIOS E ACESSORIOS\", \"ROEDORES/AQUARIOS E ACESSORIOS\", \"AVES/CASA\", \"CAES/CASA\", \"GATOS/CASA\", \"PEIXES/CASA\", \"PESSOAS/CASA\", \"ROEDORES/CASA\", \"AVES/FARMACIA\", \"CAES/FARMACIA\", \"GATOS/FARMACIA\", \"PEIXES/FARMACIA\", \"PESSOAS/FARMACIA\", \"ROEDORES/FARMACIA\", \"AVES/HIGIENE E BELEZA\", \"CAES/HIGIENE E BELEZA\", \"GATOS/HIGIENE E BELEZA\", \"PEIXES/HIGIENE E BELEZA\", \"PESSOAS/HIGIENE E BELEZA\", \"ROEDORES/HIGIENE E BELEZA\", \"AVES/ACESSORIOS\", \"CAES/ACESSORIOS\", \"GATOS/ACESSORIOS\", \"PEIXES/ACESSORIOS\", \"PESSOAS/ACESSORIOS\", \"ROEDORES/ACESSORIOS\", \"AVES/ALIMENTOS\", \"CAES/ALIMENTOS\", \"GATOS/ALIMENTOS\", \"PEIXES/ALIMENTOS\", \"PESSOAS/ALIMENTOS\", \"ROEDORES/ALIMENTOS\", \"AVES/ANIMAL VIVO\", \"CAES/ANIMAL VIVO\", \"GATOS/ANIMAL VIVO\", \"PEIXES/ANIMAL VIVO\", \"PESSOAS/ANIMAL VIVO\", \"ROEDORES/ANIMAL VIVO\", \"AVES/AQUARIOS E ACESSORIOS\", \"CAES/AQUARIOS E ACESSORIOS\", \"GATOS/AQUARIOS E ACESSORIOS\", \"PEIXES/AQUARIOS E ACESSORIOS\", \"PESSOAS/AQUARIOS E ACESSORIOS\", \"ROEDORES/AQUARIOS E ACESSORIOS\", \"AVES/CASA\", \"CAES/CASA\", \"GATOS/CASA\", \"PEIXES/CASA\", \"PESSOAS/CASA\", \"ROEDORES/CASA\", \"AVES/FARMACIA\", \"CAES/FARMACIA\", \"GATOS/FARMACIA\", \"PEIXES/FARMACIA\", \"PESSOAS/FARMACIA\", \"ROEDORES/FARMACIA\", \"AVES/HIGIENE E BELEZA\", \"CAES/HIGIENE E BELEZA\", \"GATOS/HIGIENE E BELEZA\", \"PEIXES/HIGIENE E BELEZA\", \"PESSOAS/HIGIENE E BELEZA\", \"ROEDORES/HIGIENE E BELEZA\", \"AVES/ACESSORIOS\", \"CAES/ACESSORIOS\", \"GATOS/ACESSORIOS\", \"PEIXES/ACESSORIOS\", \"PESSOAS/ACESSORIOS\", \"ROEDORES/ACESSORIOS\", \"AVES/ALIMENTOS\", \"CAES/ALIMENTOS\", \"GATOS/ALIMENTOS\", \"PEIXES/ALIMENTOS\", \"PESSOAS/ALIMENTOS\", \"ROEDORES/ALIMENTOS\", \"AVES/ANIMAL VIVO\", \"CAES/ANIMAL VIVO\", \"GATOS/ANIMAL VIVO\", \"PEIXES/ANIMAL VIVO\", \"PESSOAS/ANIMAL VIVO\", \"ROEDORES/ANIMAL VIVO\", \"AVES/AQUARIOS E ACESSORIOS\", \"CAES/AQUARIOS E ACESSORIOS\", \"GATOS/AQUARIOS E ACESSORIOS\", \"PEIXES/AQUARIOS E ACESSORIOS\", \"PESSOAS/AQUARIOS E ACESSORIOS\", \"ROEDORES/AQUARIOS E ACESSORIOS\", \"AVES/CASA\", \"CAES/CASA\", \"GATOS/CASA\", \"PEIXES/CASA\", \"PESSOAS/CASA\", \"ROEDORES/CASA\", \"AVES/FARMACIA\", \"CAES/FARMACIA\", \"GATOS/FARMACIA\", \"PEIXES/FARMACIA\", \"PESSOAS/FARMACIA\", \"ROEDORES/FARMACIA\", \"AVES/HIGIENE E BELEZA\", \"CAES/HIGIENE E BELEZA\", \"GATOS/HIGIENE E BELEZA\", \"PEIXES/HIGIENE E BELEZA\", \"PESSOAS/HIGIENE E BELEZA\", \"ROEDORES/HIGIENE E BELEZA\", \"AVES/ACESSORIOS\", \"CAES/ACESSORIOS\", \"GATOS/ACESSORIOS\", \"PEIXES/ACESSORIOS\", \"PESSOAS/ACESSORIOS\", \"ROEDORES/ACESSORIOS\", \"AVES/ALIMENTOS\", \"CAES/ALIMENTOS\", \"GATOS/ALIMENTOS\", \"PEIXES/ALIMENTOS\", \"PESSOAS/ALIMENTOS\", \"ROEDORES/ALIMENTOS\", \"AVES/ANIMAL VIVO\", \"CAES/ANIMAL VIVO\", \"GATOS/ANIMAL VIVO\", \"PEIXES/ANIMAL VIVO\", \"PESSOAS/ANIMAL VIVO\", \"ROEDORES/ANIMAL VIVO\", \"AVES/AQUARIOS E ACESSORIOS\", \"CAES/AQUARIOS E ACESSORIOS\", \"GATOS/AQUARIOS E ACESSORIOS\", \"PEIXES/AQUARIOS E ACESSORIOS\", \"PESSOAS/AQUARIOS E ACESSORIOS\", \"ROEDORES/AQUARIOS E ACESSORIOS\", \"AVES/CASA\", \"CAES/CASA\", \"GATOS/CASA\", \"PEIXES/CASA\", \"PESSOAS/CASA\", \"ROEDORES/CASA\", \"AVES/FARMACIA\", \"CAES/FARMACIA\", \"GATOS/FARMACIA\", \"PEIXES/FARMACIA\", \"PESSOAS/FARMACIA\", \"ROEDORES/FARMACIA\", \"AVES/HIGIENE E BELEZA\", \"CAES/HIGIENE E BELEZA\", \"GATOS/HIGIENE E BELEZA\", \"PEIXES/HIGIENE E BELEZA\", \"PESSOAS/HIGIENE E BELEZA\", \"ROEDORES/HIGIENE E BELEZA\", \"AVES/ACESSORIOS\", \"CAES/ACESSORIOS\", \"GATOS/ACESSORIOS\", \"PEIXES/ACESSORIOS\", \"PESSOAS/ACESSORIOS\", \"ROEDORES/ACESSORIOS\", \"AVES/ALIMENTOS\", \"CAES/ALIMENTOS\", \"GATOS/ALIMENTOS\", \"PEIXES/ALIMENTOS\", \"PESSOAS/ALIMENTOS\", \"ROEDORES/ALIMENTOS\", \"AVES/ANIMAL VIVO\", \"CAES/ANIMAL VIVO\", \"GATOS/ANIMAL VIVO\", \"PEIXES/ANIMAL VIVO\", \"PESSOAS/ANIMAL VIVO\", \"ROEDORES/ANIMAL VIVO\", \"AVES/AQUARIOS E ACESSORIOS\", \"CAES/AQUARIOS E ACESSORIOS\", \"GATOS/AQUARIOS E ACESSORIOS\", \"PEIXES/AQUARIOS E ACESSORIOS\", \"PESSOAS/AQUARIOS E ACESSORIOS\", \"ROEDORES/AQUARIOS E ACESSORIOS\", \"AVES/CASA\", \"CAES/CASA\", \"GATOS/CASA\", \"PEIXES/CASA\", \"PESSOAS/CASA\", \"ROEDORES/CASA\", \"AVES/FARMACIA\", \"CAES/FARMACIA\", \"GATOS/FARMACIA\", \"PEIXES/FARMACIA\", \"PESSOAS/FARMACIA\", \"ROEDORES/FARMACIA\", \"AVES/HIGIENE E BELEZA\", \"CAES/HIGIENE E BELEZA\", \"GATOS/HIGIENE E BELEZA\", \"PEIXES/HIGIENE E BELEZA\", \"PESSOAS/HIGIENE E BELEZA\", \"ROEDORES/HIGIENE E BELEZA\", \"AVES/ACESSORIOS\", \"CAES/ACESSORIOS\", \"GATOS/ACESSORIOS\", \"PEIXES/ACESSORIOS\", \"PESSOAS/ACESSORIOS\", \"ROEDORES/ACESSORIOS\", \"AVES/ALIMENTOS\", \"CAES/ALIMENTOS\", \"GATOS/ALIMENTOS\", \"PEIXES/ALIMENTOS\", \"PESSOAS/ALIMENTOS\", \"ROEDORES/ALIMENTOS\", \"AVES/ANIMAL VIVO\", \"CAES/ANIMAL VIVO\", \"GATOS/ANIMAL VIVO\", \"PEIXES/ANIMAL VIVO\", \"PESSOAS/ANIMAL VIVO\", \"ROEDORES/ANIMAL VIVO\", \"AVES/AQUARIOS E ACESSORIOS\", \"CAES/AQUARIOS E ACESSORIOS\", \"GATOS/AQUARIOS E ACESSORIOS\", \"PEIXES/AQUARIOS E ACESSORIOS\", \"PESSOAS/AQUARIOS E ACESSORIOS\", \"ROEDORES/AQUARIOS E ACESSORIOS\", \"AVES/CASA\", \"CAES/CASA\", \"GATOS/CASA\", \"PEIXES/CASA\", \"PESSOAS/CASA\", \"ROEDORES/CASA\", \"AVES/FARMACIA\", \"CAES/FARMACIA\", \"GATOS/FARMACIA\", \"PEIXES/FARMACIA\", \"PESSOAS/FARMACIA\", \"ROEDORES/FARMACIA\", \"AVES/HIGIENE E BELEZA\", \"CAES/HIGIENE E BELEZA\", \"GATOS/HIGIENE E BELEZA\", \"PEIXES/HIGIENE E BELEZA\", \"PESSOAS/HIGIENE E BELEZA\", \"ROEDORES/HIGIENE E BELEZA\", \"AVES/ACESSORIOS\", \"CAES/ACESSORIOS\", \"GATOS/ACESSORIOS\", \"PEIXES/ACESSORIOS\", \"PESSOAS/ACESSORIOS\", \"ROEDORES/ACESSORIOS\", \"AVES/ALIMENTOS\", \"CAES/ALIMENTOS\", \"GATOS/ALIMENTOS\", \"PEIXES/ALIMENTOS\", \"PESSOAS/ALIMENTOS\", \"ROEDORES/ALIMENTOS\", \"AVES/ANIMAL VIVO\", \"CAES/ANIMAL VIVO\", \"GATOS/ANIMAL VIVO\", \"PEIXES/ANIMAL VIVO\", \"PESSOAS/ANIMAL VIVO\", \"ROEDORES/ANIMAL VIVO\", \"AVES/AQUARIOS E ACESSORIOS\", \"CAES/AQUARIOS E ACESSORIOS\", \"GATOS/AQUARIOS E ACESSORIOS\", \"PEIXES/AQUARIOS E ACESSORIOS\", \"PESSOAS/AQUARIOS E ACESSORIOS\", \"ROEDORES/AQUARIOS E ACESSORIOS\", \"AVES/CASA\", \"CAES/CASA\", \"GATOS/CASA\", \"PEIXES/CASA\", \"PESSOAS/CASA\", \"ROEDORES/CASA\", \"AVES/FARMACIA\", \"CAES/FARMACIA\", \"GATOS/FARMACIA\", \"PEIXES/FARMACIA\", \"PESSOAS/FARMACIA\", \"ROEDORES/FARMACIA\", \"AVES/HIGIENE E BELEZA\", \"CAES/HIGIENE E BELEZA\", \"GATOS/HIGIENE E BELEZA\", \"PEIXES/HIGIENE E BELEZA\", \"PESSOAS/HIGIENE E BELEZA\", \"ROEDORES/HIGIENE E BELEZA\", \"AVES/ACESSORIOS\", \"CAES/ACESSORIOS\", \"GATOS/ACESSORIOS\", \"PEIXES/ACESSORIOS\", \"PESSOAS/ACESSORIOS\", \"ROEDORES/ACESSORIOS\", \"AVES/ALIMENTOS\", \"CAES/ALIMENTOS\", \"GATOS/ALIMENTOS\", \"PEIXES/ALIMENTOS\", \"PESSOAS/ALIMENTOS\", \"ROEDORES/ALIMENTOS\", \"AVES/ANIMAL VIVO\", \"CAES/ANIMAL VIVO\", \"GATOS/ANIMAL VIVO\", \"PEIXES/ANIMAL VIVO\", \"PESSOAS/ANIMAL VIVO\", \"ROEDORES/ANIMAL VIVO\", \"AVES/AQUARIOS E ACESSORIOS\", \"CAES/AQUARIOS E ACESSORIOS\", \"GATOS/AQUARIOS E ACESSORIOS\", \"PEIXES/AQUARIOS E ACESSORIOS\", \"PESSOAS/AQUARIOS E ACESSORIOS\", \"ROEDORES/AQUARIOS E ACESSORIOS\", \"AVES/CASA\", \"CAES/CASA\", \"GATOS/CASA\", \"PEIXES/CASA\", \"PESSOAS/CASA\", \"ROEDORES/CASA\", \"AVES/FARMACIA\", \"CAES/FARMACIA\", \"GATOS/FARMACIA\", \"PEIXES/FARMACIA\", \"PESSOAS/FARMACIA\", \"ROEDORES/FARMACIA\", \"AVES/HIGIENE E BELEZA\", \"CAES/HIGIENE E BELEZA\", \"GATOS/HIGIENE E BELEZA\", \"PEIXES/HIGIENE E BELEZA\", \"PESSOAS/HIGIENE E BELEZA\", \"ROEDORES/HIGIENE E BELEZA\", \"AVES/ACESSORIOS\", \"CAES/ACESSORIOS\", \"GATOS/ACESSORIOS\", \"PEIXES/ACESSORIOS\", \"PESSOAS/ACESSORIOS\", \"ROEDORES/ACESSORIOS\", \"AVES/ALIMENTOS\", \"CAES/ALIMENTOS\", \"GATOS/ALIMENTOS\", \"PEIXES/ALIMENTOS\", \"PESSOAS/ALIMENTOS\", \"ROEDORES/ALIMENTOS\", \"AVES/ANIMAL VIVO\", \"CAES/ANIMAL VIVO\", \"GATOS/ANIMAL VIVO\", \"PEIXES/ANIMAL VIVO\", \"PESSOAS/ANIMAL VIVO\", \"ROEDORES/ANIMAL VIVO\", \"AVES/AQUARIOS E ACESSORIOS\", \"CAES/AQUARIOS E ACESSORIOS\", \"GATOS/AQUARIOS E ACESSORIOS\", \"PEIXES/AQUARIOS E ACESSORIOS\", \"PESSOAS/AQUARIOS E ACESSORIOS\", \"ROEDORES/AQUARIOS E ACESSORIOS\", \"AVES/CASA\", \"CAES/CASA\", \"GATOS/CASA\", \"PEIXES/CASA\", \"PESSOAS/CASA\", \"ROEDORES/CASA\", \"AVES/FARMACIA\", \"CAES/FARMACIA\", \"GATOS/FARMACIA\", \"PEIXES/FARMACIA\", \"PESSOAS/FARMACIA\", \"ROEDORES/FARMACIA\", \"AVES/HIGIENE E BELEZA\", \"CAES/HIGIENE E BELEZA\", \"GATOS/HIGIENE E BELEZA\", \"PEIXES/HIGIENE E BELEZA\", \"PESSOAS/HIGIENE E BELEZA\", \"ROEDORES/HIGIENE E BELEZA\", \"AVES/ACESSORIOS\", \"CAES/ACESSORIOS\", \"GATOS/ACESSORIOS\", \"PEIXES/ACESSORIOS\", \"PESSOAS/ACESSORIOS\", \"ROEDORES/ACESSORIOS\", \"AVES/ALIMENTOS\", \"CAES/ALIMENTOS\", \"GATOS/ALIMENTOS\", \"PEIXES/ALIMENTOS\", \"PESSOAS/ALIMENTOS\", \"ROEDORES/ALIMENTOS\", \"AVES/ANIMAL VIVO\", \"CAES/ANIMAL VIVO\", \"GATOS/ANIMAL VIVO\", \"PEIXES/ANIMAL VIVO\", \"PESSOAS/ANIMAL VIVO\", \"ROEDORES/ANIMAL VIVO\", \"AVES/AQUARIOS E ACESSORIOS\", \"CAES/AQUARIOS E ACESSORIOS\", \"GATOS/AQUARIOS E ACESSORIOS\", \"PEIXES/AQUARIOS E ACESSORIOS\", \"PESSOAS/AQUARIOS E ACESSORIOS\", \"ROEDORES/AQUARIOS E ACESSORIOS\", \"AVES/CASA\", \"CAES/CASA\", \"GATOS/CASA\", \"PEIXES/CASA\", \"PESSOAS/CASA\", \"ROEDORES/CASA\", \"AVES/FARMACIA\", \"CAES/FARMACIA\", \"GATOS/FARMACIA\", \"PEIXES/FARMACIA\", \"PESSOAS/FARMACIA\", \"ROEDORES/FARMACIA\", \"AVES/HIGIENE E BELEZA\", \"CAES/HIGIENE E BELEZA\", \"GATOS/HIGIENE E BELEZA\", \"PEIXES/HIGIENE E BELEZA\", \"PESSOAS/HIGIENE E BELEZA\", \"ROEDORES/HIGIENE E BELEZA\", \"AVES/ACESSORIOS\", \"CAES/ACESSORIOS\", \"GATOS/ACESSORIOS\", \"PEIXES/ACESSORIOS\", \"PESSOAS/ACESSORIOS\", \"ROEDORES/ACESSORIOS\", \"AVES/ALIMENTOS\", \"CAES/ALIMENTOS\", \"GATOS/ALIMENTOS\", \"PEIXES/ALIMENTOS\", \"PESSOAS/ALIMENTOS\", \"ROEDORES/ALIMENTOS\", \"AVES/ANIMAL VIVO\", \"CAES/ANIMAL VIVO\", \"GATOS/ANIMAL VIVO\", \"PEIXES/ANIMAL VIVO\", \"PESSOAS/ANIMAL VIVO\", \"ROEDORES/ANIMAL VIVO\", \"AVES/AQUARIOS E ACESSORIOS\", \"CAES/AQUARIOS E ACESSORIOS\", \"GATOS/AQUARIOS E ACESSORIOS\", \"PEIXES/AQUARIOS E ACESSORIOS\", \"PESSOAS/AQUARIOS E ACESSORIOS\", \"ROEDORES/AQUARIOS E ACESSORIOS\", \"AVES/CASA\", \"CAES/CASA\", \"GATOS/CASA\", \"PEIXES/CASA\", \"PESSOAS/CASA\", \"ROEDORES/CASA\", \"AVES/FARMACIA\", \"CAES/FARMACIA\", \"GATOS/FARMACIA\", \"PEIXES/FARMACIA\", \"PESSOAS/FARMACIA\", \"ROEDORES/FARMACIA\", \"AVES/HIGIENE E BELEZA\", \"CAES/HIGIENE E BELEZA\", \"GATOS/HIGIENE E BELEZA\", \"PEIXES/HIGIENE E BELEZA\", \"PESSOAS/HIGIENE E BELEZA\", \"ROEDORES/HIGIENE E BELEZA\", \"AVES/ACESSORIOS\", \"CAES/ACESSORIOS\", \"GATOS/ACESSORIOS\", \"PEIXES/ACESSORIOS\", \"PESSOAS/ACESSORIOS\", \"ROEDORES/ACESSORIOS\", \"AVES/ALIMENTOS\", \"CAES/ALIMENTOS\", \"GATOS/ALIMENTOS\", \"PEIXES/ALIMENTOS\", \"PESSOAS/ALIMENTOS\", \"ROEDORES/ALIMENTOS\", \"AVES/ANIMAL VIVO\", \"CAES/ANIMAL VIVO\", \"GATOS/ANIMAL VIVO\", \"PEIXES/ANIMAL VIVO\", \"PESSOAS/ANIMAL VIVO\", \"ROEDORES/ANIMAL VIVO\", \"AVES/AQUARIOS E ACESSORIOS\", \"CAES/AQUARIOS E ACESSORIOS\", \"GATOS/AQUARIOS E ACESSORIOS\", \"PEIXES/AQUARIOS E ACESSORIOS\", \"PESSOAS/AQUARIOS E ACESSORIOS\", \"ROEDORES/AQUARIOS E ACESSORIOS\", \"AVES/CASA\", \"CAES/CASA\", \"GATOS/CASA\", \"PEIXES/CASA\", \"PESSOAS/CASA\", \"ROEDORES/CASA\", \"AVES/FARMACIA\", \"CAES/FARMACIA\", \"GATOS/FARMACIA\", \"PEIXES/FARMACIA\", \"PESSOAS/FARMACIA\", \"ROEDORES/FARMACIA\", \"AVES/HIGIENE E BELEZA\", \"CAES/HIGIENE E BELEZA\", \"GATOS/HIGIENE E BELEZA\", \"PEIXES/HIGIENE E BELEZA\", \"PESSOAS/HIGIENE E BELEZA\", \"ROEDORES/HIGIENE E BELEZA\", \"AVES/ACESSORIOS\", \"CAES/ACESSORIOS\", \"GATOS/ACESSORIOS\", \"PEIXES/ACESSORIOS\", \"PESSOAS/ACESSORIOS\", \"ROEDORES/ACESSORIOS\", \"AVES/ALIMENTOS\", \"CAES/ALIMENTOS\", \"GATOS/ALIMENTOS\", \"PEIXES/ALIMENTOS\", \"PESSOAS/ALIMENTOS\", \"ROEDORES/ALIMENTOS\", \"AVES/ANIMAL VIVO\", \"CAES/ANIMAL VIVO\", \"GATOS/ANIMAL VIVO\", \"PEIXES/ANIMAL VIVO\", \"PESSOAS/ANIMAL VIVO\", \"ROEDORES/ANIMAL VIVO\", \"AVES/AQUARIOS E ACESSORIOS\", \"CAES/AQUARIOS E ACESSORIOS\", \"GATOS/AQUARIOS E ACESSORIOS\", \"PEIXES/AQUARIOS E ACESSORIOS\", \"PESSOAS/AQUARIOS E ACESSORIOS\", \"ROEDORES/AQUARIOS E ACESSORIOS\", \"AVES/CASA\", \"CAES/CASA\", \"GATOS/CASA\", \"PEIXES/CASA\", \"PESSOAS/CASA\", \"ROEDORES/CASA\", \"AVES/FARMACIA\", \"CAES/FARMACIA\", \"GATOS/FARMACIA\", \"PEIXES/FARMACIA\", \"PESSOAS/FARMACIA\", \"ROEDORES/FARMACIA\", \"AVES/HIGIENE E BELEZA\", \"CAES/HIGIENE E BELEZA\", \"GATOS/HIGIENE E BELEZA\", \"PEIXES/HIGIENE E BELEZA\", \"PESSOAS/HIGIENE E BELEZA\", \"ROEDORES/HIGIENE E BELEZA\", \"AVES/ACESSORIOS\", \"CAES/ACESSORIOS\", \"GATOS/ACESSORIOS\", \"PEIXES/ACESSORIOS\", \"PESSOAS/ACESSORIOS\", \"ROEDORES/ACESSORIOS\", \"AVES/ALIMENTOS\", \"CAES/ALIMENTOS\", \"GATOS/ALIMENTOS\", \"PEIXES/ALIMENTOS\", \"PESSOAS/ALIMENTOS\", \"ROEDORES/ALIMENTOS\", \"AVES/ANIMAL VIVO\", \"CAES/ANIMAL VIVO\", \"GATOS/ANIMAL VIVO\", \"PEIXES/ANIMAL VIVO\", \"PESSOAS/ANIMAL VIVO\", \"ROEDORES/ANIMAL VIVO\", \"AVES/AQUARIOS E ACESSORIOS\", \"CAES/AQUARIOS E ACESSORIOS\", \"GATOS/AQUARIOS E ACESSORIOS\", \"PEIXES/AQUARIOS E ACESSORIOS\", \"PESSOAS/AQUARIOS E ACESSORIOS\", \"ROEDORES/AQUARIOS E ACESSORIOS\", \"AVES/CASA\", \"CAES/CASA\", \"GATOS/CASA\", \"PEIXES/CASA\", \"PESSOAS/CASA\", \"ROEDORES/CASA\", \"AVES/FARMACIA\", \"CAES/FARMACIA\", \"GATOS/FARMACIA\", \"PEIXES/FARMACIA\", \"PESSOAS/FARMACIA\", \"ROEDORES/FARMACIA\", \"AVES/HIGIENE E BELEZA\", \"CAES/HIGIENE E BELEZA\", \"GATOS/HIGIENE E BELEZA\", \"PEIXES/HIGIENE E BELEZA\", \"PESSOAS/HIGIENE E BELEZA\", \"ROEDORES/HIGIENE E BELEZA\", \"AVES/ACESSORIOS\", \"CAES/ACESSORIOS\", \"GATOS/ACESSORIOS\", \"PEIXES/ACESSORIOS\", \"PESSOAS/ACESSORIOS\", \"ROEDORES/ACESSORIOS\", \"AVES/ALIMENTOS\", \"CAES/ALIMENTOS\", \"GATOS/ALIMENTOS\", \"PEIXES/ALIMENTOS\", \"PESSOAS/ALIMENTOS\", \"ROEDORES/ALIMENTOS\", \"AVES/ANIMAL VIVO\", \"CAES/ANIMAL VIVO\", \"GATOS/ANIMAL VIVO\", \"PEIXES/ANIMAL VIVO\", \"PESSOAS/ANIMAL VIVO\", \"ROEDORES/ANIMAL VIVO\", \"AVES/AQUARIOS E ACESSORIOS\", \"CAES/AQUARIOS E ACESSORIOS\", \"GATOS/AQUARIOS E ACESSORIOS\", \"PEIXES/AQUARIOS E ACESSORIOS\", \"PESSOAS/AQUARIOS E ACESSORIOS\", \"ROEDORES/AQUARIOS E ACESSORIOS\", \"AVES/CASA\", \"CAES/CASA\", \"GATOS/CASA\", \"PEIXES/CASA\", \"PESSOAS/CASA\", \"ROEDORES/CASA\", \"AVES/FARMACIA\", \"CAES/FARMACIA\", \"GATOS/FARMACIA\", \"PEIXES/FARMACIA\", \"PESSOAS/FARMACIA\", \"ROEDORES/FARMACIA\", \"AVES/HIGIENE E BELEZA\", \"CAES/HIGIENE E BELEZA\", \"GATOS/HIGIENE E BELEZA\", \"PEIXES/HIGIENE E BELEZA\", \"PESSOAS/HIGIENE E BELEZA\", \"ROEDORES/HIGIENE E BELEZA\", \"AVES/ACESSORIOS\", \"CAES/ACESSORIOS\", \"GATOS/ACESSORIOS\", \"PEIXES/ACESSORIOS\", \"PESSOAS/ACESSORIOS\", \"ROEDORES/ACESSORIOS\", \"AVES/ALIMENTOS\", \"CAES/ALIMENTOS\", \"GATOS/ALIMENTOS\", \"PEIXES/ALIMENTOS\", \"PESSOAS/ALIMENTOS\", \"ROEDORES/ALIMENTOS\", \"AVES/ANIMAL VIVO\", \"CAES/ANIMAL VIVO\", \"GATOS/ANIMAL VIVO\", \"PEIXES/ANIMAL VIVO\", \"PESSOAS/ANIMAL VIVO\", \"ROEDORES/ANIMAL VIVO\", \"AVES/AQUARIOS E ACESSORIOS\", \"CAES/AQUARIOS E ACESSORIOS\", \"GATOS/AQUARIOS E ACESSORIOS\", \"PEIXES/AQUARIOS E ACESSORIOS\", \"PESSOAS/AQUARIOS E ACESSORIOS\", \"ROEDORES/AQUARIOS E ACESSORIOS\", \"AVES/CASA\", \"CAES/CASA\", \"GATOS/CASA\", \"PEIXES/CASA\", \"PESSOAS/CASA\", \"ROEDORES/CASA\", \"AVES/FARMACIA\", \"CAES/FARMACIA\", \"GATOS/FARMACIA\", \"PEIXES/FARMACIA\", \"PESSOAS/FARMACIA\", \"ROEDORES/FARMACIA\", \"AVES/HIGIENE E BELEZA\", \"CAES/HIGIENE E BELEZA\", \"GATOS/HIGIENE E BELEZA\", \"PEIXES/HIGIENE E BELEZA\", \"PESSOAS/HIGIENE E BELEZA\", \"ROEDORES/HIGIENE E BELEZA\", \"AVES/ACESSORIOS\", \"CAES/ACESSORIOS\", \"GATOS/ACESSORIOS\", \"PEIXES/ACESSORIOS\", \"PESSOAS/ACESSORIOS\", \"ROEDORES/ACESSORIOS\", \"AVES/ALIMENTOS\", \"CAES/ALIMENTOS\", \"GATOS/ALIMENTOS\", \"PEIXES/ALIMENTOS\", \"PESSOAS/ALIMENTOS\", \"ROEDORES/ALIMENTOS\", \"AVES/ANIMAL VIVO\", \"CAES/ANIMAL VIVO\", \"GATOS/ANIMAL VIVO\", \"PEIXES/ANIMAL VIVO\", \"PESSOAS/ANIMAL VIVO\", \"ROEDORES/ANIMAL VIVO\", \"AVES/AQUARIOS E ACESSORIOS\", \"CAES/AQUARIOS E ACESSORIOS\", \"GATOS/AQUARIOS E ACESSORIOS\", \"PEIXES/AQUARIOS E ACESSORIOS\", \"PESSOAS/AQUARIOS E ACESSORIOS\", \"ROEDORES/AQUARIOS E ACESSORIOS\", \"AVES/CASA\", \"CAES/CASA\", \"GATOS/CASA\", \"PEIXES/CASA\", \"PESSOAS/CASA\", \"ROEDORES/CASA\", \"AVES/FARMACIA\", \"CAES/FARMACIA\", \"GATOS/FARMACIA\", \"PEIXES/FARMACIA\", \"PESSOAS/FARMACIA\", \"ROEDORES/FARMACIA\", \"AVES/HIGIENE E BELEZA\", \"CAES/HIGIENE E BELEZA\", \"GATOS/HIGIENE E BELEZA\", \"PEIXES/HIGIENE E BELEZA\", \"PESSOAS/HIGIENE E BELEZA\", \"ROEDORES/HIGIENE E BELEZA\", \"AVES/ACESSORIOS\", \"CAES/ACESSORIOS\", \"GATOS/ACESSORIOS\", \"PEIXES/ACESSORIOS\", \"PESSOAS/ACESSORIOS\", \"ROEDORES/ACESSORIOS\", \"AVES/ALIMENTOS\", \"CAES/ALIMENTOS\", \"GATOS/ALIMENTOS\", \"PEIXES/ALIMENTOS\", \"PESSOAS/ALIMENTOS\", \"ROEDORES/ALIMENTOS\", \"AVES/ANIMAL VIVO\", \"CAES/ANIMAL VIVO\", \"GATOS/ANIMAL VIVO\", \"PEIXES/ANIMAL VIVO\", \"PESSOAS/ANIMAL VIVO\", \"ROEDORES/ANIMAL VIVO\", \"AVES/AQUARIOS E ACESSORIOS\", \"CAES/AQUARIOS E ACESSORIOS\", \"GATOS/AQUARIOS E ACESSORIOS\", \"PEIXES/AQUARIOS E ACESSORIOS\", \"PESSOAS/AQUARIOS E ACESSORIOS\", \"ROEDORES/AQUARIOS E ACESSORIOS\", \"AVES/CASA\", \"CAES/CASA\", \"GATOS/CASA\", \"PEIXES/CASA\", \"PESSOAS/CASA\", \"ROEDORES/CASA\", \"AVES/FARMACIA\", \"CAES/FARMACIA\", \"GATOS/FARMACIA\", \"PEIXES/FARMACIA\", \"PESSOAS/FARMACIA\", \"ROEDORES/FARMACIA\", \"AVES/HIGIENE E BELEZA\", \"CAES/HIGIENE E BELEZA\", \"GATOS/HIGIENE E BELEZA\", \"PEIXES/HIGIENE E BELEZA\", \"PESSOAS/HIGIENE E BELEZA\", \"ROEDORES/HIGIENE E BELEZA\", \"AVES/ACESSORIOS\", \"CAES/ACESSORIOS\", \"GATOS/ACESSORIOS\", \"PEIXES/ACESSORIOS\", \"PESSOAS/ACESSORIOS\", \"ROEDORES/ACESSORIOS\", \"AVES/ALIMENTOS\", \"CAES/ALIMENTOS\", \"GATOS/ALIMENTOS\", \"PEIXES/ALIMENTOS\", \"PESSOAS/ALIMENTOS\", \"ROEDORES/ALIMENTOS\", \"AVES/ANIMAL VIVO\", \"CAES/ANIMAL VIVO\", \"GATOS/ANIMAL VIVO\", \"PEIXES/ANIMAL VIVO\", \"PESSOAS/ANIMAL VIVO\", \"ROEDORES/ANIMAL VIVO\", \"AVES/AQUARIOS E ACESSORIOS\", \"CAES/AQUARIOS E ACESSORIOS\", \"GATOS/AQUARIOS E ACESSORIOS\", \"PEIXES/AQUARIOS E ACESSORIOS\", \"PESSOAS/AQUARIOS E ACESSORIOS\", \"ROEDORES/AQUARIOS E ACESSORIOS\", \"AVES/CASA\", \"CAES/CASA\", \"GATOS/CASA\", \"PEIXES/CASA\", \"PESSOAS/CASA\", \"ROEDORES/CASA\", \"AVES/FARMACIA\", \"CAES/FARMACIA\", \"GATOS/FARMACIA\", \"PEIXES/FARMACIA\", \"PESSOAS/FARMACIA\", \"ROEDORES/FARMACIA\", \"AVES/HIGIENE E BELEZA\", \"CAES/HIGIENE E BELEZA\", \"GATOS/HIGIENE E BELEZA\", \"PEIXES/HIGIENE E BELEZA\", \"PESSOAS/HIGIENE E BELEZA\", \"ROEDORES/HIGIENE E BELEZA\", \"AVES/ACESSORIOS\", \"CAES/ACESSORIOS\", \"GATOS/ACESSORIOS\", \"PEIXES/ACESSORIOS\", \"PESSOAS/ACESSORIOS\", \"ROEDORES/ACESSORIOS\", \"AVES/ALIMENTOS\", \"CAES/ALIMENTOS\", \"GATOS/ALIMENTOS\", \"PEIXES/ALIMENTOS\", \"PESSOAS/ALIMENTOS\", \"ROEDORES/ALIMENTOS\", \"AVES/ANIMAL VIVO\", \"CAES/ANIMAL VIVO\", \"GATOS/ANIMAL VIVO\", \"PEIXES/ANIMAL VIVO\", \"PESSOAS/ANIMAL VIVO\", \"ROEDORES/ANIMAL VIVO\", \"AVES/AQUARIOS E ACESSORIOS\", \"CAES/AQUARIOS E ACESSORIOS\", \"GATOS/AQUARIOS E ACESSORIOS\", \"PEIXES/AQUARIOS E ACESSORIOS\", \"PESSOAS/AQUARIOS E ACESSORIOS\", \"ROEDORES/AQUARIOS E ACESSORIOS\", \"AVES/CASA\", \"CAES/CASA\", \"GATOS/CASA\", \"PEIXES/CASA\", \"PESSOAS/CASA\", \"ROEDORES/CASA\", \"AVES/FARMACIA\", \"CAES/FARMACIA\", \"GATOS/FARMACIA\", \"PEIXES/FARMACIA\", \"PESSOAS/FARMACIA\", \"ROEDORES/FARMACIA\", \"AVES/HIGIENE E BELEZA\", \"CAES/HIGIENE E BELEZA\", \"GATOS/HIGIENE E BELEZA\", \"PEIXES/HIGIENE E BELEZA\", \"PESSOAS/HIGIENE E BELEZA\", \"ROEDORES/HIGIENE E BELEZA\", \"AVES\", \"CAES\", \"GATOS\", \"PEIXES\", \"PESSOAS\", \"ROEDORES\", \"AVES\", \"CAES\", \"GATOS\", \"PEIXES\", \"PESSOAS\", \"ROEDORES\", \"AVES\", \"CAES\", \"GATOS\", \"PEIXES\", \"PESSOAS\", \"ROEDORES\", \"AVES\", \"CAES\", \"GATOS\", \"PEIXES\", \"PESSOAS\", \"ROEDORES\", \"AVES\", \"CAES\", \"GATOS\", \"PEIXES\", \"PESSOAS\", \"ROEDORES\", \"AVES\", \"CAES\", \"GATOS\", \"PEIXES\", \"PESSOAS\", \"ROEDORES\", \"AVES\", \"CAES\", \"GATOS\", \"PEIXES\", \"PESSOAS\", \"ROEDORES\", \"\", \"\", \"\", \"\", \"\", \"\"], \"type\": \"sunburst\", \"values\": [null, null, null, null, null, null, null, null, null, null, null, null, null, null, null, null, null, null, null, null, null, null, null, null, null, null, null, null, null, null, null, null, null, null, null, 1.0, null, null, null, null, null, null, null, null, null, null, null, null, null, null, null, null, null, null, null, null, null, null, null, null, null, null, null, null, null, null, null, null, null, null, null, null, null, null, null, null, null, null, 1.0, null, null, null, null, null, null, null, null, null, null, null, null, null, null, null, null, null, 1.0, null, null, null, null, null, null, null, null, null, null, null, null, null, null, null, null, null, null, null, null, null, null, null, null, null, null, null, null, null, null, null, null, null, null, null, null, null, null, null, null, null, null, 1.0, null, null, null, null, null, null, null, null, null, null, null, null, null, null, null, null, null, null, null, null, null, null, null, null, null, null, null, null, null, null, null, null, null, null, null, null, null, null, null, null, null, null, null, null, null, null, null, null, null, null, null, null, null, null, null, null, null, null, null, null, null, null, null, null, null, null, null, null, null, 1.0, null, null, null, null, null, null, null, null, null, null, null, null, null, null, null, null, null, null, null, null, null, null, null, null, null, null, null, null, null, null, null, null, null, 1.0, null, null, null, null, null, null, null, null, null, null, null, null, null, null, null, null, null, null, null, null, null, null, null, null, null, 1.0, null, null, null, null, null, null, null, null, null, null, null, null, null, null, null, null, null, null, null, null, null, null, null, null, null, null, null, null, null, null, null, null, null, null, null, null, null, null, null, null, null, null, null, null, null, null, null, null, null, null, null, null, null, null, 1.0, null, null, null, null, null, null, null, null, null, null, null, null, null, null, null, 1.0, null, null, null, null, null, null, null, null, null, null, null, null, null, null, null, null, null, null, null, null, null, null, null, null, null, null, null, null, null, null, null, null, null, null, null, null, null, null, null, null, null, null, null, null, null, null, null, null, 1.0, null, null, null, null, null, null, null, null, null, null, null, null, null, null, null, null, null, null, null, null, null, null, null, null, null, null, null, null, null, null, null, null, null, null, null, null, null, null, null, null, 1.0, null, null, null, null, null, null, null, null, null, null, null, null, null, null, null, null, null, null, null, null, null, null, null, null, null, null, null, null, null, null, null, null, null, null, null, null, null, null, null, null, null, null, null, null, null, null, null, null, null, null, null, null, null, null, null, null, null, null, null, null, null, null, null, 1.0, null, null, null, null, null, null, null, null, null, null, null, null, null, null, null, null, null, null, null, null, null, null, null, null, null, null, null, null, null, null, null, null, null, null, null, null, null, 1.0, null, null, null, null, null, null, null, null, null, null, null, null, null, null, null, null, null, null, null, null, null, null, 1.0, null, null, null, null, null, null, null, null, null, null, null, null, null, null, null, null, null, null, null, null, null, null, null, null, null, null, null, null, null, null, null, null, null, null, null, null, null, null, 1.0, null, null, null, null, null, null, null, null, null, null, null, null, null, null, null, null, null, null, null, null, null, null, null, null, null, null, null, null, null, null, null, null, null, null, null, null, null, null, null, null, null, null, null, null, null, null, null, null, null, null, null, null, null, null, null, null, null, null, null, null, null, null, null, null, null, null, null, null, null, null, null, null, null, 1.0, null, null, null, null, null, null, null, null, 1.0, null, null, null, null, null, null, null, null, null, null, null, null, null, null, null, null, null, null, null, null, null, null, null, null, null, null, null, null, null, null, null, null, null, null, null, null, null, null, null, null, null, null, null, null, null, null, null, null, null, null, null, 1.0, null, null, null, null, null, null, null, null, null, null, null, null, null, null, null, null, null, null, null, null, null, null, null, null, null, null, null, null, null, null, null, null, null, null, 1.0, null, null, null, null, null, null, null, null, null, null, null, null, null, null, null, null, null, null, null, null, null, null, null, null, null, null, null, null, null, null, null, null, null, 1.0, null, null, null, null, null, null, null, null, null, null, null, null, null, null, null, null, null, null, null, null, null, null, null, null, null, null, null, null, null, null, null, null, null, null, null, null, null, null, null, null, null, null, null, null, null, null, null, null, null, null, null, null, null, null, null, null, null, null, null, null, null, null, 1.0, null, null, null, null, null, null, null, null, null, null, null, null, null, null, null, null, null, null, null, null, null, null, 1.0, null, null, null, null, null, null, null, null, null, null, null, null, null, null, null, null, null, null, null, null, null, null, null, null, null, null, null, null, null, null, null, null, null, null, null, null, null, null, null, null, null, null, null, null, null, null, null, null, null, null, null, null, null, null, null, null, null, null, null, null, null, null, null, null, null, null, null, null, null, null, null, null, null, null, null, null, 1.0, null, null, null, null, null, null, null, null, null, null, null, null, null, null, null, null, null, null, null, null, null, null, null, null, null, null, null, null, null, null, null, null, null, null, null, 1.0, null, null, null, null, null, null, null, null, null, null, null, null, null, null, null, null, null, 1.0, null, null, null, null, null, null, null, null, null, null, null, null, null, null, null, null, null, null, null, null, null, null, null, null, null, null, null, null, null, null, null, null, null, null, null, 1.0, null, null, null, null, null, null, null, null, null, null, null, null, null, null, null, null, null, null, null, null, null, null, null, null, null, null, null, null, null, null, null, null, null, null, null, null, null, null, null, null, 1.0, 1.0, 1.0, 1.0, 1.0, 1.0, 1.0, 1.0, 1.0, 1.0, 1.0, 1.0, 1.0, 1.0, 1.0, 1.0, 1.0, 1.0, 1.0, 1.0, 1.0, 1.0, 1.0, 1.0, 1.0, 1.0, 1.0, 1.0, 1.0, 1.0, 1.0, 1.0, 1.0, 1.0, 1.0, 1.0, 1.0, 1.0, 1.0, 1.0, 1.0, 1.0, 7.0, 7.0, 7.0, 7.0, 7.0, 7.0]}],\n",
              "                        {\"legend\": {\"tracegroupgap\": 0}, \"template\": {\"data\": {\"bar\": [{\"error_x\": {\"color\": \"#2a3f5f\"}, \"error_y\": {\"color\": \"#2a3f5f\"}, \"marker\": {\"line\": {\"color\": \"#E5ECF6\", \"width\": 0.5}}, \"type\": \"bar\"}], \"barpolar\": [{\"marker\": {\"line\": {\"color\": \"#E5ECF6\", \"width\": 0.5}}, \"type\": \"barpolar\"}], \"carpet\": [{\"aaxis\": {\"endlinecolor\": \"#2a3f5f\", \"gridcolor\": \"white\", \"linecolor\": \"white\", \"minorgridcolor\": \"white\", \"startlinecolor\": \"#2a3f5f\"}, \"baxis\": {\"endlinecolor\": \"#2a3f5f\", \"gridcolor\": \"white\", \"linecolor\": \"white\", \"minorgridcolor\": \"white\", \"startlinecolor\": \"#2a3f5f\"}, \"type\": \"carpet\"}], \"choropleth\": [{\"colorbar\": {\"outlinewidth\": 0, \"ticks\": \"\"}, \"type\": \"choropleth\"}], \"contour\": [{\"colorbar\": {\"outlinewidth\": 0, \"ticks\": \"\"}, \"colorscale\": [[0.0, \"#0d0887\"], [0.1111111111111111, \"#46039f\"], [0.2222222222222222, \"#7201a8\"], [0.3333333333333333, \"#9c179e\"], [0.4444444444444444, \"#bd3786\"], [0.5555555555555556, \"#d8576b\"], [0.6666666666666666, \"#ed7953\"], [0.7777777777777778, \"#fb9f3a\"], [0.8888888888888888, \"#fdca26\"], [1.0, \"#f0f921\"]], \"type\": \"contour\"}], \"contourcarpet\": [{\"colorbar\": {\"outlinewidth\": 0, \"ticks\": \"\"}, \"type\": \"contourcarpet\"}], \"heatmap\": [{\"colorbar\": {\"outlinewidth\": 0, \"ticks\": \"\"}, \"colorscale\": [[0.0, \"#0d0887\"], [0.1111111111111111, \"#46039f\"], [0.2222222222222222, \"#7201a8\"], [0.3333333333333333, \"#9c179e\"], [0.4444444444444444, \"#bd3786\"], [0.5555555555555556, \"#d8576b\"], [0.6666666666666666, \"#ed7953\"], [0.7777777777777778, \"#fb9f3a\"], [0.8888888888888888, \"#fdca26\"], [1.0, \"#f0f921\"]], \"type\": \"heatmap\"}], \"heatmapgl\": [{\"colorbar\": {\"outlinewidth\": 0, \"ticks\": \"\"}, \"colorscale\": [[0.0, \"#0d0887\"], [0.1111111111111111, \"#46039f\"], [0.2222222222222222, \"#7201a8\"], [0.3333333333333333, \"#9c179e\"], [0.4444444444444444, \"#bd3786\"], [0.5555555555555556, \"#d8576b\"], [0.6666666666666666, \"#ed7953\"], [0.7777777777777778, \"#fb9f3a\"], [0.8888888888888888, \"#fdca26\"], [1.0, \"#f0f921\"]], \"type\": \"heatmapgl\"}], \"histogram\": [{\"marker\": {\"colorbar\": {\"outlinewidth\": 0, \"ticks\": \"\"}}, \"type\": \"histogram\"}], \"histogram2d\": [{\"colorbar\": {\"outlinewidth\": 0, \"ticks\": \"\"}, \"colorscale\": [[0.0, \"#0d0887\"], [0.1111111111111111, \"#46039f\"], [0.2222222222222222, \"#7201a8\"], [0.3333333333333333, \"#9c179e\"], [0.4444444444444444, \"#bd3786\"], [0.5555555555555556, \"#d8576b\"], [0.6666666666666666, \"#ed7953\"], [0.7777777777777778, \"#fb9f3a\"], [0.8888888888888888, \"#fdca26\"], [1.0, \"#f0f921\"]], \"type\": \"histogram2d\"}], \"histogram2dcontour\": [{\"colorbar\": {\"outlinewidth\": 0, \"ticks\": \"\"}, \"colorscale\": [[0.0, \"#0d0887\"], [0.1111111111111111, \"#46039f\"], [0.2222222222222222, \"#7201a8\"], [0.3333333333333333, \"#9c179e\"], [0.4444444444444444, \"#bd3786\"], [0.5555555555555556, \"#d8576b\"], [0.6666666666666666, \"#ed7953\"], [0.7777777777777778, \"#fb9f3a\"], [0.8888888888888888, \"#fdca26\"], [1.0, \"#f0f921\"]], \"type\": \"histogram2dcontour\"}], \"mesh3d\": [{\"colorbar\": {\"outlinewidth\": 0, \"ticks\": \"\"}, \"type\": \"mesh3d\"}], \"parcoords\": [{\"line\": {\"colorbar\": {\"outlinewidth\": 0, \"ticks\": \"\"}}, \"type\": \"parcoords\"}], \"pie\": [{\"automargin\": true, \"type\": \"pie\"}], \"scatter\": [{\"marker\": {\"colorbar\": {\"outlinewidth\": 0, \"ticks\": \"\"}}, \"type\": \"scatter\"}], \"scatter3d\": [{\"line\": {\"colorbar\": {\"outlinewidth\": 0, \"ticks\": \"\"}}, \"marker\": {\"colorbar\": {\"outlinewidth\": 0, \"ticks\": \"\"}}, \"type\": \"scatter3d\"}], \"scattercarpet\": [{\"marker\": {\"colorbar\": {\"outlinewidth\": 0, \"ticks\": \"\"}}, \"type\": \"scattercarpet\"}], \"scattergeo\": [{\"marker\": {\"colorbar\": {\"outlinewidth\": 0, \"ticks\": \"\"}}, \"type\": \"scattergeo\"}], \"scattergl\": [{\"marker\": {\"colorbar\": {\"outlinewidth\": 0, \"ticks\": \"\"}}, \"type\": \"scattergl\"}], \"scattermapbox\": [{\"marker\": {\"colorbar\": {\"outlinewidth\": 0, \"ticks\": \"\"}}, \"type\": \"scattermapbox\"}], \"scatterpolar\": [{\"marker\": {\"colorbar\": {\"outlinewidth\": 0, \"ticks\": \"\"}}, \"type\": \"scatterpolar\"}], \"scatterpolargl\": [{\"marker\": {\"colorbar\": {\"outlinewidth\": 0, \"ticks\": \"\"}}, \"type\": \"scatterpolargl\"}], \"scatterternary\": [{\"marker\": {\"colorbar\": {\"outlinewidth\": 0, \"ticks\": \"\"}}, \"type\": \"scatterternary\"}], \"surface\": [{\"colorbar\": {\"outlinewidth\": 0, \"ticks\": \"\"}, \"colorscale\": [[0.0, \"#0d0887\"], [0.1111111111111111, \"#46039f\"], [0.2222222222222222, \"#7201a8\"], [0.3333333333333333, \"#9c179e\"], [0.4444444444444444, \"#bd3786\"], [0.5555555555555556, \"#d8576b\"], [0.6666666666666666, \"#ed7953\"], [0.7777777777777778, \"#fb9f3a\"], [0.8888888888888888, \"#fdca26\"], [1.0, \"#f0f921\"]], \"type\": \"surface\"}], \"table\": [{\"cells\": {\"fill\": {\"color\": \"#EBF0F8\"}, \"line\": {\"color\": \"white\"}}, \"header\": {\"fill\": {\"color\": \"#C8D4E3\"}, \"line\": {\"color\": \"white\"}}, \"type\": \"table\"}]}, \"layout\": {\"annotationdefaults\": {\"arrowcolor\": \"#2a3f5f\", \"arrowhead\": 0, \"arrowwidth\": 1}, \"coloraxis\": {\"colorbar\": {\"outlinewidth\": 0, \"ticks\": \"\"}}, \"colorscale\": {\"diverging\": [[0, \"#8e0152\"], [0.1, \"#c51b7d\"], [0.2, \"#de77ae\"], [0.3, \"#f1b6da\"], [0.4, \"#fde0ef\"], [0.5, \"#f7f7f7\"], [0.6, \"#e6f5d0\"], [0.7, \"#b8e186\"], [0.8, \"#7fbc41\"], [0.9, \"#4d9221\"], [1, \"#276419\"]], \"sequential\": [[0.0, \"#0d0887\"], [0.1111111111111111, \"#46039f\"], [0.2222222222222222, \"#7201a8\"], [0.3333333333333333, \"#9c179e\"], [0.4444444444444444, \"#bd3786\"], [0.5555555555555556, \"#d8576b\"], [0.6666666666666666, \"#ed7953\"], [0.7777777777777778, \"#fb9f3a\"], [0.8888888888888888, \"#fdca26\"], [1.0, \"#f0f921\"]], \"sequentialminus\": [[0.0, \"#0d0887\"], [0.1111111111111111, \"#46039f\"], [0.2222222222222222, \"#7201a8\"], [0.3333333333333333, \"#9c179e\"], [0.4444444444444444, \"#bd3786\"], [0.5555555555555556, \"#d8576b\"], [0.6666666666666666, \"#ed7953\"], [0.7777777777777778, \"#fb9f3a\"], [0.8888888888888888, \"#fdca26\"], [1.0, \"#f0f921\"]]}, \"colorway\": [\"#636efa\", \"#EF553B\", \"#00cc96\", \"#ab63fa\", \"#FFA15A\", \"#19d3f3\", \"#FF6692\", \"#B6E880\", \"#FF97FF\", \"#FECB52\"], \"font\": {\"color\": \"#2a3f5f\"}, \"geo\": {\"bgcolor\": \"white\", \"lakecolor\": \"white\", \"landcolor\": \"#E5ECF6\", \"showlakes\": true, \"showland\": true, \"subunitcolor\": \"white\"}, \"hoverlabel\": {\"align\": \"left\"}, \"hovermode\": \"closest\", \"mapbox\": {\"style\": \"light\"}, \"paper_bgcolor\": \"white\", \"plot_bgcolor\": \"#E5ECF6\", \"polar\": {\"angularaxis\": {\"gridcolor\": \"white\", \"linecolor\": \"white\", \"ticks\": \"\"}, \"bgcolor\": \"#E5ECF6\", \"radialaxis\": {\"gridcolor\": \"white\", \"linecolor\": \"white\", \"ticks\": \"\"}}, \"scene\": {\"xaxis\": {\"backgroundcolor\": \"#E5ECF6\", \"gridcolor\": \"white\", \"gridwidth\": 2, \"linecolor\": \"white\", \"showbackground\": true, \"ticks\": \"\", \"zerolinecolor\": \"white\"}, \"yaxis\": {\"backgroundcolor\": \"#E5ECF6\", \"gridcolor\": \"white\", \"gridwidth\": 2, \"linecolor\": \"white\", \"showbackground\": true, \"ticks\": \"\", \"zerolinecolor\": \"white\"}, \"zaxis\": {\"backgroundcolor\": \"#E5ECF6\", \"gridcolor\": \"white\", \"gridwidth\": 2, \"linecolor\": \"white\", \"showbackground\": true, \"ticks\": \"\", \"zerolinecolor\": \"white\"}}, \"shapedefaults\": {\"line\": {\"color\": \"#2a3f5f\"}}, \"ternary\": {\"aaxis\": {\"gridcolor\": \"white\", \"linecolor\": \"white\", \"ticks\": \"\"}, \"baxis\": {\"gridcolor\": \"white\", \"linecolor\": \"white\", \"ticks\": \"\"}, \"bgcolor\": \"#E5ECF6\", \"caxis\": {\"gridcolor\": \"white\", \"linecolor\": \"white\", \"ticks\": \"\"}}, \"title\": {\"x\": 0.05}, \"xaxis\": {\"automargin\": true, \"gridcolor\": \"white\", \"linecolor\": \"white\", \"ticks\": \"\", \"title\": {\"standoff\": 15}, \"zerolinecolor\": \"white\", \"zerolinewidth\": 2}, \"yaxis\": {\"automargin\": true, \"gridcolor\": \"white\", \"linecolor\": \"white\", \"ticks\": \"\", \"title\": {\"standoff\": 15}, \"zerolinecolor\": \"white\", \"zerolinewidth\": 2}}}, \"title\": {\"text\": \"Tipos diferentes de Produtos por area\"}},\n",
              "                        {\"responsive\": true}\n",
              "                    ).then(function(){\n",
              "                            \n",
              "var gd = document.getElementById('5784d0dc-3642-4344-82ac-eba66ab8c9e4');\n",
              "var x = new MutationObserver(function (mutations, observer) {{\n",
              "        var display = window.getComputedStyle(gd).display;\n",
              "        if (!display || display === 'none') {{\n",
              "            console.log([gd, 'removed!']);\n",
              "            Plotly.purge(gd);\n",
              "            observer.disconnect();\n",
              "        }}\n",
              "}});\n",
              "\n",
              "// Listen for the removal of the full notebook cells\n",
              "var notebookContainer = gd.closest('#notebook-container');\n",
              "if (notebookContainer) {{\n",
              "    x.observe(notebookContainer, {childList: true});\n",
              "}}\n",
              "\n",
              "// Listen for the clearing of the current output cell\n",
              "var outputEl = gd.closest('.output');\n",
              "if (outputEl) {{\n",
              "    x.observe(outputEl, {childList: true});\n",
              "}}\n",
              "\n",
              "                        })\n",
              "                };\n",
              "                \n",
              "            </script>\n",
              "        </div>\n",
              "</body>\n",
              "</html>"
            ]
          },
          "metadata": {
            "tags": []
          }
        }
      ]
    },
    {
      "cell_type": "markdown",
      "metadata": {
        "id": "pRTLtrAfhtkO"
      },
      "source": [
        "## Vendas\n",
        "**resumo:**\n",
        "\n",
        "\n",
        "1.   Percebe-se um perfil um pouco diferente entre os \n",
        "> **compradores online:** mais compras nos dias de semana e um destaque maior para produtos para gatos\n",
        ">\n",
        "> **compradores fisico:** vendas altas aos sabados (20% do total) \n",
        ">\n",
        "> **Geral:** Vendas fracas aos domingos\n",
        "2.   vendas em pequenas quantidades (<=5) representam cerca de 88% do total de vendas e 63% do volume de vendas\n",
        "3.   Setores com maior volume de vendas:\n",
        "```\n",
        "    RACOES                            676084\n",
        "    HIGIENE E LIMPEZA                 192297\n",
        "    PETISCOS E OSSINHOS               174073\n",
        "    BRINQUEDOS                        106844\n",
        "```\n",
        "4.   Tipo de produtos mais procurados:\n",
        "> **Tapetes Higienicos** CAES e **Areia** GATO \n",
        "5.   Tipo de produtos mais vendidos (*ID_PRODUTO*):\n",
        "> **RACAO UMIDA (SACHES E LATAS)** CAES (*16950*) E GATO (*14588, 13744*)\n",
        ">\n",
        "> **Tapetes Higienicos** CAES (*17804*) e **Areia** GATO (*26809, 31962*)\n",
        "\n",
        "**Propostas:**\n",
        "\n",
        "\n",
        "1.   Promoções aos Domingos (no setor de banho e tosa, por exemplo) poderiam aumentar as vendas aos Domingos\n",
        "2.   Promoções para compras em quantidade (leve 3 pague 2) poderiam incentivar compras maiores\n",
        "3.   Investir sempre em ter uma seção com boa qualidade e bastante diversificada de **alimentos** (principalmente umida) e produtos de higiene, ja que são os produtos mais buscados e vendidos\n",
        "4.   Aumentar a oferta de produtos para gatos\n",
        "5.   Alinhar a disponibilidade e variedade de produtos com a quantidade de vendas\n",
        "\n",
        "\n",
        "\n",
        "\n",
        "\n"
      ]
    },
    {
      "cell_type": "code",
      "metadata": {
        "colab": {
          "base_uri": "https://localhost:8080/"
        },
        "id": "wmpPLF1sbjT1",
        "outputId": "2e6db7ba-cb13-4633-e34c-8a90ba372910"
      },
      "source": [
        "prod.loc[[14588, 16950, 26809, 31962, 17804, 13744]]"
      ],
      "execution_count": null,
      "outputs": [
        {
          "output_type": "execute_result",
          "data": {
            "text/html": [
              "<div>\n",
              "<style scoped>\n",
              "    .dataframe tbody tr th:only-of-type {\n",
              "        vertical-align: middle;\n",
              "    }\n",
              "\n",
              "    .dataframe tbody tr th {\n",
              "        vertical-align: top;\n",
              "    }\n",
              "\n",
              "    .dataframe thead th {\n",
              "        text-align: right;\n",
              "    }\n",
              "</style>\n",
              "<table border=\"1\" class=\"dataframe\">\n",
              "  <thead>\n",
              "    <tr style=\"text-align: right;\">\n",
              "      <th></th>\n",
              "      <th>UNIDADE</th>\n",
              "      <th>NIVEL 1</th>\n",
              "      <th>NIVEL 2</th>\n",
              "      <th>NIVEL 3</th>\n",
              "      <th>NIVEL 4</th>\n",
              "    </tr>\n",
              "    <tr>\n",
              "      <th>ID_PRODUTO</th>\n",
              "      <th></th>\n",
              "      <th></th>\n",
              "      <th></th>\n",
              "      <th></th>\n",
              "      <th></th>\n",
              "    </tr>\n",
              "  </thead>\n",
              "  <tbody>\n",
              "    <tr>\n",
              "      <th>14588</th>\n",
              "      <td>UN</td>\n",
              "      <td>GATOS</td>\n",
              "      <td>ALIMENTOS</td>\n",
              "      <td>RACOES</td>\n",
              "      <td>RACAO UMIDA (SACHES E LATAS)</td>\n",
              "    </tr>\n",
              "    <tr>\n",
              "      <th>16950</th>\n",
              "      <td>UN</td>\n",
              "      <td>CAES</td>\n",
              "      <td>ALIMENTOS</td>\n",
              "      <td>RACOES</td>\n",
              "      <td>RACAO UMIDA (SACHES E LATAS)</td>\n",
              "    </tr>\n",
              "    <tr>\n",
              "      <th>26809</th>\n",
              "      <td>UN</td>\n",
              "      <td>GATOS</td>\n",
              "      <td>HIGIENE E BELEZA</td>\n",
              "      <td>HIGIENE E LIMPEZA</td>\n",
              "      <td>AREIAS E GRANULADOS</td>\n",
              "    </tr>\n",
              "    <tr>\n",
              "      <th>31962</th>\n",
              "      <td>UN</td>\n",
              "      <td>GATOS</td>\n",
              "      <td>HIGIENE E BELEZA</td>\n",
              "      <td>HIGIENE E LIMPEZA</td>\n",
              "      <td>AREIAS E GRANULADOS</td>\n",
              "    </tr>\n",
              "    <tr>\n",
              "      <th>17804</th>\n",
              "      <td>UN</td>\n",
              "      <td>CAES</td>\n",
              "      <td>HIGIENE E BELEZA</td>\n",
              "      <td>HIGIENE E LIMPEZA</td>\n",
              "      <td>TAPETES HIGIENICOS</td>\n",
              "    </tr>\n",
              "    <tr>\n",
              "      <th>13744</th>\n",
              "      <td>UN</td>\n",
              "      <td>GATOS</td>\n",
              "      <td>ALIMENTOS</td>\n",
              "      <td>RACOES</td>\n",
              "      <td>RACAO UMIDA (SACHES E LATAS)</td>\n",
              "    </tr>\n",
              "  </tbody>\n",
              "</table>\n",
              "</div>"
            ],
            "text/plain": [
              "           UNIDADE NIVEL 1  ...            NIVEL 3                       NIVEL 4\n",
              "ID_PRODUTO                  ...                                                 \n",
              "14588           UN   GATOS  ...             RACOES  RACAO UMIDA (SACHES E LATAS)\n",
              "16950           UN    CAES  ...             RACOES  RACAO UMIDA (SACHES E LATAS)\n",
              "26809           UN   GATOS  ...  HIGIENE E LIMPEZA           AREIAS E GRANULADOS\n",
              "31962           UN   GATOS  ...  HIGIENE E LIMPEZA           AREIAS E GRANULADOS\n",
              "17804           UN    CAES  ...  HIGIENE E LIMPEZA            TAPETES HIGIENICOS\n",
              "13744           UN   GATOS  ...             RACOES  RACAO UMIDA (SACHES E LATAS)\n",
              "\n",
              "[6 rows x 5 columns]"
            ]
          },
          "metadata": {
            "tags": []
          },
          "execution_count": 41
        }
      ]
    },
    {
      "cell_type": "markdown",
      "metadata": {
        "id": "EyY3-oVGCBB_"
      },
      "source": [
        "### Geral"
      ]
    },
    {
      "cell_type": "code",
      "metadata": {
        "colab": {
          "base_uri": "https://localhost:8080/"
        },
        "id": "dGyfsJhWh2-a",
        "outputId": "3ec3f2d8-4842-467a-def2-cd3626fa2e63"
      },
      "source": [
        "vendas.head()"
      ],
      "execution_count": null,
      "outputs": [
        {
          "output_type": "execute_result",
          "data": {
            "text/html": [
              "<div>\n",
              "<style scoped>\n",
              "    .dataframe tbody tr th:only-of-type {\n",
              "        vertical-align: middle;\n",
              "    }\n",
              "\n",
              "    .dataframe tbody tr th {\n",
              "        vertical-align: top;\n",
              "    }\n",
              "\n",
              "    .dataframe thead th {\n",
              "        text-align: right;\n",
              "    }\n",
              "</style>\n",
              "<table border=\"1\" class=\"dataframe\">\n",
              "  <thead>\n",
              "    <tr style=\"text-align: right;\">\n",
              "      <th></th>\n",
              "      <th>DATA_VENDA</th>\n",
              "      <th>ID_CLIENTE</th>\n",
              "      <th>ID_PRODUTO</th>\n",
              "      <th>QUANTIDADE</th>\n",
              "      <th>CATEGORIA_VENDA</th>\n",
              "      <th>weekday</th>\n",
              "    </tr>\n",
              "    <tr>\n",
              "      <th>ID_VENDA</th>\n",
              "      <th></th>\n",
              "      <th></th>\n",
              "      <th></th>\n",
              "      <th></th>\n",
              "      <th></th>\n",
              "      <th></th>\n",
              "    </tr>\n",
              "  </thead>\n",
              "  <tbody>\n",
              "    <tr>\n",
              "      <th>0</th>\n",
              "      <td>2021-02-10</td>\n",
              "      <td>46618.0</td>\n",
              "      <td>6669</td>\n",
              "      <td>1</td>\n",
              "      <td>E-COMMERCE</td>\n",
              "      <td>Wednesday</td>\n",
              "    </tr>\n",
              "    <tr>\n",
              "      <th>0</th>\n",
              "      <td>2021-02-10</td>\n",
              "      <td>46618.0</td>\n",
              "      <td>7394</td>\n",
              "      <td>1</td>\n",
              "      <td>E-COMMERCE</td>\n",
              "      <td>Wednesday</td>\n",
              "    </tr>\n",
              "    <tr>\n",
              "      <th>1</th>\n",
              "      <td>2021-02-12</td>\n",
              "      <td>70969.0</td>\n",
              "      <td>20460</td>\n",
              "      <td>1</td>\n",
              "      <td>E-COMMERCE</td>\n",
              "      <td>Friday</td>\n",
              "    </tr>\n",
              "    <tr>\n",
              "      <th>2</th>\n",
              "      <td>2021-02-12</td>\n",
              "      <td>43436.0</td>\n",
              "      <td>7478</td>\n",
              "      <td>1</td>\n",
              "      <td>E-COMMERCE</td>\n",
              "      <td>Friday</td>\n",
              "    </tr>\n",
              "    <tr>\n",
              "      <th>2</th>\n",
              "      <td>2021-02-12</td>\n",
              "      <td>43436.0</td>\n",
              "      <td>3198</td>\n",
              "      <td>1</td>\n",
              "      <td>E-COMMERCE</td>\n",
              "      <td>Friday</td>\n",
              "    </tr>\n",
              "  </tbody>\n",
              "</table>\n",
              "</div>"
            ],
            "text/plain": [
              "         DATA_VENDA  ID_CLIENTE  ...       CATEGORIA_VENDA    weekday\n",
              "ID_VENDA                         ...                                 \n",
              "0        2021-02-10     46618.0  ...  E-COMMERCE            Wednesday\n",
              "0        2021-02-10     46618.0  ...  E-COMMERCE            Wednesday\n",
              "1        2021-02-12     70969.0  ...  E-COMMERCE               Friday\n",
              "2        2021-02-12     43436.0  ...  E-COMMERCE               Friday\n",
              "2        2021-02-12     43436.0  ...  E-COMMERCE               Friday\n",
              "\n",
              "[5 rows x 6 columns]"
            ]
          },
          "metadata": {
            "tags": []
          },
          "execution_count": 42
        }
      ]
    },
    {
      "cell_type": "code",
      "metadata": {
        "colab": {
          "base_uri": "https://localhost:8080/"
        },
        "id": "q9ZeEL8Rniiq",
        "outputId": "b3cbecf5-3403-41c2-a4ce-290a26857637"
      },
      "source": [
        "vendas.groupby(\"ID_PRODUTO\").agg({\"QUANTIDADE\": \"sum\"}).sort_values(by = \"QUANTIDADE\",\n",
        "                                                                    ascending = False)"
      ],
      "execution_count": null,
      "outputs": [
        {
          "output_type": "execute_result",
          "data": {
            "text/html": [
              "<div>\n",
              "<style scoped>\n",
              "    .dataframe tbody tr th:only-of-type {\n",
              "        vertical-align: middle;\n",
              "    }\n",
              "\n",
              "    .dataframe tbody tr th {\n",
              "        vertical-align: top;\n",
              "    }\n",
              "\n",
              "    .dataframe thead th {\n",
              "        text-align: right;\n",
              "    }\n",
              "</style>\n",
              "<table border=\"1\" class=\"dataframe\">\n",
              "  <thead>\n",
              "    <tr style=\"text-align: right;\">\n",
              "      <th></th>\n",
              "      <th>QUANTIDADE</th>\n",
              "    </tr>\n",
              "    <tr>\n",
              "      <th>ID_PRODUTO</th>\n",
              "      <th></th>\n",
              "    </tr>\n",
              "  </thead>\n",
              "  <tbody>\n",
              "    <tr>\n",
              "      <th>14588</th>\n",
              "      <td>14588</td>\n",
              "    </tr>\n",
              "    <tr>\n",
              "      <th>16950</th>\n",
              "      <td>9861</td>\n",
              "    </tr>\n",
              "    <tr>\n",
              "      <th>26809</th>\n",
              "      <td>7770</td>\n",
              "    </tr>\n",
              "    <tr>\n",
              "      <th>31962</th>\n",
              "      <td>7026</td>\n",
              "    </tr>\n",
              "    <tr>\n",
              "      <th>13744</th>\n",
              "      <td>6878</td>\n",
              "    </tr>\n",
              "    <tr>\n",
              "      <th>...</th>\n",
              "      <td>...</td>\n",
              "    </tr>\n",
              "    <tr>\n",
              "      <th>25651</th>\n",
              "      <td>1</td>\n",
              "    </tr>\n",
              "    <tr>\n",
              "      <th>25648</th>\n",
              "      <td>1</td>\n",
              "    </tr>\n",
              "    <tr>\n",
              "      <th>25646</th>\n",
              "      <td>1</td>\n",
              "    </tr>\n",
              "    <tr>\n",
              "      <th>25643</th>\n",
              "      <td>1</td>\n",
              "    </tr>\n",
              "    <tr>\n",
              "      <th>36260</th>\n",
              "      <td>1</td>\n",
              "    </tr>\n",
              "  </tbody>\n",
              "</table>\n",
              "<p>20322 rows × 1 columns</p>\n",
              "</div>"
            ],
            "text/plain": [
              "            QUANTIDADE\n",
              "ID_PRODUTO            \n",
              "14588            14588\n",
              "16950             9861\n",
              "26809             7770\n",
              "31962             7026\n",
              "13744             6878\n",
              "...                ...\n",
              "25651                1\n",
              "25648                1\n",
              "25646                1\n",
              "25643                1\n",
              "36260                1\n",
              "\n",
              "[20322 rows x 1 columns]"
            ]
          },
          "metadata": {
            "tags": []
          },
          "execution_count": 43
        }
      ]
    },
    {
      "cell_type": "code",
      "metadata": {
        "colab": {
          "base_uri": "https://localhost:8080/"
        },
        "id": "usTVPTY3oEoz",
        "outputId": "a3350dd4-48f2-4851-bc32-226dfd901f83"
      },
      "source": [
        "vendas[vendas[\"ID_PRODUTO\"] == 14588].sort_values(by = \"QUANTIDADE\", ascending = False)"
      ],
      "execution_count": null,
      "outputs": [
        {
          "output_type": "execute_result",
          "data": {
            "text/html": [
              "<div>\n",
              "<style scoped>\n",
              "    .dataframe tbody tr th:only-of-type {\n",
              "        vertical-align: middle;\n",
              "    }\n",
              "\n",
              "    .dataframe tbody tr th {\n",
              "        vertical-align: top;\n",
              "    }\n",
              "\n",
              "    .dataframe thead th {\n",
              "        text-align: right;\n",
              "    }\n",
              "</style>\n",
              "<table border=\"1\" class=\"dataframe\">\n",
              "  <thead>\n",
              "    <tr style=\"text-align: right;\">\n",
              "      <th></th>\n",
              "      <th>DATA_VENDA</th>\n",
              "      <th>ID_CLIENTE</th>\n",
              "      <th>ID_PRODUTO</th>\n",
              "      <th>QUANTIDADE</th>\n",
              "      <th>CATEGORIA_VENDA</th>\n",
              "      <th>weekday</th>\n",
              "    </tr>\n",
              "    <tr>\n",
              "      <th>ID_VENDA</th>\n",
              "      <th></th>\n",
              "      <th></th>\n",
              "      <th></th>\n",
              "      <th></th>\n",
              "      <th></th>\n",
              "      <th></th>\n",
              "    </tr>\n",
              "  </thead>\n",
              "  <tbody>\n",
              "    <tr>\n",
              "      <th>363365</th>\n",
              "      <td>2021-02-11</td>\n",
              "      <td>34540.0</td>\n",
              "      <td>14588</td>\n",
              "      <td>60</td>\n",
              "      <td>FÍSICO</td>\n",
              "      <td>Thursday</td>\n",
              "    </tr>\n",
              "    <tr>\n",
              "      <th>364807</th>\n",
              "      <td>2021-05-05</td>\n",
              "      <td>34540.0</td>\n",
              "      <td>14588</td>\n",
              "      <td>60</td>\n",
              "      <td>FÍSICO</td>\n",
              "      <td>Wednesday</td>\n",
              "    </tr>\n",
              "    <tr>\n",
              "      <th>449518</th>\n",
              "      <td>2021-06-12</td>\n",
              "      <td>76354.0</td>\n",
              "      <td>14588</td>\n",
              "      <td>60</td>\n",
              "      <td>FÍSICO</td>\n",
              "      <td>Saturday</td>\n",
              "    </tr>\n",
              "    <tr>\n",
              "      <th>554038</th>\n",
              "      <td>2020-12-04</td>\n",
              "      <td>30594.0</td>\n",
              "      <td>14588</td>\n",
              "      <td>59</td>\n",
              "      <td>FÍSICO</td>\n",
              "      <td>Friday</td>\n",
              "    </tr>\n",
              "    <tr>\n",
              "      <th>416203</th>\n",
              "      <td>2020-09-02</td>\n",
              "      <td>NaN</td>\n",
              "      <td>14588</td>\n",
              "      <td>58</td>\n",
              "      <td>FÍSICO</td>\n",
              "      <td>Wednesday</td>\n",
              "    </tr>\n",
              "    <tr>\n",
              "      <th>...</th>\n",
              "      <td>...</td>\n",
              "      <td>...</td>\n",
              "      <td>...</td>\n",
              "      <td>...</td>\n",
              "      <td>...</td>\n",
              "      <td>...</td>\n",
              "    </tr>\n",
              "    <tr>\n",
              "      <th>381274</th>\n",
              "      <td>2020-01-09</td>\n",
              "      <td>NaN</td>\n",
              "      <td>14588</td>\n",
              "      <td>1</td>\n",
              "      <td>FÍSICO</td>\n",
              "      <td>Thursday</td>\n",
              "    </tr>\n",
              "    <tr>\n",
              "      <th>380771</th>\n",
              "      <td>2020-01-04</td>\n",
              "      <td>NaN</td>\n",
              "      <td>14588</td>\n",
              "      <td>1</td>\n",
              "      <td>FÍSICO</td>\n",
              "      <td>Saturday</td>\n",
              "    </tr>\n",
              "    <tr>\n",
              "      <th>380739</th>\n",
              "      <td>2020-01-04</td>\n",
              "      <td>NaN</td>\n",
              "      <td>14588</td>\n",
              "      <td>1</td>\n",
              "      <td>FÍSICO</td>\n",
              "      <td>Saturday</td>\n",
              "    </tr>\n",
              "    <tr>\n",
              "      <th>380469</th>\n",
              "      <td>2020-01-02</td>\n",
              "      <td>NaN</td>\n",
              "      <td>14588</td>\n",
              "      <td>1</td>\n",
              "      <td>FÍSICO</td>\n",
              "      <td>Thursday</td>\n",
              "    </tr>\n",
              "    <tr>\n",
              "      <th>388</th>\n",
              "      <td>2020-11-09</td>\n",
              "      <td>4790.0</td>\n",
              "      <td>14588</td>\n",
              "      <td>1</td>\n",
              "      <td>FÍSICO</td>\n",
              "      <td>Monday</td>\n",
              "    </tr>\n",
              "  </tbody>\n",
              "</table>\n",
              "<p>3331 rows × 6 columns</p>\n",
              "</div>"
            ],
            "text/plain": [
              "         DATA_VENDA  ID_CLIENTE  ...       CATEGORIA_VENDA    weekday\n",
              "ID_VENDA                         ...                                 \n",
              "363365   2021-02-11     34540.0  ...  FÍSICO                 Thursday\n",
              "364807   2021-05-05     34540.0  ...  FÍSICO                Wednesday\n",
              "449518   2021-06-12     76354.0  ...  FÍSICO                 Saturday\n",
              "554038   2020-12-04     30594.0  ...  FÍSICO                   Friday\n",
              "416203   2020-09-02         NaN  ...  FÍSICO                Wednesday\n",
              "...             ...         ...  ...                   ...        ...\n",
              "381274   2020-01-09         NaN  ...  FÍSICO                 Thursday\n",
              "380771   2020-01-04         NaN  ...  FÍSICO                 Saturday\n",
              "380739   2020-01-04         NaN  ...  FÍSICO                 Saturday\n",
              "380469   2020-01-02         NaN  ...  FÍSICO                 Thursday\n",
              "388      2020-11-09      4790.0  ...  FÍSICO                   Monday\n",
              "\n",
              "[3331 rows x 6 columns]"
            ]
          },
          "metadata": {
            "tags": []
          },
          "execution_count": 44
        }
      ]
    },
    {
      "cell_type": "code",
      "metadata": {
        "colab": {
          "base_uri": "https://localhost:8080/"
        },
        "id": "_Auv80R8ohv1",
        "outputId": "f2d055b1-1219-46cb-ad24-3d25046f9d36"
      },
      "source": [
        "prod.loc[14588]"
      ],
      "execution_count": null,
      "outputs": [
        {
          "output_type": "execute_result",
          "data": {
            "text/plain": [
              "UNIDADE                              UN\n",
              "NIVEL 1                           GATOS\n",
              "NIVEL 2                       ALIMENTOS\n",
              "NIVEL 3                          RACOES\n",
              "NIVEL 4    RACAO UMIDA (SACHES E LATAS)\n",
              "Name: 14588, dtype: object"
            ]
          },
          "metadata": {
            "tags": []
          },
          "execution_count": 45
        }
      ]
    },
    {
      "cell_type": "code",
      "metadata": {
        "colab": {
          "base_uri": "https://localhost:8080/"
        },
        "id": "_5VcCvU7n65W",
        "outputId": "824e4326-f313-404b-f093-a0b94c1bdddf"
      },
      "source": [
        "# existem mais de 10 000 items provavelmente com vendas muito ruins\n",
        "# tambem pode ser algum problema de cadastros repetidos ou items que sairam de linha\n",
        "n_vendas = vendas[\"ID_PRODUTO\"].value_counts(ascending = False)\n",
        "n_vendas[n_vendas < 10]"
      ],
      "execution_count": null,
      "outputs": [
        {
          "output_type": "execute_result",
          "data": {
            "text/plain": [
              "901      9\n",
              "18470    9\n",
              "2170     9\n",
              "29368    9\n",
              "32087    9\n",
              "        ..\n",
              "6539     1\n",
              "17792    1\n",
              "25391    1\n",
              "20867    1\n",
              "10043    1\n",
              "Name: ID_PRODUTO, Length: 10018, dtype: int64"
            ]
          },
          "metadata": {
            "tags": []
          },
          "execution_count": 46
        }
      ]
    },
    {
      "cell_type": "code",
      "metadata": {
        "colab": {
          "base_uri": "https://localhost:8080/"
        },
        "id": "cO8RR-tT4HCj",
        "outputId": "8ae4b4e1-2927-4e73-bd77-11a6f62f0616"
      },
      "source": [
        "vendas.groupby([\"DATA_VENDA\", \"ID_CLIENTE\"])[\"QUANTIDADE\"].sum()"
      ],
      "execution_count": null,
      "outputs": [
        {
          "output_type": "execute_result",
          "data": {
            "text/plain": [
              "DATA_VENDA  ID_CLIENTE\n",
              "2020-01-02  6240.0        1\n",
              "            10987.0       1\n",
              "            12226.0       1\n",
              "            13268.0       4\n",
              "            19672.0       1\n",
              "                         ..\n",
              "2021-06-19  88399.0       3\n",
              "            88400.0       3\n",
              "            88402.0       1\n",
              "            88403.0       1\n",
              "            88408.0       2\n",
              "Name: QUANTIDADE, Length: 217619, dtype: int64"
            ]
          },
          "metadata": {
            "tags": []
          },
          "execution_count": 47
        }
      ]
    },
    {
      "cell_type": "code",
      "metadata": {
        "colab": {
          "base_uri": "https://localhost:8080/"
        },
        "id": "wc2rtJZ03cUK",
        "outputId": "4847737f-f9cb-45d7-da7d-218364e3b639"
      },
      "source": [
        "# vendas com 5 ou menos quantidades representam quase todas as vendas\n",
        "qvendas = vendas.groupby([\"DATA_VENDA\", \"ID_CLIENTE\"])[\"QUANTIDADE\"].sum()\n",
        "_ = sns.displot(qvendas[qvendas < 20].astype(\"category\").cat.as_ordered())\n",
        "print(\"Vendas abaixo de 5 quantidades: \", qvendas[qvendas <= 5].count() / qvendas[qvendas < 20].count())\n",
        "print(\"Volume de vendas: \", qvendas[qvendas <= 5].sum() / qvendas[qvendas < 20].sum())\n"
      ],
      "execution_count": null,
      "outputs": [
        {
          "output_type": "stream",
          "text": [
            "Vendas abaixo de 5 quantidades:  0.8773740729259683\n",
            "Volume de vendas:  0.6345640287222166\n"
          ],
          "name": "stdout"
        },
        {
          "output_type": "display_data",
          "data": {
            "image/png": "[encoded data removed]",
            "text/plain": [
              "<Figure size 360x360 with 1 Axes>"
            ]
          },
          "metadata": {
            "tags": [],
            "needs_background": "light"
          }
        }
      ]
    },
    {
      "cell_type": "markdown",
      "metadata": {
        "id": "-aCKNuvImYQC"
      },
      "source": [
        "### Online"
      ]
    },
    {
      "cell_type": "code",
      "metadata": {
        "colab": {
          "base_uri": "https://localhost:8080/"
        },
        "id": "E8y6PdmuiaC1",
        "outputId": "6a258175-8438-45b2-9d22-a5f948726efa"
      },
      "source": [
        "vendas_online = vendas[vendas[\"CATEGORIA_VENDA\"].str.contains(\"E-COMMERCE\", na=False)]\n",
        "vendas_online.head()"
      ],
      "execution_count": null,
      "outputs": [
        {
          "output_type": "execute_result",
          "data": {
            "text/html": [
              "<div>\n",
              "<style scoped>\n",
              "    .dataframe tbody tr th:only-of-type {\n",
              "        vertical-align: middle;\n",
              "    }\n",
              "\n",
              "    .dataframe tbody tr th {\n",
              "        vertical-align: top;\n",
              "    }\n",
              "\n",
              "    .dataframe thead th {\n",
              "        text-align: right;\n",
              "    }\n",
              "</style>\n",
              "<table border=\"1\" class=\"dataframe\">\n",
              "  <thead>\n",
              "    <tr style=\"text-align: right;\">\n",
              "      <th></th>\n",
              "      <th>DATA_VENDA</th>\n",
              "      <th>ID_CLIENTE</th>\n",
              "      <th>ID_PRODUTO</th>\n",
              "      <th>QUANTIDADE</th>\n",
              "      <th>CATEGORIA_VENDA</th>\n",
              "      <th>weekday</th>\n",
              "    </tr>\n",
              "    <tr>\n",
              "      <th>ID_VENDA</th>\n",
              "      <th></th>\n",
              "      <th></th>\n",
              "      <th></th>\n",
              "      <th></th>\n",
              "      <th></th>\n",
              "      <th></th>\n",
              "    </tr>\n",
              "  </thead>\n",
              "  <tbody>\n",
              "    <tr>\n",
              "      <th>0</th>\n",
              "      <td>2021-02-10</td>\n",
              "      <td>46618.0</td>\n",
              "      <td>6669</td>\n",
              "      <td>1</td>\n",
              "      <td>E-COMMERCE</td>\n",
              "      <td>Wednesday</td>\n",
              "    </tr>\n",
              "    <tr>\n",
              "      <th>0</th>\n",
              "      <td>2021-02-10</td>\n",
              "      <td>46618.0</td>\n",
              "      <td>7394</td>\n",
              "      <td>1</td>\n",
              "      <td>E-COMMERCE</td>\n",
              "      <td>Wednesday</td>\n",
              "    </tr>\n",
              "    <tr>\n",
              "      <th>1</th>\n",
              "      <td>2021-02-12</td>\n",
              "      <td>70969.0</td>\n",
              "      <td>20460</td>\n",
              "      <td>1</td>\n",
              "      <td>E-COMMERCE</td>\n",
              "      <td>Friday</td>\n",
              "    </tr>\n",
              "    <tr>\n",
              "      <th>2</th>\n",
              "      <td>2021-02-12</td>\n",
              "      <td>43436.0</td>\n",
              "      <td>7478</td>\n",
              "      <td>1</td>\n",
              "      <td>E-COMMERCE</td>\n",
              "      <td>Friday</td>\n",
              "    </tr>\n",
              "    <tr>\n",
              "      <th>2</th>\n",
              "      <td>2021-02-12</td>\n",
              "      <td>43436.0</td>\n",
              "      <td>3198</td>\n",
              "      <td>1</td>\n",
              "      <td>E-COMMERCE</td>\n",
              "      <td>Friday</td>\n",
              "    </tr>\n",
              "  </tbody>\n",
              "</table>\n",
              "</div>"
            ],
            "text/plain": [
              "         DATA_VENDA  ID_CLIENTE  ...       CATEGORIA_VENDA    weekday\n",
              "ID_VENDA                         ...                                 \n",
              "0        2021-02-10     46618.0  ...  E-COMMERCE            Wednesday\n",
              "0        2021-02-10     46618.0  ...  E-COMMERCE            Wednesday\n",
              "1        2021-02-12     70969.0  ...  E-COMMERCE               Friday\n",
              "2        2021-02-12     43436.0  ...  E-COMMERCE               Friday\n",
              "2        2021-02-12     43436.0  ...  E-COMMERCE               Friday\n",
              "\n",
              "[5 rows x 6 columns]"
            ]
          },
          "metadata": {
            "tags": []
          },
          "execution_count": 49
        }
      ]
    },
    {
      "cell_type": "code",
      "metadata": {
        "colab": {
          "base_uri": "https://localhost:8080/"
        },
        "id": "QJ3OolKXl_La",
        "outputId": "370510cc-2ab7-4ec2-b0e6-945425e27748"
      },
      "source": [
        "# vendas online nos domingos são extremamente baixas \n",
        "# vendas online bem distribuidas ao longo da semana\n",
        "import seaborn as sns\n",
        "\n",
        "_ = sns.displot(vendas_online, y = \"weekday\", stat = \"density\")"
      ],
      "execution_count": null,
      "outputs": [
        {
          "output_type": "display_data",
          "data": {
            "image/png": "[encoded data removed]",
            "text/plain": [
              "<Figure size 360x360 with 1 Axes>"
            ]
          },
          "metadata": {
            "tags": [],
            "needs_background": "light"
          }
        }
      ]
    },
    {
      "cell_type": "code",
      "metadata": {
        "colab": {
          "base_uri": "https://localhost:8080/"
        },
        "id": "GWJ8BX77mlj5",
        "outputId": "1546bdde-6570-43d3-a0ba-40dde1a8088b"
      },
      "source": [
        "# produtos mais vendidos em NUMERO DE COMPRAS\n",
        "# ja se observa um destaque maior para o segmento de gatos\n",
        "# sendo os produtos mais vendidos Tapetes e areias de gato\n",
        "\n",
        "n_vendas = vendas_online[\"ID_PRODUTO\"].value_counts(ascending = False)\n",
        "topvendas = n_vendas.head(20)\n",
        "\n",
        "for index, top in zip(topvendas.index, topvendas):\n",
        "    # alguns produtos estão sem descrição nivel 4\n",
        "    prod_name = prod.loc[index][\"NIVEL 4\"]\n",
        "    if not prod_name:\n",
        "        prod_name = prod.loc[index][\"NIVEL 3\"] \n",
        "\n",
        "    print(\"Número de Vendas: {:<5}  |  Segmento: {:<8}  |  Produto: {:<30}|   Index: {}\".format(\n",
        "        top,\n",
        "        prod.loc[index][\"NIVEL 1\"],\n",
        "        prod_name,\n",
        "        index))"
      ],
      "execution_count": null,
      "outputs": [
        {
          "output_type": "stream",
          "text": [
            "Número de Vendas: 85     |  Segmento: CAES      |  Produto: ANTIPULGAS E CARRAPATOS       |   Index: 2768\n",
            "Número de Vendas: 74     |  Segmento: CAES      |  Produto: TAPETES HIGIENICOS            |   Index: 27055\n",
            "Número de Vendas: 64     |  Segmento: GATOS     |  Produto: AREIAS E GRANULADOS           |   Index: 7628\n",
            "Número de Vendas: 63     |  Segmento: CAES      |  Produto: TAPETES HIGIENICOS            |   Index: 9505\n",
            "Número de Vendas: 61     |  Segmento: CAES      |  Produto: TAPETES HIGIENICOS            |   Index: 17804\n",
            "Número de Vendas: 55     |  Segmento: GATOS     |  Produto: AREIAS E GRANULADOS           |   Index: 3792\n",
            "Número de Vendas: 54     |  Segmento: GATOS     |  Produto: AREIAS E GRANULADOS           |   Index: 7689\n",
            "Número de Vendas: 53     |  Segmento: CAES      |  Produto: TAPETES HIGIENICOS            |   Index: 2178\n",
            "Número de Vendas: 48     |  Segmento: GATOS     |  Produto: AREIAS E GRANULADOS           |   Index: 32290\n",
            "Número de Vendas: 42     |  Segmento: CAES      |  Produto: TAPETES HIGIENICOS            |   Index: 28823\n",
            "Número de Vendas: 40     |  Segmento: CAES      |  Produto: TRATAMENTO PARA PELE          |   Index: 3208\n",
            "Número de Vendas: 39     |  Segmento: CAES      |  Produto: TAPETES HIGIENICOS            |   Index: 20951\n",
            "Número de Vendas: 39     |  Segmento: CAES      |  Produto: RACAO SECA                    |   Index: 2184\n",
            "Número de Vendas: 38     |  Segmento: CAES      |  Produto: TAPETES HIGIENICOS            |   Index: 10090\n",
            "Número de Vendas: 37     |  Segmento: CAES      |  Produto: ANTIPULGAS E CARRAPATOS       |   Index: 2755\n",
            "Número de Vendas: 36     |  Segmento: CAES      |  Produto: TAPETES HIGIENICOS            |   Index: 8098\n",
            "Número de Vendas: 36     |  Segmento: CAES      |  Produto: TAPETES HIGIENICOS            |   Index: 5493\n",
            "Número de Vendas: 36     |  Segmento: GATOS     |  Produto: AREIAS E GRANULADOS           |   Index: 7395\n",
            "Número de Vendas: 35     |  Segmento: CAES      |  Produto: TRATAMENTO PARA PELE          |   Index: 3207\n",
            "Número de Vendas: 35     |  Segmento: CAES      |  Produto: VERMIFUGOS                    |   Index: 2812\n"
          ],
          "name": "stdout"
        }
      ]
    },
    {
      "cell_type": "code",
      "metadata": {
        "colab": {
          "base_uri": "https://localhost:8080/"
        },
        "id": "LI7ZXx0Go0lN",
        "outputId": "8d54700f-ade6-4570-f5dc-d3b08d0270fe"
      },
      "source": [
        "# produtos mais vendidos em QUANTIDADE\n",
        "# maior para o segmento de gatos\n",
        "# sendo os produtos mais vendidos RACAO UMIDA\n",
        "\n",
        "q_vendas = vendas_online.groupby([\"ID_PRODUTO\"]).agg(\n",
        "    {\"QUANTIDADE\": \"sum\"}).sort_values(by = \"QUANTIDADE\", ascending = False)\n",
        "\n",
        "topvendas = q_vendas[\"QUANTIDADE\"].head(20)\n",
        "\n",
        "for index, top in zip(topvendas.index, topvendas):\n",
        "    # alguns produtos estão sem descrição nivel 4\n",
        "    prod_name = prod.loc[index][\"NIVEL 4\"]\n",
        "    if not prod_name:\n",
        "        prod_name = prod.loc[index][\"NIVEL 3\"] \n",
        "\n",
        "    print(\"Quantidade vendida: {:<5}  |  Segmento: {:<8}  |  Produto: {:<30}|   Index: {}\".format(\n",
        "        top,\n",
        "        prod.loc[index][\"NIVEL 1\"],\n",
        "        prod_name,\n",
        "        index))"
      ],
      "execution_count": null,
      "outputs": [
        {
          "output_type": "stream",
          "text": [
            "Quantidade vendida: 162    |  Segmento: GATOS     |  Produto: RACAO UMIDA (SACHES E LATAS)  |   Index: 14588\n",
            "Quantidade vendida: 142    |  Segmento: GATOS     |  Produto: RACAO UMIDA (SACHES E LATAS)  |   Index: 28698\n",
            "Quantidade vendida: 134    |  Segmento: GATOS     |  Produto: RACAO UMIDA (SACHES E LATAS)  |   Index: 13744\n",
            "Quantidade vendida: 124    |  Segmento: GATOS     |  Produto: AREIAS E GRANULADOS           |   Index: 3792\n",
            "Quantidade vendida: 105    |  Segmento: CAES      |  Produto: TAPETES HIGIENICOS            |   Index: 27055\n",
            "Quantidade vendida: 102    |  Segmento: GATOS     |  Produto: RACAO UMIDA (SACHES E LATAS)  |   Index: 31657\n",
            "Quantidade vendida: 102    |  Segmento: GATOS     |  Produto: AREIAS E GRANULADOS           |   Index: 7628\n",
            "Quantidade vendida: 94     |  Segmento: GATOS     |  Produto: RACAO UMIDA (SACHES E LATAS)  |   Index: 12032\n",
            "Quantidade vendida: 86     |  Segmento: CAES      |  Produto: ANTIPULGAS E CARRAPATOS       |   Index: 2768\n",
            "Quantidade vendida: 77     |  Segmento: GATOS     |  Produto: RACAO UMIDA (SACHES E LATAS)  |   Index: 23920\n",
            "Quantidade vendida: 74     |  Segmento: GATOS     |  Produto: AREIAS E GRANULADOS           |   Index: 1802\n",
            "Quantidade vendida: 66     |  Segmento: CAES      |  Produto: TAPETES HIGIENICOS            |   Index: 9505\n",
            "Quantidade vendida: 66     |  Segmento: CAES      |  Produto: RACAO UMIDA (SACHES E LATAS)  |   Index: 2702\n",
            "Quantidade vendida: 65     |  Segmento: CAES      |  Produto: TAPETES HIGIENICOS            |   Index: 17804\n",
            "Quantidade vendida: 65     |  Segmento: GATOS     |  Produto: RACAO UMIDA (SACHES E LATAS)  |   Index: 6463\n",
            "Quantidade vendida: 63     |  Segmento: GATOS     |  Produto: RACAO UMIDA (SACHES E LATAS)  |   Index: 1529\n",
            "Quantidade vendida: 63     |  Segmento: GATOS     |  Produto: AREIAS E GRANULADOS           |   Index: 7689\n",
            "Quantidade vendida: 63     |  Segmento: GATOS     |  Produto: AREIAS E GRANULADOS           |   Index: 25628\n",
            "Quantidade vendida: 62     |  Segmento: CAES      |  Produto: RACAO UMIDA (SACHES E LATAS)  |   Index: 6666\n",
            "Quantidade vendida: 62     |  Segmento: GATOS     |  Produto: RACAO UMIDA (SACHES E LATAS)  |   Index: 23600\n"
          ],
          "name": "stdout"
        }
      ]
    },
    {
      "cell_type": "code",
      "metadata": {
        "colab": {
          "base_uri": "https://localhost:8080/"
        },
        "id": "cL0a2rgGtik1",
        "outputId": "dbccb035-fbda-4def-c47b-72a0d3a1747a"
      },
      "source": [
        "# produtos mais vendidos em QUANTIDADE\n",
        "# maior para o segmento de gatos\n",
        "# sendo os produtos mais vendidos RACAO UMIDA\n",
        "\n",
        "q_vendas = vendas_online.groupby([\"ID_PRODUTO\"]).agg(\n",
        "    {\"QUANTIDADE\": \"sum\"}).sort_values(by = \"QUANTIDADE\", ascending = False)\n",
        "\n",
        "topvendas = q_vendas[\"QUANTIDADE\"].head(20)\n",
        "\n",
        "for index, top in zip(topvendas.index, topvendas):\n",
        "    # alguns produtos estão sem descrição nivel 4\n",
        "    prod_name = prod.loc[index][\"NIVEL 4\"]\n",
        "    if not prod_name:\n",
        "        prod_name = prod.loc[index][\"NIVEL 3\"] \n",
        "\n",
        "    print(\"Quantidade vendida: {:<5}  |  Segmento: {:<8}  |  Produto: {:<30}|   Index: {}\".format(\n",
        "        top,\n",
        "        prod.loc[index][\"NIVEL 1\"],\n",
        "        prod_name,\n",
        "        index))"
      ],
      "execution_count": null,
      "outputs": [
        {
          "output_type": "stream",
          "text": [
            "Quantidade vendida: 162    |  Segmento: GATOS     |  Produto: RACAO UMIDA (SACHES E LATAS)  |   Index: 14588\n",
            "Quantidade vendida: 142    |  Segmento: GATOS     |  Produto: RACAO UMIDA (SACHES E LATAS)  |   Index: 28698\n",
            "Quantidade vendida: 134    |  Segmento: GATOS     |  Produto: RACAO UMIDA (SACHES E LATAS)  |   Index: 13744\n",
            "Quantidade vendida: 124    |  Segmento: GATOS     |  Produto: AREIAS E GRANULADOS           |   Index: 3792\n",
            "Quantidade vendida: 105    |  Segmento: CAES      |  Produto: TAPETES HIGIENICOS            |   Index: 27055\n",
            "Quantidade vendida: 102    |  Segmento: GATOS     |  Produto: RACAO UMIDA (SACHES E LATAS)  |   Index: 31657\n",
            "Quantidade vendida: 102    |  Segmento: GATOS     |  Produto: AREIAS E GRANULADOS           |   Index: 7628\n",
            "Quantidade vendida: 94     |  Segmento: GATOS     |  Produto: RACAO UMIDA (SACHES E LATAS)  |   Index: 12032\n",
            "Quantidade vendida: 86     |  Segmento: CAES      |  Produto: ANTIPULGAS E CARRAPATOS       |   Index: 2768\n",
            "Quantidade vendida: 77     |  Segmento: GATOS     |  Produto: RACAO UMIDA (SACHES E LATAS)  |   Index: 23920\n",
            "Quantidade vendida: 74     |  Segmento: GATOS     |  Produto: AREIAS E GRANULADOS           |   Index: 1802\n",
            "Quantidade vendida: 66     |  Segmento: CAES      |  Produto: TAPETES HIGIENICOS            |   Index: 9505\n",
            "Quantidade vendida: 66     |  Segmento: CAES      |  Produto: RACAO UMIDA (SACHES E LATAS)  |   Index: 2702\n",
            "Quantidade vendida: 65     |  Segmento: CAES      |  Produto: TAPETES HIGIENICOS            |   Index: 17804\n",
            "Quantidade vendida: 65     |  Segmento: GATOS     |  Produto: RACAO UMIDA (SACHES E LATAS)  |   Index: 6463\n",
            "Quantidade vendida: 63     |  Segmento: GATOS     |  Produto: RACAO UMIDA (SACHES E LATAS)  |   Index: 1529\n",
            "Quantidade vendida: 63     |  Segmento: GATOS     |  Produto: AREIAS E GRANULADOS           |   Index: 7689\n",
            "Quantidade vendida: 63     |  Segmento: GATOS     |  Produto: AREIAS E GRANULADOS           |   Index: 25628\n",
            "Quantidade vendida: 62     |  Segmento: CAES      |  Produto: RACAO UMIDA (SACHES E LATAS)  |   Index: 6666\n",
            "Quantidade vendida: 62     |  Segmento: GATOS     |  Produto: RACAO UMIDA (SACHES E LATAS)  |   Index: 23600\n"
          ],
          "name": "stdout"
        }
      ]
    },
    {
      "cell_type": "markdown",
      "metadata": {
        "id": "P5uNReosp0hE"
      },
      "source": [
        "### Físico"
      ]
    },
    {
      "cell_type": "code",
      "metadata": {
        "colab": {
          "base_uri": "https://localhost:8080/"
        },
        "id": "nWxuD1uqoq38",
        "outputId": "67032005-28d1-42c6-8ed3-d91fb5228697"
      },
      "source": [
        "vendas_offline = vendas[~vendas[\"CATEGORIA_VENDA\"].str.contains(\"E-COMMERCE\", na=False)]\n",
        "vendas_offline.head()"
      ],
      "execution_count": null,
      "outputs": [
        {
          "output_type": "execute_result",
          "data": {
            "text/html": [
              "<div>\n",
              "<style scoped>\n",
              "    .dataframe tbody tr th:only-of-type {\n",
              "        vertical-align: middle;\n",
              "    }\n",
              "\n",
              "    .dataframe tbody tr th {\n",
              "        vertical-align: top;\n",
              "    }\n",
              "\n",
              "    .dataframe thead th {\n",
              "        text-align: right;\n",
              "    }\n",
              "</style>\n",
              "<table border=\"1\" class=\"dataframe\">\n",
              "  <thead>\n",
              "    <tr style=\"text-align: right;\">\n",
              "      <th></th>\n",
              "      <th>DATA_VENDA</th>\n",
              "      <th>ID_CLIENTE</th>\n",
              "      <th>ID_PRODUTO</th>\n",
              "      <th>QUANTIDADE</th>\n",
              "      <th>CATEGORIA_VENDA</th>\n",
              "      <th>weekday</th>\n",
              "    </tr>\n",
              "    <tr>\n",
              "      <th>ID_VENDA</th>\n",
              "      <th></th>\n",
              "      <th></th>\n",
              "      <th></th>\n",
              "      <th></th>\n",
              "      <th></th>\n",
              "      <th></th>\n",
              "    </tr>\n",
              "  </thead>\n",
              "  <tbody>\n",
              "    <tr>\n",
              "      <th>16</th>\n",
              "      <td>2020-09-08</td>\n",
              "      <td>46618.0</td>\n",
              "      <td>27604</td>\n",
              "      <td>1</td>\n",
              "      <td>FÍSICO</td>\n",
              "      <td>Tuesday</td>\n",
              "    </tr>\n",
              "    <tr>\n",
              "      <th>18</th>\n",
              "      <td>2020-09-08</td>\n",
              "      <td>46618.0</td>\n",
              "      <td>2733</td>\n",
              "      <td>1</td>\n",
              "      <td>FÍSICO</td>\n",
              "      <td>Tuesday</td>\n",
              "    </tr>\n",
              "    <tr>\n",
              "      <th>20</th>\n",
              "      <td>2020-09-08</td>\n",
              "      <td>46631.0</td>\n",
              "      <td>3207</td>\n",
              "      <td>1</td>\n",
              "      <td>FÍSICO</td>\n",
              "      <td>Tuesday</td>\n",
              "    </tr>\n",
              "    <tr>\n",
              "      <th>20</th>\n",
              "      <td>2020-09-08</td>\n",
              "      <td>46631.0</td>\n",
              "      <td>2017</td>\n",
              "      <td>2</td>\n",
              "      <td>FÍSICO</td>\n",
              "      <td>Tuesday</td>\n",
              "    </tr>\n",
              "    <tr>\n",
              "      <th>22</th>\n",
              "      <td>2020-09-09</td>\n",
              "      <td>39662.0</td>\n",
              "      <td>20592</td>\n",
              "      <td>1</td>\n",
              "      <td>FÍSICO</td>\n",
              "      <td>Wednesday</td>\n",
              "    </tr>\n",
              "  </tbody>\n",
              "</table>\n",
              "</div>"
            ],
            "text/plain": [
              "         DATA_VENDA  ID_CLIENTE  ...       CATEGORIA_VENDA    weekday\n",
              "ID_VENDA                         ...                                 \n",
              "16       2020-09-08     46618.0  ...  FÍSICO                  Tuesday\n",
              "18       2020-09-08     46618.0  ...  FÍSICO                  Tuesday\n",
              "20       2020-09-08     46631.0  ...  FÍSICO                  Tuesday\n",
              "20       2020-09-08     46631.0  ...  FÍSICO                  Tuesday\n",
              "22       2020-09-09     39662.0  ...  FÍSICO                Wednesday\n",
              "\n",
              "[5 rows x 6 columns]"
            ]
          },
          "metadata": {
            "tags": []
          },
          "execution_count": 54
        }
      ]
    },
    {
      "cell_type": "code",
      "metadata": {
        "colab": {
          "base_uri": "https://localhost:8080/"
        },
        "id": "GLFH379ep7MV",
        "outputId": "19d20eca-bd4a-4699-cb12-988aa7ae800a"
      },
      "source": [
        "# dia com mais vendas: sabado (20%)\n",
        "# dia com menos vendas: domingo (12%)\n",
        "import seaborn as sns\n",
        "\n",
        "_ = sns.displot(vendas_offline, y = \"weekday\", stat = \"density\")"
      ],
      "execution_count": null,
      "outputs": [
        {
          "output_type": "display_data",
          "data": {
            "image/png": "[encoded data removed]",
            "text/plain": [
              "<Figure size 360x360 with 1 Axes>"
            ]
          },
          "metadata": {
            "tags": [],
            "needs_background": "light"
          }
        }
      ]
    },
    {
      "cell_type": "code",
      "metadata": {
        "colab": {
          "base_uri": "https://localhost:8080/"
        },
        "id": "QEgyMeCXp-XB",
        "outputId": "45d67963-07c2-4890-b5a4-e3897c75fa74"
      },
      "source": [
        "# produtos mais vendidos em NUMERO DE COMPRAS\n",
        "# mais vendas no setor de cachorros\n",
        "# produtos mais vendidos: tapetes higienicos e snacks\n",
        "n_vendas = vendas_offline[\"ID_PRODUTO\"].value_counts(ascending = False)\n",
        "topvendas = n_vendas.head(20)\n",
        "\n",
        "for index, top in zip(topvendas.index, topvendas):\n",
        "    # alguns produtos estão sem descrição nivel 4\n",
        "    prod_name = prod.loc[index][\"NIVEL 4\"]\n",
        "    if not prod_name:\n",
        "        prod_name = prod.loc[index][\"NIVEL 3\"] \n",
        "\n",
        "    print(\"Número de Vendas: {:<5}  |  Segmento: {:<8}  |  Produto: {:<30}|   Index: {}\".format(\n",
        "        top,\n",
        "        prod.loc[index][\"NIVEL 1\"],\n",
        "        prod_name,\n",
        "        index))"
      ],
      "execution_count": null,
      "outputs": [
        {
          "output_type": "stream",
          "text": [
            "Número de Vendas: 5752   |  Segmento: CAES      |  Produto: TAPETES HIGIENICOS            |   Index: 17804\n",
            "Número de Vendas: 5261   |  Segmento: CAES      |  Produto: TAPETES HIGIENICOS            |   Index: 8098\n",
            "Número de Vendas: 5013   |  Segmento: CAES      |  Produto: TAPETES HIGIENICOS            |   Index: 2177\n",
            "Número de Vendas: 4811   |  Segmento: CAES      |  Produto: BISCOITOS - BIFINHOS - SNACKS |   Index: 25612\n",
            "Número de Vendas: 4459   |  Segmento: CAES      |  Produto: VITAMINAS E SUPLEMENTOS       |   Index: 2629\n",
            "Número de Vendas: 4352   |  Segmento: CAES      |  Produto: ANTIPULGAS E CARRAPATOS       |   Index: 2768\n",
            "Número de Vendas: 4086   |  Segmento: CAES      |  Produto: BISCOITOS - BIFINHOS - SNACKS |   Index: 26104\n",
            "Número de Vendas: 3941   |  Segmento: CAES      |  Produto: BISCOITOS - BIFINHOS - SNACKS |   Index: 5414\n",
            "Número de Vendas: 3842   |  Segmento: CAES      |  Produto: RACAO UMIDA (SACHES E LATAS)  |   Index: 16950\n",
            "Número de Vendas: 3703   |  Segmento: CAES      |  Produto: TAPETES HIGIENICOS            |   Index: 28823\n",
            "Número de Vendas: 3406   |  Segmento: CAES      |  Produto: ELIMINADOR DE ODORES          |   Index: 2731\n",
            "Número de Vendas: 3334   |  Segmento: CAES      |  Produto: BISCOITOS - BIFINHOS - SNACKS |   Index: 2312\n",
            "Número de Vendas: 3312   |  Segmento: CAES      |  Produto: PARA JOGAR E PEGAR            |   Index: 18927\n",
            "Número de Vendas: 3303   |  Segmento: GATOS     |  Produto: RACAO UMIDA (SACHES E LATAS)  |   Index: 14588\n",
            "Número de Vendas: 3154   |  Segmento: CAES      |  Produto: RACAO SECA                    |   Index: 1632\n",
            "Número de Vendas: 3096   |  Segmento: CAES      |  Produto: TAPETES HIGIENICOS            |   Index: 5493\n",
            "Número de Vendas: 2902   |  Segmento: CAES      |  Produto: RACAO MEDICAMENTOSA           |   Index: 2761\n",
            "Número de Vendas: 2888   |  Segmento: CAES      |  Produto: TAPETES HIGIENICOS            |   Index: 27055\n",
            "Número de Vendas: 2833   |  Segmento: ROEDORES  |  Produto: RACOES - FENOS - ALFAFAS      |   Index: 2853\n",
            "Número de Vendas: 2780   |  Segmento: GATOS     |  Produto: AREIAS E GRANULADOS           |   Index: 7395\n"
          ],
          "name": "stdout"
        }
      ]
    },
    {
      "cell_type": "code",
      "metadata": {
        "colab": {
          "base_uri": "https://localhost:8080/"
        },
        "id": "G2lSM080u8xA",
        "outputId": "8187bfbc-2cd6-4fc7-8a20-a96e54e2e7d6"
      },
      "source": [
        "# produtos mais vendidos em QUANTIDADE DE COMPRAS\n",
        "# ja se observa um destaque maior para o segmento de gatos\n",
        "# sendo os produtos mais vendidos RACAO UMIDA (gato e cachorro)\n",
        "\n",
        "q_vendas = vendas_offline.groupby([\"ID_PRODUTO\"]).agg(\n",
        "    {\"QUANTIDADE\": \"sum\"}).sort_values(by = \"QUANTIDADE\", ascending = False)\n",
        "\n",
        "topvendas = q_vendas[\"QUANTIDADE\"].head(20)\n",
        "\n",
        "for index, top in zip(topvendas.index, topvendas):\n",
        "    # alguns produtos estão sem descrição nivel 4\n",
        "    prod_name = prod.loc[index][\"NIVEL 4\"]\n",
        "    if not prod_name:\n",
        "        prod_name = prod.loc[index][\"NIVEL 3\"] \n",
        "\n",
        "    print(\"Quantidade Comprada: {:<5}  |  Segmento: {:<8}  |  Produto: {:<30}|   Index: {}\".format(\n",
        "        top,\n",
        "        prod.loc[index][\"NIVEL 1\"],\n",
        "        prod_name,\n",
        "        index))"
      ],
      "execution_count": null,
      "outputs": [
        {
          "output_type": "stream",
          "text": [
            "Quantidade Comprada: 14426  |  Segmento: GATOS     |  Produto: RACAO UMIDA (SACHES E LATAS)  |   Index: 14588\n",
            "Quantidade Comprada: 9827   |  Segmento: CAES      |  Produto: RACAO UMIDA (SACHES E LATAS)  |   Index: 16950\n",
            "Quantidade Comprada: 7765   |  Segmento: GATOS     |  Produto: AREIAS E GRANULADOS           |   Index: 26809\n",
            "Quantidade Comprada: 7026   |  Segmento: GATOS     |  Produto: AREIAS E GRANULADOS           |   Index: 31962\n",
            "Quantidade Comprada: 6744   |  Segmento: GATOS     |  Produto: RACAO UMIDA (SACHES E LATAS)  |   Index: 13744\n",
            "Quantidade Comprada: 6332   |  Segmento: CAES      |  Produto: TAPETES HIGIENICOS            |   Index: 17804\n",
            "Quantidade Comprada: 5618   |  Segmento: CAES      |  Produto: TAPETES HIGIENICOS            |   Index: 8098\n",
            "Quantidade Comprada: 5551   |  Segmento: CAES      |  Produto: TAPETES HIGIENICOS            |   Index: 2177\n",
            "Quantidade Comprada: 5183   |  Segmento: CAES      |  Produto: BISCOITOS - BIFINHOS - SNACKS |   Index: 25612\n",
            "Quantidade Comprada: 5037   |  Segmento: CAES      |  Produto: VITAMINAS E SUPLEMENTOS       |   Index: 2629\n",
            "Quantidade Comprada: 4755   |  Segmento: CAES      |  Produto: RACAO MEDICAMENTOSA           |   Index: 2761\n",
            "Quantidade Comprada: 4725   |  Segmento: CAES      |  Produto: ANTIPULGAS E CARRAPATOS       |   Index: 2768\n",
            "Quantidade Comprada: 4690   |  Segmento: CAES      |  Produto: RACAO UMIDA (SACHES E LATAS)  |   Index: 15994\n",
            "Quantidade Comprada: 4638   |  Segmento: CAES      |  Produto: RACAO UMIDA (SACHES E LATAS)  |   Index: 1961\n",
            "Quantidade Comprada: 4516   |  Segmento: CAES      |  Produto: BISCOITOS - BIFINHOS - SNACKS |   Index: 26104\n",
            "Quantidade Comprada: 4412   |  Segmento: GATOS     |  Produto: RACAO UMIDA (SACHES E LATAS)  |   Index: 3071\n",
            "Quantidade Comprada: 4276   |  Segmento: CAES      |  Produto: RACAO UMIDA (SACHES E LATAS)  |   Index: 1962\n",
            "Quantidade Comprada: 4237   |  Segmento: CAES      |  Produto: BISCOITOS - BIFINHOS - SNACKS |   Index: 5414\n",
            "Quantidade Comprada: 4207   |  Segmento: GATOS     |  Produto: AREIAS E GRANULADOS           |   Index: 7395\n",
            "Quantidade Comprada: 4182   |  Segmento: CAES      |  Produto: RACAO UMIDA (SACHES E LATAS)  |   Index: 27976\n"
          ],
          "name": "stdout"
        }
      ]
    },
    {
      "cell_type": "markdown",
      "metadata": {
        "id": "f5R8FUgzb9z6"
      },
      "source": [
        "## Merge Vendas <-- Produtos\n",
        "\n",
        "**resumo:** \n",
        "\n",
        "1. **TIPO:**\n",
        "> **FISICO:** CAES são 65% da vendas e GATOS 23%\n",
        "> \n",
        "> **ONLINE:** CAES são 60% das vendas e GATOS 35% \n",
        "\n",
        "2.   **Alimentos** \n",
        "> representam cerca de **55-60%** do volume de vendas\n",
        ">\n",
        "> representam cerca de **50%** da quantidade de vendas\n",
        "1.   **Acessorios** \n",
        "> tem pouco volume de **vendas online (7%) e fisico (16%)**\n",
        "> \n",
        "> tem pouco quantidade de **vendas online (9%) e fisico (19%)**\n",
        ">\n",
        "> **roupas moda inverno e moda verão** representam 7 % do volume de vendas de acessorios, caminhas 6% e **peitorais 18%**\n",
        "\n",
        "**propostas:**\n",
        "\n",
        "\n",
        "1.   Alinhar disponibilidade e variedade de produtos com o volume de vendas\n",
        "2.   uma parte significativa das vendas online são no setor de **GATOS**, aumentar a oferta de produtos nesse segmento\n",
        "\n"
      ]
    },
    {
      "cell_type": "code",
      "metadata": {
        "id": "ZZep3VMDu-Iz",
        "colab": {
          "base_uri": "https://localhost:8080/"
        },
        "outputId": "be501d3f-490a-4677-b45a-ba169655a825"
      },
      "source": [
        "new_vendas = vendas.merge(prod, how = \"left\", on = \"ID_PRODUTO\")\n",
        "new_vendas.head()"
      ],
      "execution_count": null,
      "outputs": [
        {
          "output_type": "execute_result",
          "data": {
            "text/html": [
              "<div>\n",
              "<style scoped>\n",
              "    .dataframe tbody tr th:only-of-type {\n",
              "        vertical-align: middle;\n",
              "    }\n",
              "\n",
              "    .dataframe tbody tr th {\n",
              "        vertical-align: top;\n",
              "    }\n",
              "\n",
              "    .dataframe thead th {\n",
              "        text-align: right;\n",
              "    }\n",
              "</style>\n",
              "<table border=\"1\" class=\"dataframe\">\n",
              "  <thead>\n",
              "    <tr style=\"text-align: right;\">\n",
              "      <th></th>\n",
              "      <th>DATA_VENDA</th>\n",
              "      <th>ID_CLIENTE</th>\n",
              "      <th>ID_PRODUTO</th>\n",
              "      <th>QUANTIDADE</th>\n",
              "      <th>CATEGORIA_VENDA</th>\n",
              "      <th>weekday</th>\n",
              "      <th>UNIDADE</th>\n",
              "      <th>NIVEL 1</th>\n",
              "      <th>NIVEL 2</th>\n",
              "      <th>NIVEL 3</th>\n",
              "      <th>NIVEL 4</th>\n",
              "    </tr>\n",
              "  </thead>\n",
              "  <tbody>\n",
              "    <tr>\n",
              "      <th>0</th>\n",
              "      <td>2021-02-10</td>\n",
              "      <td>46618.0</td>\n",
              "      <td>6669</td>\n",
              "      <td>1</td>\n",
              "      <td>E-COMMERCE</td>\n",
              "      <td>Wednesday</td>\n",
              "      <td>UN</td>\n",
              "      <td>CAES</td>\n",
              "      <td>ALIMENTOS</td>\n",
              "      <td>PETISCOS E OSSINHOS</td>\n",
              "      <td>BISCOITOS - BIFINHOS - SNACKS</td>\n",
              "    </tr>\n",
              "    <tr>\n",
              "      <th>1</th>\n",
              "      <td>2021-02-10</td>\n",
              "      <td>46618.0</td>\n",
              "      <td>7394</td>\n",
              "      <td>1</td>\n",
              "      <td>E-COMMERCE</td>\n",
              "      <td>Wednesday</td>\n",
              "      <td>UN</td>\n",
              "      <td>CAES</td>\n",
              "      <td>ALIMENTOS</td>\n",
              "      <td>PETISCOS E OSSINHOS</td>\n",
              "      <td>BISCOITOS - BIFINHOS - SNACKS</td>\n",
              "    </tr>\n",
              "    <tr>\n",
              "      <th>2</th>\n",
              "      <td>2021-02-12</td>\n",
              "      <td>70969.0</td>\n",
              "      <td>20460</td>\n",
              "      <td>1</td>\n",
              "      <td>E-COMMERCE</td>\n",
              "      <td>Friday</td>\n",
              "      <td>UN</td>\n",
              "      <td>CAES</td>\n",
              "      <td>ACESSORIOS</td>\n",
              "      <td>CAMINHAS E CASINHAS</td>\n",
              "      <td>ALMOFADAS E COLCHONETES</td>\n",
              "    </tr>\n",
              "    <tr>\n",
              "      <th>3</th>\n",
              "      <td>2021-02-12</td>\n",
              "      <td>43436.0</td>\n",
              "      <td>7478</td>\n",
              "      <td>1</td>\n",
              "      <td>E-COMMERCE</td>\n",
              "      <td>Friday</td>\n",
              "      <td>UN</td>\n",
              "      <td>CAES</td>\n",
              "      <td>FARMACIA</td>\n",
              "      <td>VITAMINAS E SUPLEMENTOS</td>\n",
              "      <td>VITAMINAS E SUPLEMENTOS</td>\n",
              "    </tr>\n",
              "    <tr>\n",
              "      <th>4</th>\n",
              "      <td>2021-02-12</td>\n",
              "      <td>43436.0</td>\n",
              "      <td>3198</td>\n",
              "      <td>1</td>\n",
              "      <td>E-COMMERCE</td>\n",
              "      <td>Friday</td>\n",
              "      <td>UN</td>\n",
              "      <td>CAES</td>\n",
              "      <td>FARMACIA</td>\n",
              "      <td>DEMAIS MEDICAMENTOS</td>\n",
              "      <td>TRATAMENTO DIGESTIVO</td>\n",
              "    </tr>\n",
              "  </tbody>\n",
              "</table>\n",
              "</div>"
            ],
            "text/plain": [
              "  DATA_VENDA  ...                        NIVEL 4\n",
              "0 2021-02-10  ...  BISCOITOS - BIFINHOS - SNACKS\n",
              "1 2021-02-10  ...  BISCOITOS - BIFINHOS - SNACKS\n",
              "2 2021-02-12  ...        ALMOFADAS E COLCHONETES\n",
              "3 2021-02-12  ...        VITAMINAS E SUPLEMENTOS\n",
              "4 2021-02-12  ...           TRATAMENTO DIGESTIVO\n",
              "\n",
              "[5 rows x 11 columns]"
            ]
          },
          "metadata": {
            "tags": []
          },
          "execution_count": 58
        }
      ]
    },
    {
      "cell_type": "code",
      "metadata": {
        "colab": {
          "base_uri": "https://localhost:8080/"
        },
        "id": "SMFSz0ZJHMFC",
        "outputId": "f66d7ee5-d8a7-4546-e545-4577b5bd49a2"
      },
      "source": [
        "new_vendas[new_vendas[\"NIVEL 4\"].str.contains(\"MODA\", na = False)][\"QUANTIDADE\"].sum()"
      ],
      "execution_count": null,
      "outputs": [
        {
          "output_type": "execute_result",
          "data": {
            "text/plain": [
              "6658"
            ]
          },
          "metadata": {
            "tags": []
          },
          "execution_count": 59
        }
      ]
    },
    {
      "cell_type": "code",
      "metadata": {
        "colab": {
          "base_uri": "https://localhost:8080/"
        },
        "id": "I2OgwjNTHO6K",
        "outputId": "b5da51dc-331e-45fb-a7bf-27199cca46fc"
      },
      "source": [
        "new_vendas[\"QUANTIDADE\"].sum()"
      ],
      "execution_count": null,
      "outputs": [
        {
          "output_type": "execute_result",
          "data": {
            "text/plain": [
              "1668288"
            ]
          },
          "metadata": {
            "tags": []
          },
          "execution_count": 60
        }
      ]
    },
    {
      "cell_type": "code",
      "metadata": {
        "colab": {
          "base_uri": "https://localhost:8080/"
        },
        "id": "bKjftIcZGiS_",
        "outputId": "5f914b59-2340-46fa-96f7-dbc1eeb51269"
      },
      "source": [
        "moda = new_vendas[new_vendas[\"NIVEL 4\"].str.contains(\"MODA\", na = False)][\"QUANTIDADE\"].sum()\n",
        "total = new_vendas[new_vendas[\"NIVEL 3\"].str.contains(\"ACESSORIO\", na = False)][\"QUANTIDADE\"].sum()\n",
        "\n",
        "moda * 100 / total"
      ],
      "execution_count": null,
      "outputs": [
        {
          "output_type": "execute_result",
          "data": {
            "text/plain": [
              "7.258099681681419"
            ]
          },
          "metadata": {
            "tags": []
          },
          "execution_count": 61
        }
      ]
    },
    {
      "cell_type": "code",
      "metadata": {
        "colab": {
          "base_uri": "https://localhost:8080/"
        },
        "id": "cHjb_TN2H1KX",
        "outputId": "484fed82-6a1c-461f-a4b8-a6df57c42258"
      },
      "source": [
        "moda = new_vendas[new_vendas[\"NIVEL 4\"].str.contains(\"CAMINHA\", na = False)][\"QUANTIDADE\"].sum()\n",
        "total = new_vendas[new_vendas[\"NIVEL 3\"].str.contains(\"ACESSORIO\", na = False)][\"QUANTIDADE\"].sum()\n",
        "\n",
        "moda * 100 / total"
      ],
      "execution_count": null,
      "outputs": [
        {
          "output_type": "execute_result",
          "data": {
            "text/plain": [
              "6.388174246718703"
            ]
          },
          "metadata": {
            "tags": []
          },
          "execution_count": 62
        }
      ]
    },
    {
      "cell_type": "code",
      "metadata": {
        "colab": {
          "base_uri": "https://localhost:8080/"
        },
        "id": "PdB-XWCEH29i",
        "outputId": "ffc68e3a-919a-43b1-d798-10a42411f950"
      },
      "source": [
        "moda = new_vendas[new_vendas[\"NIVEL 4\"].str.contains(\"PEITORAIS\", na = False)][\"QUANTIDADE\"].sum()\n",
        "total = new_vendas[new_vendas[\"NIVEL 3\"].str.contains(\"ACESSORIO\", na = False)][\"QUANTIDADE\"].sum()\n",
        "\n",
        "moda * 100 / total"
      ],
      "execution_count": null,
      "outputs": [
        {
          "output_type": "execute_result",
          "data": {
            "text/plain": [
              "18.34910391139406"
            ]
          },
          "metadata": {
            "tags": []
          },
          "execution_count": 63
        }
      ]
    },
    {
      "cell_type": "code",
      "metadata": {
        "colab": {
          "base_uri": "https://localhost:8080/"
        },
        "id": "klDkShXXnYzY",
        "outputId": "fc6a7af5-dbca-41f3-ae6f-71ad4a884e5a"
      },
      "source": [
        "# setor de gatos ganhando uma expressividade maior com vendas online\n",
        "print(\"VENDAS ONLINES\")\n",
        "online = new_vendas[new_vendas[\"CATEGORIA_VENDA\"].str.contains(\"E-COMMERCE\", na=False)].groupby(\"NIVEL 1\").agg({\"QUANTIDADE\": \"sum\"}).sort_values(by = \"QUANTIDADE\", ascending = False)\n",
        "print(100 * online / online.sum())\n",
        "print(\"\\n\")\n",
        "print(\"VENDAS FISICO\")\n",
        "offline = new_vendas[~new_vendas[\"CATEGORIA_VENDA\"].str.contains(\"E-COMMERCE\", na=False)].groupby(\"NIVEL 1\").agg({\"QUANTIDADE\": \"sum\"}).sort_values(by = \"QUANTIDADE\", ascending = False)\n",
        "print(100 * offline / offline.sum())"
      ],
      "execution_count": null,
      "outputs": [
        {
          "output_type": "stream",
          "text": [
            "VENDAS ONLINES\n",
            "          QUANTIDADE\n",
            "NIVEL 1             \n",
            "CAES       60.044584\n",
            "GATOS      35.057697\n",
            "AVES        2.268555\n",
            "ROEDORES    2.229216\n",
            "PEIXES      0.399948\n",
            "PESSOAS     0.000000\n",
            "\n",
            "\n",
            "VENDAS FISICO\n",
            "          QUANTIDADE\n",
            "NIVEL 1             \n",
            "CAES       65.968650\n",
            "GATOS      23.103968\n",
            "AVES        3.531663\n",
            "ROEDORES    2.839335\n",
            "PEIXES      2.826444\n",
            "PESSOAS     1.729941\n"
          ],
          "name": "stdout"
        }
      ]
    },
    {
      "cell_type": "code",
      "metadata": {
        "colab": {
          "base_uri": "https://localhost:8080/"
        },
        "id": "gtvL6xgfFnIJ",
        "outputId": "a0bb357b-de43-4afe-cd40-84b1c56bd968"
      },
      "source": [
        "# Volume de vendas\n",
        "# destaque para a venda no setor de alimentos\n",
        "print(\"VENDAS ONLINES\")\n",
        "online = new_vendas[new_vendas[\"CATEGORIA_VENDA\"].str.contains(\"E-COMMERCE\", na=False)].groupby(\"NIVEL 2\").agg({\"QUANTIDADE\": \"sum\"}).sort_values(by = \"QUANTIDADE\", ascending = False)\n",
        "print(100 * online / online.sum())\n",
        "print(\"\\n\")\n",
        "print(\"VENDAS FISICO\")\n",
        "offline = new_vendas[~new_vendas[\"CATEGORIA_VENDA\"].str.contains(\"E-COMMERCE\", na=False)].groupby(\"NIVEL 2\").agg({\"QUANTIDADE\": \"sum\"}).sort_values(by = \"QUANTIDADE\", ascending = False)\n",
        "print(100 * offline / offline.sum())"
      ],
      "execution_count": null,
      "outputs": [
        {
          "output_type": "stream",
          "text": [
            "VENDAS ONLINES\n",
            "                       QUANTIDADE\n",
            "NIVEL 2                          \n",
            "ALIMENTOS               58.975872\n",
            "HIGIENE E BELEZA        17.361657\n",
            "FARMACIA                16.430632\n",
            "ACESSORIOS               7.100708\n",
            "AQUARIOS E ACESSORIOS    0.131130\n",
            "ANIMAL VIVO              0.000000\n",
            "CASA                     0.000000\n",
            "\n",
            "\n",
            "VENDAS FISICO\n",
            "                       QUANTIDADE\n",
            "NIVEL 2                          \n",
            "ALIMENTOS               55.008041\n",
            "ACESSORIOS              16.571009\n",
            "HIGIENE E BELEZA        15.243186\n",
            "FARMACIA                10.599890\n",
            "AQUARIOS E ACESSORIOS    1.207926\n",
            "ANIMAL VIVO              1.050323\n",
            "CASA                     0.319624\n"
          ],
          "name": "stdout"
        }
      ]
    },
    {
      "cell_type": "code",
      "metadata": {
        "colab": {
          "base_uri": "https://localhost:8080/"
        },
        "id": "7XbWGWHPfVlu",
        "outputId": "183842e4-fa6f-462b-a0c9-63a2a6be6b93"
      },
      "source": [
        "# Quantidade de Vendas\n",
        "# destaque para a venda no setor de alimentos\n",
        "print(\"VENDAS ONLINES\")\n",
        "online = new_vendas[new_vendas[\"CATEGORIA_VENDA\"].str.contains(\"E-COMMERCE\", na=False)].groupby(\"NIVEL 2\").agg({\"QUANTIDADE\": \"count\"}).sort_values(by = \"QUANTIDADE\", ascending = False)\n",
        "print(100 * online / online.sum())\n",
        "print(\"\\n\")\n",
        "print(\"VENDAS FISICO\")\n",
        "offline = new_vendas[~new_vendas[\"CATEGORIA_VENDA\"].str.contains(\"E-COMMERCE\", na=False)].groupby(\"NIVEL 2\").agg({\"QUANTIDADE\": \"count\"}).sort_values(by = \"QUANTIDADE\", ascending = False)\n",
        "print(100 * offline / offline.sum())"
      ],
      "execution_count": null,
      "outputs": [
        {
          "output_type": "stream",
          "text": [
            "VENDAS ONLINES\n",
            "                       QUANTIDADE\n",
            "NIVEL 2                          \n",
            "ALIMENTOS               51.437202\n",
            "FARMACIA                20.285610\n",
            "HIGIENE E BELEZA        18.949103\n",
            "ACESSORIOS               9.163310\n",
            "AQUARIOS E ACESSORIOS    0.164775\n",
            "ANIMAL VIVO              0.000000\n",
            "CASA                     0.000000\n",
            "\n",
            "\n",
            "VENDAS FISICO\n",
            "                       QUANTIDADE\n",
            "NIVEL 2                          \n",
            "ALIMENTOS               50.044859\n",
            "ACESSORIOS              19.268007\n",
            "HIGIENE E BELEZA        16.001551\n",
            "FARMACIA                12.120046\n",
            "AQUARIOS E ACESSORIOS    1.341549\n",
            "ANIMAL VIVO              0.883525\n",
            "CASA                     0.340462\n"
          ],
          "name": "stdout"
        }
      ]
    },
    {
      "cell_type": "code",
      "metadata": {
        "colab": {
          "base_uri": "https://localhost:8080/"
        },
        "id": "FMlrnWnau-Oz",
        "outputId": "55fe45b0-6c19-4155-8cbf-cdaa62928d7f"
      },
      "source": [
        "# Grande volume de vendas para rações\n",
        "# vendas expressivas para produtos de higiene, petiscos e brinquedos\n",
        "volume = new_vendas.groupby(\"NIVEL 3\").agg({\"QUANTIDADE\": \"sum\"}).sort_values(by = \"QUANTIDADE\", ascending = False).head(20)\n",
        "print(100 * volume / volume.sum())"
      ],
      "execution_count": null,
      "outputs": [
        {
          "output_type": "stream",
          "text": [
            "                              QUANTIDADE\n",
            "NIVEL 3                                 \n",
            "RACOES                         42.048424\n",
            "HIGIENE E LIMPEZA              11.959736\n",
            "PETISCOS E OSSINHOS            10.826311\n",
            "BRINQUEDOS                      6.645065\n",
            "UTENSILIOS PARA BANHO           3.868907\n",
            "PULGAS - CARRAPATOS - VERMES    3.660246\n",
            "ACESSORIOS PARA ALIMENTACAO     3.052423\n",
            "COLEIRAS E PEITORAIS            2.435956\n",
            "VITAMINAS E SUPLEMENTOS         2.190476\n",
            "DORES E INFECCOES               1.825148\n",
            "RACOES - FENOS - ALFAFAS        1.739631\n",
            "GAIOLAS E ACESSORIOS            1.440788\n",
            "PELE E PELAGEM                  1.397750\n",
            "DOCES                           1.381579\n",
            "                                1.107428\n",
            "PETISCOS                        1.050396\n",
            "ADESTRAMENTO E COMPORTAMENTO    0.927127\n",
            "ROUPINHAS E ACESSORIOS          0.889189\n",
            "CAMINHAS E CASINHAS             0.780287\n",
            "OLHOS E ORELHAS                 0.773135\n"
          ],
          "name": "stdout"
        }
      ]
    },
    {
      "cell_type": "code",
      "metadata": {
        "colab": {
          "base_uri": "https://localhost:8080/"
        },
        "id": "F0akwemjnZLi",
        "outputId": "4a8d4e66-80d4-4bb1-89dd-0ba4fd7758f5"
      },
      "source": [
        "# setor de produtos com maior volume de venda Rações e produtos de higiene (CAES e GATOS)\n",
        "\n",
        "print(\"VENDAS ONLINES\")\n",
        "print(new_vendas[new_vendas[\"CATEGORIA_VENDA\"].str.contains(\"E-COMMERCE\", na=False)].groupby([\"NIVEL 1\", \"NIVEL 3\"]).agg({\"QUANTIDADE\": \"sum\"}).sort_values(by = \"QUANTIDADE\", ascending = False).head(20))\n",
        "print(\"\\n\")\n",
        "print(\"VENDAS FISICO\")\n",
        "print(new_vendas[~new_vendas[\"CATEGORIA_VENDA\"].str.contains(\"E-COMMERCE\", na=False)].groupby([\"NIVEL 1\", \"NIVEL 3\"]).agg({\"QUANTIDADE\": \"sum\"}).sort_values(by = \"QUANTIDADE\", ascending = False).head(20))"
      ],
      "execution_count": null,
      "outputs": [
        {
          "output_type": "stream",
          "text": [
            "VENDAS ONLINES\n",
            "                                       QUANTIDADE\n",
            "NIVEL 1  NIVEL 3                                 \n",
            "CAES     RACOES                            3828.0\n",
            "GATOS    RACOES                            3693.0\n",
            "         HIGIENE E LIMPEZA                 1115.0\n",
            "CAES     HIGIENE E LIMPEZA                  984.0\n",
            "         PULGAS - CARRAPATOS - VERMES       778.0\n",
            "         PETISCOS E OSSINHOS                759.0\n",
            "         UTENSILIOS PARA BANHO              467.0\n",
            "         DORES E INFECCOES                  431.0\n",
            "         PELE E PELAGEM                     411.0\n",
            "         VITAMINAS E SUPLEMENTOS            369.0\n",
            "         BRINQUEDOS                         307.0\n",
            "AVES     RACOES                             279.0\n",
            "ROEDORES RACOES - FENOS - ALFAFAS           222.0\n",
            "CAES     ACESSORIOS PARA ALIMENTACAO        191.0\n",
            "GATOS    PETISCOS                           177.0\n",
            "CAES     OLHOS E ORELHAS                    172.0\n",
            "         DEMAIS MEDICAMENTOS                155.0\n",
            "GATOS    PULGAS - CARRAPATOS - VERMES       106.0\n",
            "         BRINQUEDOS                          85.0\n",
            "CAES     TRANSPORTE E VIAGEM                 84.0\n",
            "\n",
            "\n",
            "VENDAS FISICO\n",
            "                                       QUANTIDADE\n",
            "NIVEL 1  NIVEL 3                                 \n",
            "CAES     RACOES                          373703.0\n",
            "GATOS    RACOES                          243350.0\n",
            "CAES     PETISCOS E OSSINHOS             173314.0\n",
            "         HIGIENE E LIMPEZA               100067.0\n",
            "         BRINQUEDOS                       85750.0\n",
            "GATOS    HIGIENE E LIMPEZA                84062.0\n",
            "CAES     UTENSILIOS PARA BANHO            58857.0\n",
            "         PULGAS - CARRAPATOS - VERMES     54267.0\n",
            "         ACESSORIOS PARA ALIMENTACAO      43746.0\n",
            "AVES     RACOES                           37608.0\n",
            "CAES     COLEIRAS E PEITORAIS             36383.0\n",
            "         VITAMINAS E SUPLEMENTOS          33253.0\n",
            "         DORES E INFECCOES                28649.0\n",
            "ROEDORES RACOES - FENOS - ALFAFAS         27749.0\n",
            "PESSOAS  DOCES                            22214.0\n",
            "CAES     PELE E PELAGEM                   22063.0\n",
            "GATOS    PETISCOS                         16712.0\n",
            "         BRINQUEDOS                       15985.0\n",
            "AVES     GAIOLAS E ACESSORIOS             14858.0\n",
            "CAES     ROUPINHAS E ACESSORIOS           14268.0\n"
          ],
          "name": "stdout"
        }
      ]
    },
    {
      "cell_type": "code",
      "metadata": {
        "id": "QjaaTlXZq-YP"
      },
      "source": [
        "!pip install -q plotly==4.5.2\n",
        "\n",
        "import plotly.express as px\n",
        "\n",
        "sun_df = new_vendas.groupby([\"NIVEL 1\", \"NIVEL 2\", \"NIVEL 3\"], as_index = False)[\"QUANTIDADE\"].sum()\n",
        "\n",
        "px.sunburst(sun_df, path = [\"NIVEL 1\", \"NIVEL 2\", \"NIVEL 3\"],\n",
        "            values = \"QUANTIDADE\", color = \"QUANTIDADE\",\n",
        "            color_continuous_scale = \"viridis\",\n",
        "            # color_continuous_midpoint = 500000,\n",
        "            title = \"Tipos diferentes de Produtos por area\",\n",
        "            # hover_data = [\"QUANTIDADE\"]\n",
        "            )\n",
        "\n",
        "# mercado principal são os donos de cachorros,\n",
        "# gatos e peixes em segundo lugar\n",
        "# tem-se uma grande variedade de produtos na area de acessorios"
      ],
      "execution_count": null,
      "outputs": []
    },
    {
      "cell_type": "markdown",
      "metadata": {
        "id": "36S9lB6yj_TB"
      },
      "source": [
        "## Merge Vendas <-- Clientes\n",
        "**resumo:** \n",
        "\n",
        "\n",
        "1.   **Sexo:**\n",
        "> Comparativamente, mulheres tem um interesse maior em **GATOS** e homens, em **PEIXES**, embora o interesse principal de ambos os sexos sejam **CAES** (70% das vendas)\n",
        ">\n",
        "> Entre as **mulheres** é maior o percentual de clientes online (1%) doq **homens** (0.5%), embora para ambos os sexos sejam bem baixas as vendas online \n",
        "2.   **IDADE**\n",
        "> o E-commerce parece ser mais popular entre as pessoas mais jovens, enquanto os mais velhos são maioria nas compras fisicas\n",
        ">\n",
        "> Pessoas mais velhas tem interesse em outros animais alem de CAES, como **GATOS** e **PEIXES**\n",
        ">\n",
        "> **Mais velhos:** comparativamente, compram poucos acessorios e mais alimentos\n",
        ">\n",
        "> **Adultos e Velhos:** representam a maior parte das vendas de animais vivos e aquarios\n",
        "\n",
        "\n"
      ]
    },
    {
      "cell_type": "code",
      "metadata": {
        "id": "nhZY0shekG98"
      },
      "source": [
        "full_vendas = new_vendas.merge(clientes, how = \"left\", on = \"ID_CLIENTE\")\n",
        "full_vendas.head()"
      ],
      "execution_count": null,
      "outputs": []
    },
    {
      "cell_type": "markdown",
      "metadata": {
        "id": "ZQrfRFaTnOW5"
      },
      "source": [
        "### SEXO"
      ]
    },
    {
      "cell_type": "code",
      "metadata": {
        "id": "8AgulC5uwYLU"
      },
      "source": [
        "# mulheres tem uma parcela maior de vendas online\n",
        "full_vendas.groupby(\"SEXO\")[\"CATEGORIA_VENDA\"].value_counts(True)"
      ],
      "execution_count": null,
      "outputs": []
    },
    {
      "cell_type": "code",
      "metadata": {
        "id": "IbY8lUFuloyj"
      },
      "source": [
        "# homens tem mais interesse em PEIXES doq mulheres\n",
        "full_vendas.groupby(\"SEXO\")[\"NIVEL 1\"].value_counts(True, False)"
      ],
      "execution_count": null,
      "outputs": []
    },
    {
      "cell_type": "code",
      "metadata": {
        "id": "PYjsn4EDnUHN"
      },
      "source": [
        "# os produtos comprados seguem aproximadamente a mesma ditribuição\n",
        "full_vendas.groupby(\"SEXO\")[\"NIVEL 2\"].value_counts(True)"
      ],
      "execution_count": null,
      "outputs": []
    },
    {
      "cell_type": "code",
      "metadata": {
        "id": "gME4wSiJoWdm"
      },
      "source": [
        "# dias de compra tambem parece não fazer distinção de sexo\n",
        "full_vendas.groupby(\"SEXO\")[\"weekday\"].value_counts(True)"
      ],
      "execution_count": null,
      "outputs": []
    },
    {
      "cell_type": "markdown",
      "metadata": {
        "id": "ZD2c5hDbnJ1t"
      },
      "source": [
        "### IDADE"
      ]
    },
    {
      "cell_type": "code",
      "metadata": {
        "id": "sjSJa6xgkUug"
      },
      "source": [
        "# pessoas mais velhas tem menor participação nas compras online\n",
        "print(full_vendas.groupby(\"IDADE_CAT\")[\"CATEGORIA_VENDA\"].value_counts(True))\n",
        "\n",
        "full_vendas.groupby(\"CATEGORIA_VENDA\")[\"IDADE_CAT\"].value_counts(True, \n",
        "                                                                 sort = False)"
      ],
      "execution_count": null,
      "outputs": []
    },
    {
      "cell_type": "code",
      "metadata": {
        "id": "suBXxo2GzJjk"
      },
      "source": [
        "# pessoas mais velhas tem maior representatividade nas categorias de AVES e GATOS\n",
        "# adultos representam a maior parcela em PEIXES, ROEDORES e PESSOAS\n",
        "full_vendas.groupby(\"NIVEL 1\")[\"IDADE_CAT\"].value_counts(True, sort = False)"
      ],
      "execution_count": null,
      "outputs": []
    },
    {
      "cell_type": "code",
      "metadata": {
        "colab": {
          "base_uri": "https://localhost:8080/"
        },
        "id": "vD5ch2HI2Lbu",
        "outputId": "c5f53f4d-a619-4d63-e80a-5832b7e89dab"
      },
      "source": [
        "# todas as faixas etarias parecem preferir fazer compras aos sabados e não ir aos domingos\n",
        "# a proporção de idades dos clientes parece constante para todos os dias\n",
        "print(full_vendas.groupby(\"IDADE_CAT\")[\"weekday\"].value_counts(True, sort = False))\n",
        "full_vendas.groupby(\"weekday\")[\"IDADE_CAT\"].value_counts(True, sort = False)"
      ],
      "execution_count": null,
      "outputs": [
        {
          "output_type": "stream",
          "text": [
            "IDADE_CAT    weekday  \n",
            "Muito velho  Monday       0.127254\n",
            "             Tuesday      0.142494\n",
            "             Wednesday    0.136775\n",
            "             Thursday     0.147369\n",
            "             Friday       0.152675\n",
            "             Saturday     0.193303\n",
            "             Sunday       0.100131\n",
            "Velho        Monday       0.134462\n",
            "             Tuesday      0.140130\n",
            "             Wednesday    0.130592\n",
            "             Thursday     0.137876\n",
            "             Friday       0.144164\n",
            "             Saturday     0.209149\n",
            "             Sunday       0.103627\n",
            "Adulto       Monday       0.129713\n",
            "             Tuesday      0.136342\n",
            "             Wednesday    0.134009\n",
            "             Thursday     0.137314\n",
            "             Friday       0.138039\n",
            "             Saturday     0.211787\n",
            "             Sunday       0.112796\n",
            "Adulto Novo  Monday       0.132597\n",
            "             Tuesday      0.134818\n",
            "             Wednesday    0.137095\n",
            "             Thursday     0.137502\n",
            "             Friday       0.130542\n",
            "             Saturday     0.209511\n",
            "             Sunday       0.117936\n",
            "Jovem        Monday       0.142780\n",
            "             Tuesday      0.134093\n",
            "             Wednesday    0.132430\n",
            "             Thursday     0.138686\n",
            "             Friday       0.142406\n",
            "             Saturday     0.197211\n",
            "             Sunday       0.112395\n",
            "Name: weekday, dtype: float64\n"
          ],
          "name": "stdout"
        },
        {
          "output_type": "execute_result",
          "data": {
            "text/plain": [
              "weekday    IDADE_CAT  \n",
              "Monday     Muito velho    0.206391\n",
              "           Velho          0.220706\n",
              "           Adulto         0.196713\n",
              "           Adulto Novo    0.192022\n",
              "           Jovem          0.184167\n",
              "Tuesday    Muito velho    0.223059\n",
              "           Velho          0.221998\n",
              "           Adulto         0.199565\n",
              "           Adulto Novo    0.188440\n",
              "           Jovem          0.166938\n",
              "Wednesday  Muito velho    0.219904\n",
              "           Velho          0.212490\n",
              "           Adulto         0.201462\n",
              "           Adulto Novo    0.196811\n",
              "           Jovem          0.169333\n",
              "Thursday   Muito velho    0.227292\n",
              "           Velho          0.215209\n",
              "           Adulto         0.198027\n",
              "           Adulto Novo    0.189359\n",
              "           Jovem          0.170112\n",
              "Friday     Muito velho    0.232220\n",
              "           Velho          0.221912\n",
              "           Adulto         0.196319\n",
              "           Adulto Novo    0.177288\n",
              "           Jovem          0.172260\n",
              "Saturday   Muito velho    0.204140\n",
              "           Velho          0.223533\n",
              "           Adulto         0.209133\n",
              "           Adulto Novo    0.197560\n",
              "           Jovem          0.165634\n",
              "Sunday     Muito velho    0.198214\n",
              "           Velho          0.207604\n",
              "           Adulto         0.208782\n",
              "           Adulto Novo    0.208455\n",
              "           Jovem          0.176946\n",
              "Name: IDADE_CAT, dtype: float64"
            ]
          },
          "metadata": {
            "tags": []
          },
          "execution_count": 0
        }
      ]
    },
    {
      "cell_type": "code",
      "metadata": {
        "colab": {
          "base_uri": "https://localhost:8080/"
        },
        "id": "BVY7qBLNnEW8",
        "outputId": "a78bb4cc-3d2e-4673-d3fe-6227d7c6db52"
      },
      "source": [
        "# Acessorios: pessoas muito velhas compram pouco\n",
        "# Alimentos: pessoas muito velhas compram muito, enquanto jovens compram pouco\n",
        "# Animal vivo: Adultos e velhos compram muito\n",
        "# Aquarios: Adultos e velhos compram muito\n",
        "print(full_vendas.groupby(\"NIVEL 2\")[\"IDADE_CAT\"].value_counts(True, False))\n"
      ],
      "execution_count": null,
      "outputs": [
        {
          "output_type": "stream",
          "text": [
            "NIVEL 2                IDADE_CAT  \n",
            "ACESSORIOS             Muito velho    0.162076\n",
            "                       Velho          0.217146\n",
            "                       Adulto         0.211764\n",
            "                       Adulto Novo    0.207392\n",
            "                       Jovem          0.201621\n",
            "ALIMENTOS              Muito velho    0.246610\n",
            "                       Velho          0.217175\n",
            "                       Adulto         0.193314\n",
            "                       Adulto Novo    0.185099\n",
            "                       Jovem          0.157801\n",
            "ANIMAL VIVO            Muito velho    0.146341\n",
            "                       Velho          0.258749\n",
            "                       Adulto         0.282609\n",
            "                       Adulto Novo    0.152704\n",
            "                       Jovem          0.159597\n",
            "AQUARIOS E ACESSORIOS  Muito velho    0.119012\n",
            "                       Velho          0.248503\n",
            "                       Adulto         0.300898\n",
            "                       Adulto Novo    0.185254\n",
            "                       Jovem          0.146332\n",
            "CASA                   Muito velho    0.219017\n",
            "                       Velho          0.230769\n",
            "                       Adulto         0.216880\n",
            "                       Adulto Novo    0.196581\n",
            "                       Jovem          0.136752\n",
            "FARMACIA               Muito velho    0.218400\n",
            "                       Velho          0.208576\n",
            "                       Adulto         0.196098\n",
            "                       Adulto Novo    0.200820\n",
            "                       Jovem          0.176106\n",
            "HIGIENE E BELEZA       Muito velho    0.192574\n",
            "                       Velho          0.225999\n",
            "                       Adulto         0.209698\n",
            "                       Adulto Novo    0.194329\n",
            "                       Jovem          0.177400\n",
            "Name: IDADE_CAT, dtype: float64\n"
          ],
          "name": "stdout"
        }
      ]
    },
    {
      "cell_type": "markdown",
      "metadata": {
        "id": "Xd2n_8I1LoU3"
      },
      "source": [
        "# Perfil Clientes"
      ]
    },
    {
      "cell_type": "markdown",
      "metadata": {
        "id": "UNZKFtufl11p"
      },
      "source": [
        "## Segmentar\n",
        "\n",
        "*   **online:** ja usou o e-commerce da loja?\n",
        "*   **week:** quantas compras a pessoa fez em cada dia da semana?\n",
        "*   **PETS:** quantas compras em cada setor de pets?\n",
        "*   **produtos:** quais e quantos produtos a pessoa comprou? (alimentos / acessorio / farmacia)\n",
        "*   **Perfil de compra:** baseado na quantidade de items que a pessoa comprou (20% dos clientes em cada perfil)\n",
        "*   **Acessorios:** quantos acessorios a pessoa comprou em relação as compras de alimentos? ( se acessorios > alimentos / 10)\n",
        "*   **weekend:** se a pessoa compra mais aos fins de semanas doq nos dias uteis\n",
        "\n",
        "\n"
      ]
    },
    {
      "cell_type": "code",
      "metadata": {
        "colab": {
          "base_uri": "https://localhost:8080/"
        },
        "id": "OKM-sz-Eqiyz",
        "outputId": "7cbfb496-639f-4f0f-c4dc-cc9d8448b704"
      },
      "source": [
        "new_clientes = clientes.merge(full_vendas.groupby(\"ID_CLIENTE\")[\"QUANTIDADE\"].sum(), how = \"left\", on = \"ID_CLIENTE\").sort_values(\"QUANTIDADE\", ascending = False)\n",
        "new_clientes.head()"
      ],
      "execution_count": null,
      "outputs": [
        {
          "output_type": "execute_result",
          "data": {
            "text/html": [
              "<div>\n",
              "<style scoped>\n",
              "    .dataframe tbody tr th:only-of-type {\n",
              "        vertical-align: middle;\n",
              "    }\n",
              "\n",
              "    .dataframe tbody tr th {\n",
              "        vertical-align: top;\n",
              "    }\n",
              "\n",
              "    .dataframe thead th {\n",
              "        text-align: right;\n",
              "    }\n",
              "</style>\n",
              "<table border=\"1\" class=\"dataframe\">\n",
              "  <thead>\n",
              "    <tr style=\"text-align: right;\">\n",
              "      <th></th>\n",
              "      <th>SEXO</th>\n",
              "      <th>DATA_NASCIMENTO</th>\n",
              "      <th>PRIMEIRA_COMPRA</th>\n",
              "      <th>IDADE_CAT</th>\n",
              "      <th>QUANTIDADE</th>\n",
              "    </tr>\n",
              "    <tr>\n",
              "      <th>ID_CLIENTE</th>\n",
              "      <th></th>\n",
              "      <th></th>\n",
              "      <th></th>\n",
              "      <th></th>\n",
              "      <th></th>\n",
              "    </tr>\n",
              "  </thead>\n",
              "  <tbody>\n",
              "    <tr>\n",
              "      <th>36010</th>\n",
              "      <td>feminino</td>\n",
              "      <td>NaT</td>\n",
              "      <td>2020-05-16</td>\n",
              "      <td>NaN</td>\n",
              "      <td>810.0</td>\n",
              "    </tr>\n",
              "    <tr>\n",
              "      <th>32703</th>\n",
              "      <td>feminino</td>\n",
              "      <td>NaT</td>\n",
              "      <td>2020-03-11</td>\n",
              "      <td>NaN</td>\n",
              "      <td>809.0</td>\n",
              "    </tr>\n",
              "    <tr>\n",
              "      <th>38242</th>\n",
              "      <td>feminino</td>\n",
              "      <td>NaT</td>\n",
              "      <td>2020-11-13</td>\n",
              "      <td>NaN</td>\n",
              "      <td>742.0</td>\n",
              "    </tr>\n",
              "    <tr>\n",
              "      <th>60916</th>\n",
              "      <td>feminino</td>\n",
              "      <td>1965-03-06</td>\n",
              "      <td>2020-12-12</td>\n",
              "      <td>Muito velho</td>\n",
              "      <td>730.0</td>\n",
              "    </tr>\n",
              "    <tr>\n",
              "      <th>40951</th>\n",
              "      <td>feminino</td>\n",
              "      <td>1955-07-09</td>\n",
              "      <td>2020-08-20</td>\n",
              "      <td>Muito velho</td>\n",
              "      <td>730.0</td>\n",
              "    </tr>\n",
              "  </tbody>\n",
              "</table>\n",
              "</div>"
            ],
            "text/plain": [
              "                SEXO DATA_NASCIMENTO PRIMEIRA_COMPRA    IDADE_CAT  QUANTIDADE\n",
              "ID_CLIENTE                                                                   \n",
              "36010       feminino             NaT      2020-05-16          NaN       810.0\n",
              "32703       feminino             NaT      2020-03-11          NaN       809.0\n",
              "38242       feminino             NaT      2020-11-13          NaN       742.0\n",
              "60916       feminino      1965-03-06      2020-12-12  Muito velho       730.0\n",
              "40951       feminino      1955-07-09      2020-08-20  Muito velho       730.0"
            ]
          },
          "metadata": {
            "tags": []
          },
          "execution_count": 0
        }
      ]
    },
    {
      "cell_type": "code",
      "metadata": {
        "id": "3RR_p-xFSWnE"
      },
      "source": [
        "week = full_vendas[\"weekday\"].unique()\n",
        "animais = full_vendas[\"NIVEL 1\"].dropna().unique()\n",
        "produtos = full_vendas[\"NIVEL 2\"].dropna().unique()\n",
        "\n",
        "new_clientes[\"online\"] = 0\n",
        "for day in week:\n",
        "    new_clientes[day] = 0\n",
        "\n",
        "for animal in animais:\n",
        "    new_clientes[animal] = 0\n",
        "\n",
        "for produto in produtos:\n",
        "    new_clientes[produto] = 0"
      ],
      "execution_count": null,
      "outputs": []
    },
    {
      "cell_type": "code",
      "metadata": {
        "id": "SdF1ACC9OvrQ"
      },
      "source": [
        "def create_profile(row):\n",
        "    id_cliente = row.name\n",
        "    compras = full_vendas.loc[full_vendas[\"ID_CLIENTE\"] == id_cliente]\n",
        "\n",
        "    try:\n",
        "        online = compras[\"CATEGORIA_VENDA\"].value_counts()['E-COMMERCE          ']\n",
        "        row[\"online\"] = 1\n",
        "    except:\n",
        "        row[\"online\"] = 0\n",
        "\n",
        "    dia_compra = full_vendas.loc[full_vendas[\"ID_CLIENTE\"] == id_cliente][\"weekday\"].value_counts().to_dict()\n",
        "    for day in week:\n",
        "        row[day] = dia_compra[day]\n",
        "\n",
        "    animal_compra = full_vendas.loc[full_vendas[\"ID_CLIENTE\"] == id_cliente][\"NIVEL 1\"].value_counts().to_dict()\n",
        "    for animal in animais:\n",
        "        row[animal] = animal_compra[animal]\n",
        "\n",
        "    produtos_compra = full_vendas.loc[full_vendas[\"ID_CLIENTE\"] == id_cliente][\"NIVEL 2\"].value_counts().to_dict()\n",
        "    for produto in produtos:\n",
        "        row[produto] = produtos_compra[produto]\n",
        "    \n",
        "    return row\n",
        "    \n",
        "    \n"
      ],
      "execution_count": null,
      "outputs": []
    },
    {
      "cell_type": "code",
      "metadata": {
        "colab": {
          "base_uri": "https://localhost:8080/"
        },
        "id": "d0vHjoLzS4AJ",
        "outputId": "6c1c9680-9481-424f-8adc-74f1dc5453c7"
      },
      "source": [
        "# demora uns 20mins pra rodar a primeira linha\n",
        "# final_clientes = new_clientes.apply(create_profile, axis = 1)\n",
        "\n",
        "final_clientes = pd.read_csv(\"final_clientes.csv\", index_col = 0, parse_dates = [2,3],\n",
        "                             dtype = {\"SEXO\": \"category\", \"IDADE_CAT \": \"category\"})\n",
        "\n",
        "final_clientes[\"IDADE_CAT\"] = pd.qcut(final_clientes.DATA_NASCIMENTO, q = 5,\n",
        "                                      labels = [\"Muito velho\", \"Velho\", \"Adulto\", \"Adulto Novo\", \"Jovem\"])\n",
        "\n",
        "final_clientes = final_clientes[final_clientes[\"QUANTIDADE\"].notna()]\n",
        "final_clientes.head(10)"
      ],
      "execution_count": null,
      "outputs": [
        {
          "output_type": "execute_result",
          "data": {
            "text/html": [
              "<div>\n",
              "<style scoped>\n",
              "    .dataframe tbody tr th:only-of-type {\n",
              "        vertical-align: middle;\n",
              "    }\n",
              "\n",
              "    .dataframe tbody tr th {\n",
              "        vertical-align: top;\n",
              "    }\n",
              "\n",
              "    .dataframe thead th {\n",
              "        text-align: right;\n",
              "    }\n",
              "</style>\n",
              "<table border=\"1\" class=\"dataframe\">\n",
              "  <thead>\n",
              "    <tr style=\"text-align: right;\">\n",
              "      <th></th>\n",
              "      <th>SEXO</th>\n",
              "      <th>DATA_NASCIMENTO</th>\n",
              "      <th>PRIMEIRA_COMPRA</th>\n",
              "      <th>IDADE_CAT</th>\n",
              "      <th>QUANTIDADE</th>\n",
              "      <th>online</th>\n",
              "      <th>Wednesday</th>\n",
              "      <th>Friday</th>\n",
              "      <th>Monday</th>\n",
              "      <th>Tuesday</th>\n",
              "      <th>Thursday</th>\n",
              "      <th>Saturday</th>\n",
              "      <th>Sunday</th>\n",
              "      <th>CAES</th>\n",
              "      <th>ROEDORES</th>\n",
              "      <th>GATOS</th>\n",
              "      <th>AVES</th>\n",
              "      <th>PEIXES</th>\n",
              "      <th>PESSOAS</th>\n",
              "      <th>ALIMENTOS</th>\n",
              "      <th>ACESSORIOS</th>\n",
              "      <th>FARMACIA</th>\n",
              "      <th>HIGIENE E BELEZA</th>\n",
              "      <th>AQUARIOS E ACESSORIOS</th>\n",
              "      <th>ANIMAL VIVO</th>\n",
              "      <th>CASA</th>\n",
              "    </tr>\n",
              "    <tr>\n",
              "      <th>ID_CLIENTE</th>\n",
              "      <th></th>\n",
              "      <th></th>\n",
              "      <th></th>\n",
              "      <th></th>\n",
              "      <th></th>\n",
              "      <th></th>\n",
              "      <th></th>\n",
              "      <th></th>\n",
              "      <th></th>\n",
              "      <th></th>\n",
              "      <th></th>\n",
              "      <th></th>\n",
              "      <th></th>\n",
              "      <th></th>\n",
              "      <th></th>\n",
              "      <th></th>\n",
              "      <th></th>\n",
              "      <th></th>\n",
              "      <th></th>\n",
              "      <th></th>\n",
              "      <th></th>\n",
              "      <th></th>\n",
              "      <th></th>\n",
              "      <th></th>\n",
              "      <th></th>\n",
              "      <th></th>\n",
              "    </tr>\n",
              "  </thead>\n",
              "  <tbody>\n",
              "    <tr>\n",
              "      <th>36010</th>\n",
              "      <td>feminino</td>\n",
              "      <td>NaT</td>\n",
              "      <td>2020-05-16</td>\n",
              "      <td>NaN</td>\n",
              "      <td>810.0</td>\n",
              "      <td>1</td>\n",
              "      <td>29</td>\n",
              "      <td>18</td>\n",
              "      <td>20</td>\n",
              "      <td>25</td>\n",
              "      <td>15</td>\n",
              "      <td>37</td>\n",
              "      <td>3</td>\n",
              "      <td>44</td>\n",
              "      <td>0</td>\n",
              "      <td>103</td>\n",
              "      <td>0</td>\n",
              "      <td>0</td>\n",
              "      <td>0</td>\n",
              "      <td>82</td>\n",
              "      <td>38</td>\n",
              "      <td>1</td>\n",
              "      <td>26</td>\n",
              "      <td>0</td>\n",
              "      <td>0</td>\n",
              "      <td>0</td>\n",
              "    </tr>\n",
              "    <tr>\n",
              "      <th>32703</th>\n",
              "      <td>feminino</td>\n",
              "      <td>NaT</td>\n",
              "      <td>2020-03-11</td>\n",
              "      <td>NaN</td>\n",
              "      <td>809.0</td>\n",
              "      <td>0</td>\n",
              "      <td>21</td>\n",
              "      <td>39</td>\n",
              "      <td>13</td>\n",
              "      <td>46</td>\n",
              "      <td>37</td>\n",
              "      <td>27</td>\n",
              "      <td>0</td>\n",
              "      <td>51</td>\n",
              "      <td>0</td>\n",
              "      <td>132</td>\n",
              "      <td>0</td>\n",
              "      <td>0</td>\n",
              "      <td>0</td>\n",
              "      <td>123</td>\n",
              "      <td>1</td>\n",
              "      <td>28</td>\n",
              "      <td>31</td>\n",
              "      <td>0</td>\n",
              "      <td>0</td>\n",
              "      <td>0</td>\n",
              "    </tr>\n",
              "    <tr>\n",
              "      <th>38242</th>\n",
              "      <td>feminino</td>\n",
              "      <td>NaT</td>\n",
              "      <td>2020-11-13</td>\n",
              "      <td>NaN</td>\n",
              "      <td>742.0</td>\n",
              "      <td>0</td>\n",
              "      <td>31</td>\n",
              "      <td>23</td>\n",
              "      <td>26</td>\n",
              "      <td>10</td>\n",
              "      <td>18</td>\n",
              "      <td>16</td>\n",
              "      <td>9</td>\n",
              "      <td>61</td>\n",
              "      <td>1</td>\n",
              "      <td>70</td>\n",
              "      <td>0</td>\n",
              "      <td>0</td>\n",
              "      <td>1</td>\n",
              "      <td>105</td>\n",
              "      <td>7</td>\n",
              "      <td>1</td>\n",
              "      <td>19</td>\n",
              "      <td>0</td>\n",
              "      <td>0</td>\n",
              "      <td>1</td>\n",
              "    </tr>\n",
              "    <tr>\n",
              "      <th>60916</th>\n",
              "      <td>feminino</td>\n",
              "      <td>1965-03-06</td>\n",
              "      <td>2020-12-12</td>\n",
              "      <td>Muito velho</td>\n",
              "      <td>730.0</td>\n",
              "      <td>0</td>\n",
              "      <td>27</td>\n",
              "      <td>64</td>\n",
              "      <td>95</td>\n",
              "      <td>22</td>\n",
              "      <td>15</td>\n",
              "      <td>30</td>\n",
              "      <td>10</td>\n",
              "      <td>171</td>\n",
              "      <td>0</td>\n",
              "      <td>92</td>\n",
              "      <td>0</td>\n",
              "      <td>0</td>\n",
              "      <td>0</td>\n",
              "      <td>210</td>\n",
              "      <td>0</td>\n",
              "      <td>36</td>\n",
              "      <td>17</td>\n",
              "      <td>0</td>\n",
              "      <td>0</td>\n",
              "      <td>0</td>\n",
              "    </tr>\n",
              "    <tr>\n",
              "      <th>40951</th>\n",
              "      <td>feminino</td>\n",
              "      <td>1955-07-09</td>\n",
              "      <td>2020-08-20</td>\n",
              "      <td>Muito velho</td>\n",
              "      <td>730.0</td>\n",
              "      <td>0</td>\n",
              "      <td>11</td>\n",
              "      <td>16</td>\n",
              "      <td>0</td>\n",
              "      <td>7</td>\n",
              "      <td>21</td>\n",
              "      <td>68</td>\n",
              "      <td>0</td>\n",
              "      <td>7</td>\n",
              "      <td>0</td>\n",
              "      <td>114</td>\n",
              "      <td>0</td>\n",
              "      <td>0</td>\n",
              "      <td>2</td>\n",
              "      <td>116</td>\n",
              "      <td>2</td>\n",
              "      <td>0</td>\n",
              "      <td>5</td>\n",
              "      <td>0</td>\n",
              "      <td>0</td>\n",
              "      <td>0</td>\n",
              "    </tr>\n",
              "    <tr>\n",
              "      <th>49325</th>\n",
              "      <td>masculino</td>\n",
              "      <td>1953-11-22</td>\n",
              "      <td>2020-10-02</td>\n",
              "      <td>Muito velho</td>\n",
              "      <td>598.0</td>\n",
              "      <td>0</td>\n",
              "      <td>6</td>\n",
              "      <td>84</td>\n",
              "      <td>0</td>\n",
              "      <td>2</td>\n",
              "      <td>23</td>\n",
              "      <td>0</td>\n",
              "      <td>2</td>\n",
              "      <td>20</td>\n",
              "      <td>0</td>\n",
              "      <td>97</td>\n",
              "      <td>0</td>\n",
              "      <td>0</td>\n",
              "      <td>0</td>\n",
              "      <td>95</td>\n",
              "      <td>5</td>\n",
              "      <td>0</td>\n",
              "      <td>17</td>\n",
              "      <td>0</td>\n",
              "      <td>0</td>\n",
              "      <td>0</td>\n",
              "    </tr>\n",
              "    <tr>\n",
              "      <th>33915</th>\n",
              "      <td>vazio</td>\n",
              "      <td>NaT</td>\n",
              "      <td>2020-04-06</td>\n",
              "      <td>NaN</td>\n",
              "      <td>586.0</td>\n",
              "      <td>0</td>\n",
              "      <td>29</td>\n",
              "      <td>21</td>\n",
              "      <td>27</td>\n",
              "      <td>16</td>\n",
              "      <td>29</td>\n",
              "      <td>35</td>\n",
              "      <td>23</td>\n",
              "      <td>179</td>\n",
              "      <td>0</td>\n",
              "      <td>1</td>\n",
              "      <td>0</td>\n",
              "      <td>0</td>\n",
              "      <td>0</td>\n",
              "      <td>151</td>\n",
              "      <td>12</td>\n",
              "      <td>12</td>\n",
              "      <td>5</td>\n",
              "      <td>0</td>\n",
              "      <td>0</td>\n",
              "      <td>0</td>\n",
              "    </tr>\n",
              "    <tr>\n",
              "      <th>34277</th>\n",
              "      <td>vazio</td>\n",
              "      <td>NaT</td>\n",
              "      <td>2020-04-12</td>\n",
              "      <td>NaN</td>\n",
              "      <td>570.0</td>\n",
              "      <td>1</td>\n",
              "      <td>26</td>\n",
              "      <td>8</td>\n",
              "      <td>32</td>\n",
              "      <td>13</td>\n",
              "      <td>20</td>\n",
              "      <td>45</td>\n",
              "      <td>13</td>\n",
              "      <td>118</td>\n",
              "      <td>0</td>\n",
              "      <td>39</td>\n",
              "      <td>0</td>\n",
              "      <td>0</td>\n",
              "      <td>0</td>\n",
              "      <td>140</td>\n",
              "      <td>5</td>\n",
              "      <td>3</td>\n",
              "      <td>9</td>\n",
              "      <td>0</td>\n",
              "      <td>0</td>\n",
              "      <td>0</td>\n",
              "    </tr>\n",
              "    <tr>\n",
              "      <th>21340</th>\n",
              "      <td>vazio</td>\n",
              "      <td>NaT</td>\n",
              "      <td>2019-04-05</td>\n",
              "      <td>NaN</td>\n",
              "      <td>560.0</td>\n",
              "      <td>0</td>\n",
              "      <td>9</td>\n",
              "      <td>16</td>\n",
              "      <td>13</td>\n",
              "      <td>12</td>\n",
              "      <td>19</td>\n",
              "      <td>8</td>\n",
              "      <td>9</td>\n",
              "      <td>15</td>\n",
              "      <td>0</td>\n",
              "      <td>68</td>\n",
              "      <td>0</td>\n",
              "      <td>0</td>\n",
              "      <td>2</td>\n",
              "      <td>72</td>\n",
              "      <td>1</td>\n",
              "      <td>0</td>\n",
              "      <td>12</td>\n",
              "      <td>0</td>\n",
              "      <td>0</td>\n",
              "      <td>0</td>\n",
              "    </tr>\n",
              "    <tr>\n",
              "      <th>32867</th>\n",
              "      <td>vazio</td>\n",
              "      <td>NaT</td>\n",
              "      <td>2020-03-16</td>\n",
              "      <td>NaN</td>\n",
              "      <td>553.0</td>\n",
              "      <td>0</td>\n",
              "      <td>87</td>\n",
              "      <td>0</td>\n",
              "      <td>16</td>\n",
              "      <td>17</td>\n",
              "      <td>50</td>\n",
              "      <td>0</td>\n",
              "      <td>0</td>\n",
              "      <td>34</td>\n",
              "      <td>0</td>\n",
              "      <td>130</td>\n",
              "      <td>0</td>\n",
              "      <td>0</td>\n",
              "      <td>5</td>\n",
              "      <td>157</td>\n",
              "      <td>4</td>\n",
              "      <td>0</td>\n",
              "      <td>7</td>\n",
              "      <td>0</td>\n",
              "      <td>0</td>\n",
              "      <td>1</td>\n",
              "    </tr>\n",
              "  </tbody>\n",
              "</table>\n",
              "</div>"
            ],
            "text/plain": [
              "                 SEXO DATA_NASCIMENTO  ... ANIMAL VIVO CASA\n",
              "ID_CLIENTE                             ...                 \n",
              "36010        feminino             NaT  ...           0    0\n",
              "32703        feminino             NaT  ...           0    0\n",
              "38242        feminino             NaT  ...           0    1\n",
              "60916        feminino      1965-03-06  ...           0    0\n",
              "40951        feminino      1955-07-09  ...           0    0\n",
              "49325       masculino      1953-11-22  ...           0    0\n",
              "33915           vazio             NaT  ...           0    0\n",
              "34277           vazio             NaT  ...           0    0\n",
              "21340           vazio             NaT  ...           0    0\n",
              "32867           vazio             NaT  ...           0    1\n",
              "\n",
              "[10 rows x 26 columns]"
            ]
          },
          "metadata": {
            "tags": []
          },
          "execution_count": 0
        }
      ]
    },
    {
      "cell_type": "code",
      "metadata": {
        "colab": {
          "base_uri": "https://localhost:8080/"
        },
        "id": "Ijcmwv0CuaIa",
        "outputId": "1ad4b5fb-d4e5-4523-9ef1-ac8925daea95"
      },
      "source": [
        "new_week = list(week)\n",
        "new_week.remove(\"Saturday\")\n",
        "new_week.remove(\"Sunday\")\n",
        "\n",
        "final_clientes[\"weekend\"] = (final_clientes[new_week].sum(axis = 1) < final_clientes[\"Saturday\"] + final_clientes[\"Sunday\"])\n",
        "final_clientes[\"weekend\"].value_counts()"
      ],
      "execution_count": null,
      "outputs": [
        {
          "output_type": "execute_result",
          "data": {
            "text/plain": [
              "False    45752\n",
              "True     15448\n",
              "Name: weekend, dtype: int64"
            ]
          },
          "metadata": {
            "tags": []
          },
          "execution_count": 0
        }
      ]
    },
    {
      "cell_type": "code",
      "metadata": {
        "colab": {
          "base_uri": "https://localhost:8080/"
        },
        "id": "M4n4O-CAbsD0",
        "outputId": "3ce1195c-52aa-4d1c-fd75-e0a64b2f5328"
      },
      "source": [
        "import matplotlib.pyplot as plt\n",
        "\n",
        "final_clientes[\"perfil_compra\"], bins = pd.qcut(final_clientes[\"QUANTIDADE\"], q = 5,\n",
        "                                  labels = [\"one-time\", \"sazonal\", \"regular\", \"cliente fidelidade\", \"dono do canil\"],\n",
        "                                   retbins = True)\n",
        "\n",
        "print(\"Perfil: \", bins)\n",
        "_ = sns.displot(final_clientes[\"perfil_compra\"])\n",
        "_ = plt.xticks(rotation=45)"
      ],
      "execution_count": null,
      "outputs": [
        {
          "output_type": "stream",
          "text": [
            "Perfil:  [  1.   2.   4.   7.  15. 810.]\n"
          ],
          "name": "stdout"
        },
        {
          "output_type": "display_data",
          "data": {
            "image/png": "[encoded data removed]",
            "text/plain": [
              "<Figure size 360x360 with 1 Axes>"
            ]
          },
          "metadata": {
            "tags": []
          }
        }
      ]
    },
    {
      "cell_type": "code",
      "metadata": {
        "colab": {
          "base_uri": "https://localhost:8080/"
        },
        "id": "8S9fyjRqkCWY",
        "outputId": "ca716b19-d2e3-4487-c415-32c2271c4ca9"
      },
      "source": [
        "_ = sns.displot(final_clientes[final_clientes[\"perfil_compra\"] < \"dono do canil\"][[\"perfil_compra\", \"QUANTIDADE\"]].reset_index(),\n",
        "                x = \"QUANTIDADE\", hue = \"perfil_compra\")"
      ],
      "execution_count": null,
      "outputs": [
        {
          "output_type": "display_data",
          "data": {
            "image/png": "[encoded data removed]",
            "text/plain": [
              "<Figure size 482.625x360 with 1 Axes>"
            ]
          },
          "metadata": {
            "tags": []
          }
        }
      ]
    },
    {
      "cell_type": "code",
      "metadata": {
        "colab": {
          "base_uri": "https://localhost:8080/"
        },
        "id": "ZHy9jSpTlpJd",
        "outputId": "07b37475-5317-43c4-cb92-a77c6861d3fe"
      },
      "source": [
        "final_clientes[\"perfil_acessorio\"] = (final_clientes[\"ALIMENTOS\"] / final_clientes[\"ACESSORIOS\"]) > 10\n",
        "final_clientes[\"perfil_acessorio\"].value_counts()"
      ],
      "execution_count": null,
      "outputs": [
        {
          "output_type": "execute_result",
          "data": {
            "text/plain": [
              "False    34200\n",
              "True     27000\n",
              "Name: perfil_acessorio, dtype: int64"
            ]
          },
          "metadata": {
            "tags": []
          },
          "execution_count": 0
        }
      ]
    },
    {
      "cell_type": "markdown",
      "metadata": {
        "id": "87ty8Lb9hn1L"
      },
      "source": [
        "## perfil compra: **one-time**\n",
        "### clientes que compraram não mais que 2 items na loja durante o tempo de vendas\n",
        "\n",
        "1.   **52% não preencheram** o campo SEXO, um pouco mais mulheres (26%) do que homens (22%)\n",
        "2.   Perfil de idade bem distribuido\n",
        "3.   compras distribuidas ao longo dos dias uteis, concentração sabado e poucos aos domingos\n",
        "4.   **26%** compram mais aos fins de semanas\n",
        "5.   **54%** vieram comprar **acessorios**\n",
        "6.   cerca de **10%** de clientes **online**\n",
        "7.   **81% CAES** e **13% GATOS**\n",
        "8.   Interesse na area de **Farmacia**\n",
        "**produtos:**\n",
        "```\n",
        "ALIMENTOS                0.512791\n",
        "ACESSORIOS               0.170327\n",
        "FARMACIA                 0.179037\n",
        "HIGIENE E BELEZA         0.126778\n",
        "AQUARIOS E ACESSORIOS    0.006017\n",
        "```\n",
        "**propostas:** Investir nos clientes online\n",
        "\n",
        "1.   oferecer promoções para a próxima compra\n",
        "2.   frete gratis acima de certo valor do carrinho\n",
        "3.   mostrar outros produtos da area de **acessorios** em \"pessoas tambem compraram isso\" antes da finalização da compra, com classificação \"NIVEL 3\" diferente, ex: se a pessoa comprou um brinquedo, mostrar uma roupinha\n",
        "\n"
      ]
    },
    {
      "cell_type": "code",
      "metadata": {
        "colab": {
          "base_uri": "https://localhost:8080/"
        },
        "id": "rz6C2Erqhq5s",
        "outputId": "4b461322-5e96-4ff5-ad46-03f9cfec238e"
      },
      "source": [
        "cliente_1 = final_clientes[final_clientes[\"perfil_compra\"] == \"one-time\"]\n",
        "cliente_1.head()"
      ],
      "execution_count": null,
      "outputs": [
        {
          "output_type": "execute_result",
          "data": {
            "text/html": [
              "<div>\n",
              "<style scoped>\n",
              "    .dataframe tbody tr th:only-of-type {\n",
              "        vertical-align: middle;\n",
              "    }\n",
              "\n",
              "    .dataframe tbody tr th {\n",
              "        vertical-align: top;\n",
              "    }\n",
              "\n",
              "    .dataframe thead th {\n",
              "        text-align: right;\n",
              "    }\n",
              "</style>\n",
              "<table border=\"1\" class=\"dataframe\">\n",
              "  <thead>\n",
              "    <tr style=\"text-align: right;\">\n",
              "      <th></th>\n",
              "      <th>SEXO</th>\n",
              "      <th>DATA_NASCIMENTO</th>\n",
              "      <th>PRIMEIRA_COMPRA</th>\n",
              "      <th>IDADE_CAT</th>\n",
              "      <th>QUANTIDADE</th>\n",
              "      <th>online</th>\n",
              "      <th>Wednesday</th>\n",
              "      <th>Friday</th>\n",
              "      <th>Monday</th>\n",
              "      <th>Tuesday</th>\n",
              "      <th>Thursday</th>\n",
              "      <th>Saturday</th>\n",
              "      <th>Sunday</th>\n",
              "      <th>CAES</th>\n",
              "      <th>ROEDORES</th>\n",
              "      <th>GATOS</th>\n",
              "      <th>AVES</th>\n",
              "      <th>PEIXES</th>\n",
              "      <th>PESSOAS</th>\n",
              "      <th>ALIMENTOS</th>\n",
              "      <th>ACESSORIOS</th>\n",
              "      <th>FARMACIA</th>\n",
              "      <th>HIGIENE E BELEZA</th>\n",
              "      <th>AQUARIOS E ACESSORIOS</th>\n",
              "      <th>ANIMAL VIVO</th>\n",
              "      <th>CASA</th>\n",
              "      <th>weekend</th>\n",
              "      <th>perfil_compra</th>\n",
              "      <th>perfil_acessorio</th>\n",
              "    </tr>\n",
              "    <tr>\n",
              "      <th>ID_CLIENTE</th>\n",
              "      <th></th>\n",
              "      <th></th>\n",
              "      <th></th>\n",
              "      <th></th>\n",
              "      <th></th>\n",
              "      <th></th>\n",
              "      <th></th>\n",
              "      <th></th>\n",
              "      <th></th>\n",
              "      <th></th>\n",
              "      <th></th>\n",
              "      <th></th>\n",
              "      <th></th>\n",
              "      <th></th>\n",
              "      <th></th>\n",
              "      <th></th>\n",
              "      <th></th>\n",
              "      <th></th>\n",
              "      <th></th>\n",
              "      <th></th>\n",
              "      <th></th>\n",
              "      <th></th>\n",
              "      <th></th>\n",
              "      <th></th>\n",
              "      <th></th>\n",
              "      <th></th>\n",
              "      <th></th>\n",
              "      <th></th>\n",
              "      <th></th>\n",
              "    </tr>\n",
              "  </thead>\n",
              "  <tbody>\n",
              "    <tr>\n",
              "      <th>74619</th>\n",
              "      <td>feminino</td>\n",
              "      <td>1986-06-03</td>\n",
              "      <td>2021-03-12</td>\n",
              "      <td>Adulto Novo</td>\n",
              "      <td>2.0</td>\n",
              "      <td>0</td>\n",
              "      <td>0</td>\n",
              "      <td>2</td>\n",
              "      <td>0</td>\n",
              "      <td>0</td>\n",
              "      <td>0</td>\n",
              "      <td>0</td>\n",
              "      <td>0</td>\n",
              "      <td>2</td>\n",
              "      <td>0</td>\n",
              "      <td>0</td>\n",
              "      <td>0</td>\n",
              "      <td>0</td>\n",
              "      <td>0</td>\n",
              "      <td>0</td>\n",
              "      <td>2</td>\n",
              "      <td>0</td>\n",
              "      <td>0</td>\n",
              "      <td>0</td>\n",
              "      <td>0</td>\n",
              "      <td>0</td>\n",
              "      <td>False</td>\n",
              "      <td>one-time</td>\n",
              "      <td>False</td>\n",
              "    </tr>\n",
              "    <tr>\n",
              "      <th>84121</th>\n",
              "      <td>feminino</td>\n",
              "      <td>1995-06-07</td>\n",
              "      <td>2021-05-23</td>\n",
              "      <td>Jovem</td>\n",
              "      <td>2.0</td>\n",
              "      <td>0</td>\n",
              "      <td>0</td>\n",
              "      <td>0</td>\n",
              "      <td>0</td>\n",
              "      <td>0</td>\n",
              "      <td>0</td>\n",
              "      <td>0</td>\n",
              "      <td>2</td>\n",
              "      <td>2</td>\n",
              "      <td>0</td>\n",
              "      <td>0</td>\n",
              "      <td>0</td>\n",
              "      <td>0</td>\n",
              "      <td>0</td>\n",
              "      <td>1</td>\n",
              "      <td>0</td>\n",
              "      <td>0</td>\n",
              "      <td>1</td>\n",
              "      <td>0</td>\n",
              "      <td>0</td>\n",
              "      <td>0</td>\n",
              "      <td>True</td>\n",
              "      <td>one-time</td>\n",
              "      <td>True</td>\n",
              "    </tr>\n",
              "    <tr>\n",
              "      <th>80446</th>\n",
              "      <td>vazio</td>\n",
              "      <td>NaT</td>\n",
              "      <td>2021-04-25</td>\n",
              "      <td>NaN</td>\n",
              "      <td>2.0</td>\n",
              "      <td>1</td>\n",
              "      <td>0</td>\n",
              "      <td>0</td>\n",
              "      <td>0</td>\n",
              "      <td>0</td>\n",
              "      <td>0</td>\n",
              "      <td>0</td>\n",
              "      <td>1</td>\n",
              "      <td>0</td>\n",
              "      <td>0</td>\n",
              "      <td>1</td>\n",
              "      <td>0</td>\n",
              "      <td>0</td>\n",
              "      <td>0</td>\n",
              "      <td>1</td>\n",
              "      <td>0</td>\n",
              "      <td>0</td>\n",
              "      <td>0</td>\n",
              "      <td>0</td>\n",
              "      <td>0</td>\n",
              "      <td>0</td>\n",
              "      <td>True</td>\n",
              "      <td>one-time</td>\n",
              "      <td>True</td>\n",
              "    </tr>\n",
              "    <tr>\n",
              "      <th>77484</th>\n",
              "      <td>vazio</td>\n",
              "      <td>NaT</td>\n",
              "      <td>2021-03-31</td>\n",
              "      <td>NaN</td>\n",
              "      <td>2.0</td>\n",
              "      <td>1</td>\n",
              "      <td>2</td>\n",
              "      <td>0</td>\n",
              "      <td>0</td>\n",
              "      <td>0</td>\n",
              "      <td>0</td>\n",
              "      <td>0</td>\n",
              "      <td>0</td>\n",
              "      <td>2</td>\n",
              "      <td>0</td>\n",
              "      <td>0</td>\n",
              "      <td>0</td>\n",
              "      <td>0</td>\n",
              "      <td>0</td>\n",
              "      <td>1</td>\n",
              "      <td>0</td>\n",
              "      <td>1</td>\n",
              "      <td>0</td>\n",
              "      <td>0</td>\n",
              "      <td>0</td>\n",
              "      <td>0</td>\n",
              "      <td>False</td>\n",
              "      <td>one-time</td>\n",
              "      <td>True</td>\n",
              "    </tr>\n",
              "    <tr>\n",
              "      <th>73802</th>\n",
              "      <td>feminino</td>\n",
              "      <td>1961-03-01</td>\n",
              "      <td>2021-03-05</td>\n",
              "      <td>Muito velho</td>\n",
              "      <td>2.0</td>\n",
              "      <td>0</td>\n",
              "      <td>0</td>\n",
              "      <td>2</td>\n",
              "      <td>0</td>\n",
              "      <td>0</td>\n",
              "      <td>0</td>\n",
              "      <td>0</td>\n",
              "      <td>0</td>\n",
              "      <td>2</td>\n",
              "      <td>0</td>\n",
              "      <td>0</td>\n",
              "      <td>0</td>\n",
              "      <td>0</td>\n",
              "      <td>0</td>\n",
              "      <td>0</td>\n",
              "      <td>2</td>\n",
              "      <td>0</td>\n",
              "      <td>0</td>\n",
              "      <td>0</td>\n",
              "      <td>0</td>\n",
              "      <td>0</td>\n",
              "      <td>False</td>\n",
              "      <td>one-time</td>\n",
              "      <td>False</td>\n",
              "    </tr>\n",
              "  </tbody>\n",
              "</table>\n",
              "</div>"
            ],
            "text/plain": [
              "                SEXO DATA_NASCIMENTO  ... perfil_compra perfil_acessorio\n",
              "ID_CLIENTE                            ...                               \n",
              "74619       feminino      1986-06-03  ...      one-time            False\n",
              "84121       feminino      1995-06-07  ...      one-time             True\n",
              "80446          vazio             NaT  ...      one-time             True\n",
              "77484          vazio             NaT  ...      one-time             True\n",
              "73802       feminino      1961-03-01  ...      one-time            False\n",
              "\n",
              "[5 rows x 29 columns]"
            ]
          },
          "metadata": {
            "tags": []
          },
          "execution_count": 0
        }
      ]
    },
    {
      "cell_type": "code",
      "metadata": {
        "colab": {
          "base_uri": "https://localhost:8080/"
        },
        "id": "ymHILE3XjJLc",
        "outputId": "a0963c64-6129-40cb-9228-c767003ee015"
      },
      "source": [
        "cliente_1.SEXO.value_counts(True)"
      ],
      "execution_count": null,
      "outputs": [
        {
          "output_type": "execute_result",
          "data": {
            "text/plain": [
              "vazio        0.526444\n",
              "feminino     0.261467\n",
              "masculino    0.212089\n",
              "Name: SEXO, dtype: float64"
            ]
          },
          "metadata": {
            "tags": []
          },
          "execution_count": 0
        }
      ]
    },
    {
      "cell_type": "code",
      "metadata": {
        "colab": {
          "base_uri": "https://localhost:8080/"
        },
        "id": "ADOhD2f2jGdK",
        "outputId": "88c8671f-b8bd-4444-cae4-bf186abc9228"
      },
      "source": [
        "cliente_1.IDADE_CAT.value_counts(True,False)"
      ],
      "execution_count": null,
      "outputs": [
        {
          "output_type": "execute_result",
          "data": {
            "text/plain": [
              "Muito velho    0.209276\n",
              "Velho          0.190699\n",
              "Adulto         0.196259\n",
              "Adulto Novo    0.194616\n",
              "Jovem          0.209150\n",
              "Name: IDADE_CAT, dtype: float64"
            ]
          },
          "metadata": {
            "tags": []
          },
          "execution_count": 0
        }
      ]
    },
    {
      "cell_type": "code",
      "metadata": {
        "colab": {
          "base_uri": "https://localhost:8080/"
        },
        "id": "5zSQKUqzjU7D",
        "outputId": "4c6235af-37de-4888-808f-76e51199c851"
      },
      "source": [
        "cliente_1.online.value_counts(True)"
      ],
      "execution_count": null,
      "outputs": [
        {
          "output_type": "execute_result",
          "data": {
            "text/plain": [
              "0    0.902969\n",
              "1    0.097031\n",
              "Name: online, dtype: float64"
            ]
          },
          "metadata": {
            "tags": []
          },
          "execution_count": 0
        }
      ]
    },
    {
      "cell_type": "code",
      "metadata": {
        "colab": {
          "base_uri": "https://localhost:8080/"
        },
        "id": "cvfjmVh6jZDH",
        "outputId": "57b15192-f335-477b-9d06-4d378eb5b527"
      },
      "source": [
        "cliente_1.perfil_acessorio.value_counts(True)"
      ],
      "execution_count": null,
      "outputs": [
        {
          "output_type": "execute_result",
          "data": {
            "text/plain": [
              "True     0.544708\n",
              "False    0.455292\n",
              "Name: perfil_acessorio, dtype: float64"
            ]
          },
          "metadata": {
            "tags": []
          },
          "execution_count": 0
        }
      ]
    },
    {
      "cell_type": "code",
      "metadata": {
        "colab": {
          "base_uri": "https://localhost:8080/"
        },
        "id": "uSAPlomsvwbq",
        "outputId": "e59e8782-aa92-4ad4-ff65-0066ec665ff0"
      },
      "source": [
        "cliente_1.weekend.value_counts(True)"
      ],
      "execution_count": null,
      "outputs": [
        {
          "output_type": "execute_result",
          "data": {
            "text/plain": [
              "False    0.736213\n",
              "True     0.263787\n",
              "Name: weekend, dtype: float64"
            ]
          },
          "metadata": {
            "tags": []
          },
          "execution_count": 0
        }
      ]
    },
    {
      "cell_type": "code",
      "metadata": {
        "colab": {
          "base_uri": "https://localhost:8080/"
        },
        "id": "KQzoprgKoWg-",
        "outputId": "42567e7a-3840-4afe-a5c1-84b269f7357c"
      },
      "source": [
        "cliente_1[animais].sum() / cliente_1[animais].sum().sum()"
      ],
      "execution_count": null,
      "outputs": [
        {
          "output_type": "execute_result",
          "data": {
            "text/plain": [
              "CAES        0.810906\n",
              "ROEDORES    0.019566\n",
              "GATOS       0.126273\n",
              "AVES        0.022132\n",
              "PEIXES      0.014348\n",
              "PESSOAS     0.006774\n",
              "dtype: float64"
            ]
          },
          "metadata": {
            "tags": []
          },
          "execution_count": 0
        }
      ]
    },
    {
      "cell_type": "code",
      "metadata": {
        "colab": {
          "base_uri": "https://localhost:8080/"
        },
        "id": "L6obAsidqXJF",
        "outputId": "46371b45-b090-4b9a-ea3e-a0fbf5459cc1"
      },
      "source": [
        "cliente_1[week].sum() / cliente_1[week].sum().sum()"
      ],
      "execution_count": null,
      "outputs": [
        {
          "output_type": "execute_result",
          "data": {
            "text/plain": [
              "Wednesday    0.135987\n",
              "Friday       0.143091\n",
              "Monday       0.142671\n",
              "Tuesday      0.145235\n",
              "Thursday     0.147337\n",
              "Saturday     0.186599\n",
              "Sunday       0.099079\n",
              "dtype: float64"
            ]
          },
          "metadata": {
            "tags": []
          },
          "execution_count": 0
        }
      ]
    },
    {
      "cell_type": "code",
      "metadata": {
        "colab": {
          "base_uri": "https://localhost:8080/"
        },
        "id": "kBLhHx_arMFV",
        "outputId": "c2986056-2b16-448c-90c7-462610317eed"
      },
      "source": [
        "cliente_1[produtos].sum() / cliente_1[produtos].sum().sum()"
      ],
      "execution_count": null,
      "outputs": [
        {
          "output_type": "execute_result",
          "data": {
            "text/plain": [
              "ALIMENTOS                0.512791\n",
              "ACESSORIOS               0.170327\n",
              "FARMACIA                 0.179037\n",
              "HIGIENE E BELEZA         0.126778\n",
              "AQUARIOS E ACESSORIOS    0.006017\n",
              "ANIMAL VIVO              0.002777\n",
              "CASA                     0.002272\n",
              "dtype: float64"
            ]
          },
          "metadata": {
            "tags": []
          },
          "execution_count": 0
        }
      ]
    },
    {
      "cell_type": "markdown",
      "metadata": {
        "id": "zGjHjdlinLEw"
      },
      "source": [
        "## perfil compra: **sazonal**\n",
        "### clientes que compraram mais do que 2 e menos do que 4 items na loja durante o tempo de vendas\n",
        "\n",
        "1.   **45% não preencheram** o campo SEXO, consideravelmente mais mulheres (32%) do que homens (22%)\n",
        "2.   Perfil de idade bem distribuido\n",
        "3.   compras distribuidas ao longo dos dias uteis, concentração sabado e poucos aos domingos\n",
        "4.   **27%** compram mais aos fins de semana\n",
        "5.   **51%** vieram comprar **acessorios**\n",
        "6.   cerca de **6%** de clientes **online**\n",
        "7.   **79% CAES** e **13% GATOS**\n",
        "\n",
        "**produtos:**\n",
        "```\n",
        "ALIMENTOS                0.477912\n",
        "ACESSORIOS               0.194883\n",
        "FARMACIA                 0.157645\n",
        "HIGIENE E BELEZA         0.154952\n",
        "AQUARIOS E ACESSORIOS    0.007143\n",
        "```\n",
        "perfil bem semelhante aos one-time, ate pq pela quantidade de items, provavelmente tambm compraram uma unica vez na loja, mas consideravelmente menos clientes online\n",
        "\n"
      ]
    },
    {
      "cell_type": "code",
      "metadata": {
        "colab": {
          "base_uri": "https://localhost:8080/"
        },
        "id": "30gAt28Qnd5A",
        "outputId": "0feda07a-69b3-470c-9de3-428b9215320c"
      },
      "source": [
        "cliente_2 = final_clientes[final_clientes[\"perfil_compra\"] == \"sazonal\"]\n",
        "cliente_2.head()"
      ],
      "execution_count": null,
      "outputs": [
        {
          "output_type": "execute_result",
          "data": {
            "text/html": [
              "<div>\n",
              "<style scoped>\n",
              "    .dataframe tbody tr th:only-of-type {\n",
              "        vertical-align: middle;\n",
              "    }\n",
              "\n",
              "    .dataframe tbody tr th {\n",
              "        vertical-align: top;\n",
              "    }\n",
              "\n",
              "    .dataframe thead th {\n",
              "        text-align: right;\n",
              "    }\n",
              "</style>\n",
              "<table border=\"1\" class=\"dataframe\">\n",
              "  <thead>\n",
              "    <tr style=\"text-align: right;\">\n",
              "      <th></th>\n",
              "      <th>SEXO</th>\n",
              "      <th>DATA_NASCIMENTO</th>\n",
              "      <th>PRIMEIRA_COMPRA</th>\n",
              "      <th>IDADE_CAT</th>\n",
              "      <th>QUANTIDADE</th>\n",
              "      <th>online</th>\n",
              "      <th>Wednesday</th>\n",
              "      <th>Friday</th>\n",
              "      <th>Monday</th>\n",
              "      <th>Tuesday</th>\n",
              "      <th>Thursday</th>\n",
              "      <th>Saturday</th>\n",
              "      <th>Sunday</th>\n",
              "      <th>CAES</th>\n",
              "      <th>ROEDORES</th>\n",
              "      <th>GATOS</th>\n",
              "      <th>AVES</th>\n",
              "      <th>PEIXES</th>\n",
              "      <th>PESSOAS</th>\n",
              "      <th>ALIMENTOS</th>\n",
              "      <th>ACESSORIOS</th>\n",
              "      <th>FARMACIA</th>\n",
              "      <th>HIGIENE E BELEZA</th>\n",
              "      <th>AQUARIOS E ACESSORIOS</th>\n",
              "      <th>ANIMAL VIVO</th>\n",
              "      <th>CASA</th>\n",
              "      <th>weekend</th>\n",
              "      <th>perfil_compra</th>\n",
              "      <th>perfil_acessorio</th>\n",
              "    </tr>\n",
              "    <tr>\n",
              "      <th>ID_CLIENTE</th>\n",
              "      <th></th>\n",
              "      <th></th>\n",
              "      <th></th>\n",
              "      <th></th>\n",
              "      <th></th>\n",
              "      <th></th>\n",
              "      <th></th>\n",
              "      <th></th>\n",
              "      <th></th>\n",
              "      <th></th>\n",
              "      <th></th>\n",
              "      <th></th>\n",
              "      <th></th>\n",
              "      <th></th>\n",
              "      <th></th>\n",
              "      <th></th>\n",
              "      <th></th>\n",
              "      <th></th>\n",
              "      <th></th>\n",
              "      <th></th>\n",
              "      <th></th>\n",
              "      <th></th>\n",
              "      <th></th>\n",
              "      <th></th>\n",
              "      <th></th>\n",
              "      <th></th>\n",
              "      <th></th>\n",
              "      <th></th>\n",
              "      <th></th>\n",
              "    </tr>\n",
              "  </thead>\n",
              "  <tbody>\n",
              "    <tr>\n",
              "      <th>85255</th>\n",
              "      <td>masculino</td>\n",
              "      <td>1970-03-17</td>\n",
              "      <td>2021-06-01</td>\n",
              "      <td>Muito velho</td>\n",
              "      <td>4.0</td>\n",
              "      <td>0</td>\n",
              "      <td>0</td>\n",
              "      <td>0</td>\n",
              "      <td>0</td>\n",
              "      <td>4</td>\n",
              "      <td>0</td>\n",
              "      <td>0</td>\n",
              "      <td>0</td>\n",
              "      <td>4</td>\n",
              "      <td>0</td>\n",
              "      <td>0</td>\n",
              "      <td>0</td>\n",
              "      <td>0</td>\n",
              "      <td>0</td>\n",
              "      <td>2</td>\n",
              "      <td>2</td>\n",
              "      <td>0</td>\n",
              "      <td>0</td>\n",
              "      <td>0</td>\n",
              "      <td>0</td>\n",
              "      <td>0</td>\n",
              "      <td>False</td>\n",
              "      <td>sazonal</td>\n",
              "      <td>False</td>\n",
              "    </tr>\n",
              "    <tr>\n",
              "      <th>37037</th>\n",
              "      <td>vazio</td>\n",
              "      <td>NaT</td>\n",
              "      <td>2020-05-30</td>\n",
              "      <td>NaN</td>\n",
              "      <td>4.0</td>\n",
              "      <td>0</td>\n",
              "      <td>0</td>\n",
              "      <td>2</td>\n",
              "      <td>0</td>\n",
              "      <td>0</td>\n",
              "      <td>1</td>\n",
              "      <td>1</td>\n",
              "      <td>0</td>\n",
              "      <td>4</td>\n",
              "      <td>0</td>\n",
              "      <td>0</td>\n",
              "      <td>0</td>\n",
              "      <td>0</td>\n",
              "      <td>0</td>\n",
              "      <td>2</td>\n",
              "      <td>0</td>\n",
              "      <td>2</td>\n",
              "      <td>0</td>\n",
              "      <td>0</td>\n",
              "      <td>0</td>\n",
              "      <td>0</td>\n",
              "      <td>False</td>\n",
              "      <td>sazonal</td>\n",
              "      <td>True</td>\n",
              "    </tr>\n",
              "    <tr>\n",
              "      <th>66704</th>\n",
              "      <td>masculino</td>\n",
              "      <td>1969-11-09</td>\n",
              "      <td>2021-01-16</td>\n",
              "      <td>Muito velho</td>\n",
              "      <td>4.0</td>\n",
              "      <td>0</td>\n",
              "      <td>0</td>\n",
              "      <td>0</td>\n",
              "      <td>0</td>\n",
              "      <td>0</td>\n",
              "      <td>0</td>\n",
              "      <td>3</td>\n",
              "      <td>0</td>\n",
              "      <td>3</td>\n",
              "      <td>0</td>\n",
              "      <td>0</td>\n",
              "      <td>0</td>\n",
              "      <td>0</td>\n",
              "      <td>0</td>\n",
              "      <td>1</td>\n",
              "      <td>1</td>\n",
              "      <td>0</td>\n",
              "      <td>1</td>\n",
              "      <td>0</td>\n",
              "      <td>0</td>\n",
              "      <td>0</td>\n",
              "      <td>True</td>\n",
              "      <td>sazonal</td>\n",
              "      <td>False</td>\n",
              "    </tr>\n",
              "    <tr>\n",
              "      <th>37319</th>\n",
              "      <td>vazio</td>\n",
              "      <td>NaT</td>\n",
              "      <td>2020-06-02</td>\n",
              "      <td>NaN</td>\n",
              "      <td>4.0</td>\n",
              "      <td>0</td>\n",
              "      <td>0</td>\n",
              "      <td>0</td>\n",
              "      <td>0</td>\n",
              "      <td>0</td>\n",
              "      <td>3</td>\n",
              "      <td>0</td>\n",
              "      <td>0</td>\n",
              "      <td>3</td>\n",
              "      <td>0</td>\n",
              "      <td>0</td>\n",
              "      <td>0</td>\n",
              "      <td>0</td>\n",
              "      <td>0</td>\n",
              "      <td>0</td>\n",
              "      <td>0</td>\n",
              "      <td>1</td>\n",
              "      <td>2</td>\n",
              "      <td>0</td>\n",
              "      <td>0</td>\n",
              "      <td>0</td>\n",
              "      <td>False</td>\n",
              "      <td>sazonal</td>\n",
              "      <td>False</td>\n",
              "    </tr>\n",
              "    <tr>\n",
              "      <th>80939</th>\n",
              "      <td>feminino</td>\n",
              "      <td>1983-08-27</td>\n",
              "      <td>2021-04-30</td>\n",
              "      <td>Adulto</td>\n",
              "      <td>4.0</td>\n",
              "      <td>0</td>\n",
              "      <td>1</td>\n",
              "      <td>3</td>\n",
              "      <td>0</td>\n",
              "      <td>0</td>\n",
              "      <td>0</td>\n",
              "      <td>0</td>\n",
              "      <td>0</td>\n",
              "      <td>4</td>\n",
              "      <td>0</td>\n",
              "      <td>0</td>\n",
              "      <td>0</td>\n",
              "      <td>0</td>\n",
              "      <td>0</td>\n",
              "      <td>1</td>\n",
              "      <td>1</td>\n",
              "      <td>2</td>\n",
              "      <td>0</td>\n",
              "      <td>0</td>\n",
              "      <td>0</td>\n",
              "      <td>0</td>\n",
              "      <td>False</td>\n",
              "      <td>sazonal</td>\n",
              "      <td>False</td>\n",
              "    </tr>\n",
              "  </tbody>\n",
              "</table>\n",
              "</div>"
            ],
            "text/plain": [
              "                 SEXO DATA_NASCIMENTO  ... perfil_compra perfil_acessorio\n",
              "ID_CLIENTE                             ...                               \n",
              "85255       masculino      1970-03-17  ...       sazonal            False\n",
              "37037           vazio             NaT  ...       sazonal             True\n",
              "66704       masculino      1969-11-09  ...       sazonal            False\n",
              "37319           vazio             NaT  ...       sazonal            False\n",
              "80939        feminino      1983-08-27  ...       sazonal            False\n",
              "\n",
              "[5 rows x 29 columns]"
            ]
          },
          "metadata": {
            "tags": []
          },
          "execution_count": 0
        }
      ]
    },
    {
      "cell_type": "code",
      "metadata": {
        "colab": {
          "base_uri": "https://localhost:8080/"
        },
        "id": "xus7C-4-nYd6",
        "outputId": "0b94b830-0496-4610-9cfe-71b677316ef8"
      },
      "source": [
        "cliente_2.SEXO.value_counts(True)"
      ],
      "execution_count": null,
      "outputs": [
        {
          "output_type": "execute_result",
          "data": {
            "text/plain": [
              "vazio        0.456846\n",
              "feminino     0.321994\n",
              "masculino    0.221160\n",
              "Name: SEXO, dtype: float64"
            ]
          },
          "metadata": {
            "tags": []
          },
          "execution_count": 0
        }
      ]
    },
    {
      "cell_type": "code",
      "metadata": {
        "colab": {
          "base_uri": "https://localhost:8080/"
        },
        "id": "Wzn2XVSmnazI",
        "outputId": "ebcd9733-d709-43aa-8781-1657c922e3c5"
      },
      "source": [
        "cliente_2.IDADE_CAT.value_counts(True,False)"
      ],
      "execution_count": null,
      "outputs": [
        {
          "output_type": "execute_result",
          "data": {
            "text/plain": [
              "Muito velho    0.204256\n",
              "Velho          0.192395\n",
              "Adulto         0.195535\n",
              "Adulto Novo    0.202861\n",
              "Jovem          0.204954\n",
              "Name: IDADE_CAT, dtype: float64"
            ]
          },
          "metadata": {
            "tags": []
          },
          "execution_count": 0
        }
      ]
    },
    {
      "cell_type": "code",
      "metadata": {
        "colab": {
          "base_uri": "https://localhost:8080/"
        },
        "id": "cpM59ZovnoTF",
        "outputId": "4f3e0dec-4f3e-4ca8-adc7-cb3aace12be2"
      },
      "source": [
        "cliente_2.online.value_counts(True)"
      ],
      "execution_count": null,
      "outputs": [
        {
          "output_type": "execute_result",
          "data": {
            "text/plain": [
              "0    0.937307\n",
              "1    0.062693\n",
              "Name: online, dtype: float64"
            ]
          },
          "metadata": {
            "tags": []
          },
          "execution_count": 0
        }
      ]
    },
    {
      "cell_type": "code",
      "metadata": {
        "colab": {
          "base_uri": "https://localhost:8080/"
        },
        "id": "RYsetezBnqxR",
        "outputId": "4ff9ab2e-3228-4bce-d160-58859fc5167e"
      },
      "source": [
        "cliente_2.perfil_acessorio.value_counts(True)"
      ],
      "execution_count": null,
      "outputs": [
        {
          "output_type": "execute_result",
          "data": {
            "text/plain": [
              "True     0.514666\n",
              "False    0.485334\n",
              "Name: perfil_acessorio, dtype: float64"
            ]
          },
          "metadata": {
            "tags": []
          },
          "execution_count": 0
        }
      ]
    },
    {
      "cell_type": "code",
      "metadata": {
        "colab": {
          "base_uri": "https://localhost:8080/"
        },
        "id": "gZrQH951wEFZ",
        "outputId": "303bd8dc-e1a4-40d3-a13a-f925ffbf59f3"
      },
      "source": [
        "cliente_2.weekend.value_counts(True)"
      ],
      "execution_count": null,
      "outputs": [
        {
          "output_type": "execute_result",
          "data": {
            "text/plain": [
              "False    0.731422\n",
              "True     0.268578\n",
              "Name: weekend, dtype: float64"
            ]
          },
          "metadata": {
            "tags": []
          },
          "execution_count": 0
        }
      ]
    },
    {
      "cell_type": "code",
      "metadata": {
        "colab": {
          "base_uri": "https://localhost:8080/"
        },
        "id": "46IcLc26pIRM",
        "outputId": "10ad9527-d180-45b0-aeff-486774ef604e"
      },
      "source": [
        "cliente_2[animais].sum() / cliente_2[animais].sum().sum()"
      ],
      "execution_count": null,
      "outputs": [
        {
          "output_type": "execute_result",
          "data": {
            "text/plain": [
              "CAES        0.790070\n",
              "ROEDORES    0.026172\n",
              "GATOS       0.132557\n",
              "AVES        0.023449\n",
              "PEIXES      0.015223\n",
              "PESSOAS     0.012530\n",
              "dtype: float64"
            ]
          },
          "metadata": {
            "tags": []
          },
          "execution_count": 0
        }
      ]
    },
    {
      "cell_type": "code",
      "metadata": {
        "colab": {
          "base_uri": "https://localhost:8080/"
        },
        "id": "E4JhkPrqqldO",
        "outputId": "5e24c768-f1a2-44ae-e229-06881bf79c72"
      },
      "source": [
        "cliente_2[week].sum() / cliente_2[week].sum().sum()"
      ],
      "execution_count": null,
      "outputs": [
        {
          "output_type": "execute_result",
          "data": {
            "text/plain": [
              "Wednesday    0.135806\n",
              "Friday       0.141160\n",
              "Monday       0.136889\n",
              "Tuesday      0.142886\n",
              "Thursday     0.141687\n",
              "Saturday     0.191949\n",
              "Sunday       0.109622\n",
              "dtype: float64"
            ]
          },
          "metadata": {
            "tags": []
          },
          "execution_count": 0
        }
      ]
    },
    {
      "cell_type": "code",
      "metadata": {
        "colab": {
          "base_uri": "https://localhost:8080/"
        },
        "id": "zVMgOItXrBJC",
        "outputId": "0eeec1b4-5ff3-4aa4-94ef-4a7650cd13d9"
      },
      "source": [
        "cliente_2[produtos].sum() / cliente_2[produtos].sum().sum()"
      ],
      "execution_count": null,
      "outputs": [
        {
          "output_type": "execute_result",
          "data": {
            "text/plain": [
              "ALIMENTOS                0.477912\n",
              "ACESSORIOS               0.194883\n",
              "FARMACIA                 0.157645\n",
              "HIGIENE E BELEZA         0.154952\n",
              "AQUARIOS E ACESSORIOS    0.007143\n",
              "ANIMAL VIVO              0.004567\n",
              "CASA                     0.002898\n",
              "dtype: float64"
            ]
          },
          "metadata": {
            "tags": []
          },
          "execution_count": 0
        }
      ]
    },
    {
      "cell_type": "markdown",
      "metadata": {
        "id": "tD60MMuGqATx"
      },
      "source": [
        "## perfil compra: **regular**\n",
        "### clientes que compraram mais do que 4 e menos do que 7 items na loja durante o tempo de vendas\n",
        "\n",
        "1.   **44% não preencheram** o campo SEXO, consideravelmente mais mulheres (33%) do que homens (22%)\n",
        "2.   Perfil de idade bem distribuido\n",
        "3.   compras distribuidas ao longo dos dias uteis, concentração sabado e poucos aos domingos\n",
        "4.   **27%** compram mais aos fins de semana\n",
        "5.   **44%** vieram comprar **acessorios**\n",
        "6.   cerca de **6%** de clientes **online**\n",
        "7.   **78% CAES** e **14% GATOS**\n",
        "\n",
        "**produtos:**\n",
        "```\n",
        "ALIMENTOS                0.481400\n",
        "ACESSORIOS               0.201766\n",
        "FARMACIA                 0.137928\n",
        "HIGIENE E BELEZA         0.160557\n",
        "AQUARIOS E ACESSORIOS    0.008712\n",
        "```\n",
        "perfil bem semelhante aos sazonais\n",
        "\n",
        "**observa-se que o interesse em acessorios esta diminuindo**\n"
      ]
    },
    {
      "cell_type": "code",
      "metadata": {
        "colab": {
          "base_uri": "https://localhost:8080/"
        },
        "id": "ujGC5whXqBch",
        "outputId": "9e9acd1b-b472-45b0-e12f-d193c9279805"
      },
      "source": [
        "cliente_3 = final_clientes[final_clientes[\"perfil_compra\"] == \"regular\"]\n",
        "cliente_3.head()"
      ],
      "execution_count": null,
      "outputs": [
        {
          "output_type": "execute_result",
          "data": {
            "text/html": [
              "<div>\n",
              "<style scoped>\n",
              "    .dataframe tbody tr th:only-of-type {\n",
              "        vertical-align: middle;\n",
              "    }\n",
              "\n",
              "    .dataframe tbody tr th {\n",
              "        vertical-align: top;\n",
              "    }\n",
              "\n",
              "    .dataframe thead th {\n",
              "        text-align: right;\n",
              "    }\n",
              "</style>\n",
              "<table border=\"1\" class=\"dataframe\">\n",
              "  <thead>\n",
              "    <tr style=\"text-align: right;\">\n",
              "      <th></th>\n",
              "      <th>SEXO</th>\n",
              "      <th>DATA_NASCIMENTO</th>\n",
              "      <th>PRIMEIRA_COMPRA</th>\n",
              "      <th>IDADE_CAT</th>\n",
              "      <th>QUANTIDADE</th>\n",
              "      <th>online</th>\n",
              "      <th>Wednesday</th>\n",
              "      <th>Friday</th>\n",
              "      <th>Monday</th>\n",
              "      <th>Tuesday</th>\n",
              "      <th>Thursday</th>\n",
              "      <th>Saturday</th>\n",
              "      <th>Sunday</th>\n",
              "      <th>CAES</th>\n",
              "      <th>ROEDORES</th>\n",
              "      <th>GATOS</th>\n",
              "      <th>AVES</th>\n",
              "      <th>PEIXES</th>\n",
              "      <th>PESSOAS</th>\n",
              "      <th>ALIMENTOS</th>\n",
              "      <th>ACESSORIOS</th>\n",
              "      <th>FARMACIA</th>\n",
              "      <th>HIGIENE E BELEZA</th>\n",
              "      <th>AQUARIOS E ACESSORIOS</th>\n",
              "      <th>ANIMAL VIVO</th>\n",
              "      <th>CASA</th>\n",
              "      <th>weekend</th>\n",
              "      <th>perfil_compra</th>\n",
              "      <th>perfil_acessorio</th>\n",
              "    </tr>\n",
              "    <tr>\n",
              "      <th>ID_CLIENTE</th>\n",
              "      <th></th>\n",
              "      <th></th>\n",
              "      <th></th>\n",
              "      <th></th>\n",
              "      <th></th>\n",
              "      <th></th>\n",
              "      <th></th>\n",
              "      <th></th>\n",
              "      <th></th>\n",
              "      <th></th>\n",
              "      <th></th>\n",
              "      <th></th>\n",
              "      <th></th>\n",
              "      <th></th>\n",
              "      <th></th>\n",
              "      <th></th>\n",
              "      <th></th>\n",
              "      <th></th>\n",
              "      <th></th>\n",
              "      <th></th>\n",
              "      <th></th>\n",
              "      <th></th>\n",
              "      <th></th>\n",
              "      <th></th>\n",
              "      <th></th>\n",
              "      <th></th>\n",
              "      <th></th>\n",
              "      <th></th>\n",
              "      <th></th>\n",
              "    </tr>\n",
              "  </thead>\n",
              "  <tbody>\n",
              "    <tr>\n",
              "      <th>46295</th>\n",
              "      <td>vazio</td>\n",
              "      <td>NaT</td>\n",
              "      <td>2020-09-05</td>\n",
              "      <td>NaN</td>\n",
              "      <td>7.0</td>\n",
              "      <td>0</td>\n",
              "      <td>0</td>\n",
              "      <td>0</td>\n",
              "      <td>1</td>\n",
              "      <td>3</td>\n",
              "      <td>1</td>\n",
              "      <td>2</td>\n",
              "      <td>0</td>\n",
              "      <td>7</td>\n",
              "      <td>0</td>\n",
              "      <td>0</td>\n",
              "      <td>0</td>\n",
              "      <td>0</td>\n",
              "      <td>0</td>\n",
              "      <td>7</td>\n",
              "      <td>0</td>\n",
              "      <td>0</td>\n",
              "      <td>0</td>\n",
              "      <td>0</td>\n",
              "      <td>0</td>\n",
              "      <td>0</td>\n",
              "      <td>False</td>\n",
              "      <td>regular</td>\n",
              "      <td>True</td>\n",
              "    </tr>\n",
              "    <tr>\n",
              "      <th>1437</th>\n",
              "      <td>vazio</td>\n",
              "      <td>NaT</td>\n",
              "      <td>2017-05-08</td>\n",
              "      <td>NaN</td>\n",
              "      <td>7.0</td>\n",
              "      <td>1</td>\n",
              "      <td>1</td>\n",
              "      <td>0</td>\n",
              "      <td>0</td>\n",
              "      <td>0</td>\n",
              "      <td>3</td>\n",
              "      <td>3</td>\n",
              "      <td>0</td>\n",
              "      <td>7</td>\n",
              "      <td>0</td>\n",
              "      <td>0</td>\n",
              "      <td>0</td>\n",
              "      <td>0</td>\n",
              "      <td>0</td>\n",
              "      <td>1</td>\n",
              "      <td>5</td>\n",
              "      <td>1</td>\n",
              "      <td>0</td>\n",
              "      <td>0</td>\n",
              "      <td>0</td>\n",
              "      <td>0</td>\n",
              "      <td>False</td>\n",
              "      <td>regular</td>\n",
              "      <td>False</td>\n",
              "    </tr>\n",
              "    <tr>\n",
              "      <th>46511</th>\n",
              "      <td>feminino</td>\n",
              "      <td>1991-07-27</td>\n",
              "      <td>2020-09-08</td>\n",
              "      <td>Adulto Novo</td>\n",
              "      <td>7.0</td>\n",
              "      <td>0</td>\n",
              "      <td>2</td>\n",
              "      <td>0</td>\n",
              "      <td>0</td>\n",
              "      <td>5</td>\n",
              "      <td>0</td>\n",
              "      <td>0</td>\n",
              "      <td>0</td>\n",
              "      <td>7</td>\n",
              "      <td>0</td>\n",
              "      <td>0</td>\n",
              "      <td>0</td>\n",
              "      <td>0</td>\n",
              "      <td>0</td>\n",
              "      <td>4</td>\n",
              "      <td>2</td>\n",
              "      <td>0</td>\n",
              "      <td>1</td>\n",
              "      <td>0</td>\n",
              "      <td>0</td>\n",
              "      <td>0</td>\n",
              "      <td>False</td>\n",
              "      <td>regular</td>\n",
              "      <td>False</td>\n",
              "    </tr>\n",
              "    <tr>\n",
              "      <th>53583</th>\n",
              "      <td>vazio</td>\n",
              "      <td>NaT</td>\n",
              "      <td>2020-10-30</td>\n",
              "      <td>NaN</td>\n",
              "      <td>7.0</td>\n",
              "      <td>0</td>\n",
              "      <td>0</td>\n",
              "      <td>0</td>\n",
              "      <td>2</td>\n",
              "      <td>1</td>\n",
              "      <td>0</td>\n",
              "      <td>0</td>\n",
              "      <td>4</td>\n",
              "      <td>6</td>\n",
              "      <td>0</td>\n",
              "      <td>0</td>\n",
              "      <td>0</td>\n",
              "      <td>0</td>\n",
              "      <td>1</td>\n",
              "      <td>4</td>\n",
              "      <td>0</td>\n",
              "      <td>2</td>\n",
              "      <td>1</td>\n",
              "      <td>0</td>\n",
              "      <td>0</td>\n",
              "      <td>0</td>\n",
              "      <td>True</td>\n",
              "      <td>regular</td>\n",
              "      <td>True</td>\n",
              "    </tr>\n",
              "    <tr>\n",
              "      <th>46864</th>\n",
              "      <td>vazio</td>\n",
              "      <td>NaT</td>\n",
              "      <td>2020-09-10</td>\n",
              "      <td>NaN</td>\n",
              "      <td>7.0</td>\n",
              "      <td>0</td>\n",
              "      <td>0</td>\n",
              "      <td>5</td>\n",
              "      <td>0</td>\n",
              "      <td>0</td>\n",
              "      <td>0</td>\n",
              "      <td>2</td>\n",
              "      <td>0</td>\n",
              "      <td>6</td>\n",
              "      <td>0</td>\n",
              "      <td>1</td>\n",
              "      <td>0</td>\n",
              "      <td>0</td>\n",
              "      <td>0</td>\n",
              "      <td>1</td>\n",
              "      <td>2</td>\n",
              "      <td>2</td>\n",
              "      <td>2</td>\n",
              "      <td>0</td>\n",
              "      <td>0</td>\n",
              "      <td>0</td>\n",
              "      <td>False</td>\n",
              "      <td>regular</td>\n",
              "      <td>False</td>\n",
              "    </tr>\n",
              "  </tbody>\n",
              "</table>\n",
              "</div>"
            ],
            "text/plain": [
              "                SEXO DATA_NASCIMENTO  ... perfil_compra perfil_acessorio\n",
              "ID_CLIENTE                            ...                               \n",
              "46295          vazio             NaT  ...       regular             True\n",
              "1437           vazio             NaT  ...       regular            False\n",
              "46511       feminino      1991-07-27  ...       regular            False\n",
              "53583          vazio             NaT  ...       regular             True\n",
              "46864          vazio             NaT  ...       regular            False\n",
              "\n",
              "[5 rows x 29 columns]"
            ]
          },
          "metadata": {
            "tags": []
          },
          "execution_count": 0
        }
      ]
    },
    {
      "cell_type": "code",
      "metadata": {
        "colab": {
          "base_uri": "https://localhost:8080/"
        },
        "id": "o7gzvxt0qS41",
        "outputId": "774204c6-60dd-4661-f7d3-86f247f6bb4e"
      },
      "source": [
        "cliente_3.SEXO.value_counts(True)"
      ],
      "execution_count": null,
      "outputs": [
        {
          "output_type": "execute_result",
          "data": {
            "text/plain": [
              "vazio        0.438051\n",
              "feminino     0.338769\n",
              "masculino    0.223179\n",
              "Name: SEXO, dtype: float64"
            ]
          },
          "metadata": {
            "tags": []
          },
          "execution_count": 0
        }
      ]
    },
    {
      "cell_type": "code",
      "metadata": {
        "colab": {
          "base_uri": "https://localhost:8080/"
        },
        "id": "Kemh-9PHqxVk",
        "outputId": "8725f7b8-c46b-4c05-da79-d3460a49003c"
      },
      "source": [
        "cliente_3.IDADE_CAT.value_counts(True,False)"
      ],
      "execution_count": null,
      "outputs": [
        {
          "output_type": "execute_result",
          "data": {
            "text/plain": [
              "Muito velho    0.189355\n",
              "Velho          0.198071\n",
              "Adulto         0.208828\n",
              "Adulto Novo    0.206046\n",
              "Jovem          0.197700\n",
              "Name: IDADE_CAT, dtype: float64"
            ]
          },
          "metadata": {
            "tags": []
          },
          "execution_count": 0
        }
      ]
    },
    {
      "cell_type": "code",
      "metadata": {
        "colab": {
          "base_uri": "https://localhost:8080/"
        },
        "id": "WhQ7Pd9xqzQF",
        "outputId": "e510972d-8512-4393-b891-9959e6371bfb"
      },
      "source": [
        "cliente_3.online.value_counts(True)"
      ],
      "execution_count": null,
      "outputs": [
        {
          "output_type": "execute_result",
          "data": {
            "text/plain": [
              "0    0.940513\n",
              "1    0.059487\n",
              "Name: online, dtype: float64"
            ]
          },
          "metadata": {
            "tags": []
          },
          "execution_count": 0
        }
      ]
    },
    {
      "cell_type": "code",
      "metadata": {
        "colab": {
          "base_uri": "https://localhost:8080/"
        },
        "id": "feseSXDvq1xL",
        "outputId": "02435750-b4e7-4e01-cad1-7391ac78e069"
      },
      "source": [
        "cliente_3.perfil_acessorio.value_counts(True)"
      ],
      "execution_count": null,
      "outputs": [
        {
          "output_type": "execute_result",
          "data": {
            "text/plain": [
              "False    0.557641\n",
              "True     0.442359\n",
              "Name: perfil_acessorio, dtype: float64"
            ]
          },
          "metadata": {
            "tags": []
          },
          "execution_count": 0
        }
      ]
    },
    {
      "cell_type": "code",
      "metadata": {
        "colab": {
          "base_uri": "https://localhost:8080/"
        },
        "id": "qCtu7ks1wOrx",
        "outputId": "1c76812d-889a-4640-bb41-c4e52e4a35be"
      },
      "source": [
        "cliente_3.weekend.value_counts(True)"
      ],
      "execution_count": null,
      "outputs": [
        {
          "output_type": "execute_result",
          "data": {
            "text/plain": [
              "False    0.726051\n",
              "True     0.273949\n",
              "Name: weekend, dtype: float64"
            ]
          },
          "metadata": {
            "tags": []
          },
          "execution_count": 0
        }
      ]
    },
    {
      "cell_type": "code",
      "metadata": {
        "colab": {
          "base_uri": "https://localhost:8080/"
        },
        "id": "8iGr0Pawq385",
        "outputId": "e53c3b3e-a70f-4c81-95ae-c08ff4271f7d"
      },
      "source": [
        "cliente_3[animais].sum() / cliente_3[animais].sum().sum()"
      ],
      "execution_count": null,
      "outputs": [
        {
          "output_type": "execute_result",
          "data": {
            "text/plain": [
              "CAES        0.777225\n",
              "ROEDORES    0.026078\n",
              "GATOS       0.136810\n",
              "AVES        0.026772\n",
              "PEIXES      0.018870\n",
              "PESSOAS     0.014244\n",
              "dtype: float64"
            ]
          },
          "metadata": {
            "tags": []
          },
          "execution_count": 0
        }
      ]
    },
    {
      "cell_type": "code",
      "metadata": {
        "colab": {
          "base_uri": "https://localhost:8080/"
        },
        "id": "ALrWeW8Qq6iy",
        "outputId": "a7c165d0-8f76-4b3d-dc9b-5d51943f5c5d"
      },
      "source": [
        "cliente_3[week].sum() / cliente_3[week].sum().sum()"
      ],
      "execution_count": null,
      "outputs": [
        {
          "output_type": "execute_result",
          "data": {
            "text/plain": [
              "Wednesday    0.137018\n",
              "Friday       0.139406\n",
              "Monday       0.134725\n",
              "Tuesday      0.137981\n",
              "Thursday     0.137075\n",
              "Saturday     0.202358\n",
              "Sunday       0.111436\n",
              "dtype: float64"
            ]
          },
          "metadata": {
            "tags": []
          },
          "execution_count": 0
        }
      ]
    },
    {
      "cell_type": "code",
      "metadata": {
        "colab": {
          "base_uri": "https://localhost:8080/"
        },
        "id": "U6whUqzdq8pV",
        "outputId": "53f2aed5-651f-4a7f-b8d1-9a56946224ea"
      },
      "source": [
        "cliente_3[produtos].sum() / cliente_3[produtos].sum().sum()"
      ],
      "execution_count": null,
      "outputs": [
        {
          "output_type": "execute_result",
          "data": {
            "text/plain": [
              "ALIMENTOS                0.481400\n",
              "ACESSORIOS               0.201766\n",
              "FARMACIA                 0.137928\n",
              "HIGIENE E BELEZA         0.160557\n",
              "AQUARIOS E ACESSORIOS    0.008712\n",
              "ANIMAL VIVO              0.006688\n",
              "CASA                     0.002949\n",
              "dtype: float64"
            ]
          },
          "metadata": {
            "tags": []
          },
          "execution_count": 0
        }
      ]
    },
    {
      "cell_type": "markdown",
      "metadata": {
        "id": "WgWG3_NAr-Ra"
      },
      "source": [
        "## perfil compra: **cliente fidelidade**\n",
        "### clientes que compraram mais do que 7 e menos do que 15 items na loja durante o tempo de vendas\n",
        "\n",
        "1.   **43% não preencheram** o campo SEXO, um pouco mais mulheres (34%) do que homens (22%)\n",
        "2.   Perfil de idade bem distribuido\n",
        "3.   compras distribuidas ao longo dos dias uteis, concentração sabado e poucos aos domingos\n",
        "4.   **25%** compra mais aos fins de semana\n",
        "5.   **34%** vieram comprar **acessorios**\n",
        "6.   cerca de **6%** de clientes **online**\n",
        "7.   **77% CAES** e **15% GATOS**\n",
        "\n",
        "**produtos:**\n",
        "```\n",
        "ALIMENTOS                0.486420\n",
        "ACESSORIOS               0.198303\n",
        "FARMACIA                 0.130067\n",
        "HIGIENE E BELEZA         0.167222\n",
        "AQUARIOS E ACESSORIOS    0.008765\n",
        "```\n",
        "\n",
        "Acho que esse grupo vale a pena oferecer as promoções para compras de mais de 1 item do mesmo tipo (compre 3 pague 2)\n",
        "\n",
        "**observa-se que o interesse em acessorios esta diminuindo**\n"
      ]
    },
    {
      "cell_type": "code",
      "metadata": {
        "colab": {
          "base_uri": "https://localhost:8080/"
        },
        "id": "9AWq9Azkr61A",
        "outputId": "c2057770-4ad8-4d5d-9097-76d05ae4c688"
      },
      "source": [
        "cliente_4 = final_clientes[final_clientes[\"perfil_compra\"] == \"cliente fidelidade\"]\n",
        "cliente_4.head()"
      ],
      "execution_count": null,
      "outputs": [
        {
          "output_type": "execute_result",
          "data": {
            "text/html": [
              "<div>\n",
              "<style scoped>\n",
              "    .dataframe tbody tr th:only-of-type {\n",
              "        vertical-align: middle;\n",
              "    }\n",
              "\n",
              "    .dataframe tbody tr th {\n",
              "        vertical-align: top;\n",
              "    }\n",
              "\n",
              "    .dataframe thead th {\n",
              "        text-align: right;\n",
              "    }\n",
              "</style>\n",
              "<table border=\"1\" class=\"dataframe\">\n",
              "  <thead>\n",
              "    <tr style=\"text-align: right;\">\n",
              "      <th></th>\n",
              "      <th>SEXO</th>\n",
              "      <th>DATA_NASCIMENTO</th>\n",
              "      <th>PRIMEIRA_COMPRA</th>\n",
              "      <th>IDADE_CAT</th>\n",
              "      <th>QUANTIDADE</th>\n",
              "      <th>online</th>\n",
              "      <th>Wednesday</th>\n",
              "      <th>Friday</th>\n",
              "      <th>Monday</th>\n",
              "      <th>Tuesday</th>\n",
              "      <th>Thursday</th>\n",
              "      <th>Saturday</th>\n",
              "      <th>Sunday</th>\n",
              "      <th>CAES</th>\n",
              "      <th>ROEDORES</th>\n",
              "      <th>GATOS</th>\n",
              "      <th>AVES</th>\n",
              "      <th>PEIXES</th>\n",
              "      <th>PESSOAS</th>\n",
              "      <th>ALIMENTOS</th>\n",
              "      <th>ACESSORIOS</th>\n",
              "      <th>FARMACIA</th>\n",
              "      <th>HIGIENE E BELEZA</th>\n",
              "      <th>AQUARIOS E ACESSORIOS</th>\n",
              "      <th>ANIMAL VIVO</th>\n",
              "      <th>CASA</th>\n",
              "      <th>weekend</th>\n",
              "      <th>perfil_compra</th>\n",
              "      <th>perfil_acessorio</th>\n",
              "    </tr>\n",
              "    <tr>\n",
              "      <th>ID_CLIENTE</th>\n",
              "      <th></th>\n",
              "      <th></th>\n",
              "      <th></th>\n",
              "      <th></th>\n",
              "      <th></th>\n",
              "      <th></th>\n",
              "      <th></th>\n",
              "      <th></th>\n",
              "      <th></th>\n",
              "      <th></th>\n",
              "      <th></th>\n",
              "      <th></th>\n",
              "      <th></th>\n",
              "      <th></th>\n",
              "      <th></th>\n",
              "      <th></th>\n",
              "      <th></th>\n",
              "      <th></th>\n",
              "      <th></th>\n",
              "      <th></th>\n",
              "      <th></th>\n",
              "      <th></th>\n",
              "      <th></th>\n",
              "      <th></th>\n",
              "      <th></th>\n",
              "      <th></th>\n",
              "      <th></th>\n",
              "      <th></th>\n",
              "      <th></th>\n",
              "    </tr>\n",
              "  </thead>\n",
              "  <tbody>\n",
              "    <tr>\n",
              "      <th>54853</th>\n",
              "      <td>feminino</td>\n",
              "      <td>NaT</td>\n",
              "      <td>2020-11-09</td>\n",
              "      <td>NaN</td>\n",
              "      <td>15.0</td>\n",
              "      <td>0</td>\n",
              "      <td>0</td>\n",
              "      <td>0</td>\n",
              "      <td>1</td>\n",
              "      <td>12</td>\n",
              "      <td>1</td>\n",
              "      <td>0</td>\n",
              "      <td>0</td>\n",
              "      <td>5</td>\n",
              "      <td>0</td>\n",
              "      <td>9</td>\n",
              "      <td>0</td>\n",
              "      <td>0</td>\n",
              "      <td>0</td>\n",
              "      <td>7</td>\n",
              "      <td>2</td>\n",
              "      <td>1</td>\n",
              "      <td>4</td>\n",
              "      <td>0</td>\n",
              "      <td>0</td>\n",
              "      <td>0</td>\n",
              "      <td>False</td>\n",
              "      <td>cliente fidelidade</td>\n",
              "      <td>False</td>\n",
              "    </tr>\n",
              "    <tr>\n",
              "      <th>50976</th>\n",
              "      <td>feminino</td>\n",
              "      <td>1992-07-06</td>\n",
              "      <td>2020-10-12</td>\n",
              "      <td>Adulto Novo</td>\n",
              "      <td>15.0</td>\n",
              "      <td>0</td>\n",
              "      <td>0</td>\n",
              "      <td>1</td>\n",
              "      <td>5</td>\n",
              "      <td>5</td>\n",
              "      <td>2</td>\n",
              "      <td>0</td>\n",
              "      <td>0</td>\n",
              "      <td>13</td>\n",
              "      <td>0</td>\n",
              "      <td>0</td>\n",
              "      <td>0</td>\n",
              "      <td>0</td>\n",
              "      <td>0</td>\n",
              "      <td>5</td>\n",
              "      <td>5</td>\n",
              "      <td>2</td>\n",
              "      <td>1</td>\n",
              "      <td>0</td>\n",
              "      <td>0</td>\n",
              "      <td>0</td>\n",
              "      <td>False</td>\n",
              "      <td>cliente fidelidade</td>\n",
              "      <td>False</td>\n",
              "    </tr>\n",
              "    <tr>\n",
              "      <th>47690</th>\n",
              "      <td>feminino</td>\n",
              "      <td>1978-11-03</td>\n",
              "      <td>2020-09-16</td>\n",
              "      <td>Velho</td>\n",
              "      <td>15.0</td>\n",
              "      <td>1</td>\n",
              "      <td>5</td>\n",
              "      <td>0</td>\n",
              "      <td>0</td>\n",
              "      <td>0</td>\n",
              "      <td>1</td>\n",
              "      <td>7</td>\n",
              "      <td>2</td>\n",
              "      <td>14</td>\n",
              "      <td>0</td>\n",
              "      <td>0</td>\n",
              "      <td>0</td>\n",
              "      <td>0</td>\n",
              "      <td>1</td>\n",
              "      <td>7</td>\n",
              "      <td>2</td>\n",
              "      <td>0</td>\n",
              "      <td>6</td>\n",
              "      <td>0</td>\n",
              "      <td>0</td>\n",
              "      <td>0</td>\n",
              "      <td>True</td>\n",
              "      <td>cliente fidelidade</td>\n",
              "      <td>False</td>\n",
              "    </tr>\n",
              "    <tr>\n",
              "      <th>63642</th>\n",
              "      <td>vazio</td>\n",
              "      <td>NaT</td>\n",
              "      <td>2020-12-28</td>\n",
              "      <td>NaN</td>\n",
              "      <td>15.0</td>\n",
              "      <td>1</td>\n",
              "      <td>0</td>\n",
              "      <td>0</td>\n",
              "      <td>13</td>\n",
              "      <td>0</td>\n",
              "      <td>1</td>\n",
              "      <td>0</td>\n",
              "      <td>0</td>\n",
              "      <td>12</td>\n",
              "      <td>0</td>\n",
              "      <td>2</td>\n",
              "      <td>0</td>\n",
              "      <td>0</td>\n",
              "      <td>0</td>\n",
              "      <td>3</td>\n",
              "      <td>2</td>\n",
              "      <td>4</td>\n",
              "      <td>5</td>\n",
              "      <td>0</td>\n",
              "      <td>0</td>\n",
              "      <td>0</td>\n",
              "      <td>False</td>\n",
              "      <td>cliente fidelidade</td>\n",
              "      <td>False</td>\n",
              "    </tr>\n",
              "    <tr>\n",
              "      <th>59702</th>\n",
              "      <td>masculino</td>\n",
              "      <td>1984-05-23</td>\n",
              "      <td>2020-12-05</td>\n",
              "      <td>Adulto</td>\n",
              "      <td>15.0</td>\n",
              "      <td>0</td>\n",
              "      <td>0</td>\n",
              "      <td>2</td>\n",
              "      <td>1</td>\n",
              "      <td>1</td>\n",
              "      <td>0</td>\n",
              "      <td>3</td>\n",
              "      <td>6</td>\n",
              "      <td>13</td>\n",
              "      <td>0</td>\n",
              "      <td>0</td>\n",
              "      <td>0</td>\n",
              "      <td>0</td>\n",
              "      <td>0</td>\n",
              "      <td>6</td>\n",
              "      <td>1</td>\n",
              "      <td>4</td>\n",
              "      <td>2</td>\n",
              "      <td>0</td>\n",
              "      <td>0</td>\n",
              "      <td>0</td>\n",
              "      <td>True</td>\n",
              "      <td>cliente fidelidade</td>\n",
              "      <td>False</td>\n",
              "    </tr>\n",
              "  </tbody>\n",
              "</table>\n",
              "</div>"
            ],
            "text/plain": [
              "                 SEXO DATA_NASCIMENTO  ...       perfil_compra perfil_acessorio\n",
              "ID_CLIENTE                             ...                                     \n",
              "54853        feminino             NaT  ...  cliente fidelidade            False\n",
              "50976        feminino      1992-07-06  ...  cliente fidelidade            False\n",
              "47690        feminino      1978-11-03  ...  cliente fidelidade            False\n",
              "63642           vazio             NaT  ...  cliente fidelidade            False\n",
              "59702       masculino      1984-05-23  ...  cliente fidelidade            False\n",
              "\n",
              "[5 rows x 29 columns]"
            ]
          },
          "metadata": {
            "tags": []
          },
          "execution_count": 0
        }
      ]
    },
    {
      "cell_type": "code",
      "metadata": {
        "colab": {
          "base_uri": "https://localhost:8080/"
        },
        "id": "im1VhWaysEE9",
        "outputId": "dfd71c13-96d7-442b-b919-a7be85dfffd6"
      },
      "source": [
        "cliente_4.SEXO.value_counts(True)"
      ],
      "execution_count": null,
      "outputs": [
        {
          "output_type": "execute_result",
          "data": {
            "text/plain": [
              "vazio        0.432919\n",
              "feminino     0.344285\n",
              "masculino    0.222796\n",
              "Name: SEXO, dtype: float64"
            ]
          },
          "metadata": {
            "tags": []
          },
          "execution_count": 0
        }
      ]
    },
    {
      "cell_type": "code",
      "metadata": {
        "colab": {
          "base_uri": "https://localhost:8080/"
        },
        "id": "-pIcMUb0sHO4",
        "outputId": "53edb6cc-4a9f-4e33-9315-9a4e814481be"
      },
      "source": [
        "cliente_4.IDADE_CAT.value_counts(True,False)"
      ],
      "execution_count": null,
      "outputs": [
        {
          "output_type": "execute_result",
          "data": {
            "text/plain": [
              "Muito velho    0.190665\n",
              "Velho          0.213486\n",
              "Adulto         0.206125\n",
              "Adulto Novo    0.202591\n",
              "Jovem          0.187132\n",
              "Name: IDADE_CAT, dtype: float64"
            ]
          },
          "metadata": {
            "tags": []
          },
          "execution_count": 0
        }
      ]
    },
    {
      "cell_type": "code",
      "metadata": {
        "colab": {
          "base_uri": "https://localhost:8080/"
        },
        "id": "mrbgOBNLshEc",
        "outputId": "68f3d862-6ec3-4ae2-e957-a9ffd2872e10"
      },
      "source": [
        "cliente_4.online.value_counts(True)"
      ],
      "execution_count": null,
      "outputs": [
        {
          "output_type": "execute_result",
          "data": {
            "text/plain": [
              "0    0.939215\n",
              "1    0.060785\n",
              "Name: online, dtype: float64"
            ]
          },
          "metadata": {
            "tags": []
          },
          "execution_count": 0
        }
      ]
    },
    {
      "cell_type": "code",
      "metadata": {
        "colab": {
          "base_uri": "https://localhost:8080/"
        },
        "id": "MjWcN3QssmNU",
        "outputId": "2fadd6fe-57d8-4e9b-ad7b-606bdeefb348"
      },
      "source": [
        "cliente_4.perfil_acessorio.value_counts(True)"
      ],
      "execution_count": null,
      "outputs": [
        {
          "output_type": "execute_result",
          "data": {
            "text/plain": [
              "False    0.658218\n",
              "True     0.341782\n",
              "Name: perfil_acessorio, dtype: float64"
            ]
          },
          "metadata": {
            "tags": []
          },
          "execution_count": 0
        }
      ]
    },
    {
      "cell_type": "code",
      "metadata": {
        "colab": {
          "base_uri": "https://localhost:8080/"
        },
        "id": "Un2I8t26xDPZ",
        "outputId": "cc3c010b-1482-4d1f-c07c-82975bcf0b89"
      },
      "source": [
        "cliente_4.weekend.value_counts(True)"
      ],
      "execution_count": null,
      "outputs": [
        {
          "output_type": "execute_result",
          "data": {
            "text/plain": [
              "False    0.748386\n",
              "True     0.251614\n",
              "Name: weekend, dtype: float64"
            ]
          },
          "metadata": {
            "tags": []
          },
          "execution_count": 0
        }
      ]
    },
    {
      "cell_type": "code",
      "metadata": {
        "colab": {
          "base_uri": "https://localhost:8080/"
        },
        "id": "XRKwVuw6sp2E",
        "outputId": "a6fc0c32-8dc2-424d-8cb8-c0283c1478f8"
      },
      "source": [
        "cliente_4[animais].sum() / cliente_4[animais].sum().sum()"
      ],
      "execution_count": null,
      "outputs": [
        {
          "output_type": "execute_result",
          "data": {
            "text/plain": [
              "CAES        0.769225\n",
              "ROEDORES    0.025939\n",
              "GATOS       0.146646\n",
              "AVES        0.024802\n",
              "PEIXES      0.017352\n",
              "PESSOAS     0.016037\n",
              "dtype: float64"
            ]
          },
          "metadata": {
            "tags": []
          },
          "execution_count": 0
        }
      ]
    },
    {
      "cell_type": "code",
      "metadata": {
        "colab": {
          "base_uri": "https://localhost:8080/"
        },
        "id": "Bb0l_fA3sud6",
        "outputId": "51b8eec9-afbb-4a92-9089-2090a7969bbc"
      },
      "source": [
        "cliente_4[week].sum() / cliente_4[week].sum().sum()"
      ],
      "execution_count": null,
      "outputs": [
        {
          "output_type": "execute_result",
          "data": {
            "text/plain": [
              "Wednesday    0.135313\n",
              "Friday       0.138984\n",
              "Monday       0.132548\n",
              "Tuesday      0.139095\n",
              "Thursday     0.138899\n",
              "Saturday     0.203592\n",
              "Sunday       0.111569\n",
              "dtype: float64"
            ]
          },
          "metadata": {
            "tags": []
          },
          "execution_count": 0
        }
      ]
    },
    {
      "cell_type": "code",
      "metadata": {
        "colab": {
          "base_uri": "https://localhost:8080/"
        },
        "id": "vVnswstasx_7",
        "outputId": "393f874a-6880-4938-e074-d1e6d7a884f4"
      },
      "source": [
        "cliente_4[produtos].sum() / cliente_4[produtos].sum().sum()"
      ],
      "execution_count": null,
      "outputs": [
        {
          "output_type": "execute_result",
          "data": {
            "text/plain": [
              "ALIMENTOS                0.486420\n",
              "ACESSORIOS               0.198303\n",
              "FARMACIA                 0.130067\n",
              "HIGIENE E BELEZA         0.167222\n",
              "AQUARIOS E ACESSORIOS    0.008765\n",
              "ANIMAL VIVO              0.005753\n",
              "CASA                     0.003470\n",
              "dtype: float64"
            ]
          },
          "metadata": {
            "tags": []
          },
          "execution_count": 0
        }
      ]
    },
    {
      "cell_type": "markdown",
      "metadata": {
        "id": "7ZL3pu8jxLRg"
      },
      "source": [
        "## perfil compra: **dono do canil**\n",
        "### clientes que compraram mais do que 15 e menos do que 810 items na loja durante o tempo de vendas\n",
        "\n",
        "1.   **47% não preencheram** o campo SEXO, um pouco mais mulheres (33%) do que homens (19%)\n",
        "2.   Perfil de idade deslocado para os mais velhos\n",
        "3.   compras distribuidas ao longo dos dias uteis, concentração sabado e poucos aos domingos\n",
        "4.   **20%** compra mais aos fins de semana\n",
        "5.   **33%** vieram comprar **acessorios**\n",
        "6.   cerca de **7,6%** de clientes **online**\n",
        "7.   **70% CAES** e **21% GATOS**\n",
        "\n",
        "**produtos:**\n",
        "```\n",
        "ALIMENTOS                0.543759\n",
        "ACESSORIOS               0.162186\n",
        "FARMACIA                 0.117492\n",
        "HIGIENE E BELEZA         0.159830\n",
        "AQUARIOS E ACESSORIOS    0.008106\n",
        "```\n",
        "\n",
        "### Acho que esse é o grupo de clientes mais importantes:\n",
        "\n",
        "**propostas:**\n",
        "*   devido ao perfil de idade mais velho, as compras de alimentos em grande quantidade e **92%** das compras serem a **loja fisica**, acho importante que se garanta uma boa experiencia de compras\n",
        "> uma **infraestrutura** adequada como bons locais para vagas de idosos, carrinhos e funcionarios instruidos a ajudarem esses clientes\n",
        "*   comparando com os grupos anteriores, observa-se um interesse maior nas compras online\n",
        "> investir em clientes onlines **recorrentes** como sistema de milhas e pontos\n",
        ">\n",
        "> desconto no frete para **compras grandes**\n",
        ">\n",
        "> **informativos** nas lojas fisicas para auxiliar os clientes mais velhos a se familiarizarem com a tecnologia\n",
        "*    tambem comparando, observa-se uma venda maior de produtos destinados a gatos\n",
        "> aumentar a oferta de produtos **alimenticios** de gatos\n",
        ">\n",
        "> talvez investir em **acessorios** para gatos possa ser um mercado ainda pouco explorado\n",
        "\n",
        "**observa-se que o interesse em acessorios esta diminuindo**\n"
      ]
    },
    {
      "cell_type": "code",
      "metadata": {
        "colab": {
          "base_uri": "https://localhost:8080/"
        },
        "id": "JIcAdEhdx5YV",
        "outputId": "8b10a860-7223-4603-a386-92a7f8c992ab"
      },
      "source": [
        "cliente_5 = final_clientes[final_clientes[\"perfil_compra\"] == \"dono do canil\"]\n",
        "cliente_5.head()"
      ],
      "execution_count": null,
      "outputs": [
        {
          "output_type": "execute_result",
          "data": {
            "text/html": [
              "<div>\n",
              "<style scoped>\n",
              "    .dataframe tbody tr th:only-of-type {\n",
              "        vertical-align: middle;\n",
              "    }\n",
              "\n",
              "    .dataframe tbody tr th {\n",
              "        vertical-align: top;\n",
              "    }\n",
              "\n",
              "    .dataframe thead th {\n",
              "        text-align: right;\n",
              "    }\n",
              "</style>\n",
              "<table border=\"1\" class=\"dataframe\">\n",
              "  <thead>\n",
              "    <tr style=\"text-align: right;\">\n",
              "      <th></th>\n",
              "      <th>SEXO</th>\n",
              "      <th>DATA_NASCIMENTO</th>\n",
              "      <th>PRIMEIRA_COMPRA</th>\n",
              "      <th>IDADE_CAT</th>\n",
              "      <th>QUANTIDADE</th>\n",
              "      <th>online</th>\n",
              "      <th>Wednesday</th>\n",
              "      <th>Friday</th>\n",
              "      <th>Monday</th>\n",
              "      <th>Tuesday</th>\n",
              "      <th>Thursday</th>\n",
              "      <th>Saturday</th>\n",
              "      <th>Sunday</th>\n",
              "      <th>CAES</th>\n",
              "      <th>ROEDORES</th>\n",
              "      <th>GATOS</th>\n",
              "      <th>AVES</th>\n",
              "      <th>PEIXES</th>\n",
              "      <th>PESSOAS</th>\n",
              "      <th>ALIMENTOS</th>\n",
              "      <th>ACESSORIOS</th>\n",
              "      <th>FARMACIA</th>\n",
              "      <th>HIGIENE E BELEZA</th>\n",
              "      <th>AQUARIOS E ACESSORIOS</th>\n",
              "      <th>ANIMAL VIVO</th>\n",
              "      <th>CASA</th>\n",
              "      <th>weekend</th>\n",
              "      <th>perfil_compra</th>\n",
              "      <th>perfil_acessorio</th>\n",
              "    </tr>\n",
              "    <tr>\n",
              "      <th>ID_CLIENTE</th>\n",
              "      <th></th>\n",
              "      <th></th>\n",
              "      <th></th>\n",
              "      <th></th>\n",
              "      <th></th>\n",
              "      <th></th>\n",
              "      <th></th>\n",
              "      <th></th>\n",
              "      <th></th>\n",
              "      <th></th>\n",
              "      <th></th>\n",
              "      <th></th>\n",
              "      <th></th>\n",
              "      <th></th>\n",
              "      <th></th>\n",
              "      <th></th>\n",
              "      <th></th>\n",
              "      <th></th>\n",
              "      <th></th>\n",
              "      <th></th>\n",
              "      <th></th>\n",
              "      <th></th>\n",
              "      <th></th>\n",
              "      <th></th>\n",
              "      <th></th>\n",
              "      <th></th>\n",
              "      <th></th>\n",
              "      <th></th>\n",
              "      <th></th>\n",
              "    </tr>\n",
              "  </thead>\n",
              "  <tbody>\n",
              "    <tr>\n",
              "      <th>36010</th>\n",
              "      <td>feminino</td>\n",
              "      <td>NaT</td>\n",
              "      <td>2020-05-16</td>\n",
              "      <td>NaN</td>\n",
              "      <td>810.0</td>\n",
              "      <td>1</td>\n",
              "      <td>29</td>\n",
              "      <td>18</td>\n",
              "      <td>20</td>\n",
              "      <td>25</td>\n",
              "      <td>15</td>\n",
              "      <td>37</td>\n",
              "      <td>3</td>\n",
              "      <td>44</td>\n",
              "      <td>0</td>\n",
              "      <td>103</td>\n",
              "      <td>0</td>\n",
              "      <td>0</td>\n",
              "      <td>0</td>\n",
              "      <td>82</td>\n",
              "      <td>38</td>\n",
              "      <td>1</td>\n",
              "      <td>26</td>\n",
              "      <td>0</td>\n",
              "      <td>0</td>\n",
              "      <td>0</td>\n",
              "      <td>False</td>\n",
              "      <td>dono do canil</td>\n",
              "      <td>False</td>\n",
              "    </tr>\n",
              "    <tr>\n",
              "      <th>32703</th>\n",
              "      <td>feminino</td>\n",
              "      <td>NaT</td>\n",
              "      <td>2020-03-11</td>\n",
              "      <td>NaN</td>\n",
              "      <td>809.0</td>\n",
              "      <td>0</td>\n",
              "      <td>21</td>\n",
              "      <td>39</td>\n",
              "      <td>13</td>\n",
              "      <td>46</td>\n",
              "      <td>37</td>\n",
              "      <td>27</td>\n",
              "      <td>0</td>\n",
              "      <td>51</td>\n",
              "      <td>0</td>\n",
              "      <td>132</td>\n",
              "      <td>0</td>\n",
              "      <td>0</td>\n",
              "      <td>0</td>\n",
              "      <td>123</td>\n",
              "      <td>1</td>\n",
              "      <td>28</td>\n",
              "      <td>31</td>\n",
              "      <td>0</td>\n",
              "      <td>0</td>\n",
              "      <td>0</td>\n",
              "      <td>False</td>\n",
              "      <td>dono do canil</td>\n",
              "      <td>True</td>\n",
              "    </tr>\n",
              "    <tr>\n",
              "      <th>38242</th>\n",
              "      <td>feminino</td>\n",
              "      <td>NaT</td>\n",
              "      <td>2020-11-13</td>\n",
              "      <td>NaN</td>\n",
              "      <td>742.0</td>\n",
              "      <td>0</td>\n",
              "      <td>31</td>\n",
              "      <td>23</td>\n",
              "      <td>26</td>\n",
              "      <td>10</td>\n",
              "      <td>18</td>\n",
              "      <td>16</td>\n",
              "      <td>9</td>\n",
              "      <td>61</td>\n",
              "      <td>1</td>\n",
              "      <td>70</td>\n",
              "      <td>0</td>\n",
              "      <td>0</td>\n",
              "      <td>1</td>\n",
              "      <td>105</td>\n",
              "      <td>7</td>\n",
              "      <td>1</td>\n",
              "      <td>19</td>\n",
              "      <td>0</td>\n",
              "      <td>0</td>\n",
              "      <td>1</td>\n",
              "      <td>False</td>\n",
              "      <td>dono do canil</td>\n",
              "      <td>True</td>\n",
              "    </tr>\n",
              "    <tr>\n",
              "      <th>60916</th>\n",
              "      <td>feminino</td>\n",
              "      <td>1965-03-06</td>\n",
              "      <td>2020-12-12</td>\n",
              "      <td>Muito velho</td>\n",
              "      <td>730.0</td>\n",
              "      <td>0</td>\n",
              "      <td>27</td>\n",
              "      <td>64</td>\n",
              "      <td>95</td>\n",
              "      <td>22</td>\n",
              "      <td>15</td>\n",
              "      <td>30</td>\n",
              "      <td>10</td>\n",
              "      <td>171</td>\n",
              "      <td>0</td>\n",
              "      <td>92</td>\n",
              "      <td>0</td>\n",
              "      <td>0</td>\n",
              "      <td>0</td>\n",
              "      <td>210</td>\n",
              "      <td>0</td>\n",
              "      <td>36</td>\n",
              "      <td>17</td>\n",
              "      <td>0</td>\n",
              "      <td>0</td>\n",
              "      <td>0</td>\n",
              "      <td>False</td>\n",
              "      <td>dono do canil</td>\n",
              "      <td>True</td>\n",
              "    </tr>\n",
              "    <tr>\n",
              "      <th>40951</th>\n",
              "      <td>feminino</td>\n",
              "      <td>1955-07-09</td>\n",
              "      <td>2020-08-20</td>\n",
              "      <td>Muito velho</td>\n",
              "      <td>730.0</td>\n",
              "      <td>0</td>\n",
              "      <td>11</td>\n",
              "      <td>16</td>\n",
              "      <td>0</td>\n",
              "      <td>7</td>\n",
              "      <td>21</td>\n",
              "      <td>68</td>\n",
              "      <td>0</td>\n",
              "      <td>7</td>\n",
              "      <td>0</td>\n",
              "      <td>114</td>\n",
              "      <td>0</td>\n",
              "      <td>0</td>\n",
              "      <td>2</td>\n",
              "      <td>116</td>\n",
              "      <td>2</td>\n",
              "      <td>0</td>\n",
              "      <td>5</td>\n",
              "      <td>0</td>\n",
              "      <td>0</td>\n",
              "      <td>0</td>\n",
              "      <td>True</td>\n",
              "      <td>dono do canil</td>\n",
              "      <td>True</td>\n",
              "    </tr>\n",
              "  </tbody>\n",
              "</table>\n",
              "</div>"
            ],
            "text/plain": [
              "                SEXO DATA_NASCIMENTO  ...  perfil_compra perfil_acessorio\n",
              "ID_CLIENTE                            ...                                \n",
              "36010       feminino             NaT  ...  dono do canil            False\n",
              "32703       feminino             NaT  ...  dono do canil             True\n",
              "38242       feminino             NaT  ...  dono do canil             True\n",
              "60916       feminino      1965-03-06  ...  dono do canil             True\n",
              "40951       feminino      1955-07-09  ...  dono do canil             True\n",
              "\n",
              "[5 rows x 29 columns]"
            ]
          },
          "metadata": {
            "tags": []
          },
          "execution_count": 0
        }
      ]
    },
    {
      "cell_type": "code",
      "metadata": {
        "colab": {
          "base_uri": "https://localhost:8080/"
        },
        "id": "q1A_8xWOx--Z",
        "outputId": "4e55a790-2afc-4633-8708-31e60a6a281d"
      },
      "source": [
        "cliente_5.SEXO.value_counts(True)"
      ],
      "execution_count": null,
      "outputs": [
        {
          "output_type": "execute_result",
          "data": {
            "text/plain": [
              "vazio        0.470299\n",
              "feminino     0.336470\n",
              "masculino    0.193231\n",
              "Name: SEXO, dtype: float64"
            ]
          },
          "metadata": {
            "tags": []
          },
          "execution_count": 0
        }
      ]
    },
    {
      "cell_type": "code",
      "metadata": {
        "colab": {
          "base_uri": "https://localhost:8080/"
        },
        "id": "_D-fc6bpyCdM",
        "outputId": "b32fc79e-5fbc-43de-8249-873bdcf2097e"
      },
      "source": [
        "cliente_5.IDADE_CAT.value_counts(True,False)"
      ],
      "execution_count": null,
      "outputs": [
        {
          "output_type": "execute_result",
          "data": {
            "text/plain": [
              "Muito velho    0.226305\n",
              "Velho          0.223645\n",
              "Adulto         0.205853\n",
              "Adulto Novo    0.189059\n",
              "Jovem          0.155138\n",
              "Name: IDADE_CAT, dtype: float64"
            ]
          },
          "metadata": {
            "tags": []
          },
          "execution_count": 0
        }
      ]
    },
    {
      "cell_type": "code",
      "metadata": {
        "colab": {
          "base_uri": "https://localhost:8080/"
        },
        "id": "Kb8RAkP3yI1j",
        "outputId": "1868b1ee-6b1f-4d54-e15f-4938529bf91a"
      },
      "source": [
        "cliente_5.online.value_counts(True)"
      ],
      "execution_count": null,
      "outputs": [
        {
          "output_type": "execute_result",
          "data": {
            "text/plain": [
              "0    0.923329\n",
              "1    0.076671\n",
              "Name: online, dtype: float64"
            ]
          },
          "metadata": {
            "tags": []
          },
          "execution_count": 0
        }
      ]
    },
    {
      "cell_type": "code",
      "metadata": {
        "colab": {
          "base_uri": "https://localhost:8080/"
        },
        "id": "P3A-c5GTyQHw",
        "outputId": "5d434a19-cccd-4875-8f6f-e1d7b0636aa8"
      },
      "source": [
        "cliente_5.perfil_acessorio.value_counts(True)"
      ],
      "execution_count": null,
      "outputs": [
        {
          "output_type": "execute_result",
          "data": {
            "text/plain": [
              "False    0.671473\n",
              "True     0.328527\n",
              "Name: perfil_acessorio, dtype: float64"
            ]
          },
          "metadata": {
            "tags": []
          },
          "execution_count": 0
        }
      ]
    },
    {
      "cell_type": "code",
      "metadata": {
        "colab": {
          "base_uri": "https://localhost:8080/"
        },
        "id": "DwfyqPD3yMoj",
        "outputId": "ee4ada02-6ddb-40d0-ba15-3cfd4e957654"
      },
      "source": [
        "cliente_5.weekend.value_counts(True)"
      ],
      "execution_count": null,
      "outputs": [
        {
          "output_type": "execute_result",
          "data": {
            "text/plain": [
              "False    0.796236\n",
              "True     0.203764\n",
              "Name: weekend, dtype: float64"
            ]
          },
          "metadata": {
            "tags": []
          },
          "execution_count": 0
        }
      ]
    },
    {
      "cell_type": "code",
      "metadata": {
        "colab": {
          "base_uri": "https://localhost:8080/"
        },
        "id": "wjpMgOJKyTRI",
        "outputId": "2a340e70-86d1-47fb-86c1-1aa6efb8250f"
      },
      "source": [
        "cliente_5[animais].sum() / cliente_5[animais].sum().sum()"
      ],
      "execution_count": null,
      "outputs": [
        {
          "output_type": "execute_result",
          "data": {
            "text/plain": [
              "CAES        0.706746\n",
              "ROEDORES    0.019590\n",
              "GATOS       0.216728\n",
              "AVES        0.022944\n",
              "PEIXES      0.016433\n",
              "PESSOAS     0.017559\n",
              "dtype: float64"
            ]
          },
          "metadata": {
            "tags": []
          },
          "execution_count": 0
        }
      ]
    },
    {
      "cell_type": "code",
      "metadata": {
        "colab": {
          "base_uri": "https://localhost:8080/"
        },
        "id": "vCW_VldryXZC",
        "outputId": "9bc1fb17-2898-4fb0-ed2a-615beada38a8"
      },
      "source": [
        "cliente_5[week].sum() / cliente_5[week].sum().sum()"
      ],
      "execution_count": null,
      "outputs": [
        {
          "output_type": "execute_result",
          "data": {
            "text/plain": [
              "Wednesday    0.139960\n",
              "Friday       0.143079\n",
              "Monday       0.133224\n",
              "Tuesday      0.138656\n",
              "Thursday     0.145599\n",
              "Saturday     0.190414\n",
              "Sunday       0.109069\n",
              "dtype: float64"
            ]
          },
          "metadata": {
            "tags": []
          },
          "execution_count": 0
        }
      ]
    },
    {
      "cell_type": "code",
      "metadata": {
        "colab": {
          "base_uri": "https://localhost:8080/"
        },
        "id": "7I3ZnSjXybwE",
        "outputId": "527640dd-bc6e-481b-92b2-3377b19c75cd"
      },
      "source": [
        "cliente_5[produtos].sum() / cliente_5[produtos].sum().sum()"
      ],
      "execution_count": null,
      "outputs": [
        {
          "output_type": "execute_result",
          "data": {
            "text/plain": [
              "ALIMENTOS                0.543759\n",
              "ACESSORIOS               0.162186\n",
              "FARMACIA                 0.117492\n",
              "HIGIENE E BELEZA         0.159830\n",
              "AQUARIOS E ACESSORIOS    0.008106\n",
              "ANIMAL VIVO              0.005285\n",
              "CASA                     0.003342\n",
              "dtype: float64"
            ]
          },
          "metadata": {
            "tags": []
          },
          "execution_count": 0
        }
      ]
    },
    {
      "cell_type": "markdown",
      "metadata": {
        "id": "2Xvoo9ZOx5P7"
      },
      "source": [
        "# K-means (sklearn)"
      ]
    },
    {
      "cell_type": "markdown",
      "metadata": {
        "id": "gx4dAc8nNDob"
      },
      "source": [
        "## Clusterização (4 grupos)\n",
        "\n",
        "colunas utilizadas:\n",
        "*   online (sim ou não)\n",
        "*   animais ('CAES', 'ROEDORES', 'GATOS', 'AVES', 'PEIXES', 'PESSOAS')\n",
        "*   produtos ('ALIMENTOS', 'ACESSORIOS',  'FARMACIA', 'HIGIENE E BELEZA', 'AQUARIOS E ACESSORIOS', 'ANIMAL VIVO', 'CASA')\n",
        "\n"
      ]
    },
    {
      "cell_type": "code",
      "metadata": {
        "colab": {
          "base_uri": "https://localhost:8080/",
          "height": 167
        },
        "id": "3Rxr1El-NfK5",
        "outputId": "ea9fc003-d65b-42c6-8212-3b33ff9a77cc"
      },
      "source": [
        "list(produtos)"
      ],
      "execution_count": 1,
      "outputs": [
        {
          "output_type": "error",
          "ename": "NameError",
          "evalue": "ignored",
          "traceback": [
            "\u001b[0;31m---------------------------------------------------------------------------\u001b[0m",
            "\u001b[0;31mNameError\u001b[0m                                 Traceback (most recent call last)",
            "\u001b[0;32m<ipython-input-1-1c821c7a89ad>\u001b[0m in \u001b[0;36m<module>\u001b[0;34m()\u001b[0m\n\u001b[0;32m----> 1\u001b[0;31m \u001b[0mlist\u001b[0m\u001b[0;34m(\u001b[0m\u001b[0mprodutos\u001b[0m\u001b[0;34m)\u001b[0m\u001b[0;34m\u001b[0m\u001b[0;34m\u001b[0m\u001b[0m\n\u001b[0m",
            "\u001b[0;31mNameError\u001b[0m: name 'produtos' is not defined"
          ]
        }
      ]
    },
    {
      "cell_type": "code",
      "metadata": {
        "id": "FvFnbfNbUhyF"
      },
      "source": [
        "from sklearn.preprocessing import StandardScaler\n",
        "\n",
        "scaler = StandardScaler()\n",
        "scaler.fit(final_clientes[[\"online\"] + list(animais) + list(produtos)])\n",
        "clientes_normalizado = scaler.transform(final_clientes[[\"online\"] + list(animais) + list(produtos)])\n",
        "clientes_normalizado"
      ],
      "execution_count": null,
      "outputs": []
    },
    {
      "cell_type": "code",
      "metadata": {
        "id": "SvA2Jd8e9evb"
      },
      "source": [
        "from sklearn.cluster import KMeans\n",
        "sse = {}\n",
        "\n",
        "for k in range(1, 11):\n",
        "    print(k)\n",
        "    kmeans = KMeans(n_clusters=k, random_state=42)\n",
        "    kmeans.fit(clientes_normalizado)\n",
        "    sse[k] = kmeans.inertia_ # SSE to closest cluster centroid\n",
        "\n",
        "plt.title('The Elbow Method')\n",
        "plt.xlabel('k')\n",
        "plt.ylabel('SSE')\n",
        "sns.pointplot(x=list(sse.keys()), y=list(sse.values()))\n",
        "plt.show()"
      ],
      "execution_count": null,
      "outputs": []
    },
    {
      "cell_type": "code",
      "metadata": {
        "id": "kvqGwvqm9tQJ"
      },
      "source": [
        "model = KMeans(n_clusters = 4, random_state = 1)\n",
        "model.fit(clientes_normalizado)\n",
        "final_clientes[\"cluster\"] = model.labels_\n",
        "_ = final_clientes[\"cluster\"].hist()\n",
        "final_clientes[\"cluster\"].value_counts(True)"
      ],
      "execution_count": null,
      "outputs": []
    },
    {
      "cell_type": "code",
      "metadata": {
        "id": "HEB74qYA-li8"
      },
      "source": [
        "for i in range(4):\n",
        "    print(\"Perfil de clientes \", i)\n",
        "    print(final_clientes[final_clientes[\"cluster\"] == i].perfil_compra.value_counts(True, False))\n",
        "    print(\"\\n\")"
      ],
      "execution_count": null,
      "outputs": []
    },
    {
      "cell_type": "markdown",
      "metadata": {
        "id": "BPUiKLInNM5r"
      },
      "source": [
        "## PCA (2 component)"
      ]
    },
    {
      "cell_type": "code",
      "metadata": {
        "colab": {
          "base_uri": "https://localhost:8080/",
          "height": 501
        },
        "cellView": "form",
        "id": "PwaVFrJoYa9l",
        "outputId": "769f7580-c8d1-45c7-9f6b-4bb2c05afae9"
      },
      "source": [
        "#@title PCA scatterplot\n",
        "from sklearn.decomposition import PCA\n",
        "\n",
        "pca = PCA(n_components=2)\n",
        "pca_fit = pca.fit_transform(clientes_normalizado)\n",
        "final_clientes[\"PCA1\"] = pca_fit[:,0]\n",
        "final_clientes[\"PCA2\"] = pca_fit[:,1]\n",
        "\n",
        "plt.figure(figsize = (12,8))\n",
        "plt.xlim(-5, 30)\n",
        "plt.ylim(-12, 50)\n",
        "_ = sns.scatterplot(data = final_clientes, x = \"PCA1\", y = \"PCA2\", hue = \"cluster\",\n",
        "                    palette = sns.color_palette(\"husl\", 4),\n",
        "                    hue_order = [1,2,3,0])"
      ],
      "execution_count": null,
      "outputs": [
        {
          "output_type": "display_data",
          "data": {
            "image/png": "[encoded data removed]",
            "text/plain": [
              "<Figure size 864x576 with 1 Axes>"
            ]
          },
          "metadata": {
            "tags": [],
            "needs_background": "light"
          }
        }
      ]
    },
    {
      "cell_type": "markdown",
      "metadata": {
        "id": "7nzZmdAyN6BA"
      },
      "source": [
        "## cluster: **0** (0.7% dos clientes)\n",
        "\n",
        "1.   **81% não preencheram** o campo SEXO\n",
        "2.   Maior parte são **jovens** e **adultos novos**\n",
        "3.   compras distribuidas ao longo dos dias uteis, **inclusive sabado** e poucos aos domingos\n",
        "4.   **19%** compram mais aos fins de semanas\n",
        "5.   **50%** vieram comprar **acessorios**\n",
        "6.   cerca de **100%** de clientes **online**\n",
        "7.   **72%** CAES e **23%** GATOS\n",
        "8.   **perfil compra:** distribuido, maioria **one-time** (38%)\n",
        "9.   interesse em produtos de **Farmacia**\n",
        "**produtos:**\n",
        "```\n",
        "Nivel 2\n",
        "ALIMENTOS                0.508514\n",
        "ACESSORIOS               0.133640\n",
        "FARMACIA                 0.172860\n",
        "HIGIENE E BELEZA         0.180457\n",
        "```\n",
        "```\n",
        "Nivel 3\n",
        "RACOES                          0.404326\n",
        "HIGIENE E LIMPEZA               0.136035\n",
        "PETISCOS E OSSINHOS             0.076270\n",
        "PULGAS - CARRAPATOS - VERMES    0.059653\n",
        "BRINQUEDOS                      0.057558\n",
        "UTENSILIOS PARA BANHO           0.044422\n",
        "VITAMINAS E SUPLEMENTOS         0.028704\n",
        "```\n",
        "**interepretação:**\n",
        "*    Grupo composto apenas por vendas **online**, maior parte são **jovens** e provalvemente são clientes realmente **one-time**, interesse principal são artigos de **CAES**, com destaque para o setor de **Farmacia**\n",
        "\n",
        "**propostas:**\n",
        "*   o setor de farmacia não costuma gerar clientes que retornam, por isso é importante vender o maximo possivel nessa compra, uma proposta seria fazer indicações de produtos ex:\n",
        "> comprou antipulgas/carrapatos => indicar escova para pelo de cachorros\n",
        ">\n",
        "> comprou vermifugo => indicar tapetes higienicos\n",
        ">\n",
        "> comprou anti-inflamatorio => indicar roupa pos-cirurgica (castração)\n"
      ]
    },
    {
      "cell_type": "code",
      "metadata": {
        "id": "LVlLapo5Me-a"
      },
      "source": [
        "cliente_0k = final_clientes[final_clientes[\"cluster\"] == 0]\n",
        "cliente_0k.head()"
      ],
      "execution_count": null,
      "outputs": []
    },
    {
      "cell_type": "code",
      "metadata": {
        "id": "zZ3CHtO3M1zR"
      },
      "source": [
        "cliente_0k.perfil_compra.value_counts(True)"
      ],
      "execution_count": null,
      "outputs": []
    },
    {
      "cell_type": "code",
      "metadata": {
        "colab": {
          "base_uri": "https://localhost:8080/"
        },
        "id": "JGo0rNfvMcH9",
        "outputId": "a7552002-0da4-454f-ce6a-7d5554e8ceaf"
      },
      "source": [
        "cliente_0k.SEXO.value_counts(True)"
      ],
      "execution_count": null,
      "outputs": [
        {
          "output_type": "execute_result",
          "data": {
            "text/plain": [
              "vazio        0.808341\n",
              "feminino     0.142690\n",
              "masculino    0.048969\n",
              "Name: SEXO, dtype: float64"
            ]
          },
          "metadata": {
            "tags": []
          },
          "execution_count": 140
        }
      ]
    },
    {
      "cell_type": "code",
      "metadata": {
        "colab": {
          "base_uri": "https://localhost:8080/"
        },
        "id": "Iuw5lepIMl9X",
        "outputId": "2a33de2f-db35-44f4-d269-1463c912151f"
      },
      "source": [
        "cliente_0k.IDADE_CAT.value_counts(True,False)"
      ],
      "execution_count": null,
      "outputs": [
        {
          "output_type": "execute_result",
          "data": {
            "text/plain": [
              "Muito velho    0.117048\n",
              "Velho          0.151399\n",
              "Adulto         0.193384\n",
              "Adulto Novo    0.276081\n",
              "Jovem          0.262087\n",
              "Name: IDADE_CAT, dtype: float64"
            ]
          },
          "metadata": {
            "tags": []
          },
          "execution_count": 141
        }
      ]
    },
    {
      "cell_type": "code",
      "metadata": {
        "colab": {
          "base_uri": "https://localhost:8080/"
        },
        "id": "tlvkuRMTMnGa",
        "outputId": "9dbf5083-02b6-49a0-a004-3804c7b04a0c"
      },
      "source": [
        "cliente_0k.online.value_counts(True)"
      ],
      "execution_count": null,
      "outputs": [
        {
          "output_type": "execute_result",
          "data": {
            "text/plain": [
              "1    1.0\n",
              "Name: online, dtype: float64"
            ]
          },
          "metadata": {
            "tags": []
          },
          "execution_count": 142
        }
      ]
    },
    {
      "cell_type": "code",
      "metadata": {
        "colab": {
          "base_uri": "https://localhost:8080/"
        },
        "id": "BCViXmLPMpIh",
        "outputId": "59553bea-00ef-49bc-d7bf-b42aa18b071b"
      },
      "source": [
        "cliente_0k.perfil_acessorio.value_counts(True)"
      ],
      "execution_count": null,
      "outputs": [
        {
          "output_type": "execute_result",
          "data": {
            "text/plain": [
              "True     0.503515\n",
              "False    0.496485\n",
              "Name: perfil_acessorio, dtype: float64"
            ]
          },
          "metadata": {
            "tags": []
          },
          "execution_count": 143
        }
      ]
    },
    {
      "cell_type": "code",
      "metadata": {
        "colab": {
          "base_uri": "https://localhost:8080/"
        },
        "id": "R23KSYCAMqrR",
        "outputId": "5d1b3c30-8bb5-462e-c961-d9b60fb151f2"
      },
      "source": [
        "cliente_0k.weekend.value_counts(True)"
      ],
      "execution_count": null,
      "outputs": [
        {
          "output_type": "execute_result",
          "data": {
            "text/plain": [
              "False    0.812559\n",
              "True     0.187441\n",
              "Name: weekend, dtype: float64"
            ]
          },
          "metadata": {
            "tags": []
          },
          "execution_count": 144
        }
      ]
    },
    {
      "cell_type": "code",
      "metadata": {
        "colab": {
          "base_uri": "https://localhost:8080/"
        },
        "id": "Hfbs6FXxMsDF",
        "outputId": "2704e893-b555-4902-c7db-6fddcf65a52d"
      },
      "source": [
        "cliente_0k[animais].sum() / cliente_0k[animais].sum().sum()"
      ],
      "execution_count": null,
      "outputs": [
        {
          "output_type": "execute_result",
          "data": {
            "text/plain": [
              "CAES        0.718686\n",
              "ROEDORES    0.023652\n",
              "GATOS       0.229595\n",
              "AVES        0.017589\n",
              "PEIXES      0.005389\n",
              "PESSOAS     0.005090\n",
              "dtype: float64"
            ]
          },
          "metadata": {
            "tags": []
          },
          "execution_count": 145
        }
      ]
    },
    {
      "cell_type": "code",
      "metadata": {
        "colab": {
          "base_uri": "https://localhost:8080/"
        },
        "id": "ogCUYAzSMtNn",
        "outputId": "c15f9ec5-a9b4-4128-d53a-d5fd59cc7988"
      },
      "source": [
        "cliente_0k[week].sum() / cliente_0k[week].sum().sum()"
      ],
      "execution_count": null,
      "outputs": [
        {
          "output_type": "execute_result",
          "data": {
            "text/plain": [
              "Wednesday    0.146602\n",
              "Friday       0.151053\n",
              "Monday       0.157822\n",
              "Tuesday      0.148809\n",
              "Thursday     0.141254\n",
              "Saturday     0.163955\n",
              "Sunday       0.090505\n",
              "dtype: float64"
            ]
          },
          "metadata": {
            "tags": []
          },
          "execution_count": 146
        }
      ]
    },
    {
      "cell_type": "code",
      "metadata": {
        "colab": {
          "base_uri": "https://localhost:8080/"
        },
        "id": "81PDhgd4Muib",
        "outputId": "215113d9-a7b2-46cb-a2c6-a5d51cc1c5d0"
      },
      "source": [
        "cliente_0k[produtos].sum() / cliente_0k[produtos].sum().sum()"
      ],
      "execution_count": null,
      "outputs": [
        {
          "output_type": "execute_result",
          "data": {
            "text/plain": [
              "ALIMENTOS                0.508514\n",
              "ACESSORIOS               0.133640\n",
              "FARMACIA                 0.172860\n",
              "HIGIENE E BELEZA         0.180457\n",
              "AQUARIOS E ACESSORIOS    0.002245\n",
              "ANIMAL VIVO              0.001310\n",
              "CASA                     0.000973\n",
              "dtype: float64"
            ]
          },
          "metadata": {
            "tags": []
          },
          "execution_count": 147
        }
      ]
    },
    {
      "cell_type": "code",
      "metadata": {
        "colab": {
          "base_uri": "https://localhost:8080/"
        },
        "id": "ssb549ZOdlO-",
        "outputId": "f24375cc-4aff-4073-abfc-559e4a5ef486"
      },
      "source": [
        "full_vendas[full_vendas[\"ID_CLIENTE\"].isin(cliente_0k.index)][\"NIVEL 3\"].value_counts(True).head(7)"
      ],
      "execution_count": null,
      "outputs": [
        {
          "output_type": "execute_result",
          "data": {
            "text/plain": [
              "RACOES                          0.404326\n",
              "HIGIENE E LIMPEZA               0.136035\n",
              "PETISCOS E OSSINHOS             0.076270\n",
              "PULGAS - CARRAPATOS - VERMES    0.059653\n",
              "BRINQUEDOS                      0.057558\n",
              "UTENSILIOS PARA BANHO           0.044422\n",
              "VITAMINAS E SUPLEMENTOS         0.028704\n",
              "Name: NIVEL 3, dtype: float64"
            ]
          },
          "metadata": {
            "tags": []
          },
          "execution_count": 200
        }
      ]
    },
    {
      "cell_type": "markdown",
      "metadata": {
        "id": "OmkiZqkNCmWb"
      },
      "source": [
        "## cluster: **1** (7% dos clientes)\n",
        "\n",
        "1.   **35% não preencheram** o campo SEXO, mais **homens (37%)** do que mulheres (27%)\n",
        "2.   Maior parte são **adultos** e **velhos**\n",
        "3.   compras distribuidas ao longo dos dias uteis, concentração sabado e poucos aos domingos\n",
        "4.   **26%** compram mais aos fins de semanas\n",
        "5.   **42%** vieram comprar **acessorios**\n",
        "6.   cerca de **3%** de clientes **online**\n",
        "7.   **47,5%** peixes e **37%** CAES\n",
        "8.   **perfil compra:** 66% donos de canil e 28% cliente fidelidade\n",
        "**produtos:**\n",
        "```\n",
        "Nivel 2\n",
        "ALIMENTOS                0.361646\n",
        "ACESSORIOS               0.122320\n",
        "FARMACIA                 0.065054\n",
        "HIGIENE E BELEZA         0.094099\n",
        "AQUARIOS E ACESSORIOS    0.235111\n",
        "ANIMAL VIVO              0.118014\n",
        "CASA                     0.003757\n",
        "```\n",
        "```\n",
        "Nivel 3\n",
        "RACOES                      0.264614\n",
        "BOMBAS E CONDICIONADORES    0.124702\n",
        "                            0.118288\n",
        "DECORACAO E ILUMINACAO      0.088510\n",
        "```\n",
        "**interepretação:**\n",
        "*    maioria são clientes **homens** na faixa dos **35-50 anos** que fazem **grandes compras**, tem interesse em artigos para **peixe**, compram um quantidade relativamente grande de **acessorios de aquario** e **animal vivo** e ainda não fazem muito uso das compras **online**\n",
        "\n",
        "**propostas:**\n",
        "*   o setor de peixes é pouco explorado pela loja, apesar de atrair clientes dispostos a fazer compras em grande quantidade, investir em acessorios de aquario que sejam atraentes para pessoas com perfil de homens adultos\n",
        "*   dado a dificuldade em se vender artigos como animais vivos e aquarios online, poderia inverstir em produtos como comida, enfeites e acessorios de aquario (promoções do tipo \"artigos que ganham frete gratis\", ou em sales sazonais)\n",
        "\n"
      ]
    },
    {
      "cell_type": "code",
      "metadata": {
        "colab": {
          "base_uri": "https://localhost:8080/",
          "height": 281
        },
        "id": "B-363znnCvfx",
        "outputId": "4670abfd-2057-4c3e-bd27-7b7b46a3b42d"
      },
      "source": [
        "cliente_1k = final_clientes[final_clientes[\"cluster\"] == 1]\n",
        "cliente_1k.head()"
      ],
      "execution_count": null,
      "outputs": [
        {
          "output_type": "execute_result",
          "data": {
            "text/html": [
              "<div>\n",
              "<style scoped>\n",
              "    .dataframe tbody tr th:only-of-type {\n",
              "        vertical-align: middle;\n",
              "    }\n",
              "\n",
              "    .dataframe tbody tr th {\n",
              "        vertical-align: top;\n",
              "    }\n",
              "\n",
              "    .dataframe thead th {\n",
              "        text-align: right;\n",
              "    }\n",
              "</style>\n",
              "<table border=\"1\" class=\"dataframe\">\n",
              "  <thead>\n",
              "    <tr style=\"text-align: right;\">\n",
              "      <th></th>\n",
              "      <th>SEXO</th>\n",
              "      <th>DATA_NASCIMENTO</th>\n",
              "      <th>PRIMEIRA_COMPRA</th>\n",
              "      <th>IDADE_CAT</th>\n",
              "      <th>QUANTIDADE</th>\n",
              "      <th>online</th>\n",
              "      <th>Wednesday</th>\n",
              "      <th>Friday</th>\n",
              "      <th>Monday</th>\n",
              "      <th>Tuesday</th>\n",
              "      <th>Thursday</th>\n",
              "      <th>Saturday</th>\n",
              "      <th>Sunday</th>\n",
              "      <th>CAES</th>\n",
              "      <th>ROEDORES</th>\n",
              "      <th>GATOS</th>\n",
              "      <th>AVES</th>\n",
              "      <th>PEIXES</th>\n",
              "      <th>PESSOAS</th>\n",
              "      <th>ALIMENTOS</th>\n",
              "      <th>ACESSORIOS</th>\n",
              "      <th>FARMACIA</th>\n",
              "      <th>HIGIENE E BELEZA</th>\n",
              "      <th>AQUARIOS E ACESSORIOS</th>\n",
              "      <th>ANIMAL VIVO</th>\n",
              "      <th>CASA</th>\n",
              "      <th>weekend</th>\n",
              "      <th>perfil_compra</th>\n",
              "      <th>perfil_acessorio</th>\n",
              "      <th>cluster</th>\n",
              "      <th>PCA1</th>\n",
              "      <th>PCA2</th>\n",
              "    </tr>\n",
              "    <tr>\n",
              "      <th>ID_CLIENTE</th>\n",
              "      <th></th>\n",
              "      <th></th>\n",
              "      <th></th>\n",
              "      <th></th>\n",
              "      <th></th>\n",
              "      <th></th>\n",
              "      <th></th>\n",
              "      <th></th>\n",
              "      <th></th>\n",
              "      <th></th>\n",
              "      <th></th>\n",
              "      <th></th>\n",
              "      <th></th>\n",
              "      <th></th>\n",
              "      <th></th>\n",
              "      <th></th>\n",
              "      <th></th>\n",
              "      <th></th>\n",
              "      <th></th>\n",
              "      <th></th>\n",
              "      <th></th>\n",
              "      <th></th>\n",
              "      <th></th>\n",
              "      <th></th>\n",
              "      <th></th>\n",
              "      <th></th>\n",
              "      <th></th>\n",
              "      <th></th>\n",
              "      <th></th>\n",
              "      <th></th>\n",
              "      <th></th>\n",
              "      <th></th>\n",
              "    </tr>\n",
              "  </thead>\n",
              "  <tbody>\n",
              "    <tr>\n",
              "      <th>29057</th>\n",
              "      <td>vazio</td>\n",
              "      <td>NaT</td>\n",
              "      <td>2021-05-14</td>\n",
              "      <td>NaN</td>\n",
              "      <td>510.0</td>\n",
              "      <td>0</td>\n",
              "      <td>61</td>\n",
              "      <td>51</td>\n",
              "      <td>32</td>\n",
              "      <td>34</td>\n",
              "      <td>158</td>\n",
              "      <td>45</td>\n",
              "      <td>16</td>\n",
              "      <td>236</td>\n",
              "      <td>15</td>\n",
              "      <td>97</td>\n",
              "      <td>13</td>\n",
              "      <td>16</td>\n",
              "      <td>20</td>\n",
              "      <td>205</td>\n",
              "      <td>59</td>\n",
              "      <td>49</td>\n",
              "      <td>71</td>\n",
              "      <td>5</td>\n",
              "      <td>7</td>\n",
              "      <td>1</td>\n",
              "      <td>False</td>\n",
              "      <td>dono do canil</td>\n",
              "      <td>False</td>\n",
              "      <td>1</td>\n",
              "      <td>65.539811</td>\n",
              "      <td>8.630793</td>\n",
              "    </tr>\n",
              "    <tr>\n",
              "      <th>2014</th>\n",
              "      <td>vazio</td>\n",
              "      <td>NaT</td>\n",
              "      <td>2017-05-25</td>\n",
              "      <td>NaN</td>\n",
              "      <td>198.0</td>\n",
              "      <td>0</td>\n",
              "      <td>5</td>\n",
              "      <td>4</td>\n",
              "      <td>4</td>\n",
              "      <td>0</td>\n",
              "      <td>1</td>\n",
              "      <td>16</td>\n",
              "      <td>17</td>\n",
              "      <td>7</td>\n",
              "      <td>0</td>\n",
              "      <td>30</td>\n",
              "      <td>2</td>\n",
              "      <td>6</td>\n",
              "      <td>2</td>\n",
              "      <td>29</td>\n",
              "      <td>2</td>\n",
              "      <td>1</td>\n",
              "      <td>9</td>\n",
              "      <td>5</td>\n",
              "      <td>0</td>\n",
              "      <td>1</td>\n",
              "      <td>True</td>\n",
              "      <td>dono do canil</td>\n",
              "      <td>True</td>\n",
              "      <td>1</td>\n",
              "      <td>7.156674</td>\n",
              "      <td>6.162512</td>\n",
              "    </tr>\n",
              "    <tr>\n",
              "      <th>69315</th>\n",
              "      <td>vazio</td>\n",
              "      <td>NaT</td>\n",
              "      <td>2021-01-31</td>\n",
              "      <td>NaN</td>\n",
              "      <td>181.0</td>\n",
              "      <td>0</td>\n",
              "      <td>0</td>\n",
              "      <td>15</td>\n",
              "      <td>30</td>\n",
              "      <td>17</td>\n",
              "      <td>27</td>\n",
              "      <td>9</td>\n",
              "      <td>0</td>\n",
              "      <td>38</td>\n",
              "      <td>13</td>\n",
              "      <td>3</td>\n",
              "      <td>11</td>\n",
              "      <td>33</td>\n",
              "      <td>0</td>\n",
              "      <td>19</td>\n",
              "      <td>37</td>\n",
              "      <td>1</td>\n",
              "      <td>8</td>\n",
              "      <td>14</td>\n",
              "      <td>19</td>\n",
              "      <td>0</td>\n",
              "      <td>False</td>\n",
              "      <td>dono do canil</td>\n",
              "      <td>False</td>\n",
              "      <td>1</td>\n",
              "      <td>22.996440</td>\n",
              "      <td>53.367353</td>\n",
              "    </tr>\n",
              "    <tr>\n",
              "      <th>46618</th>\n",
              "      <td>masculino</td>\n",
              "      <td>1985-07-31</td>\n",
              "      <td>2020-09-08</td>\n",
              "      <td>Adulto</td>\n",
              "      <td>175.0</td>\n",
              "      <td>1</td>\n",
              "      <td>12</td>\n",
              "      <td>12</td>\n",
              "      <td>6</td>\n",
              "      <td>12</td>\n",
              "      <td>3</td>\n",
              "      <td>0</td>\n",
              "      <td>2</td>\n",
              "      <td>35</td>\n",
              "      <td>0</td>\n",
              "      <td>2</td>\n",
              "      <td>0</td>\n",
              "      <td>8</td>\n",
              "      <td>2</td>\n",
              "      <td>33</td>\n",
              "      <td>2</td>\n",
              "      <td>2</td>\n",
              "      <td>2</td>\n",
              "      <td>7</td>\n",
              "      <td>1</td>\n",
              "      <td>0</td>\n",
              "      <td>False</td>\n",
              "      <td>dono do canil</td>\n",
              "      <td>True</td>\n",
              "      <td>1</td>\n",
              "      <td>6.323591</td>\n",
              "      <td>10.343133</td>\n",
              "    </tr>\n",
              "    <tr>\n",
              "      <th>51609</th>\n",
              "      <td>vazio</td>\n",
              "      <td>NaT</td>\n",
              "      <td>2020-10-17</td>\n",
              "      <td>NaN</td>\n",
              "      <td>161.0</td>\n",
              "      <td>0</td>\n",
              "      <td>34</td>\n",
              "      <td>9</td>\n",
              "      <td>30</td>\n",
              "      <td>35</td>\n",
              "      <td>18</td>\n",
              "      <td>5</td>\n",
              "      <td>5</td>\n",
              "      <td>113</td>\n",
              "      <td>3</td>\n",
              "      <td>0</td>\n",
              "      <td>7</td>\n",
              "      <td>9</td>\n",
              "      <td>4</td>\n",
              "      <td>98</td>\n",
              "      <td>16</td>\n",
              "      <td>6</td>\n",
              "      <td>6</td>\n",
              "      <td>4</td>\n",
              "      <td>3</td>\n",
              "      <td>3</td>\n",
              "      <td>False</td>\n",
              "      <td>dono do canil</td>\n",
              "      <td>False</td>\n",
              "      <td>1</td>\n",
              "      <td>20.961505</td>\n",
              "      <td>8.412140</td>\n",
              "    </tr>\n",
              "  </tbody>\n",
              "</table>\n",
              "</div>"
            ],
            "text/plain": [
              "                 SEXO DATA_NASCIMENTO  ...       PCA1       PCA2\n",
              "ID_CLIENTE                             ...                      \n",
              "29057           vazio             NaT  ...  65.539811   8.630793\n",
              "2014            vazio             NaT  ...   7.156674   6.162512\n",
              "69315           vazio             NaT  ...  22.996440  53.367353\n",
              "46618       masculino      1985-07-31  ...   6.323591  10.343133\n",
              "51609           vazio             NaT  ...  20.961505   8.412140\n",
              "\n",
              "[5 rows x 32 columns]"
            ]
          },
          "metadata": {
            "tags": []
          },
          "execution_count": 148
        }
      ]
    },
    {
      "cell_type": "code",
      "metadata": {
        "colab": {
          "base_uri": "https://localhost:8080/"
        },
        "id": "pfV2aLTLINRu",
        "outputId": "a0ff56f7-962e-4a51-e42f-7976786ba3da"
      },
      "source": [
        "cliente_1k.perfil_compra.value_counts(True)"
      ],
      "execution_count": null,
      "outputs": [
        {
          "output_type": "execute_result",
          "data": {
            "text/plain": [
              "dono do canil         0.658120\n",
              "cliente fidelidade    0.279915\n",
              "regular               0.061966\n",
              "sazonal               0.000000\n",
              "one-time              0.000000\n",
              "Name: perfil_compra, dtype: float64"
            ]
          },
          "metadata": {
            "tags": []
          },
          "execution_count": 149
        }
      ]
    },
    {
      "cell_type": "code",
      "metadata": {
        "colab": {
          "base_uri": "https://localhost:8080/"
        },
        "id": "c5xEGJ1ZDAHx",
        "outputId": "9a5ae615-5614-4fb8-a683-924a23237a6b"
      },
      "source": [
        "cliente_1k.SEXO.value_counts(True)"
      ],
      "execution_count": null,
      "outputs": [
        {
          "output_type": "execute_result",
          "data": {
            "text/plain": [
              "masculino    0.373932\n",
              "vazio        0.354701\n",
              "feminino     0.271368\n",
              "Name: SEXO, dtype: float64"
            ]
          },
          "metadata": {
            "tags": []
          },
          "execution_count": 150
        }
      ]
    },
    {
      "cell_type": "code",
      "metadata": {
        "colab": {
          "base_uri": "https://localhost:8080/"
        },
        "id": "JPuHglUACx4k",
        "outputId": "36e57b54-bc34-4a0c-ad64-3cc44d96e9f9"
      },
      "source": [
        "cliente_1k.IDADE_CAT.value_counts(True, False)"
      ],
      "execution_count": null,
      "outputs": [
        {
          "output_type": "execute_result",
          "data": {
            "text/plain": [
              "Muito velho    0.125424\n",
              "Velho          0.257627\n",
              "Adulto         0.308475\n",
              "Adulto Novo    0.172881\n",
              "Jovem          0.135593\n",
              "Name: IDADE_CAT, dtype: float64"
            ]
          },
          "metadata": {
            "tags": []
          },
          "execution_count": 151
        }
      ]
    },
    {
      "cell_type": "code",
      "metadata": {
        "colab": {
          "base_uri": "https://localhost:8080/"
        },
        "id": "0qxeStSCHTCg",
        "outputId": "02fe906c-2927-49e3-c439-2cb6a8a71ca6"
      },
      "source": [
        "cliente_1k.online.value_counts(True)"
      ],
      "execution_count": null,
      "outputs": [
        {
          "output_type": "execute_result",
          "data": {
            "text/plain": [
              "0    0.970085\n",
              "1    0.029915\n",
              "Name: online, dtype: float64"
            ]
          },
          "metadata": {
            "tags": []
          },
          "execution_count": 152
        }
      ]
    },
    {
      "cell_type": "code",
      "metadata": {
        "colab": {
          "base_uri": "https://localhost:8080/"
        },
        "id": "wfRyu_HeHVOe",
        "outputId": "1d30df22-41fb-4db6-ab1e-011f1ac2ef0b"
      },
      "source": [
        "cliente_1k.perfil_acessorio.value_counts(True)"
      ],
      "execution_count": null,
      "outputs": [
        {
          "output_type": "execute_result",
          "data": {
            "text/plain": [
              "False    0.576923\n",
              "True     0.423077\n",
              "Name: perfil_acessorio, dtype: float64"
            ]
          },
          "metadata": {
            "tags": []
          },
          "execution_count": 153
        }
      ]
    },
    {
      "cell_type": "code",
      "metadata": {
        "colab": {
          "base_uri": "https://localhost:8080/"
        },
        "id": "DRtjv9v8HXs0",
        "outputId": "87ac1a76-6d90-4ffb-b95f-31337fd1a78e"
      },
      "source": [
        "cliente_1k.weekend.value_counts(True)"
      ],
      "execution_count": null,
      "outputs": [
        {
          "output_type": "execute_result",
          "data": {
            "text/plain": [
              "False    0.707265\n",
              "True     0.292735\n",
              "Name: weekend, dtype: float64"
            ]
          },
          "metadata": {
            "tags": []
          },
          "execution_count": 154
        }
      ]
    },
    {
      "cell_type": "code",
      "metadata": {
        "colab": {
          "base_uri": "https://localhost:8080/"
        },
        "id": "bMD7pB0FHZVK",
        "outputId": "7936e37b-bf49-4ec3-f423-b1f25cf5605a"
      },
      "source": [
        "cliente_1k[animais].sum() / cliente_1k[animais].sum().sum()"
      ],
      "execution_count": null,
      "outputs": [
        {
          "output_type": "execute_result",
          "data": {
            "text/plain": [
              "CAES        0.369800\n",
              "ROEDORES    0.033901\n",
              "GATOS       0.088785\n",
              "AVES        0.051768\n",
              "PEIXES      0.435221\n",
              "PESSOAS     0.020524\n",
              "dtype: float64"
            ]
          },
          "metadata": {
            "tags": []
          },
          "execution_count": 155
        }
      ]
    },
    {
      "cell_type": "code",
      "metadata": {
        "colab": {
          "base_uri": "https://localhost:8080/"
        },
        "id": "FtY6mxBUHas5",
        "outputId": "007d3502-2418-4048-82b1-7421f5b7ad3b"
      },
      "source": [
        "cliente_1k[week].sum() / cliente_1k[week].sum().sum()"
      ],
      "execution_count": null,
      "outputs": [
        {
          "output_type": "execute_result",
          "data": {
            "text/plain": [
              "Wednesday    0.117604\n",
              "Friday       0.151532\n",
              "Monday       0.123365\n",
              "Tuesday      0.129218\n",
              "Thursday     0.139003\n",
              "Saturday     0.210334\n",
              "Sunday       0.128944\n",
              "dtype: float64"
            ]
          },
          "metadata": {
            "tags": []
          },
          "execution_count": 156
        }
      ]
    },
    {
      "cell_type": "code",
      "metadata": {
        "colab": {
          "base_uri": "https://localhost:8080/"
        },
        "id": "6i3Mk3TdHcYN",
        "outputId": "ad665dae-bbb5-4e55-a950-60cdea38b206"
      },
      "source": [
        "cliente_1k[produtos].sum() / cliente_1k[produtos].sum().sum()"
      ],
      "execution_count": null,
      "outputs": [
        {
          "output_type": "execute_result",
          "data": {
            "text/plain": [
              "ALIMENTOS                0.361646\n",
              "ACESSORIOS               0.122320\n",
              "FARMACIA                 0.065054\n",
              "HIGIENE E BELEZA         0.094099\n",
              "AQUARIOS E ACESSORIOS    0.235111\n",
              "ANIMAL VIVO              0.118014\n",
              "CASA                     0.003757\n",
              "dtype: float64"
            ]
          },
          "metadata": {
            "tags": []
          },
          "execution_count": 157
        }
      ]
    },
    {
      "cell_type": "code",
      "metadata": {
        "colab": {
          "base_uri": "https://localhost:8080/"
        },
        "id": "j4HJJXzPdA64",
        "outputId": "a89f61f6-e77f-4b41-d845-4f60b3fbaaaf"
      },
      "source": [
        "full_vendas[full_vendas[\"ID_CLIENTE\"].isin(cliente_1k.index)][\"NIVEL 3\"].value_counts(True).head(7)"
      ],
      "execution_count": null,
      "outputs": [
        {
          "output_type": "execute_result",
          "data": {
            "text/plain": [
              "RACOES                      0.264614\n",
              "BOMBAS E CONDICIONADORES    0.124702\n",
              "                            0.118288\n",
              "DECORACAO E ILUMINACAO      0.088510\n",
              "HIGIENE E LIMPEZA           0.069635\n",
              "PETISCOS E OSSINHOS         0.056350\n",
              "BRINQUEDOS                  0.042514\n",
              "Name: NIVEL 3, dtype: float64"
            ]
          },
          "metadata": {
            "tags": []
          },
          "execution_count": 199
        }
      ]
    },
    {
      "cell_type": "markdown",
      "metadata": {
        "id": "0d6uMDMURQlX"
      },
      "source": [
        "## cluster: **2** (8% dos clientes)\n",
        "\n",
        "1.   **47% não preencheram** o campo SEXO, mais **mulheres (34%)** do que homens (19%)\n",
        "2.   Maior parte são **velhos**\n",
        "3.   compras distribuidas ao longo dos dias uteis, concentração sabado e poucos aos domingos\n",
        "4.   **19%** compram mais aos fins de semanas\n",
        "5.   **24%** vieram comprar **acessorios**\n",
        "6.   cerca de **5%** de clientes **online**\n",
        "7.   **72%** CAES e **21%** GATOS\n",
        "8.   **perfil compra:** 98% donos de canil e 2% cliente fidelidade\n",
        "**produtos:**\n",
        "```\n",
        "Nivel 2\n",
        "ALIMENTOS                0.527029\n",
        "ACESSORIOS               0.173150\n",
        "FARMACIA                 0.122116\n",
        "HIGIENE E BELEZA         0.168547\n",
        "```\n",
        "```\n",
        "Nivel 4\n",
        "RACAO SECA                       0.181360\n",
        "RACAO UMIDA (SACHES E LATAS)     0.148498\n",
        "BISCOITOS - BIFINHOS - SNACKS    0.083551\n",
        "                                 0.069706\n",
        "TAPETES HIGIENICOS               0.046186\n",
        "```\n",
        "**interepretação:**\n",
        "*    maioria são clientes **mulheres** na faixa dos **40-70 anos** que fazem **grandes compras**, tem interesse em **alimentos** para **CAES**, pouco interesse no setor de **acessorios** e ainda não fazem muito uso das compras **online**\n",
        "*    acho que são clientes que ja estão bem estabelecidos como clientes\n",
        "\n",
        "**propostas:**\n",
        "*   percebe-se uma disponibilidade maior ao longo da semana (compras em dias uteis)\n",
        "> uma forma de se agradar e tenta aliviar um pouco a carga aos sabados seriam os feirões com promoções de artigos especificos em determinado dia, ex: 4ª feira da ração\n",
        "*   promoções como acumular milhas / pontos é uma boa forma de recompensar os clientes que compram muito\n",
        "*   alem do que ja foi mencionado em *perfil compra: dono de canil*"
      ]
    },
    {
      "cell_type": "code",
      "metadata": {
        "colab": {
          "base_uri": "https://localhost:8080/",
          "height": 314
        },
        "id": "jz429weKRT7k",
        "outputId": "043ef1cd-7825-4642-bf6d-5bbdd652f63a"
      },
      "source": [
        "cliente_2k = final_clientes[final_clientes[\"cluster\"] == 2]\n",
        "cliente_2k.head()"
      ],
      "execution_count": null,
      "outputs": [
        {
          "output_type": "execute_result",
          "data": {
            "text/html": [
              "<div>\n",
              "<style scoped>\n",
              "    .dataframe tbody tr th:only-of-type {\n",
              "        vertical-align: middle;\n",
              "    }\n",
              "\n",
              "    .dataframe tbody tr th {\n",
              "        vertical-align: top;\n",
              "    }\n",
              "\n",
              "    .dataframe thead th {\n",
              "        text-align: right;\n",
              "    }\n",
              "</style>\n",
              "<table border=\"1\" class=\"dataframe\">\n",
              "  <thead>\n",
              "    <tr style=\"text-align: right;\">\n",
              "      <th></th>\n",
              "      <th>SEXO</th>\n",
              "      <th>DATA_NASCIMENTO</th>\n",
              "      <th>PRIMEIRA_COMPRA</th>\n",
              "      <th>IDADE_CAT</th>\n",
              "      <th>QUANTIDADE</th>\n",
              "      <th>online</th>\n",
              "      <th>Wednesday</th>\n",
              "      <th>Friday</th>\n",
              "      <th>Monday</th>\n",
              "      <th>Tuesday</th>\n",
              "      <th>Thursday</th>\n",
              "      <th>Saturday</th>\n",
              "      <th>Sunday</th>\n",
              "      <th>CAES</th>\n",
              "      <th>ROEDORES</th>\n",
              "      <th>GATOS</th>\n",
              "      <th>AVES</th>\n",
              "      <th>PEIXES</th>\n",
              "      <th>PESSOAS</th>\n",
              "      <th>ALIMENTOS</th>\n",
              "      <th>ACESSORIOS</th>\n",
              "      <th>FARMACIA</th>\n",
              "      <th>HIGIENE E BELEZA</th>\n",
              "      <th>AQUARIOS E ACESSORIOS</th>\n",
              "      <th>ANIMAL VIVO</th>\n",
              "      <th>CASA</th>\n",
              "      <th>weekend</th>\n",
              "      <th>perfil_compra</th>\n",
              "      <th>perfil_acessorio</th>\n",
              "      <th>cluster</th>\n",
              "      <th>PCA1</th>\n",
              "      <th>PCA2</th>\n",
              "    </tr>\n",
              "    <tr>\n",
              "      <th>ID_CLIENTE</th>\n",
              "      <th></th>\n",
              "      <th></th>\n",
              "      <th></th>\n",
              "      <th></th>\n",
              "      <th></th>\n",
              "      <th></th>\n",
              "      <th></th>\n",
              "      <th></th>\n",
              "      <th></th>\n",
              "      <th></th>\n",
              "      <th></th>\n",
              "      <th></th>\n",
              "      <th></th>\n",
              "      <th></th>\n",
              "      <th></th>\n",
              "      <th></th>\n",
              "      <th></th>\n",
              "      <th></th>\n",
              "      <th></th>\n",
              "      <th></th>\n",
              "      <th></th>\n",
              "      <th></th>\n",
              "      <th></th>\n",
              "      <th></th>\n",
              "      <th></th>\n",
              "      <th></th>\n",
              "      <th></th>\n",
              "      <th></th>\n",
              "      <th></th>\n",
              "      <th></th>\n",
              "      <th></th>\n",
              "      <th></th>\n",
              "    </tr>\n",
              "  </thead>\n",
              "  <tbody>\n",
              "    <tr>\n",
              "      <th>36010</th>\n",
              "      <td>feminino</td>\n",
              "      <td>NaT</td>\n",
              "      <td>2020-05-16</td>\n",
              "      <td>NaN</td>\n",
              "      <td>810.0</td>\n",
              "      <td>1</td>\n",
              "      <td>29</td>\n",
              "      <td>18</td>\n",
              "      <td>20</td>\n",
              "      <td>25</td>\n",
              "      <td>15</td>\n",
              "      <td>37</td>\n",
              "      <td>3</td>\n",
              "      <td>44</td>\n",
              "      <td>0</td>\n",
              "      <td>103</td>\n",
              "      <td>0</td>\n",
              "      <td>0</td>\n",
              "      <td>0</td>\n",
              "      <td>82</td>\n",
              "      <td>38</td>\n",
              "      <td>1</td>\n",
              "      <td>26</td>\n",
              "      <td>0</td>\n",
              "      <td>0</td>\n",
              "      <td>0</td>\n",
              "      <td>False</td>\n",
              "      <td>dono do canil</td>\n",
              "      <td>False</td>\n",
              "      <td>2</td>\n",
              "      <td>18.230170</td>\n",
              "      <td>-5.095538</td>\n",
              "    </tr>\n",
              "    <tr>\n",
              "      <th>32703</th>\n",
              "      <td>feminino</td>\n",
              "      <td>NaT</td>\n",
              "      <td>2020-03-11</td>\n",
              "      <td>NaN</td>\n",
              "      <td>809.0</td>\n",
              "      <td>0</td>\n",
              "      <td>21</td>\n",
              "      <td>39</td>\n",
              "      <td>13</td>\n",
              "      <td>46</td>\n",
              "      <td>37</td>\n",
              "      <td>27</td>\n",
              "      <td>0</td>\n",
              "      <td>51</td>\n",
              "      <td>0</td>\n",
              "      <td>132</td>\n",
              "      <td>0</td>\n",
              "      <td>0</td>\n",
              "      <td>0</td>\n",
              "      <td>123</td>\n",
              "      <td>1</td>\n",
              "      <td>28</td>\n",
              "      <td>31</td>\n",
              "      <td>0</td>\n",
              "      <td>0</td>\n",
              "      <td>0</td>\n",
              "      <td>False</td>\n",
              "      <td>dono do canil</td>\n",
              "      <td>True</td>\n",
              "      <td>2</td>\n",
              "      <td>21.609636</td>\n",
              "      <td>-6.823534</td>\n",
              "    </tr>\n",
              "    <tr>\n",
              "      <th>38242</th>\n",
              "      <td>feminino</td>\n",
              "      <td>NaT</td>\n",
              "      <td>2020-11-13</td>\n",
              "      <td>NaN</td>\n",
              "      <td>742.0</td>\n",
              "      <td>0</td>\n",
              "      <td>31</td>\n",
              "      <td>23</td>\n",
              "      <td>26</td>\n",
              "      <td>10</td>\n",
              "      <td>18</td>\n",
              "      <td>16</td>\n",
              "      <td>9</td>\n",
              "      <td>61</td>\n",
              "      <td>1</td>\n",
              "      <td>70</td>\n",
              "      <td>0</td>\n",
              "      <td>0</td>\n",
              "      <td>1</td>\n",
              "      <td>105</td>\n",
              "      <td>7</td>\n",
              "      <td>1</td>\n",
              "      <td>19</td>\n",
              "      <td>0</td>\n",
              "      <td>0</td>\n",
              "      <td>1</td>\n",
              "      <td>False</td>\n",
              "      <td>dono do canil</td>\n",
              "      <td>True</td>\n",
              "      <td>2</td>\n",
              "      <td>15.321088</td>\n",
              "      <td>-4.302022</td>\n",
              "    </tr>\n",
              "    <tr>\n",
              "      <th>60916</th>\n",
              "      <td>feminino</td>\n",
              "      <td>1965-03-06</td>\n",
              "      <td>2020-12-12</td>\n",
              "      <td>Muito velho</td>\n",
              "      <td>730.0</td>\n",
              "      <td>0</td>\n",
              "      <td>27</td>\n",
              "      <td>64</td>\n",
              "      <td>95</td>\n",
              "      <td>22</td>\n",
              "      <td>15</td>\n",
              "      <td>30</td>\n",
              "      <td>10</td>\n",
              "      <td>171</td>\n",
              "      <td>0</td>\n",
              "      <td>92</td>\n",
              "      <td>0</td>\n",
              "      <td>0</td>\n",
              "      <td>0</td>\n",
              "      <td>210</td>\n",
              "      <td>0</td>\n",
              "      <td>36</td>\n",
              "      <td>17</td>\n",
              "      <td>0</td>\n",
              "      <td>0</td>\n",
              "      <td>0</td>\n",
              "      <td>False</td>\n",
              "      <td>dono do canil</td>\n",
              "      <td>True</td>\n",
              "      <td>2</td>\n",
              "      <td>28.788057</td>\n",
              "      <td>-8.902413</td>\n",
              "    </tr>\n",
              "    <tr>\n",
              "      <th>40951</th>\n",
              "      <td>feminino</td>\n",
              "      <td>1955-07-09</td>\n",
              "      <td>2020-08-20</td>\n",
              "      <td>Muito velho</td>\n",
              "      <td>730.0</td>\n",
              "      <td>0</td>\n",
              "      <td>11</td>\n",
              "      <td>16</td>\n",
              "      <td>0</td>\n",
              "      <td>7</td>\n",
              "      <td>21</td>\n",
              "      <td>68</td>\n",
              "      <td>0</td>\n",
              "      <td>7</td>\n",
              "      <td>0</td>\n",
              "      <td>114</td>\n",
              "      <td>0</td>\n",
              "      <td>0</td>\n",
              "      <td>2</td>\n",
              "      <td>116</td>\n",
              "      <td>2</td>\n",
              "      <td>0</td>\n",
              "      <td>5</td>\n",
              "      <td>0</td>\n",
              "      <td>0</td>\n",
              "      <td>0</td>\n",
              "      <td>True</td>\n",
              "      <td>dono do canil</td>\n",
              "      <td>True</td>\n",
              "      <td>2</td>\n",
              "      <td>11.678157</td>\n",
              "      <td>-3.507005</td>\n",
              "    </tr>\n",
              "  </tbody>\n",
              "</table>\n",
              "</div>"
            ],
            "text/plain": [
              "                SEXO DATA_NASCIMENTO  ...       PCA1      PCA2\n",
              "ID_CLIENTE                            ...                     \n",
              "36010       feminino             NaT  ...  18.230170 -5.095538\n",
              "32703       feminino             NaT  ...  21.609636 -6.823534\n",
              "38242       feminino             NaT  ...  15.321088 -4.302022\n",
              "60916       feminino      1965-03-06  ...  28.788057 -8.902413\n",
              "40951       feminino      1955-07-09  ...  11.678157 -3.507005\n",
              "\n",
              "[5 rows x 32 columns]"
            ]
          },
          "metadata": {
            "tags": []
          },
          "execution_count": 179
        }
      ]
    },
    {
      "cell_type": "code",
      "metadata": {
        "colab": {
          "base_uri": "https://localhost:8080/"
        },
        "id": "K-fN_dU5S8tL",
        "outputId": "44ea45a9-64e3-4e54-b207-3108aefbc751"
      },
      "source": [
        "cliente_2k.perfil_compra.value_counts(True, False)"
      ],
      "execution_count": null,
      "outputs": [
        {
          "output_type": "execute_result",
          "data": {
            "text/plain": [
              "one-time              0.000000\n",
              "sazonal               0.000000\n",
              "regular               0.000197\n",
              "cliente fidelidade    0.018350\n",
              "dono do canil         0.981452\n",
              "Name: perfil_compra, dtype: float64"
            ]
          },
          "metadata": {
            "tags": []
          },
          "execution_count": 180
        }
      ]
    },
    {
      "cell_type": "code",
      "metadata": {
        "colab": {
          "base_uri": "https://localhost:8080/"
        },
        "id": "sIfQcVxtRZHZ",
        "outputId": "c4fb4d9f-b09e-40cf-984e-1af159af2022"
      },
      "source": [
        "cliente_2k.SEXO.value_counts(True)"
      ],
      "execution_count": null,
      "outputs": [
        {
          "output_type": "execute_result",
          "data": {
            "text/plain": [
              "vazio        0.471784\n",
              "feminino     0.339779\n",
              "masculino    0.188437\n",
              "Name: SEXO, dtype: float64"
            ]
          },
          "metadata": {
            "tags": []
          },
          "execution_count": 181
        }
      ]
    },
    {
      "cell_type": "code",
      "metadata": {
        "colab": {
          "base_uri": "https://localhost:8080/"
        },
        "id": "_QDccPRnRccn",
        "outputId": "7b8ee578-5759-4c33-cb28-996fb158fe36"
      },
      "source": [
        "cliente_2k.IDADE_CAT.value_counts(True,False)"
      ],
      "execution_count": null,
      "outputs": [
        {
          "output_type": "execute_result",
          "data": {
            "text/plain": [
              "Muito velho    0.214768\n",
              "Velho          0.233508\n",
              "Adulto         0.213643\n",
              "Adulto Novo    0.187781\n",
              "Jovem          0.150300\n",
              "Name: IDADE_CAT, dtype: float64"
            ]
          },
          "metadata": {
            "tags": []
          },
          "execution_count": 182
        }
      ]
    },
    {
      "cell_type": "code",
      "metadata": {
        "colab": {
          "base_uri": "https://localhost:8080/"
        },
        "id": "kjo5vjWtRe6Q",
        "outputId": "fd914518-1890-4ae7-fe8e-0ba4cfb2156c"
      },
      "source": [
        "cliente_2k.online.value_counts(True)"
      ],
      "execution_count": null,
      "outputs": [
        {
          "output_type": "execute_result",
          "data": {
            "text/plain": [
              "0    0.952841\n",
              "1    0.047159\n",
              "Name: online, dtype: float64"
            ]
          },
          "metadata": {
            "tags": []
          },
          "execution_count": 183
        }
      ]
    },
    {
      "cell_type": "code",
      "metadata": {
        "colab": {
          "base_uri": "https://localhost:8080/"
        },
        "id": "2I_DRtb9RhfV",
        "outputId": "cd268d8b-8e43-446f-eace-66a76190abb1"
      },
      "source": [
        "cliente_2k.perfil_acessorio.value_counts(True)"
      ],
      "execution_count": null,
      "outputs": [
        {
          "output_type": "execute_result",
          "data": {
            "text/plain": [
              "False    0.756709\n",
              "True     0.243291\n",
              "Name: perfil_acessorio, dtype: float64"
            ]
          },
          "metadata": {
            "tags": []
          },
          "execution_count": 184
        }
      ]
    },
    {
      "cell_type": "code",
      "metadata": {
        "colab": {
          "base_uri": "https://localhost:8080/"
        },
        "id": "omq-4kegRkPE",
        "outputId": "7e9d7e85-a1bc-4b3f-febd-ae3ad973ebf1"
      },
      "source": [
        "cliente_2k.weekend.value_counts(True)"
      ],
      "execution_count": null,
      "outputs": [
        {
          "output_type": "execute_result",
          "data": {
            "text/plain": [
              "False    0.810773\n",
              "True     0.189227\n",
              "Name: weekend, dtype: float64"
            ]
          },
          "metadata": {
            "tags": []
          },
          "execution_count": 185
        }
      ]
    },
    {
      "cell_type": "code",
      "metadata": {
        "colab": {
          "base_uri": "https://localhost:8080/"
        },
        "id": "PHnChECtRmYp",
        "outputId": "3f6bb9b1-601b-49a3-8d38-6819c94aeeda"
      },
      "source": [
        "cliente_2k[animais].sum() / cliente_2k[animais].sum().sum()"
      ],
      "execution_count": null,
      "outputs": [
        {
          "output_type": "execute_result",
          "data": {
            "text/plain": [
              "CAES        0.718428\n",
              "ROEDORES    0.020815\n",
              "GATOS       0.212324\n",
              "AVES        0.021623\n",
              "PEIXES      0.003623\n",
              "PESSOAS     0.023187\n",
              "dtype: float64"
            ]
          },
          "metadata": {
            "tags": []
          },
          "execution_count": 186
        }
      ]
    },
    {
      "cell_type": "code",
      "metadata": {
        "colab": {
          "base_uri": "https://localhost:8080/"
        },
        "id": "rCvRlvrtRsQK",
        "outputId": "6d926ae7-fab9-4b56-9c42-8856f786cf1c"
      },
      "source": [
        "cliente_2k[week].sum() / cliente_2k[week].sum().sum()"
      ],
      "execution_count": null,
      "outputs": [
        {
          "output_type": "execute_result",
          "data": {
            "text/plain": [
              "Wednesday    0.139379\n",
              "Friday       0.142203\n",
              "Monday       0.132710\n",
              "Tuesday      0.138816\n",
              "Thursday     0.148851\n",
              "Saturday     0.189960\n",
              "Sunday       0.108081\n",
              "dtype: float64"
            ]
          },
          "metadata": {
            "tags": []
          },
          "execution_count": 187
        }
      ]
    },
    {
      "cell_type": "code",
      "metadata": {
        "colab": {
          "base_uri": "https://localhost:8080/"
        },
        "id": "pPprzqLERuph",
        "outputId": "c1242cfd-f32b-4140-976f-290d8acac908"
      },
      "source": [
        "cliente_2k[produtos].sum() / cliente_2k[produtos].sum().sum()"
      ],
      "execution_count": null,
      "outputs": [
        {
          "output_type": "execute_result",
          "data": {
            "text/plain": [
              "ALIMENTOS                0.527029\n",
              "ACESSORIOS               0.173150\n",
              "FARMACIA                 0.122116\n",
              "HIGIENE E BELEZA         0.168547\n",
              "AQUARIOS E ACESSORIOS    0.001475\n",
              "ANIMAL VIVO              0.002221\n",
              "CASA                     0.005463\n",
              "dtype: float64"
            ]
          },
          "metadata": {
            "tags": []
          },
          "execution_count": 188
        }
      ]
    },
    {
      "cell_type": "code",
      "metadata": {
        "colab": {
          "base_uri": "https://localhost:8080/"
        },
        "id": "LUZTY9hFcMKg",
        "outputId": "d39e6fbf-0b85-421c-f3d5-89fc05a30417"
      },
      "source": [
        "cliente_2k.index"
      ],
      "execution_count": null,
      "outputs": [
        {
          "output_type": "execute_result",
          "data": {
            "text/plain": [
              "Int64Index([36010, 32703, 38242, 60916, 40951, 49325, 33915, 34277, 21340,\n",
              "            32867,\n",
              "            ...\n",
              "            76233, 48588, 49739, 51769,  8408, 46936, 66902, 21207, 63528,\n",
              "            78562],\n",
              "           dtype='int64', name='ID_CLIENTE', length=5068)"
            ]
          },
          "metadata": {
            "tags": []
          },
          "execution_count": 190
        }
      ]
    },
    {
      "cell_type": "code",
      "metadata": {
        "colab": {
          "base_uri": "https://localhost:8080/"
        },
        "id": "cYeG7wcJcLjY",
        "outputId": "45a1f4df-5ffb-4c40-d306-4c879347c466"
      },
      "source": [
        "full_vendas[full_vendas[\"ID_CLIENTE\"].isin(cliente_2k.index)][\"NIVEL 4\"].value_counts(True).head(7)"
      ],
      "execution_count": null,
      "outputs": [
        {
          "output_type": "execute_result",
          "data": {
            "text/plain": [
              "RACAO SECA                       0.181360\n",
              "RACAO UMIDA (SACHES E LATAS)     0.148498\n",
              "BISCOITOS - BIFINHOS - SNACKS    0.083551\n",
              "                                 0.069706\n",
              "TAPETES HIGIENICOS               0.046186\n",
              "OSSINHOS E PALITOS               0.041359\n",
              "AREIAS E GRANULADOS              0.039722\n",
              "Name: NIVEL 4, dtype: float64"
            ]
          },
          "metadata": {
            "tags": []
          },
          "execution_count": 197
        }
      ]
    },
    {
      "cell_type": "markdown",
      "metadata": {
        "id": "_fqLySWtUkpn"
      },
      "source": [
        "## cluster: **3** (83% dos clientes)\n",
        "\n",
        "1.   **44% não preencheram** o campo SEXO, mais **mulheres (33%)** do que homens (23%)\n",
        "2.   Idade bem distribuida\n",
        "3.   compras distribuidas ao longo dos dias uteis, concentração sabado e poucos aos domingos\n",
        "4.   **26%** compram mais aos fins de semanas\n",
        "5.   **46%** vieram comprar **acessorios**\n",
        "6.   cerca de **0%** de clientes **online**\n",
        "7.   **76%** CAES e **16%** GATOS\n",
        "8.   **perfil compra:** bem distribuido, maioria **one-time** (29,5%)\n",
        "**produtos:**\n",
        "```\n",
        "ALIMENTOS                0.521372\n",
        "ACESSORIOS               0.184167\n",
        "FARMACIA                 0.129218\n",
        "HIGIENE E BELEZA         0.154759\n",
        "```\n",
        "**interepretação:**\n",
        "*    perfil bem esparço, por isso acho dificil uma proposta que mire especificamente nesse grupo\n",
        "*    ainda não fazem muito uso das compras **online** "
      ]
    },
    {
      "cell_type": "code",
      "metadata": {
        "colab": {
          "base_uri": "https://localhost:8080/"
        },
        "id": "ZaWFaFgCUoT2",
        "outputId": "274a0236-fa17-43e7-c661-35af32424bbe"
      },
      "source": [
        "cliente_3k = final_clientes[final_clientes[\"cluster\"] == 3]\n",
        "cliente_3k.head()"
      ],
      "execution_count": null,
      "outputs": [
        {
          "output_type": "execute_result",
          "data": {
            "text/html": [
              "<div>\n",
              "<style scoped>\n",
              "    .dataframe tbody tr th:only-of-type {\n",
              "        vertical-align: middle;\n",
              "    }\n",
              "\n",
              "    .dataframe tbody tr th {\n",
              "        vertical-align: top;\n",
              "    }\n",
              "\n",
              "    .dataframe thead th {\n",
              "        text-align: right;\n",
              "    }\n",
              "</style>\n",
              "<table border=\"1\" class=\"dataframe\">\n",
              "  <thead>\n",
              "    <tr style=\"text-align: right;\">\n",
              "      <th></th>\n",
              "      <th>SEXO</th>\n",
              "      <th>DATA_NASCIMENTO</th>\n",
              "      <th>PRIMEIRA_COMPRA</th>\n",
              "      <th>IDADE_CAT</th>\n",
              "      <th>QUANTIDADE</th>\n",
              "      <th>online</th>\n",
              "      <th>Wednesday</th>\n",
              "      <th>Friday</th>\n",
              "      <th>Monday</th>\n",
              "      <th>Tuesday</th>\n",
              "      <th>Thursday</th>\n",
              "      <th>Saturday</th>\n",
              "      <th>Sunday</th>\n",
              "      <th>CAES</th>\n",
              "      <th>ROEDORES</th>\n",
              "      <th>GATOS</th>\n",
              "      <th>AVES</th>\n",
              "      <th>PEIXES</th>\n",
              "      <th>PESSOAS</th>\n",
              "      <th>ALIMENTOS</th>\n",
              "      <th>ACESSORIOS</th>\n",
              "      <th>FARMACIA</th>\n",
              "      <th>HIGIENE E BELEZA</th>\n",
              "      <th>AQUARIOS E ACESSORIOS</th>\n",
              "      <th>ANIMAL VIVO</th>\n",
              "      <th>CASA</th>\n",
              "      <th>weekend</th>\n",
              "      <th>perfil_compra</th>\n",
              "      <th>perfil_acessorio</th>\n",
              "      <th>cluster</th>\n",
              "      <th>PCA1</th>\n",
              "      <th>PCA2</th>\n",
              "    </tr>\n",
              "    <tr>\n",
              "      <th>ID_CLIENTE</th>\n",
              "      <th></th>\n",
              "      <th></th>\n",
              "      <th></th>\n",
              "      <th></th>\n",
              "      <th></th>\n",
              "      <th></th>\n",
              "      <th></th>\n",
              "      <th></th>\n",
              "      <th></th>\n",
              "      <th></th>\n",
              "      <th></th>\n",
              "      <th></th>\n",
              "      <th></th>\n",
              "      <th></th>\n",
              "      <th></th>\n",
              "      <th></th>\n",
              "      <th></th>\n",
              "      <th></th>\n",
              "      <th></th>\n",
              "      <th></th>\n",
              "      <th></th>\n",
              "      <th></th>\n",
              "      <th></th>\n",
              "      <th></th>\n",
              "      <th></th>\n",
              "      <th></th>\n",
              "      <th></th>\n",
              "      <th></th>\n",
              "      <th></th>\n",
              "      <th></th>\n",
              "      <th></th>\n",
              "      <th></th>\n",
              "    </tr>\n",
              "  </thead>\n",
              "  <tbody>\n",
              "    <tr>\n",
              "      <th>9206</th>\n",
              "      <td>vazio</td>\n",
              "      <td>NaT</td>\n",
              "      <td>2018-03-11</td>\n",
              "      <td>NaN</td>\n",
              "      <td>239.0</td>\n",
              "      <td>0</td>\n",
              "      <td>1</td>\n",
              "      <td>4</td>\n",
              "      <td>2</td>\n",
              "      <td>2</td>\n",
              "      <td>2</td>\n",
              "      <td>11</td>\n",
              "      <td>5</td>\n",
              "      <td>3</td>\n",
              "      <td>0</td>\n",
              "      <td>22</td>\n",
              "      <td>0</td>\n",
              "      <td>0</td>\n",
              "      <td>2</td>\n",
              "      <td>26</td>\n",
              "      <td>0</td>\n",
              "      <td>0</td>\n",
              "      <td>1</td>\n",
              "      <td>0</td>\n",
              "      <td>0</td>\n",
              "      <td>0</td>\n",
              "      <td>True</td>\n",
              "      <td>dono do canil</td>\n",
              "      <td>True</td>\n",
              "      <td>3</td>\n",
              "      <td>2.016348</td>\n",
              "      <td>-0.716320</td>\n",
              "    </tr>\n",
              "    <tr>\n",
              "      <th>76354</th>\n",
              "      <td>masculino</td>\n",
              "      <td>1984-01-13</td>\n",
              "      <td>2021-03-24</td>\n",
              "      <td>Adulto</td>\n",
              "      <td>208.0</td>\n",
              "      <td>0</td>\n",
              "      <td>9</td>\n",
              "      <td>0</td>\n",
              "      <td>3</td>\n",
              "      <td>0</td>\n",
              "      <td>0</td>\n",
              "      <td>6</td>\n",
              "      <td>0</td>\n",
              "      <td>1</td>\n",
              "      <td>0</td>\n",
              "      <td>17</td>\n",
              "      <td>0</td>\n",
              "      <td>0</td>\n",
              "      <td>0</td>\n",
              "      <td>13</td>\n",
              "      <td>0</td>\n",
              "      <td>0</td>\n",
              "      <td>5</td>\n",
              "      <td>0</td>\n",
              "      <td>0</td>\n",
              "      <td>0</td>\n",
              "      <td>False</td>\n",
              "      <td>dono do canil</td>\n",
              "      <td>True</td>\n",
              "      <td>3</td>\n",
              "      <td>0.895034</td>\n",
              "      <td>-0.533941</td>\n",
              "    </tr>\n",
              "    <tr>\n",
              "      <th>37060</th>\n",
              "      <td>vazio</td>\n",
              "      <td>NaT</td>\n",
              "      <td>2020-05-30</td>\n",
              "      <td>NaN</td>\n",
              "      <td>173.0</td>\n",
              "      <td>0</td>\n",
              "      <td>4</td>\n",
              "      <td>0</td>\n",
              "      <td>11</td>\n",
              "      <td>0</td>\n",
              "      <td>0</td>\n",
              "      <td>3</td>\n",
              "      <td>5</td>\n",
              "      <td>2</td>\n",
              "      <td>0</td>\n",
              "      <td>21</td>\n",
              "      <td>0</td>\n",
              "      <td>0</td>\n",
              "      <td>0</td>\n",
              "      <td>22</td>\n",
              "      <td>1</td>\n",
              "      <td>0</td>\n",
              "      <td>0</td>\n",
              "      <td>0</td>\n",
              "      <td>0</td>\n",
              "      <td>0</td>\n",
              "      <td>False</td>\n",
              "      <td>dono do canil</td>\n",
              "      <td>True</td>\n",
              "      <td>3</td>\n",
              "      <td>0.939074</td>\n",
              "      <td>-0.532753</td>\n",
              "    </tr>\n",
              "    <tr>\n",
              "      <th>15966</th>\n",
              "      <td>feminino</td>\n",
              "      <td>NaT</td>\n",
              "      <td>2019-04-13</td>\n",
              "      <td>NaN</td>\n",
              "      <td>169.0</td>\n",
              "      <td>0</td>\n",
              "      <td>8</td>\n",
              "      <td>2</td>\n",
              "      <td>3</td>\n",
              "      <td>3</td>\n",
              "      <td>1</td>\n",
              "      <td>6</td>\n",
              "      <td>3</td>\n",
              "      <td>8</td>\n",
              "      <td>0</td>\n",
              "      <td>18</td>\n",
              "      <td>0</td>\n",
              "      <td>0</td>\n",
              "      <td>0</td>\n",
              "      <td>23</td>\n",
              "      <td>0</td>\n",
              "      <td>1</td>\n",
              "      <td>2</td>\n",
              "      <td>0</td>\n",
              "      <td>0</td>\n",
              "      <td>0</td>\n",
              "      <td>False</td>\n",
              "      <td>dono do canil</td>\n",
              "      <td>True</td>\n",
              "      <td>3</td>\n",
              "      <td>1.454260</td>\n",
              "      <td>-0.702137</td>\n",
              "    </tr>\n",
              "    <tr>\n",
              "      <th>56657</th>\n",
              "      <td>masculino</td>\n",
              "      <td>1990-07-13</td>\n",
              "      <td>2020-11-18</td>\n",
              "      <td>Adulto Novo</td>\n",
              "      <td>163.0</td>\n",
              "      <td>0</td>\n",
              "      <td>7</td>\n",
              "      <td>3</td>\n",
              "      <td>0</td>\n",
              "      <td>2</td>\n",
              "      <td>4</td>\n",
              "      <td>0</td>\n",
              "      <td>4</td>\n",
              "      <td>20</td>\n",
              "      <td>0</td>\n",
              "      <td>0</td>\n",
              "      <td>0</td>\n",
              "      <td>0</td>\n",
              "      <td>0</td>\n",
              "      <td>20</td>\n",
              "      <td>0</td>\n",
              "      <td>0</td>\n",
              "      <td>0</td>\n",
              "      <td>0</td>\n",
              "      <td>0</td>\n",
              "      <td>0</td>\n",
              "      <td>False</td>\n",
              "      <td>dono do canil</td>\n",
              "      <td>True</td>\n",
              "      <td>3</td>\n",
              "      <td>0.651965</td>\n",
              "      <td>-0.444251</td>\n",
              "    </tr>\n",
              "  </tbody>\n",
              "</table>\n",
              "</div>"
            ],
            "text/plain": [
              "                 SEXO DATA_NASCIMENTO  ...      PCA1      PCA2\n",
              "ID_CLIENTE                             ...                    \n",
              "9206            vazio             NaT  ...  2.016348 -0.716320\n",
              "76354       masculino      1984-01-13  ...  0.895034 -0.533941\n",
              "37060           vazio             NaT  ...  0.939074 -0.532753\n",
              "15966        feminino             NaT  ...  1.454260 -0.702137\n",
              "56657       masculino      1990-07-13  ...  0.651965 -0.444251\n",
              "\n",
              "[5 rows x 32 columns]"
            ]
          },
          "metadata": {
            "tags": []
          },
          "execution_count": 169
        }
      ]
    },
    {
      "cell_type": "code",
      "metadata": {
        "colab": {
          "base_uri": "https://localhost:8080/"
        },
        "id": "zcylzCZXUqkN",
        "outputId": "12abd874-c4d2-43b1-b9b0-e93b1724b73e"
      },
      "source": [
        "cliente_3k.perfil_compra.value_counts(True, False)"
      ],
      "execution_count": null,
      "outputs": [
        {
          "output_type": "execute_result",
          "data": {
            "text/plain": [
              "one-time              0.295315\n",
              "sazonal               0.194607\n",
              "regular               0.177835\n",
              "cliente fidelidade    0.222080\n",
              "dono do canil         0.110164\n",
              "Name: perfil_compra, dtype: float64"
            ]
          },
          "metadata": {
            "tags": []
          },
          "execution_count": 170
        }
      ]
    },
    {
      "cell_type": "code",
      "metadata": {
        "colab": {
          "base_uri": "https://localhost:8080/"
        },
        "id": "H1l2WpxJU6JG",
        "outputId": "ab3ea4d3-c47f-42d0-cb1c-1cb7b0c485a9"
      },
      "source": [
        "cliente_3k.SEXO.value_counts(True)"
      ],
      "execution_count": null,
      "outputs": [
        {
          "output_type": "execute_result",
          "data": {
            "text/plain": [
              "vazio        0.443575\n",
              "feminino     0.327613\n",
              "masculino    0.228812\n",
              "Name: SEXO, dtype: float64"
            ]
          },
          "metadata": {
            "tags": []
          },
          "execution_count": 171
        }
      ]
    },
    {
      "cell_type": "code",
      "metadata": {
        "colab": {
          "base_uri": "https://localhost:8080/"
        },
        "id": "57mDIBwsU7pC",
        "outputId": "0496373b-73c4-4765-f197-5a27b2a11332"
      },
      "source": [
        "cliente_3k.IDADE_CAT.value_counts(True,False)"
      ],
      "execution_count": null,
      "outputs": [
        {
          "output_type": "execute_result",
          "data": {
            "text/plain": [
              "Muito velho    0.206514\n",
              "Velho          0.201353\n",
              "Adulto         0.200214\n",
              "Adulto Novo    0.197829\n",
              "Jovem          0.194091\n",
              "Name: IDADE_CAT, dtype: float64"
            ]
          },
          "metadata": {
            "tags": []
          },
          "execution_count": 172
        }
      ]
    },
    {
      "cell_type": "code",
      "metadata": {
        "colab": {
          "base_uri": "https://localhost:8080/"
        },
        "id": "nC0uNGsJVB9B",
        "outputId": "d8e57f30-4863-4fab-e586-69ec96e86948"
      },
      "source": [
        "cliente_3k.online.value_counts(True)"
      ],
      "execution_count": null,
      "outputs": [
        {
          "output_type": "execute_result",
          "data": {
            "text/plain": [
              "0    1.0\n",
              "Name: online, dtype: float64"
            ]
          },
          "metadata": {
            "tags": []
          },
          "execution_count": 173
        }
      ]
    },
    {
      "cell_type": "code",
      "metadata": {
        "colab": {
          "base_uri": "https://localhost:8080/"
        },
        "id": "IGZGy_aIVFq-",
        "outputId": "10e01b56-1ecf-41c3-d996-99acbc793e9a"
      },
      "source": [
        "cliente_3k.perfil_acessorio.value_counts(True)"
      ],
      "execution_count": null,
      "outputs": [
        {
          "output_type": "execute_result",
          "data": {
            "text/plain": [
              "False    0.544323\n",
              "True     0.455677\n",
              "Name: perfil_acessorio, dtype: float64"
            ]
          },
          "metadata": {
            "tags": []
          },
          "execution_count": 174
        }
      ]
    },
    {
      "cell_type": "code",
      "metadata": {
        "colab": {
          "base_uri": "https://localhost:8080/"
        },
        "id": "NonbPAHEVNUX",
        "outputId": "f56e10e2-9513-411f-b2f9-259d6d4624a2"
      },
      "source": [
        "cliente_3k.weekend.value_counts(True)"
      ],
      "execution_count": null,
      "outputs": [
        {
          "output_type": "execute_result",
          "data": {
            "text/plain": [
              "False    0.736322\n",
              "True     0.263678\n",
              "Name: weekend, dtype: float64"
            ]
          },
          "metadata": {
            "tags": []
          },
          "execution_count": 175
        }
      ]
    },
    {
      "cell_type": "code",
      "metadata": {
        "colab": {
          "base_uri": "https://localhost:8080/"
        },
        "id": "kQrfS_2-VPYj",
        "outputId": "fb55d46a-a59d-4ed1-e724-5280cd5ba841"
      },
      "source": [
        "cliente_3k[animais].sum() / cliente_3k[animais].sum().sum()"
      ],
      "execution_count": null,
      "outputs": [
        {
          "output_type": "execute_result",
          "data": {
            "text/plain": [
              "CAES        0.763895\n",
              "ROEDORES    0.022239\n",
              "GATOS       0.165882\n",
              "AVES        0.024573\n",
              "PEIXES      0.010953\n",
              "PESSOAS     0.012458\n",
              "dtype: float64"
            ]
          },
          "metadata": {
            "tags": []
          },
          "execution_count": 176
        }
      ]
    },
    {
      "cell_type": "code",
      "metadata": {
        "colab": {
          "base_uri": "https://localhost:8080/"
        },
        "id": "u_ZbvDKOVTQQ",
        "outputId": "77ea752e-ec2e-49cb-acf8-3a3c06e0759d"
      },
      "source": [
        "cliente_3k[week].sum() / cliente_3k[week].sum().sum()"
      ],
      "execution_count": null,
      "outputs": [
        {
          "output_type": "execute_result",
          "data": {
            "text/plain": [
              "Wednesday    0.137477\n",
              "Friday       0.140212\n",
              "Monday       0.132887\n",
              "Tuesday      0.139044\n",
              "Thursday     0.139839\n",
              "Saturday     0.199288\n",
              "Sunday       0.111253\n",
              "dtype: float64"
            ]
          },
          "metadata": {
            "tags": []
          },
          "execution_count": 177
        }
      ]
    },
    {
      "cell_type": "code",
      "metadata": {
        "colab": {
          "base_uri": "https://localhost:8080/"
        },
        "id": "38BUeDDtVX-8",
        "outputId": "ef6a5a70-b5b4-40a7-f171-a6f12ab7b362"
      },
      "source": [
        "cliente_3k[produtos].sum() / cliente_3k[produtos].sum().sum()"
      ],
      "execution_count": null,
      "outputs": [
        {
          "output_type": "execute_result",
          "data": {
            "text/plain": [
              "ALIMENTOS                0.521372\n",
              "ACESSORIOS               0.184167\n",
              "FARMACIA                 0.129218\n",
              "HIGIENE E BELEZA         0.154759\n",
              "AQUARIOS E ACESSORIOS    0.004759\n",
              "ANIMAL VIVO              0.003673\n",
              "CASA                     0.002052\n",
              "dtype: float64"
            ]
          },
          "metadata": {
            "tags": []
          },
          "execution_count": 0
        },
        {
          "output_type": "execute_result",
          "data": {
            "text/plain": [
              "ALIMENTOS                0.521372\n",
              "ACESSORIOS               0.184167\n",
              "FARMACIA                 0.129218\n",
              "HIGIENE E BELEZA         0.154759\n",
              "AQUARIOS E ACESSORIOS    0.004759\n",
              "ANIMAL VIVO              0.003673\n",
              "CASA                     0.002052\n",
              "dtype: float64"
            ]
          },
          "metadata": {
            "tags": []
          },
          "execution_count": 178
        }
      ]
    }
  ]
}