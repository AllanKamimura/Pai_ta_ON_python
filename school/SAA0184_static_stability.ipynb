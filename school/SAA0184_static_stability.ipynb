{
  "nbformat": 4,
  "nbformat_minor": 0,
  "metadata": {
    "colab": {
      "name": "SAA0184_static_stability.ipynb",
      "provenance": [],
      "collapsed_sections": [
        "urbtOUj_-dnj"
      ],
      "authorship_tag": "ABX9TyMFt2TvHnqFI6RO5IRnUdV4",
      "include_colab_link": true
    },
    "kernelspec": {
      "name": "python3",
      "display_name": "Python 3"
    },
    "language_info": {
      "name": "python"
    }
  },
  "cells": [
    {
      "cell_type": "markdown",
      "metadata": {
        "id": "view-in-github",
        "colab_type": "text"
      },
      "source": [
        "<a href=\"https://colab.research.google.com/github/AllanKamimura/Pai_ta_ON_python/blob/main/school/SAA0184_static_stability.ipynb\" target=\"_parent\"><img src=\"https://colab.research.google.com/assets/colab-badge.svg\" alt=\"Open In Colab\"/></a>"
      ]
    },
    {
      "cell_type": "code",
      "source": [
        "import numpy as np\n",
        "import matplotlib.pyplot as plt\n",
        "import seaborn as sns\n",
        "\n",
        "sns.set_theme(\"poster\")"
      ],
      "metadata": {
        "id": "Nb3eBGZxrB-S"
      },
      "execution_count": null,
      "outputs": []
    },
    {
      "cell_type": "markdown",
      "source": [
        "# Base Class"
      ],
      "metadata": {
        "id": "scHDoJMXcHhj"
      }
    },
    {
      "cell_type": "code",
      "source": [
        "class LiftSurface:\n",
        "    def __init__(self):\n",
        "        self.CM0         = 0\n",
        "        self.b           = np.sqrt(self.AR * self.S)\n",
        "        self.cma         = self.compute_mean_aerodynamic_chord()"
      ],
      "metadata": {
        "id": "JIitI_yRcMa7"
      },
      "execution_count": null,
      "outputs": []
    },
    {
      "cell_type": "markdown",
      "source": [
        "### compute_CL (LiftSurface)\n",
        "---\n",
        "\n",
        "given an angle of attack α, returns the Lift Coefficient of the Lift Surface\n",
        "\n",
        "<br>\n",
        "<center>\n",
        "$\n",
        "C_L = a_{surface} ⋅ (α + i_{surface} - \\alpha_{L0} - ϵ)\n",
        "$\n",
        "</center>\n",
        "<br>\n",
        "\n",
        "Variable      | name\n",
        "--------------|----\n",
        "$C_L        $ | Lift Surface's Lift coefficient \n",
        "$a_{surface}$ | Lift Surface's Line Angular coefficient\n",
        "$α          $ | Aircraft's Angle of Attack \n",
        "$i_{surface}$ | Lift Surface's Angle of Incidence \n",
        "$\\alpha_{L0}$ | Lift Surface's Zero Lift Angle\n",
        "$ϵ          $ | Lift Surface's Angle of Downwash"
      ],
      "metadata": {
        "id": "2dSA0UrWcm6g"
      }
    },
    {
      "cell_type": "code",
      "source": [
        "def compute_CL(self, alpha, epsilon = 0):\n",
        "    i         = self.alpha\n",
        "    alpha_L0  = self.alpha_L0\n",
        "    a         = self.cl_alpha\n",
        "\n",
        "    CL = a * (alpha + i - alpha_L0 - epsilon)\n",
        "\n",
        "    self.CL = CL\n",
        "\n",
        "    return CL\n",
        "    \n",
        "LiftSurface.compute_CL = compute_CL"
      ],
      "metadata": {
        "id": "wkjTmowmcQfM"
      },
      "execution_count": null,
      "outputs": []
    },
    {
      "cell_type": "markdown",
      "source": [
        "### compute_mean_aerodynamic_chord\n",
        "---\n",
        "given the wing's geometric features, returns the mean aerodynamic chord for a trapezoidal wing\n",
        "\n",
        "<br>\n",
        "<center>\n",
        "$\n",
        "C_R = \\frac{2}{(1 + λ)} \\cdot \\frac{S_w}{b_w}\n",
        "$\n",
        "</center>\n",
        "<br>\n",
        "<center>\n",
        "$\n",
        "c̄ = \\frac{2}{3} \\cdot C_R \\cdot \\frac{1 + λ + λ^2}{1+λ}\n",
        "$\n",
        "</center>\n",
        "<br>\n",
        "\n",
        "Variable      | name\n",
        "--------------|----\n",
        "$C_R        $ | Wing's Root Chord \n",
        "$S_w        $ | Wing's Area\n",
        "$b_w        $ | Wing's Span\n",
        "$λ          $ | Wing's Taper Ratio\n",
        "$c̄          $ | Wing's Mean Aerodynamic Chord"
      ],
      "metadata": {
        "id": "K9kJTXcvkk3S"
      }
    },
    {
      "cell_type": "code",
      "source": [
        "def compute_mean_aerodynamic_chord(self):\n",
        "    S_w     = self.S\n",
        "    bw      = self.b\n",
        "    lambda_ = self.taper_ratio\n",
        "    \n",
        "    cr  = 2 / (1 + lambda_) * (S_w / bw)\n",
        "    cma = 2/3 * cr * (1 + lambda_ + lambda_ ** 2) / (1 + lambda_)\n",
        "    \n",
        "    self.cma = cma\n",
        "\n",
        "    return cma\n",
        "\n",
        "LiftSurface.compute_mean_aerodynamic_chord = compute_mean_aerodynamic_chord"
      ],
      "metadata": {
        "id": "zovv99Pikl2K"
      },
      "execution_count": null,
      "outputs": []
    },
    {
      "cell_type": "markdown",
      "source": [
        "### compute_rotation_radius\n",
        "---\n",
        "given the point at which a force is applied, returns the moment arm with respect to the aircraft's center of gravity (CG)\n",
        "\n",
        "<br>\n",
        "<center>\n",
        "$\n",
        "r = x - x_{CG}\n",
        "$\n",
        "</center>\n",
        "<br>\n",
        "\n",
        "the following approximations are used:\n",
        "\n",
        "<br>\n",
        "<center>\n",
        "$\n",
        "α ≈ 0 ⇒ \n",
        "\\begin{cases} \n",
        "    sin(α) ≈ α ≈ 0 \\\\\n",
        "    cos(α) ≈ 1  \n",
        "\\end{cases}\n",
        "$\n",
        "<br><br>\n",
        "$\n",
        "D ≪ L ⇒ \n",
        "\\begin{cases} \n",
        "    Z = - L ⋅ cos(α) - D ⋅ sin(α)  ≈ -L \\\\\n",
        "    X = - L ⋅ sin(α) + D ⋅ cos(α)  ≈ 0 \n",
        "\\end{cases}\n",
        "$\n",
        "</center>\n",
        "<br>\n",
        "\n",
        "Thus, the rotation radius is computed on the x-axis alone\n",
        "\n",
        "<br>\n",
        "\n",
        "Variable      | name\n",
        "--------------|----\n",
        "$x          $ | x-axis position of force application\n",
        "$x_{CG}     $ | x-axis position of CG\n",
        "$α          $ | Angle of Attack\n",
        "$L          $ | Lift Force\n",
        "$D          $ | Drag Force\n",
        "$X          $ | Net Force in the x direction\n",
        "$Z          $ | Net Force in the z direction"
      ],
      "metadata": {
        "id": "3B19OBN1yZPo"
      }
    },
    {
      "cell_type": "code",
      "source": [
        "def compute_rotation_radius(self, position):\n",
        "    xcg, zcg = self.CG\n",
        "    x  , z   = position\n",
        "\n",
        "    r = (x - xcg)\n",
        "\n",
        "    self.r = r\n",
        "\n",
        "    return r\n",
        "\n",
        "LiftSurface.compute_rotation_radius = compute_rotation_radius"
      ],
      "metadata": {
        "id": "pF0fvFgEyhoa"
      },
      "execution_count": null,
      "outputs": []
    },
    {
      "cell_type": "markdown",
      "source": [
        "### compute_CM (LiftSurface)\n",
        "---\n",
        "\n",
        "given an angle of attack α and the CG position, returns the Pitching Moment Coefficient of the Lift Surface\n",
        "\n",
        "<br>\n",
        "<center>\n",
        "$\n",
        "C_M = C_{M0} + C_L ⋅ \\frac{r}{c}\n",
        "$\n",
        "</center>\n",
        "<br>\n",
        "\n",
        "Variable      | name\n",
        "--------------|----\n",
        "$C_M        $ | Lift Surface's Pitching Moment coefficient \n",
        "$C_{M0}     $ | Lift Surface's Pitching Moment zero-lift \n",
        "$C_L        $ | Lift Surface's Lift coefficient\n",
        "$r          $ | Rotation Radius \n",
        "$c          $ | Wing's Mean Aerodynamic Chord"
      ],
      "metadata": {
        "id": "A0B4Qu-JBq8E"
      }
    },
    {
      "cell_type": "code",
      "source": [
        "def compute_CM(self, alpha, position, c = 1):\n",
        "    CL  = self.CL\n",
        "    CM0 = self.CM0\n",
        "\n",
        "    r = self.compute_rotation_radius(position)\n",
        "    CM = CM0 + CL * (r / c)\n",
        "\n",
        "    self.CM  = CM\n",
        "\n",
        "    return CM\n",
        "    \n",
        "LiftSurface.compute_CM = compute_CM"
      ],
      "metadata": {
        "id": "iBCDF2XN1C2b"
      },
      "execution_count": null,
      "outputs": []
    },
    {
      "cell_type": "markdown",
      "source": [
        "# Aircraft Class"
      ],
      "metadata": {
        "id": "BjF1XqUhEVXj"
      }
    },
    {
      "cell_type": "code",
      "source": [
        "class Aircraft:\n",
        "    def __init__(self):\n",
        "        self.wing    = Wing()\n",
        "        self.tail    = Tail_h()\n",
        "        self.flycond = FlyCond()\n",
        "\n",
        "        self.alpha  = np.linspace(-10, 10, 30)\n",
        "        self.CG     = [7.89, 0] # (x, z)\n",
        "        self.mass   = 5400\n",
        "        self.eta    = 0.89\n",
        "        self.CM0    = 0"
      ],
      "metadata": {
        "id": "7Cw1ftWwEZ73"
      },
      "execution_count": null,
      "outputs": []
    },
    {
      "cell_type": "markdown",
      "source": [
        "### compute_downwash\n",
        "---\n",
        "\n",
        "given an angle of attack α, computes the downwash angle (effect caused by the wing on the horizontal tail), using the datcom approximation\n",
        "\n",
        "<br>\n",
        "<center>\n",
        "$\n",
        "{\\Large\n",
        "k_h = \\frac{1 - \\frac{z_t-z_w}{b}} {(2⋅\\frac{x_t-x_w}{b})^{\\frac{1}{3}}}\n",
        "}\n",
        "$\n",
        "</center>\n",
        "<br>\n",
        "<center>\n",
        "$\n",
        "k_λ = \\frac{10 - 3 ⋅ λ_w}{7}\n",
        "$\n",
        "</center>\n",
        "<br>\n",
        "<center>\n",
        "$\n",
        "k_{AR} = \\frac{1}{AR_w} - \\frac{1}{1 + AR_w^{1.7}}\n",
        "$\n",
        "</center>\n",
        "<br>\n",
        "\n",
        "---\n",
        "\n",
        "<br>\n",
        "<center>\n",
        "$\n",
        "\\frac{dε}{dα} = 4.44 ⋅ (k_h ⋅ k_λ ⋅ k_{AR} ⋅ \\sqrt{cosΛ})^{1.19}\n",
        "$\n",
        "</center>\n",
        "<br>\n",
        "<center>\n",
        "$\n",
        "ε_0 = - \\frac{dε}{dα} ⋅ (α_{L0} - α)\n",
        "$\n",
        "</center>\n",
        "<br>\n",
        "<center>\n",
        "$\n",
        "ε = ε_0 + \\frac{dε}{dα} ⋅ α\n",
        "$\n",
        "</center>\n",
        "<br>\n",
        "\n",
        "Variable             | name\n",
        "---------------------|----\n",
        "$x_t\\text{ and }z_t$ | Tail's CG position\n",
        "$x_w\\text{ and }z_w$ | Wing's CG position\n",
        "$b                 $ | Wing's Span\n",
        "$λ                 $ | Wing's Taper Ratio \n",
        "$Λ                 $ | Wing's Sweep Angle\n",
        "$α                 $ | Aircraft's Angle of Attack\n",
        "$α_{L0}            $ | Aircraft's zero Lift Angle\n",
        "$ε                 $ | Angle of Downwash\n"
      ],
      "metadata": {
        "id": "Em65muKtE7yp"
      }
    },
    {
      "cell_type": "code",
      "source": [
        "def compute_downwash(self, alpha):\n",
        "    xw, zw   = self.wing.CG\n",
        "    xt, zt   = self.tail.CG\n",
        "\n",
        "    bw       = self.wing.b\n",
        "    AR       = self.wing.AR\n",
        "    lambda_  = self.wing.taper_ratio\n",
        "    LAMBDA   = self.wing.sweep_angle\n",
        "    alpha_L0 = self.wing.alpha_L0\n",
        "    alpha    = self.wing.alpha\n",
        "\n",
        "    Kh = (1 - (zt - zw) / bw) / (2*(xt - xw) / bw) ** (1/3)\n",
        "    Kl = (10 - 3 * lambda_) / 7\n",
        "    KA = 1 / AR - 1 / (1 + AR ** 1.7)\n",
        "    deda = 4.44 * (Kh * Kl * KA * np.sqrt(np.cos(LAMBDA))) ** (1.19)\n",
        "\n",
        "    alpha_aux = (alpha_L0 - alpha)\n",
        "    epsilon0  = - deda * alpha_aux\n",
        "\n",
        "    print(\n",
        "        \"Downwash: \\n\\teps0 = {:.4f} \\n\\tdeda = {:.4f}\".format(\n",
        "            epsilon0, deda)\n",
        "        )\n",
        "\n",
        "    return epsilon0, deda\n",
        "\n",
        "Aircraft.compute_downwash = compute_downwash"
      ],
      "metadata": {
        "id": "qkE5VTKzE7ba"
      },
      "execution_count": null,
      "outputs": []
    },
    {
      "cell_type": "markdown",
      "source": [
        "### compute_CL (Aircraft)\n",
        "---\n",
        "\n",
        "given an angle of attack α, returns the Lift Coefficient of the aircraft\n",
        "\n",
        "<br>\n",
        "<center>\n",
        "$\n",
        "C_L = C_{L_w} + C_{L_t} ⋅ η ⋅ \\frac{S_t}{S_w}\n",
        "$\n",
        "</center>\n",
        "<br>\n",
        "\n",
        "Variable      | name\n",
        "--------------|----\n",
        "$C_L        $ | Aircraft's Lift coefficient \n",
        "$C_{L_w}    $ | Wing's Lift coefficient \n",
        "$C_{L_t}    $ | Tail's Lift coefficient \n",
        "$η          $ | $\\frac{U_t^2}{U_w^2}$\n",
        "$S_w        $ | Wing's Area\n",
        "$S_t        $ | Tail's Area \n",
        "$α          $ | Aircraft's Angle of Attack "
      ],
      "metadata": {
        "id": "7npwFrWkK-oB"
      }
    },
    {
      "cell_type": "code",
      "source": [
        "def compute_CL(self, alpha):\n",
        "    S_w = self.wing.S\n",
        "    S_t = self.tail.S\n",
        "    eta = self.eta\n",
        "\n",
        "    epsilon0, deda = self.compute_downwash(alpha)\n",
        "    epsilon = epsilon0 + deda * alpha\n",
        "\n",
        "    CL_w = self.wing.compute_CL(alpha)\n",
        "    CL_t = self.tail.compute_CL(alpha, epsilon)\n",
        "    CL = CL_w + CL_t * (S_t / S_w) * eta \n",
        "\n",
        "    self.deda     = deda\n",
        "    self.epsilon0 = epsilon0\n",
        "\n",
        "    self.CL       = CL\n",
        "    self.CL_alpha, self.CL0 = np.polyfit(alpha, CL, 1)\n",
        "\n",
        "    print(\n",
        "        \"CL: \\n\\tCL       = CL_alpha * alpha + CL0 \\n\\tCL_alpha = {:.4f} \\n\\tCL0      = {:.4f}\".format(\n",
        "            self.CL_alpha, self.CL0)\n",
        "        )\n",
        "    \n",
        "    return CL\n",
        "\n",
        "Aircraft.compute_CL = compute_CL"
      ],
      "metadata": {
        "id": "IzonK2jtLOIV"
      },
      "execution_count": null,
      "outputs": []
    },
    {
      "cell_type": "markdown",
      "source": [
        "### compute_CM (Aircraft)\n",
        "---\n",
        "\n",
        "given an angle of attack α, returns the Pitching Moment Coefficient of the aircraft\n",
        "\n",
        "<br>\n",
        "<center>\n",
        "$\n",
        "C_M = C_{M_0} + C_{M_w} + C_{M_t} ⋅ η ⋅ \\frac{S_t}{S_w}\n",
        "$\n",
        "</center>\n",
        "<br>\n",
        "\n",
        "Variable      | name\n",
        "--------------|----\n",
        "$C_M        $ | Aircraft's Pitching Moment coefficient \n",
        "$C_{M_0}    $ | Aircraft's Pitching Moment zero-lift  \n",
        "$C_{M_w}    $ | Wing's Pitching Moment coefficient \n",
        "$C_{M_t}    $ | Tail's Pitching Moment coefficient \n",
        "$η          $ | $\\frac{U_t^2}{U_w^2}$\n",
        "$S_w        $ | Wing's Area\n",
        "$S_t        $ | Tail's Area \n",
        "$α          $ | Aircraft's Angle of Attack "
      ],
      "metadata": {
        "id": "M1XOSHc6Mf3c"
      }
    },
    {
      "cell_type": "code",
      "source": [
        "def compute_CM(self, alpha, position = None):\n",
        "    S_t      = self.tail.S\n",
        "    S_w      = self.wing.S\n",
        "    cma      = self.wing.cma \n",
        "    eta      = self.eta\n",
        "    CM0      = self.CM0\n",
        "\n",
        "    if position == None:\n",
        "        position = self.CG\n",
        "\n",
        "    CM_w = self.wing.compute_CM(alpha, position, cma)\n",
        "    CM_t = self.tail.compute_CM(alpha, position, cma)\n",
        "\n",
        "    CM = CM0 + CM_w + CM_t * (S_t / S_w) * eta\n",
        "\n",
        "    self.CM = CM\n",
        "    self.CM_alpha, self.CM0 = np.polyfit(alpha, CM, 1)\n",
        "\n",
        "    print(\n",
        "        \"CM: \\n\\tCM       = CM_alpha * alpha + CM0 \\n\\tCM_alpha = {:.4f} \\n\\tCM0      = {:.4f}\".format(\n",
        "            self.CM_alpha, self.CM0)\n",
        "        )\n",
        "    \n",
        "    return CM\n",
        "\n",
        "Aircraft.compute_CM = compute_CM"
      ],
      "metadata": {
        "id": "GxsCXzgdMcg2"
      },
      "execution_count": null,
      "outputs": []
    },
    {
      "cell_type": "markdown",
      "source": [
        "### compute_xcp (Aircraft)\n",
        "---\n",
        "\n",
        "return the aircraft's center of pressure\n",
        "\n",
        "<br>\n",
        "<center>\n",
        "$\n",
        "x_{cp} = \\frac{x_{cg}}{c̄} - \\frac{C_M}{C_L}\n",
        "$\n",
        "</center>\n",
        "<br>\n",
        "\n",
        "Variable      | name\n",
        "--------------|----\n",
        "$x_{cp}      $ | Aircraft's center of pressure\n",
        "$x_{cg}      $ | Aircraft's CG \n",
        "$c̄           $ | Wing's Mean Aerodynamic Chord\n",
        "$C_M         $ | Aircraft's Pitching Moment Coefficient \n",
        "$C_L         $ | Aircraft's Lift Coefficient"
      ],
      "metadata": {
        "id": "Y-rFVPt6M_sT"
      }
    },
    {
      "cell_type": "code",
      "source": [
        "def compute_xcp(self):\n",
        "    cma      = self.wing.cma \n",
        "    xcg, zcg = self.CG\n",
        "    CL       = self.CL\n",
        "    CM       = self.CM\n",
        "\n",
        "    xcp = (xcg / cma) - (CM / CL)\n",
        "\n",
        "    self.xcp = xcp\n",
        "\n",
        "    return xcp\n",
        "\n",
        "Aircraft.compute_xcp = compute_xcp"
      ],
      "metadata": {
        "id": "d-epZVELNFPX"
      },
      "execution_count": null,
      "outputs": []
    },
    {
      "cell_type": "markdown",
      "source": [
        "### compute_CL (Aircraft)\n",
        "---\n",
        "\n",
        "returns the Lift Coefficient of the trimmed aircraft ($C_M = 0$)\n",
        "<br>\n",
        "<center>\n",
        "$\n",
        "C_{M} = C_{M_0} + C_{M_α} ⋅ α = 0 ⇒ α_{trim} = - \\frac{C_{M_0}}{C_{M_α}}\n",
        "$\n",
        "</center>\n",
        "<br>\n",
        "<center>\n",
        "$\n",
        "C_{L_{trim}} = C_{L_0} + C_{M_α} ⋅ α_{trim}\n",
        "$\n",
        "</center>\n",
        "<br>\n",
        "\n",
        "Variable      | name\n",
        "--------------|----\n",
        "$α_{trim}    $ | Aircraft's trimmed angle \n",
        "$C_{M_0}      $ | Aircraft's Pitching Moment Coefficient zero-lift\n",
        "$C_{M_α}      $ | Aircraft's Pitching Moment Coefficient Line Angular\n",
        "$C_{L_0}      $ | Aircraft's Lift Coefficient zero-lift\n",
        "$C_{L_α}      $ | Aircraft's Lift Coefficient Angle Line Angular\n",
        "$C_{L_{trim}}$ | Aircraft's Trimmed Lift Coefficient"
      ],
      "metadata": {
        "id": "AGRyjX5sOY3B"
      }
    },
    {
      "cell_type": "code",
      "source": [
        "def compute_cl_trim(self):\n",
        "    CM_alpha, CM0 = self.CM_alpha, self.CM0\n",
        "    CL_alpha, CL0 = self.CL_alpha, self.CL0\n",
        "\n",
        "    alpha_trim = - CM0 / CM_alpha\n",
        "    CL_trim    = + CL0 + CM_alpha * alpha_trim\n",
        "\n",
        "    self.alpha_trim = alpha_trim\n",
        "    self.CL_trim    = CL_trim\n",
        "\n",
        "    print(\n",
        "        \"Trimagem: \\n\\talpha_trim = {:.4f} \\n\\tCL_trim    = {:.4f}\".format(\n",
        "            alpha_trim, CL_trim\n",
        "        ))       \n",
        "\n",
        "    return CL_trim\n",
        "\n",
        "Aircraft.compute_cl_trim = compute_cl_trim"
      ],
      "metadata": {
        "id": "RvywTxfNOZZj"
      },
      "execution_count": null,
      "outputs": []
    },
    {
      "cell_type": "markdown",
      "source": [
        "### compute_xn (Aircraft)\n",
        "---\n",
        "\n",
        "returns the neutral point of the aircraft\n",
        "<br>\n",
        "<center>\n",
        "$\n",
        "MS = - \\frac{C_{M_α}}{C_{L_α}}\n",
        "$\n",
        "</center>\n",
        "<br>\n",
        "<center>\n",
        "$\n",
        "x_N = x_{CG} + c̄ ⋅ (- MS)\n",
        "$\n",
        "</center>\n",
        "<br>\n",
        "\n",
        "Variable       | name\n",
        "---------------|----\n",
        "$MS          $ | Aircraft's Static Margin\n",
        "$C_{M_α}     $ | Aircraft's Pitching Moment Coefficient Line Angular\n",
        "$C_{L_α}     $ | Aircraft's Lift Coefficient Line Angular\n",
        "$x_{CG}      $ | Aircraft's CG\n",
        "$c̄           $ | Wing's Mean Aerodynamic Chord\n",
        "$x_N         $ | Aircraft's neutral point"
      ],
      "metadata": {
        "id": "21TmFXl-ObSU"
      }
    },
    {
      "cell_type": "code",
      "source": [
        "def compute_xn(self):\n",
        "    CM_alpha = self.CM_alpha\n",
        "    CL_alpha = self.CL_alpha\n",
        "    xcg, zcg = self.CG\n",
        "    cma      = self.wing.cma\n",
        "\n",
        "    MS = - CM_alpha / CL_alpha\n",
        "    xn = xcg + cma * (- MS)\n",
        "\n",
        "    self.xn = xn\n",
        "    self.MS = MS\n",
        "\n",
        "    print(\n",
        "        \"x_n: \\n\\tx_n = {:.4f} \\n\\tMS  = {:.4f}\".format(\n",
        "            xn, MS\n",
        "        ))\n",
        "    \n",
        "    return xn\n",
        "\n",
        "Aircraft.compute_xn = compute_xn"
      ],
      "metadata": {
        "id": "N4n-Z6IkEt36"
      },
      "execution_count": null,
      "outputs": []
    },
    {
      "cell_type": "markdown",
      "source": [
        "# Main"
      ],
      "metadata": {
        "id": "3SM_cjtbExEW"
      }
    },
    {
      "cell_type": "code",
      "source": [
        "class Wing(LiftSurface):\n",
        "    def __init__(self):\n",
        "        self.S           = 34\n",
        "        self.taper_ratio = 0.48\n",
        "        self.AR          = 9.74\n",
        "        self.CG          = [7.5, -0.88] # (x, z)\n",
        "        self.sweep_angle = 0\n",
        "        self.cl_alpha    = 5.4\n",
        "        self.alpha_L0    = -3 / 180 * np.pi\n",
        "        self.alpha       =  1 / 180 * np.pi\n",
        "\n",
        "        super().__init__()\n",
        "\n",
        "\n",
        "class Tail_h(LiftSurface):\n",
        "    def __init__(self):\n",
        "        self.S           = 6.48\n",
        "        self.taper_ratio = 0.3048\n",
        "        self.AR          = 6.22\n",
        "        self.CG          = [13.8, 2.68] # (x, z)\n",
        "        self.sweep_angle = 0\n",
        "        self.cl_alpha    = 5.1\n",
        "        self.alpha_L0    = 0 / 180 * np.pi\n",
        "        self.alpha       = 2 / 180 * np.pi\n",
        "\n",
        "        super().__init__()\n",
        "\n",
        "\n",
        "class FlyCond:\n",
        "    def __init__(self):\n",
        "        self.h    = 20000 * 0.3048 # feet to meters\n",
        "        self.Mach = 0.4"
      ],
      "metadata": {
        "id": "YTFiPD14iend"
      },
      "execution_count": null,
      "outputs": []
    },
    {
      "cell_type": "code",
      "source": [
        "def plot(x, y, legend):\n",
        "    fig = plt.figure(figsize = (10, 8))\n",
        "    ax  = sns.lineplot(x = x * 180 / np.pi , y = y)\n",
        "    ax.set(xlabel = \"degrees\", \n",
        "           ylabel = legend,\n",
        "           title  = \"Grafico de {} por alpha\".format(legend))\n",
        "    \n",
        "    plt.show() \n",
        "\n",
        "def main():\n",
        "    aircraft = Aircraft()\n",
        "\n",
        "    alpha = np.linspace(-10, 10, 30) / 180 * np.pi\n",
        "\n",
        "    aircraft.compute_CL(alpha)\n",
        "    aircraft.compute_CM(alpha)\n",
        "    aircraft.compute_xcp()\n",
        "    aircraft.compute_cl_trim()\n",
        "    aircraft.compute_xn()\n",
        "\n",
        "    plot(alpha, aircraft.CL , \"$C_L$\")\n",
        "    plot(alpha, aircraft.CM , \"$C_M$\")\n",
        "    plot(alpha, aircraft.xcp, \"$x_{cp}$\")\n",
        "\n",
        "sns.set_theme(\"poster\")\n",
        "main()\n",
        "\n",
        "    "
      ],
      "metadata": {
        "colab": {
          "base_uri": "https://localhost:8080/",
          "height": 1000
        },
        "id": "jAFP-vuPZXc0",
        "outputId": "28a8606e-4b6c-44bf-a199-459213fa0fcb"
      },
      "execution_count": null,
      "outputs": [
        {
          "output_type": "stream",
          "name": "stdout",
          "text": [
            "Downwash: \n",
            "\teps0 = 0.0180 \n",
            "\tdeda = 0.2577\n",
            "CL: \n",
            "\tCL       = CL_alpha * alpha + CL0 \n",
            "\tCL_alpha = 6.0422 \n",
            "\tCL0      = 0.3916\n",
            "CM: \n",
            "\tCM       = CM_alpha * alpha + CM0 \n",
            "\tCM_alpha = -0.8684 \n",
            "\tCM0      = 0.0311\n",
            "Trimagem: \n",
            "\talpha_trim = 0.0358 \n",
            "\tCL_trim    = 0.3605\n",
            "x_n: \n",
            "\tx_n = 7.6104 \n",
            "\tMS  = 0.1437\n"
          ]
        },
        {
          "output_type": "display_data",
          "data": {
            "text/plain": [
              "<Figure size 720x576 with 1 Axes>"
            ],
            "image/png": "[encoded data removed]"
          },
          "metadata": {}
        },
        {
          "output_type": "display_data",
          "data": {
            "text/plain": [
              "<Figure size 720x576 with 1 Axes>"
            ],
            "image/png": "[encoded data removed]"
          },
          "metadata": {}
        },
        {
          "output_type": "display_data",
          "data": {
            "text/plain": [
              "<Figure size 720x576 with 1 Axes>"
            ],
            "image/png": "[encoded data removed]"
          },
          "metadata": {}
        }
      ]
    },
    {
      "cell_type": "markdown",
      "source": [
        "### archive"
      ],
      "metadata": {
        "id": "urbtOUj_-dnj"
      }
    },
    {
      "cell_type": "code",
      "execution_count": null,
      "metadata": {
        "id": "ughzNAmCP_ko"
      },
      "outputs": [],
      "source": [
        "from numpy import *\n",
        "\n",
        "xw = 7.5\n",
        "zw = -0.88\n",
        "alphaw = 1 / 180 * pi\n",
        "arw = 9.74\n",
        "sw = 34\n",
        "alpha0w = -3 / 180 * pi\n",
        "aw = 5.4\n",
        "lambdaw = 0.48\n",
        "\n",
        "M = 0.4\n",
        "xcg = 7.89\n",
        "zcg = 0\n",
        "m = 5400\n",
        "eta = 0.89\n",
        "enverg = 0\n",
        "\n",
        "xt = 13.8\n",
        "zt = 2.68\n",
        "alphat = 2 / 180 * pi\n",
        "art = 6.22\n",
        "st = 6.48\n",
        "alpha0t = 0 / 180 * pi\n",
        "at = 5.1\n",
        "lambdat = 0.3048"
      ]
    },
    {
      "cell_type": "code",
      "source": [
        "bw = sqrt(arw * sw)\n",
        "kh = (1 - (zt - zw) / bw) / (2*(xt - xw) / bw) ** (1/3)\n",
        "klamdba = (10 - 3*lambdaw) / 7\n",
        "kar = 1 / arw - 1 / (1 + arw ** 1.7)\n",
        "\n",
        "dedalpha =  4.44 * (kh * klamdba * kar * cos(0)) ** (1.19)\n",
        "alpha = (alpha0w - alphaw)\n",
        "epsilon0 = - dedalpha * alpha\n",
        "\n",
        "cl_alpha = (aw + at * st / sw * eta * (1 - dedalpha))\n",
        "cl0 = aw * (alphaw - alpha0w) + at * st/sw * eta * (alphat - epsilon0 - alpha0t)\n",
        "\n",
        "cr = 2 * sw / bw / (1 + lambdaw)\n",
        "cma = 2/3 * cr * (1 + lambdaw + lambdaw ** 2) / (1 + lambdaw)\n",
        "\n",
        "cm_alpha = aw * (xcg - xw) / cma - at * (st / sw) * eta * ((xt - xcg) / cma) * (1 - dedalpha)\n",
        "cm_0 = aw * (alphaw - alpha0w) * (xcg - xw) / cma - at * (alphat - epsilon0 - alpha0t) * eta * (st / sw) * (xt - xcg) / cma"
      ],
      "metadata": {
        "id": "HF48zfiYR1r9"
      },
      "execution_count": null,
      "outputs": []
    }
  ]
}