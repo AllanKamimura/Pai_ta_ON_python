{
  "nbformat": 4,
  "nbformat_minor": 0,
  "metadata": {
    "colab": {
      "provenance": [],
      "authorship_tag": "ABX9TyMVF7tobxRZ/BpKSgNAuasP",
      "include_colab_link": true
    },
    "kernelspec": {
      "name": "python3",
      "display_name": "Python 3"
    },
    "language_info": {
      "name": "python"
    }
  },
  "cells": [
    {
      "cell_type": "markdown",
      "metadata": {
        "id": "view-in-github",
        "colab_type": "text"
      },
      "source": [
        "<a href=\"https://colab.research.google.com/github/AllanKamimura/Pai_ta_ON_python/blob/main/school/SAA0183_performance.ipynb\" target=\"_parent\"><img src=\"https://colab.research.google.com/assets/colab-badge.svg\" alt=\"Open In Colab\"/></a>"
      ]
    },
    {
      "cell_type": "code",
      "source": [
        "!git clone http://github.com/AllanKamimura/utils.git\n",
        "!pip install ambiance\n",
        "\n",
        "from ambiance import Atmosphere\n",
        "from utils.myutils import *\n",
        "\n",
        "import scipy.optimize"
      ],
      "metadata": {
        "colab": {
          "base_uri": "https://localhost:8080/"
        },
        "id": "nyPRVVlr5i9-",
        "outputId": "3f0a2506-9892-45cc-9e67-24e44ec4e916"
      },
      "execution_count": 1,
      "outputs": [
        {
          "output_type": "stream",
          "name": "stdout",
          "text": [
            "Cloning into 'utils'...\n",
            "warning: redirecting to https://github.com/AllanKamimura/utils.git/\n",
            "remote: Enumerating objects: 6, done.\u001b[K\n",
            "remote: Counting objects: 100% (6/6), done.\u001b[K\n",
            "remote: Compressing objects: 100% (3/3), done.\u001b[K\n",
            "remote: Total 6 (delta 1), reused 6 (delta 1), pack-reused 0\u001b[K\n",
            "Unpacking objects: 100% (6/6), 1.66 KiB | 849.00 KiB/s, done.\n",
            "Collecting ambiance\n",
            "  Downloading ambiance-1.3.1-py3-none-any.whl (15 kB)\n",
            "Requirement already satisfied: numpy in /usr/local/lib/python3.10/dist-packages (from ambiance) (1.22.4)\n",
            "Requirement already satisfied: scipy in /usr/local/lib/python3.10/dist-packages (from ambiance) (1.10.1)\n",
            "Installing collected packages: ambiance\n",
            "Successfully installed ambiance-1.3.1\n"
          ]
        }
      ]
    },
    {
      "cell_type": "code",
      "source": [
        "import sympy as sp\n",
        "from sympy.printing import print_latex\n",
        "pi = sp.pi\n",
        "sea = Atmosphere(0)"
      ],
      "metadata": {
        "id": "0w9CtK0JZ2Yg"
      },
      "execution_count": 19,
      "outputs": []
    },
    {
      "cell_type": "code",
      "source": [
        "AR     = 8.90;\n",
        "e      = 0.85;\n",
        "CD0    = 0.025;\n",
        "MTOW   = 450300 #N;\n",
        "BOW    = 320300 #N;\n",
        "FUEL_W = 130000 #N;\n",
        "FUEL_M = float(FUEL_W / sea.grav_accel)\n",
        "T_MSL  = 92300 #N;\n",
        "S      = 92.5 #m2;\n",
        "TSFC   = 0.85 / 3600 #N/(s*N);\n",
        "M      = 0.79\n",
        "K      = 1 / (np.pi * AR * e)"
      ],
      "metadata": {
        "id": "aPikNEqqfNEw"
      },
      "execution_count": 3,
      "outputs": []
    },
    {
      "cell_type": "code",
      "source": [
        "T, W, V = sp.symbols(\"T, W, V\")\n",
        "gamma, Gamma = sp.symbols(\"\\\\gamma, \\\\Gamma\")\n",
        "rho = sp.symbols(\"\\\\rho\")\n",
        "Em = sp.symbols(\"E_m\")\n",
        "\n",
        "subs = {\n",
        "    Gamma: 1 + sp.sqrt(1 + 12 * CD0 * K / ((T/W) ** 2)),\n",
        "    Em: sp.pi * AR * e / (4 * CD0)\n",
        "    }\n",
        "\n",
        "eq1 = sp.Eq(V, sp.sqrt(T/S * Gamma / (3*rho*CD0))).subs(subs)\n",
        "eq2 = sp.Eq(sp.sin(gamma), T/W * (1 - Gamma/6) - 3 / (2 * Gamma * Em ** 2 * (T/W))).subs(subs)\n",
        "\n",
        "V_eq = sp.lambdify([W, T, rho] , eq1.rhs)\n",
        "sinG = sp.lambdify([W, T] , eq2.rhs)"
      ],
      "metadata": {
        "id": "hk5RBCRAJPXT"
      },
      "execution_count": 4,
      "outputs": []
    },
    {
      "cell_type": "code",
      "source": [
        "def T_h(h, sigma):\n",
        "    if h / 0.3048 > 36089:\n",
        "        return float(T_MSL * sigma ** 0.7)\n",
        "\n",
        "    else:\n",
        "        return float(T_MSL * sigma * 1.439)\n",
        "\n",
        "def create_table(fase, tempo_, consumo_, distancia_):\n",
        "    table = f\"\"\"\\\\subsubsection{{Resumo dos resultados}}\n",
        "\\\\begin{{table}}[H]\n",
        "\\\\centering\n",
        "\\\\caption{{{fase}: resumo}}\n",
        "\\\\begin{{tabular}}{{ccc}}\n",
        "\\\\textbf{{Variavel}} & \\\\textbf{{Valor}} & \\\\textbf{{Unidade}} \\\\\\\\\\\\hline\n",
        "Tempo total & {tempo_:.0f} & s \\\\\\\\\n",
        "Consumo total & {consumo_:.0f} & N \\\\\\\\\n",
        "Distancia & {distancia_:.0f} & km\n",
        "\\\\end{{tabular}}\n",
        "\\\\end{{table}}\"\"\"\n",
        "    print(table)"
      ],
      "metadata": {
        "id": "vQ_lTaW5dXoT"
      },
      "execution_count": 66,
      "outputs": []
    },
    {
      "cell_type": "code",
      "source": [
        "altitude = 0\n",
        "curr_FUEL = FUEL_M\n",
        "curr_W = BOW + curr_FUEL * float(sea.grav_accel)\n",
        "dt = 1\n",
        "\n",
        "tempo_total = 0\n",
        "distancia   = 0\n",
        "consumo     = 0\n",
        "consumo_list = [consumo]\n",
        "distancia_list = [distancia]\n",
        "tempo_list = [tempo_total]\n",
        "\n",
        "yy1 = []\n",
        "yy2 = []\n",
        "xx1 = []\n",
        "#subida\n",
        "while altitude < 41000 * 0.3048:\n",
        "    curr_atm = Atmosphere(altitude)\n",
        "    sigma    = (curr_atm.density * 1/(1+15/curr_atm.temperature)) / (sea.density * 1/(1+15/sea.temperature))\n",
        "\n",
        "    curr_T   = T_h(altitude, sigma)\n",
        "\n",
        "    curr_sinG = float(sinG(curr_W, curr_T))\n",
        "    curr_V    = float(V_eq(curr_W, curr_T, curr_atm.density * 1/(1+15/curr_atm.temperature)))\n",
        "\n",
        "    altitude  += curr_V * curr_sinG * dt\n",
        "    distancia += curr_V * (1 - curr_sinG**2)**0.5 * dt\n",
        "\n",
        "    dm = float(TSFC * curr_T * dt)\n",
        "\n",
        "    tempo_total += dt\n",
        "    curr_W      -= dm\n",
        "    consumo     += dm\n",
        "\n",
        "consumo_list.append(consumo)\n",
        "distancia_list.append(distancia)\n",
        "tempo_list.append(tempo_total)\n",
        "\n",
        "#cruzeiro\n",
        "Emax = 1 / (2 * np.sqrt(CD0 * K))\n",
        "\n",
        "def max_alcance_f(CL):\n",
        "    return -CL ** 0.5 / (CD0 + K * CL ** 2)\n",
        "\n",
        "res = scipy.optimize.minimize(max_alcance_f, 0.4)\n",
        "dCL = 0.1\n",
        "CL  = np.linspace(res.x * 0.8, res.x * 1.2, 200)\n",
        "CD  = CD0 + K * CL ** 2\n",
        "\n",
        "d  = curr_atm.density * 1/(1+15/curr_atm.temperature)\n",
        "W1 = curr_W\n",
        "W2 = BOW + 0.12 * FUEL_W\n",
        "v1 = np.sqrt(2 * W1 / (d * S * CL))\n",
        "epsilon = 1 - W2/W1\n",
        "v2 = v1 * np.sqrt(1 - epsilon)\n",
        "E  = CL / CD\n",
        "\n",
        "x = 2 * E * v1 / (TSFC) * (1 - np.sqrt(1 - epsilon))\n",
        "# plt.plot(v1, x / 1000)\n",
        "# plt.xlabel(\"$V_1$ [m/s]\")\n",
        "# plt.ylabel(\"alcance [km]\")\n",
        "# plt.title(\"Alcance para cruzeiro com altitude e $C_L$ constante\")\n",
        "\n",
        "max_alcance = np.max(x)\n",
        "find_lrc    = np.isclose(x, max_alcance * 0.99, atol = 1000)\n",
        "v1_lrc      = float(v1[find_lrc].max())\n",
        "v2_lrc      = float(v2[find_lrc].max())\n",
        "x_lrc       = float(x[find_lrc].min())\n",
        "\n",
        "# plt.scatter(v1_lrc, x_lrc /1000, color = \"orange\", zorder = 100, label = \"LRC\")\n",
        "# plt.text(v1_lrc*1.005, x_lrc / 1000, f\"({v1_lrc:.0f}, {x_lrc/1000:.0f})\")\n",
        "# plt.legend()\n",
        "\n",
        "distancia  += x_lrc\n",
        "curr_W      = W2\n",
        "consumo     = 0.88 * FUEL_W\n",
        "tempo_total+= 2 * x_lrc / (v1_lrc + v2_lrc)\n",
        "\n",
        "consumo_list.append(consumo)\n",
        "distancia_list.append(distancia)\n",
        "tempo_list.append(tempo_total)\n",
        "\n",
        "# descida\n",
        "while altitude > 2000 * 0.3048:\n",
        "    curr_atm = Atmosphere(altitude)\n",
        "    d = float(curr_atm.density * 1/(1+15/curr_atm.temperature))\n",
        "    sigma    = d / float(sea.density * 1/(1+15/sea.temperature))\n",
        "\n",
        "    curr_T   = T_h(altitude, sigma) * 0.05\n",
        "\n",
        "    CD = CD0 + (2*curr_W/(d*S*curr_V**2)) ** 2 / (np.pi * AR * e)\n",
        "    curr_D = 1/2 * d*S*curr_V**2 * CD\n",
        "\n",
        "    if altitude / 0.3048 > 36089:\n",
        "        a = 0\n",
        "    else:\n",
        "        a = -0.133184 * float(curr_V/curr_atm.speed_of_sound) ** 2\n",
        "\n",
        "    vh = curr_V * (curr_T - curr_D) / curr_W / (1 + a)\n",
        "\n",
        "    altitude  += vh * dt\n",
        "    distancia += (curr_V**2 - vh**2)**0.5 * dt\n",
        "\n",
        "    curr_V += a * float(curr_atm.grav_accel) / curr_V * vh * dt\n",
        "    dm = float(TSFC * curr_T * dt)\n",
        "\n",
        "    tempo_total += dt\n",
        "    curr_W      -= dm\n",
        "    consumo     += dm\n",
        "\n",
        "\n",
        "consumo_list.append(consumo)\n",
        "distancia_list.append(distancia)\n",
        "tempo_list.append(tempo_total)\n",
        "\n",
        "distancia_2 = 0\n",
        "# subida 2\n",
        "while altitude < 20000 * 0.3048:\n",
        "    curr_atm = Atmosphere(altitude)\n",
        "    sigma    = (curr_atm.density * 1/(1+20/curr_atm.temperature)) / (sea.density * 1/(1+20/sea.temperature))\n",
        "\n",
        "    curr_T   = T_h(altitude, sigma)\n",
        "\n",
        "    curr_sinG = float(sinG(curr_W, curr_T))\n",
        "    curr_V    = float(V_eq(curr_W, curr_T, curr_atm.density * 1/(1+20/curr_atm.temperature)))\n",
        "\n",
        "    altitude  += curr_V * curr_sinG * dt\n",
        "    distancia += curr_V * (1 - curr_sinG**2)**0.5 * dt\n",
        "    distancia_2   += curr_V * (1 - curr_sinG**2)**0.5 * dt\n",
        "\n",
        "    dm = float(TSFC * curr_T * dt)\n",
        "\n",
        "    tempo_total += dt\n",
        "    curr_W      -= dm\n",
        "    consumo     += dm\n",
        "\n",
        "consumo_list.append(consumo)\n",
        "distancia_list.append(distancia)\n",
        "tempo_list.append(tempo_total)\n",
        "\n",
        "#cruzeiro 2\n",
        "res = scipy.optimize.minimize(max_alcance_f, 0.4)\n",
        "dCL = 0.1\n",
        "CL  = np.linspace(res.x * 0.8, res.x * 1.2, 200)\n",
        "CD  = CD0 + K * CL ** 2\n",
        "\n",
        "d  = curr_atm.density * 1/(1+15/curr_atm.temperature)\n",
        "W1 = curr_W\n",
        "W2 = curr_W - 6252\n",
        "v1 = np.sqrt(2 * W1 / (d * S * CL))\n",
        "epsilon = 1 - W2/W1\n",
        "v2 = v1 * np.sqrt(1 - epsilon)\n",
        "E  = CL / CD\n",
        "\n",
        "x = 2 * E * v1 / (TSFC) * (1 - np.sqrt(1 - epsilon))\n",
        "# plt.plot(v1, x / 1000)\n",
        "# plt.xlabel(\"$V_1$ [m/s]\")\n",
        "# plt.ylabel(\"alcance [km]\")\n",
        "# plt.title(\"Alcance para cruzeiro com altitude e $C_L$ constante\")\n",
        "\n",
        "max_alcance = np.max(x)\n",
        "find_lrc    = np.isclose(x, max_alcance * 0.99, atol = 1000)\n",
        "v1_lrc      = float(v1[find_lrc].max())\n",
        "v2_lrc      = float(v2[find_lrc].max())\n",
        "x_lrc       = float(x[find_lrc].min())\n",
        "\n",
        "# print(v1_lrc)\n",
        "# print(v2_lrc)\n",
        "# plt.scatter(v1_lrc, x_lrc /1000, color = \"orange\", zorder = 100, label = \"LRC\")\n",
        "# plt.text(v1_lrc*1.005, x_lrc / 1000, f\"({v1_lrc:.0f}, {x_lrc/1000:.0f})\")\n",
        "# plt.legend()\n",
        "\n",
        "distancia  += x_lrc\n",
        "curr_W      = W2\n",
        "consumo    += (W2 - W1)\n",
        "tempo_total+= 2 * x_lrc / (v1_lrc + v2_lrc)\n",
        "\n",
        "consumo_list.append(consumo)\n",
        "distancia_list.append(distancia)\n",
        "tempo_list.append(tempo_total)\n",
        "\n",
        "# descida 2\n",
        "while altitude > 10000 * 0.3048:\n",
        "    curr_atm = Atmosphere(altitude)\n",
        "    d = float(curr_atm.density * 1/(1+15/curr_atm.temperature))\n",
        "    sigma    = d / float(sea.density * 1/(1+15/sea.temperature))\n",
        "\n",
        "    curr_T   = T_h(altitude, sigma) * 0.05\n",
        "\n",
        "    CD = CD0 + (2*curr_W/(d*S*curr_V**2)) ** 2 / (np.pi * AR * e)\n",
        "    curr_D = 1/2 * d*S*curr_V**2 * CD\n",
        "\n",
        "    if altitude / 0.3048 > 36089:\n",
        "        a = 0\n",
        "    else:\n",
        "        a = -0.133184 * float(curr_V/curr_atm.speed_of_sound) ** 2\n",
        "\n",
        "    vh = curr_V * (curr_T - curr_D) / curr_W / (1 + a)\n",
        "\n",
        "    altitude  += vh * dt\n",
        "    distancia += (curr_V**2 - vh**2)**0.5 * dt\n",
        "\n",
        "    curr_V += a * float(curr_atm.grav_accel) / curr_V * vh * dt\n",
        "    dm = float(TSFC * curr_T * dt)\n",
        "\n",
        "    tempo_total += dt\n",
        "    curr_W      -= dm\n",
        "    consumo     += dm\n",
        "\n",
        "consumo_list.append(consumo)\n",
        "distancia_list.append(distancia)\n",
        "tempo_list.append(tempo_total)\n",
        "\n",
        "#max endurance\n",
        "W1 = 329000 + 540\n",
        "W2 = BOW + 251\n",
        "v_endurance = (2 * curr_W / (d * S)) ** 0.5 * (K/CD0) ** 0.25\n",
        "epsilon = 1 - W2/W1\n",
        "t_endurance = float(2*Emax/TSFC * np.arctan(0.5*epsilon/(1-0.5*epsilon)))\n",
        "tempo_total += t_endurance\n",
        "consumo += (W1 - W2)\n",
        "distancia += (v_endurance * t_endurance)\n",
        "\n",
        "consumo_list.append(consumo)\n",
        "distancia_list.append(distancia)\n",
        "tempo_list.append(tempo_total)\n",
        "\n",
        "while altitude > 2000 * 0.3048:\n",
        "    curr_atm = Atmosphere(altitude)\n",
        "    d = float(curr_atm.density * 1/(1+15/curr_atm.temperature))\n",
        "    sigma    = d / float(sea.density * 1/(1+15/sea.temperature))\n",
        "\n",
        "    curr_T   = T_h(altitude, sigma) * 0.05\n",
        "\n",
        "    CD = CD0 + (2*curr_W/(d*S*curr_V**2)) ** 2 / (np.pi * AR * e)\n",
        "    curr_D = 1/2 * d*S*curr_V**2 * CD\n",
        "\n",
        "    if altitude / 0.3048 > 36089:\n",
        "        a = 0\n",
        "    else:\n",
        "        a = -0.133184 * float(curr_V/curr_atm.speed_of_sound) ** 2\n",
        "\n",
        "    vh = curr_V * (curr_T - curr_D) / curr_W / (1 + a)\n",
        "\n",
        "    altitude  += vh * dt\n",
        "    distancia += (curr_V**2 - vh**2)**0.5 * dt\n",
        "\n",
        "    curr_V += a * float(curr_atm.grav_accel) / curr_V * vh * dt\n",
        "    dm = float(TSFC * curr_T * dt)\n",
        "\n",
        "    tempo_total += dt\n",
        "    curr_W      -= dm\n",
        "    consumo     += dm\n",
        "\n",
        "    xx1.append(tempo_total)\n",
        "    yy1.append(consumo)\n",
        "    yy2.append(altitude)\n",
        "\n",
        "consumo_list.append(consumo)\n",
        "distancia_list.append(distancia)\n",
        "tempo_list.append(tempo_total)"
      ],
      "metadata": {
        "id": "IYBfOlz0O-ez"
      },
      "execution_count": 109,
      "outputs": []
    },
    {
      "cell_type": "code",
      "source": [
        "plt.plot(xx1,np.array(yy1))\n",
        "plt.xlabel(\"t (s)\")\n",
        "plt.ylabel(\"consumido ($N$)\")\n",
        "\n",
        "# plt.plot(xx1,np.array(yy2) / 0.3048)\n",
        "# plt.xlabel(\"t (s)\")\n",
        "# plt.ylabel(\"altitude ($ft$)\")"
      ],
      "metadata": {
        "colab": {
          "base_uri": "https://localhost:8080/",
          "height": 725
        },
        "id": "VWAVgaB2dLrf",
        "outputId": "dfb94cdf-8a7f-4954-a362-51e95f3ff85c"
      },
      "execution_count": 111,
      "outputs": [
        {
          "output_type": "execute_result",
          "data": {
            "text/plain": [
              "Text(0, 0.5, 'consumido ($N$)')"
            ]
          },
          "metadata": {},
          "execution_count": 111
        },
        {
          "output_type": "display_data",
          "data": {
            "text/plain": [
              "<Figure size 1000x800 with 1 Axes>"
            ],
            "image/png": "[encoded data removed]"
          },
          "metadata": {}
        }
      ]
    },
    {
      "cell_type": "code",
      "source": [
        "# create tables\n",
        "tempos = np.array(tempo_list[1:]) - np.array(tempo_list[:-1])\n",
        "consumos = np.array(consumo_list[1:]) - np.array(consumo_list[:-1])\n",
        "distancias = (np.array(distancia_list[1:]) - np.array(distancia_list[:-1]))/1000\n",
        "fases = [\"Decolagem 1\", \"Cruzeiro 1\", \"Descida 1\", \"Subida 2\", \"Cruzeiro 2\", \"Descida 2\", \"Endurance 1\", \"Descida 3\"]\n",
        "\n",
        "for i in range(8):\n",
        "    tempo_ = tempo_list[i+1]\n",
        "    consumo_ = consumo_list[i+1]\n",
        "    distancia_ = distancia_list[i+1]\n",
        "    fase_  = fases[i]\n",
        "    print(f\"{fase_}, {tempo_:.0f}, {distancia_/1000:.0f}, {consumo_:.0f}\")\n",
        "\n",
        "print()\n",
        "for i in range(8):\n",
        "    tempo_ = tempos[i]\n",
        "    consumo_ = consumos[i]\n",
        "    distancia_ = distancias[i]\n",
        "    fase_  = fases[i]\n",
        "    create_table(fase_, tempo_, consumo_, distancia_)\n",
        "    print()"
      ],
      "metadata": {
        "colab": {
          "base_uri": "https://localhost:8080/"
        },
        "id": "3q96qAC9u_e2",
        "outputId": "34fa559d-34d4-4b4b-b9ed-27d169afe887"
      },
      "execution_count": 130,
      "outputs": [
        {
          "output_type": "stream",
          "name": "stdout",
          "text": [
            "Decolagem 1, 743, 147, 10971\n",
            "Cruzeiro 1, 14528, 4099, 114400\n",
            "Descida 1, 14979, 4203, 114718\n",
            "Subida 2, 15141, 4233, 118279\n",
            "Cruzeiro 2, 16092, 4403, 112027\n",
            "Descida 2, 16254, 4434, 112184\n",
            "Endurance 1, 18060, 4621, 121173\n",
            "Descida 3, 18152, 4639, 121293\n",
            "\n",
            "\\subsubsection{Resumo dos resultados}\n",
            "\\begin{table}[H]\n",
            "\\centering\n",
            "\\caption{Decolagem 1: resumo}\n",
            "\\begin{tabular}{ccc}\n",
            "\\textbf{Variavel} & \\textbf{Valor} & \\textbf{Unidade} \\\\\\hline\n",
            "Tempo total & 743 & s \\\\\n",
            "Consumo total & 10971 & N \\\\\n",
            "Distancia & 147 & km\n",
            "\\end{tabular}\n",
            "\\end{table}\n",
            "\n",
            "\\subsubsection{Resumo dos resultados}\n",
            "\\begin{table}[H]\n",
            "\\centering\n",
            "\\caption{Cruzeiro 1: resumo}\n",
            "\\begin{tabular}{ccc}\n",
            "\\textbf{Variavel} & \\textbf{Valor} & \\textbf{Unidade} \\\\\\hline\n",
            "Tempo total & 13785 & s \\\\\n",
            "Consumo total & 103429 & N \\\\\n",
            "Distancia & 3952 & km\n",
            "\\end{tabular}\n",
            "\\end{table}\n",
            "\n",
            "\\subsubsection{Resumo dos resultados}\n",
            "\\begin{table}[H]\n",
            "\\centering\n",
            "\\caption{Descida 1: resumo}\n",
            "\\begin{tabular}{ccc}\n",
            "\\textbf{Variavel} & \\textbf{Valor} & \\textbf{Unidade} \\\\\\hline\n",
            "Tempo total & 451 & s \\\\\n",
            "Consumo total & 318 & N \\\\\n",
            "Distancia & 104 & km\n",
            "\\end{tabular}\n",
            "\\end{table}\n",
            "\n",
            "\\subsubsection{Resumo dos resultados}\n",
            "\\begin{table}[H]\n",
            "\\centering\n",
            "\\caption{Subida 2: resumo}\n",
            "\\begin{tabular}{ccc}\n",
            "\\textbf{Variavel} & \\textbf{Valor} & \\textbf{Unidade} \\\\\\hline\n",
            "Tempo total & 162 & s \\\\\n",
            "Consumo total & 3561 & N \\\\\n",
            "Distancia & 30 & km\n",
            "\\end{tabular}\n",
            "\\end{table}\n",
            "\n",
            "\\subsubsection{Resumo dos resultados}\n",
            "\\begin{table}[H]\n",
            "\\centering\n",
            "\\caption{Cruzeiro 2: resumo}\n",
            "\\begin{tabular}{ccc}\n",
            "\\textbf{Variavel} & \\textbf{Valor} & \\textbf{Unidade} \\\\\\hline\n",
            "Tempo total & 951 & s \\\\\n",
            "Consumo total & -6252 & N \\\\\n",
            "Distancia & 170 & km\n",
            "\\end{tabular}\n",
            "\\end{table}\n",
            "\n",
            "\\subsubsection{Resumo dos resultados}\n",
            "\\begin{table}[H]\n",
            "\\centering\n",
            "\\caption{Descida 2: resumo}\n",
            "\\begin{tabular}{ccc}\n",
            "\\textbf{Variavel} & \\textbf{Valor} & \\textbf{Unidade} \\\\\\hline\n",
            "Tempo total & 162 & s \\\\\n",
            "Consumo total & 158 & N \\\\\n",
            "Distancia & 31 & km\n",
            "\\end{tabular}\n",
            "\\end{table}\n",
            "\n",
            "\\subsubsection{Resumo dos resultados}\n",
            "\\begin{table}[H]\n",
            "\\centering\n",
            "\\caption{Endurance 1: resumo}\n",
            "\\begin{tabular}{ccc}\n",
            "\\textbf{Variavel} & \\textbf{Valor} & \\textbf{Unidade} \\\\\\hline\n",
            "Tempo total & 1806 & s \\\\\n",
            "Consumo total & 8989 & N \\\\\n",
            "Distancia & 187 & km\n",
            "\\end{tabular}\n",
            "\\end{table}\n",
            "\n",
            "\\subsubsection{Resumo dos resultados}\n",
            "\\begin{table}[H]\n",
            "\\centering\n",
            "\\caption{Descida 3: resumo}\n",
            "\\begin{tabular}{ccc}\n",
            "\\textbf{Variavel} & \\textbf{Valor} & \\textbf{Unidade} \\\\\\hline\n",
            "Tempo total & 92 & s \\\\\n",
            "Consumo total & 120 & N \\\\\n",
            "Distancia & 18 & km\n",
            "\\end{tabular}\n",
            "\\end{table}\n",
            "\n"
          ]
        }
      ]
    },
    {
      "cell_type": "code",
      "source": [
        "tempos"
      ],
      "metadata": {
        "colab": {
          "base_uri": "https://localhost:8080/"
        },
        "id": "u-wVkpfjhlxR",
        "outputId": "257bdbd0-88a4-4d98-ae66-c85ffbadf912"
      },
      "execution_count": 131,
      "outputs": [
        {
          "output_type": "execute_result",
          "data": {
            "text/plain": [
              "array([  743.    , 13785.046 ,   451.    ,   162.    ,   951.0782,   162.    ,  1805.5209,    92.    ])"
            ]
          },
          "metadata": {},
          "execution_count": 131
        }
      ]
    },
    {
      "cell_type": "code",
      "source": [
        "(130000 - 121293) / 130000 * 100"
      ],
      "metadata": {
        "colab": {
          "base_uri": "https://localhost:8080/"
        },
        "id": "ps0bowwgmTSU",
        "outputId": "278becb5-72c3-4694-f1c0-ef9ac4adce39"
      },
      "execution_count": 127,
      "outputs": [
        {
          "output_type": "execute_result",
          "data": {
            "text/plain": [
              "6.697692307692307"
            ]
          },
          "metadata": {},
          "execution_count": 127
        }
      ]
    },
    {
      "cell_type": "code",
      "source": [
        "18152 / 60 / 60"
      ],
      "metadata": {
        "colab": {
          "base_uri": "https://localhost:8080/"
        },
        "id": "WhWsVMn090oj",
        "outputId": "0a81282e-5f88-4026-92fa-ef25235d0736"
      },
      "execution_count": 122,
      "outputs": [
        {
          "output_type": "execute_result",
          "data": {
            "text/plain": [
              "5.042222222222223"
            ]
          },
          "metadata": {},
          "execution_count": 122
        }
      ]
    },
    {
      "cell_type": "code",
      "source": [
        "4639 - 187"
      ],
      "metadata": {
        "colab": {
          "base_uri": "https://localhost:8080/"
        },
        "id": "Wq8fwkdT97eX",
        "outputId": "3ac3a496-db72-4116-c8ce-30209e0d2ad0"
      },
      "execution_count": 125,
      "outputs": [
        {
          "output_type": "execute_result",
          "data": {
            "text/plain": [
              "4452"
            ]
          },
          "metadata": {},
          "execution_count": 125
        }
      ]
    }
  ]
}